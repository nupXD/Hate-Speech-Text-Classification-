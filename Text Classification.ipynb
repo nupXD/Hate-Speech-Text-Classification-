{
 "cells": [
  {
   "cell_type": "markdown",
   "id": "5da8e3c6",
   "metadata": {},
   "source": [
    "# Hate speech classification"
   ]
  },
  {
   "cell_type": "code",
   "execution_count": 1,
   "id": "44cbf23d",
   "metadata": {},
   "outputs": [
    {
     "data": {
      "text/html": [
       "\n",
       "    <div class=\"bk-root\">\n",
       "        <a href=\"https://bokeh.org\" target=\"_blank\" class=\"bk-logo bk-logo-small bk-logo-notebook\"></a>\n",
       "        <span id=\"1002\">Loading BokehJS ...</span>\n",
       "    </div>"
      ]
     },
     "metadata": {},
     "output_type": "display_data"
    },
    {
     "data": {
      "application/javascript": [
       "\n",
       "(function(root) {\n",
       "  function now() {\n",
       "    return new Date();\n",
       "  }\n",
       "\n",
       "  const force = true;\n",
       "\n",
       "  if (typeof root._bokeh_onload_callbacks === \"undefined\" || force === true) {\n",
       "    root._bokeh_onload_callbacks = [];\n",
       "    root._bokeh_is_loading = undefined;\n",
       "  }\n",
       "\n",
       "  const JS_MIME_TYPE = 'application/javascript';\n",
       "  const HTML_MIME_TYPE = 'text/html';\n",
       "  const EXEC_MIME_TYPE = 'application/vnd.bokehjs_exec.v0+json';\n",
       "  const CLASS_NAME = 'output_bokeh rendered_html';\n",
       "\n",
       "  /**\n",
       "   * Render data to the DOM node\n",
       "   */\n",
       "  function render(props, node) {\n",
       "    const script = document.createElement(\"script\");\n",
       "    node.appendChild(script);\n",
       "  }\n",
       "\n",
       "  /**\n",
       "   * Handle when an output is cleared or removed\n",
       "   */\n",
       "  function handleClearOutput(event, handle) {\n",
       "    const cell = handle.cell;\n",
       "\n",
       "    const id = cell.output_area._bokeh_element_id;\n",
       "    const server_id = cell.output_area._bokeh_server_id;\n",
       "    // Clean up Bokeh references\n",
       "    if (id != null && id in Bokeh.index) {\n",
       "      Bokeh.index[id].model.document.clear();\n",
       "      delete Bokeh.index[id];\n",
       "    }\n",
       "\n",
       "    if (server_id !== undefined) {\n",
       "      // Clean up Bokeh references\n",
       "      const cmd_clean = \"from bokeh.io.state import curstate; print(curstate().uuid_to_server['\" + server_id + \"'].get_sessions()[0].document.roots[0]._id)\";\n",
       "      cell.notebook.kernel.execute(cmd_clean, {\n",
       "        iopub: {\n",
       "          output: function(msg) {\n",
       "            const id = msg.content.text.trim();\n",
       "            if (id in Bokeh.index) {\n",
       "              Bokeh.index[id].model.document.clear();\n",
       "              delete Bokeh.index[id];\n",
       "            }\n",
       "          }\n",
       "        }\n",
       "      });\n",
       "      // Destroy server and session\n",
       "      const cmd_destroy = \"import bokeh.io.notebook as ion; ion.destroy_server('\" + server_id + \"')\";\n",
       "      cell.notebook.kernel.execute(cmd_destroy);\n",
       "    }\n",
       "  }\n",
       "\n",
       "  /**\n",
       "   * Handle when a new output is added\n",
       "   */\n",
       "  function handleAddOutput(event, handle) {\n",
       "    const output_area = handle.output_area;\n",
       "    const output = handle.output;\n",
       "\n",
       "    // limit handleAddOutput to display_data with EXEC_MIME_TYPE content only\n",
       "    if ((output.output_type != \"display_data\") || (!Object.prototype.hasOwnProperty.call(output.data, EXEC_MIME_TYPE))) {\n",
       "      return\n",
       "    }\n",
       "\n",
       "    const toinsert = output_area.element.find(\".\" + CLASS_NAME.split(' ')[0]);\n",
       "\n",
       "    if (output.metadata[EXEC_MIME_TYPE][\"id\"] !== undefined) {\n",
       "      toinsert[toinsert.length - 1].firstChild.textContent = output.data[JS_MIME_TYPE];\n",
       "      // store reference to embed id on output_area\n",
       "      output_area._bokeh_element_id = output.metadata[EXEC_MIME_TYPE][\"id\"];\n",
       "    }\n",
       "    if (output.metadata[EXEC_MIME_TYPE][\"server_id\"] !== undefined) {\n",
       "      const bk_div = document.createElement(\"div\");\n",
       "      bk_div.innerHTML = output.data[HTML_MIME_TYPE];\n",
       "      const script_attrs = bk_div.children[0].attributes;\n",
       "      for (let i = 0; i < script_attrs.length; i++) {\n",
       "        toinsert[toinsert.length - 1].firstChild.setAttribute(script_attrs[i].name, script_attrs[i].value);\n",
       "        toinsert[toinsert.length - 1].firstChild.textContent = bk_div.children[0].textContent\n",
       "      }\n",
       "      // store reference to server id on output_area\n",
       "      output_area._bokeh_server_id = output.metadata[EXEC_MIME_TYPE][\"server_id\"];\n",
       "    }\n",
       "  }\n",
       "\n",
       "  function register_renderer(events, OutputArea) {\n",
       "\n",
       "    function append_mime(data, metadata, element) {\n",
       "      // create a DOM node to render to\n",
       "      const toinsert = this.create_output_subarea(\n",
       "        metadata,\n",
       "        CLASS_NAME,\n",
       "        EXEC_MIME_TYPE\n",
       "      );\n",
       "      this.keyboard_manager.register_events(toinsert);\n",
       "      // Render to node\n",
       "      const props = {data: data, metadata: metadata[EXEC_MIME_TYPE]};\n",
       "      render(props, toinsert[toinsert.length - 1]);\n",
       "      element.append(toinsert);\n",
       "      return toinsert\n",
       "    }\n",
       "\n",
       "    /* Handle when an output is cleared or removed */\n",
       "    events.on('clear_output.CodeCell', handleClearOutput);\n",
       "    events.on('delete.Cell', handleClearOutput);\n",
       "\n",
       "    /* Handle when a new output is added */\n",
       "    events.on('output_added.OutputArea', handleAddOutput);\n",
       "\n",
       "    /**\n",
       "     * Register the mime type and append_mime function with output_area\n",
       "     */\n",
       "    OutputArea.prototype.register_mime_type(EXEC_MIME_TYPE, append_mime, {\n",
       "      /* Is output safe? */\n",
       "      safe: true,\n",
       "      /* Index of renderer in `output_area.display_order` */\n",
       "      index: 0\n",
       "    });\n",
       "  }\n",
       "\n",
       "  // register the mime type if in Jupyter Notebook environment and previously unregistered\n",
       "  if (root.Jupyter !== undefined) {\n",
       "    const events = require('base/js/events');\n",
       "    const OutputArea = require('notebook/js/outputarea').OutputArea;\n",
       "\n",
       "    if (OutputArea.prototype.mime_types().indexOf(EXEC_MIME_TYPE) == -1) {\n",
       "      register_renderer(events, OutputArea);\n",
       "    }\n",
       "  }\n",
       "\n",
       "  \n",
       "  if (typeof (root._bokeh_timeout) === \"undefined\" || force === true) {\n",
       "    root._bokeh_timeout = Date.now() + 5000;\n",
       "    root._bokeh_failed_load = false;\n",
       "  }\n",
       "\n",
       "  const NB_LOAD_WARNING = {'data': {'text/html':\n",
       "     \"<div style='background-color: #fdd'>\\n\"+\n",
       "     \"<p>\\n\"+\n",
       "     \"BokehJS does not appear to have successfully loaded. If loading BokehJS from CDN, this \\n\"+\n",
       "     \"may be due to a slow or bad network connection. Possible fixes:\\n\"+\n",
       "     \"</p>\\n\"+\n",
       "     \"<ul>\\n\"+\n",
       "     \"<li>re-rerun `output_notebook()` to attempt to load from CDN again, or</li>\\n\"+\n",
       "     \"<li>use INLINE resources instead, as so:</li>\\n\"+\n",
       "     \"</ul>\\n\"+\n",
       "     \"<code>\\n\"+\n",
       "     \"from bokeh.resources import INLINE\\n\"+\n",
       "     \"output_notebook(resources=INLINE)\\n\"+\n",
       "     \"</code>\\n\"+\n",
       "     \"</div>\"}};\n",
       "\n",
       "  function display_loaded() {\n",
       "    const el = document.getElementById(\"1002\");\n",
       "    if (el != null) {\n",
       "      el.textContent = \"BokehJS is loading...\";\n",
       "    }\n",
       "    if (root.Bokeh !== undefined) {\n",
       "      if (el != null) {\n",
       "        el.textContent = \"BokehJS \" + root.Bokeh.version + \" successfully loaded.\";\n",
       "      }\n",
       "    } else if (Date.now() < root._bokeh_timeout) {\n",
       "      setTimeout(display_loaded, 100)\n",
       "    }\n",
       "  }\n",
       "\n",
       "\n",
       "  function run_callbacks() {\n",
       "    try {\n",
       "      root._bokeh_onload_callbacks.forEach(function(callback) {\n",
       "        if (callback != null)\n",
       "          callback();\n",
       "      });\n",
       "    } finally {\n",
       "      delete root._bokeh_onload_callbacks\n",
       "    }\n",
       "    console.debug(\"Bokeh: all callbacks have finished\");\n",
       "  }\n",
       "\n",
       "  function load_libs(css_urls, js_urls, callback) {\n",
       "    if (css_urls == null) css_urls = [];\n",
       "    if (js_urls == null) js_urls = [];\n",
       "\n",
       "    root._bokeh_onload_callbacks.push(callback);\n",
       "    if (root._bokeh_is_loading > 0) {\n",
       "      console.debug(\"Bokeh: BokehJS is being loaded, scheduling callback at\", now());\n",
       "      return null;\n",
       "    }\n",
       "    if (js_urls == null || js_urls.length === 0) {\n",
       "      run_callbacks();\n",
       "      return null;\n",
       "    }\n",
       "    console.debug(\"Bokeh: BokehJS not loaded, scheduling load and callback at\", now());\n",
       "    root._bokeh_is_loading = css_urls.length + js_urls.length;\n",
       "\n",
       "    function on_load() {\n",
       "      root._bokeh_is_loading--;\n",
       "      if (root._bokeh_is_loading === 0) {\n",
       "        console.debug(\"Bokeh: all BokehJS libraries/stylesheets loaded\");\n",
       "        run_callbacks()\n",
       "      }\n",
       "    }\n",
       "\n",
       "    function on_error(url) {\n",
       "      console.error(\"failed to load \" + url);\n",
       "    }\n",
       "\n",
       "    for (let i = 0; i < css_urls.length; i++) {\n",
       "      const url = css_urls[i];\n",
       "      const element = document.createElement(\"link\");\n",
       "      element.onload = on_load;\n",
       "      element.onerror = on_error.bind(null, url);\n",
       "      element.rel = \"stylesheet\";\n",
       "      element.type = \"text/css\";\n",
       "      element.href = url;\n",
       "      console.debug(\"Bokeh: injecting link tag for BokehJS stylesheet: \", url);\n",
       "      document.body.appendChild(element);\n",
       "    }\n",
       "\n",
       "    for (let i = 0; i < js_urls.length; i++) {\n",
       "      const url = js_urls[i];\n",
       "      const element = document.createElement('script');\n",
       "      element.onload = on_load;\n",
       "      element.onerror = on_error.bind(null, url);\n",
       "      element.async = false;\n",
       "      element.src = url;\n",
       "      console.debug(\"Bokeh: injecting script tag for BokehJS library: \", url);\n",
       "      document.head.appendChild(element);\n",
       "    }\n",
       "  };\n",
       "\n",
       "  function inject_raw_css(css) {\n",
       "    const element = document.createElement(\"style\");\n",
       "    element.appendChild(document.createTextNode(css));\n",
       "    document.body.appendChild(element);\n",
       "  }\n",
       "\n",
       "  \n",
       "  const js_urls = [\"https://cdn.bokeh.org/bokeh/release/bokeh-2.4.1.min.js\", \"https://cdn.bokeh.org/bokeh/release/bokeh-gl-2.4.1.min.js\", \"https://cdn.bokeh.org/bokeh/release/bokeh-widgets-2.4.1.min.js\", \"https://cdn.bokeh.org/bokeh/release/bokeh-tables-2.4.1.min.js\", \"https://cdn.bokeh.org/bokeh/release/bokeh-mathjax-2.4.1.min.js\"];\n",
       "  const css_urls = [];\n",
       "  \n",
       "\n",
       "  const inline_js = [\n",
       "    function(Bokeh) {\n",
       "      Bokeh.set_log_level(\"info\");\n",
       "    },\n",
       "    function(Bokeh) {\n",
       "    \n",
       "    \n",
       "    }\n",
       "  ];\n",
       "\n",
       "  function run_inline_js() {\n",
       "    \n",
       "    if (root.Bokeh !== undefined || force === true) {\n",
       "      \n",
       "    for (let i = 0; i < inline_js.length; i++) {\n",
       "      inline_js[i].call(root, root.Bokeh);\n",
       "    }\n",
       "    if (force === true) {\n",
       "        display_loaded();\n",
       "      }} else if (Date.now() < root._bokeh_timeout) {\n",
       "      setTimeout(run_inline_js, 100);\n",
       "    } else if (!root._bokeh_failed_load) {\n",
       "      console.log(\"Bokeh: BokehJS failed to load within specified timeout.\");\n",
       "      root._bokeh_failed_load = true;\n",
       "    } else if (force !== true) {\n",
       "      const cell = $(document.getElementById(\"1002\")).parents('.cell').data().cell;\n",
       "      cell.output_area.append_execute_result(NB_LOAD_WARNING)\n",
       "    }\n",
       "\n",
       "  }\n",
       "\n",
       "  if (root._bokeh_is_loading === 0) {\n",
       "    console.debug(\"Bokeh: BokehJS loaded, going straight to plotting\");\n",
       "    run_inline_js();\n",
       "  } else {\n",
       "    load_libs(css_urls, js_urls, function() {\n",
       "      console.debug(\"Bokeh: BokehJS plotting callback run at\", now());\n",
       "      run_inline_js();\n",
       "    });\n",
       "  }\n",
       "}(window));"
      ],
      "application/vnd.bokehjs_load.v0+json": "\n(function(root) {\n  function now() {\n    return new Date();\n  }\n\n  const force = true;\n\n  if (typeof root._bokeh_onload_callbacks === \"undefined\" || force === true) {\n    root._bokeh_onload_callbacks = [];\n    root._bokeh_is_loading = undefined;\n  }\n\n  \n\n  \n  if (typeof (root._bokeh_timeout) === \"undefined\" || force === true) {\n    root._bokeh_timeout = Date.now() + 5000;\n    root._bokeh_failed_load = false;\n  }\n\n  const NB_LOAD_WARNING = {'data': {'text/html':\n     \"<div style='background-color: #fdd'>\\n\"+\n     \"<p>\\n\"+\n     \"BokehJS does not appear to have successfully loaded. If loading BokehJS from CDN, this \\n\"+\n     \"may be due to a slow or bad network connection. Possible fixes:\\n\"+\n     \"</p>\\n\"+\n     \"<ul>\\n\"+\n     \"<li>re-rerun `output_notebook()` to attempt to load from CDN again, or</li>\\n\"+\n     \"<li>use INLINE resources instead, as so:</li>\\n\"+\n     \"</ul>\\n\"+\n     \"<code>\\n\"+\n     \"from bokeh.resources import INLINE\\n\"+\n     \"output_notebook(resources=INLINE)\\n\"+\n     \"</code>\\n\"+\n     \"</div>\"}};\n\n  function display_loaded() {\n    const el = document.getElementById(\"1002\");\n    if (el != null) {\n      el.textContent = \"BokehJS is loading...\";\n    }\n    if (root.Bokeh !== undefined) {\n      if (el != null) {\n        el.textContent = \"BokehJS \" + root.Bokeh.version + \" successfully loaded.\";\n      }\n    } else if (Date.now() < root._bokeh_timeout) {\n      setTimeout(display_loaded, 100)\n    }\n  }\n\n\n  function run_callbacks() {\n    try {\n      root._bokeh_onload_callbacks.forEach(function(callback) {\n        if (callback != null)\n          callback();\n      });\n    } finally {\n      delete root._bokeh_onload_callbacks\n    }\n    console.debug(\"Bokeh: all callbacks have finished\");\n  }\n\n  function load_libs(css_urls, js_urls, callback) {\n    if (css_urls == null) css_urls = [];\n    if (js_urls == null) js_urls = [];\n\n    root._bokeh_onload_callbacks.push(callback);\n    if (root._bokeh_is_loading > 0) {\n      console.debug(\"Bokeh: BokehJS is being loaded, scheduling callback at\", now());\n      return null;\n    }\n    if (js_urls == null || js_urls.length === 0) {\n      run_callbacks();\n      return null;\n    }\n    console.debug(\"Bokeh: BokehJS not loaded, scheduling load and callback at\", now());\n    root._bokeh_is_loading = css_urls.length + js_urls.length;\n\n    function on_load() {\n      root._bokeh_is_loading--;\n      if (root._bokeh_is_loading === 0) {\n        console.debug(\"Bokeh: all BokehJS libraries/stylesheets loaded\");\n        run_callbacks()\n      }\n    }\n\n    function on_error(url) {\n      console.error(\"failed to load \" + url);\n    }\n\n    for (let i = 0; i < css_urls.length; i++) {\n      const url = css_urls[i];\n      const element = document.createElement(\"link\");\n      element.onload = on_load;\n      element.onerror = on_error.bind(null, url);\n      element.rel = \"stylesheet\";\n      element.type = \"text/css\";\n      element.href = url;\n      console.debug(\"Bokeh: injecting link tag for BokehJS stylesheet: \", url);\n      document.body.appendChild(element);\n    }\n\n    for (let i = 0; i < js_urls.length; i++) {\n      const url = js_urls[i];\n      const element = document.createElement('script');\n      element.onload = on_load;\n      element.onerror = on_error.bind(null, url);\n      element.async = false;\n      element.src = url;\n      console.debug(\"Bokeh: injecting script tag for BokehJS library: \", url);\n      document.head.appendChild(element);\n    }\n  };\n\n  function inject_raw_css(css) {\n    const element = document.createElement(\"style\");\n    element.appendChild(document.createTextNode(css));\n    document.body.appendChild(element);\n  }\n\n  \n  const js_urls = [\"https://cdn.bokeh.org/bokeh/release/bokeh-2.4.1.min.js\", \"https://cdn.bokeh.org/bokeh/release/bokeh-gl-2.4.1.min.js\", \"https://cdn.bokeh.org/bokeh/release/bokeh-widgets-2.4.1.min.js\", \"https://cdn.bokeh.org/bokeh/release/bokeh-tables-2.4.1.min.js\", \"https://cdn.bokeh.org/bokeh/release/bokeh-mathjax-2.4.1.min.js\"];\n  const css_urls = [];\n  \n\n  const inline_js = [\n    function(Bokeh) {\n      Bokeh.set_log_level(\"info\");\n    },\n    function(Bokeh) {\n    \n    \n    }\n  ];\n\n  function run_inline_js() {\n    \n    if (root.Bokeh !== undefined || force === true) {\n      \n    for (let i = 0; i < inline_js.length; i++) {\n      inline_js[i].call(root, root.Bokeh);\n    }\n    if (force === true) {\n        display_loaded();\n      }} else if (Date.now() < root._bokeh_timeout) {\n      setTimeout(run_inline_js, 100);\n    } else if (!root._bokeh_failed_load) {\n      console.log(\"Bokeh: BokehJS failed to load within specified timeout.\");\n      root._bokeh_failed_load = true;\n    } else if (force !== true) {\n      const cell = $(document.getElementById(\"1002\")).parents('.cell').data().cell;\n      cell.output_area.append_execute_result(NB_LOAD_WARNING)\n    }\n\n  }\n\n  if (root._bokeh_is_loading === 0) {\n    console.debug(\"Bokeh: BokehJS loaded, going straight to plotting\");\n    run_inline_js();\n  } else {\n    load_libs(css_urls, js_urls, function() {\n      console.debug(\"Bokeh: BokehJS plotting callback run at\", now());\n      run_inline_js();\n    });\n  }\n}(window));"
     },
     "metadata": {},
     "output_type": "display_data"
    }
   ],
   "source": [
    "# Importing all the model required\n",
    "\n",
    "import pandas as pd\n",
    "import numpy as np\n",
    "from scipy.stats import randint\n",
    "import seaborn as sns # used for plot interactive graph. \n",
    "import matplotlib.pyplot as plt\n",
    "import seaborn as sns\n",
    "from io import StringIO\n",
    "from sklearn.feature_extraction.text import TfidfVectorizer\n",
    "from sklearn.feature_selection import chi2\n",
    "from IPython.display import display\n",
    "from sklearn.model_selection import train_test_split\n",
    "from sklearn.feature_extraction.text import TfidfTransformer\n",
    "from sklearn.naive_bayes import MultinomialNB\n",
    "from sklearn.linear_model import LogisticRegression\n",
    "from sklearn.ensemble import RandomForestClassifier\n",
    "from sklearn.svm import LinearSVC\n",
    "from sklearn.model_selection import cross_val_score\n",
    "from sklearn.metrics import confusion_matrix\n",
    "from sklearn import metrics\n",
    "\n",
    "import matplotlib.mlab as mlab\n",
    "import plotly.express as px\n",
    "import seaborn as sb\n",
    "import gensim as ge\n",
    "import pyLDAvis.gensim_models\n",
    "import warnings\n",
    "warnings.filterwarnings(\"ignore\")\n",
    "\n",
    "\n",
    "\n",
    "from sklearn.feature_extraction.text import CountVectorizer\n",
    "from textblob import TextBlob\n",
    "import scipy.stats as stats\n",
    "import nltk\n",
    "from nltk import word_tokenize,sent_tokenize\n",
    "from nltk.corpus import stopwords\n",
    "\n",
    "from sklearn.decomposition import TruncatedSVD\n",
    "from sklearn.decomposition import LatentDirichletAllocation\n",
    "from sklearn.manifold import TSNE\n",
    "from bokeh.plotting import figure, output_file, show\n",
    "from bokeh.models import Label\n",
    "from bokeh.io import output_notebook\n",
    "from collections import Counter,OrderedDict\n",
    "import ast\n",
    "output_notebook()\n",
    "\n",
    "\n",
    "import nltk\n",
    "import re\n",
    "import string\n",
    "from string import punctuation\n",
    "from gensim import corpora,models,similarities\n",
    "%matplotlib inline"
   ]
  },
  {
   "cell_type": "code",
   "execution_count": 2,
   "id": "b162237a",
   "metadata": {},
   "outputs": [
    {
     "data": {
      "text/plain": [
       "(24784, 7)"
      ]
     },
     "execution_count": 2,
     "metadata": {},
     "output_type": "execute_result"
    }
   ],
   "source": [
    "# loading data\n",
    "df = pd.read_csv('hate_speech_2.csv')\n",
    "df.shape"
   ]
  },
  {
   "cell_type": "markdown",
   "id": "5b6730b4",
   "metadata": {},
   "source": [
    "## Exploratory Data Analysis (EDA) and Feature Engineering"
   ]
  },
  {
   "cell_type": "code",
   "execution_count": 3,
   "id": "0671fc81",
   "metadata": {},
   "outputs": [
    {
     "data": {
      "text/html": [
       "<div>\n",
       "<style scoped>\n",
       "    .dataframe tbody tr th:only-of-type {\n",
       "        vertical-align: middle;\n",
       "    }\n",
       "\n",
       "    .dataframe tbody tr th {\n",
       "        vertical-align: top;\n",
       "    }\n",
       "\n",
       "    .dataframe thead th {\n",
       "        text-align: right;\n",
       "    }\n",
       "</style>\n",
       "<table border=\"1\" class=\"dataframe\">\n",
       "  <thead>\n",
       "    <tr style=\"text-align: right;\">\n",
       "      <th></th>\n",
       "      <th>Unnamed: 0</th>\n",
       "      <th>count</th>\n",
       "      <th>hate_speech</th>\n",
       "      <th>offensive_language</th>\n",
       "      <th>neither</th>\n",
       "      <th>speech</th>\n",
       "      <th>tweet</th>\n",
       "    </tr>\n",
       "  </thead>\n",
       "  <tbody>\n",
       "    <tr>\n",
       "      <th>0</th>\n",
       "      <td>0</td>\n",
       "      <td>3</td>\n",
       "      <td>0</td>\n",
       "      <td>0</td>\n",
       "      <td>3</td>\n",
       "      <td>2</td>\n",
       "      <td>!!!  @mayasolovely: As a woman you shouldn't c...</td>\n",
       "    </tr>\n",
       "    <tr>\n",
       "      <th>1</th>\n",
       "      <td>1</td>\n",
       "      <td>3</td>\n",
       "      <td>0</td>\n",
       "      <td>3</td>\n",
       "      <td>0</td>\n",
       "      <td>1</td>\n",
       "      <td>!!!!!  @mleew17: boy dats cold...tyga dwn bad ...</td>\n",
       "    </tr>\n",
       "    <tr>\n",
       "      <th>2</th>\n",
       "      <td>2</td>\n",
       "      <td>3</td>\n",
       "      <td>0</td>\n",
       "      <td>3</td>\n",
       "      <td>0</td>\n",
       "      <td>1</td>\n",
       "      <td>!!!!!!!  @UrKindOfBrand Dawg!!!!  @80sbaby4lif...</td>\n",
       "    </tr>\n",
       "    <tr>\n",
       "      <th>3</th>\n",
       "      <td>3</td>\n",
       "      <td>3</td>\n",
       "      <td>0</td>\n",
       "      <td>2</td>\n",
       "      <td>1</td>\n",
       "      <td>1</td>\n",
       "      <td>!!!!!!!!!  @C_G_Anderson: @viva_based she look...</td>\n",
       "    </tr>\n",
       "    <tr>\n",
       "      <th>4</th>\n",
       "      <td>4</td>\n",
       "      <td>6</td>\n",
       "      <td>0</td>\n",
       "      <td>6</td>\n",
       "      <td>0</td>\n",
       "      <td>1</td>\n",
       "      <td>!!!!!!!!!!!!!  @ShenikaRobes: The shit you hea...</td>\n",
       "    </tr>\n",
       "  </tbody>\n",
       "</table>\n",
       "</div>"
      ],
      "text/plain": [
       "   Unnamed: 0  count  hate_speech  offensive_language  neither  speech  \\\n",
       "0           0      3            0                   0        3       2   \n",
       "1           1      3            0                   3        0       1   \n",
       "2           2      3            0                   3        0       1   \n",
       "3           3      3            0                   2        1       1   \n",
       "4           4      6            0                   6        0       1   \n",
       "\n",
       "                                               tweet  \n",
       "0  !!!  @mayasolovely: As a woman you shouldn't c...  \n",
       "1  !!!!!  @mleew17: boy dats cold...tyga dwn bad ...  \n",
       "2  !!!!!!!  @UrKindOfBrand Dawg!!!!  @80sbaby4lif...  \n",
       "3  !!!!!!!!!  @C_G_Anderson: @viva_based she look...  \n",
       "4  !!!!!!!!!!!!!  @ShenikaRobes: The shit you hea...  "
      ]
     },
     "execution_count": 3,
     "metadata": {},
     "output_type": "execute_result"
    }
   ],
   "source": [
    "df.head() # Columns are shown in rows for easy reading"
   ]
  },
  {
   "cell_type": "code",
   "execution_count": 4,
   "id": "d6282f84",
   "metadata": {},
   "outputs": [
    {
     "data": {
      "text/plain": [
       "(24784, 7)"
      ]
     },
     "execution_count": 4,
     "metadata": {},
     "output_type": "execute_result"
    }
   ],
   "source": [
    "df.shape"
   ]
  },
  {
   "cell_type": "code",
   "execution_count": 5,
   "id": "e2bf2abd",
   "metadata": {},
   "outputs": [
    {
     "data": {
      "text/html": [
       "<div>\n",
       "<style scoped>\n",
       "    .dataframe tbody tr th:only-of-type {\n",
       "        vertical-align: middle;\n",
       "    }\n",
       "\n",
       "    .dataframe tbody tr th {\n",
       "        vertical-align: top;\n",
       "    }\n",
       "\n",
       "    .dataframe thead th {\n",
       "        text-align: right;\n",
       "    }\n",
       "</style>\n",
       "<table border=\"1\" class=\"dataframe\">\n",
       "  <thead>\n",
       "    <tr style=\"text-align: right;\">\n",
       "      <th></th>\n",
       "      <th>0</th>\n",
       "      <th>1</th>\n",
       "    </tr>\n",
       "  </thead>\n",
       "  <tbody>\n",
       "    <tr>\n",
       "      <th>Unnamed: 0</th>\n",
       "      <td>0</td>\n",
       "      <td>1</td>\n",
       "    </tr>\n",
       "    <tr>\n",
       "      <th>count</th>\n",
       "      <td>3</td>\n",
       "      <td>3</td>\n",
       "    </tr>\n",
       "    <tr>\n",
       "      <th>hate_speech</th>\n",
       "      <td>0</td>\n",
       "      <td>0</td>\n",
       "    </tr>\n",
       "    <tr>\n",
       "      <th>offensive_language</th>\n",
       "      <td>0</td>\n",
       "      <td>3</td>\n",
       "    </tr>\n",
       "    <tr>\n",
       "      <th>neither</th>\n",
       "      <td>3</td>\n",
       "      <td>0</td>\n",
       "    </tr>\n",
       "    <tr>\n",
       "      <th>speech</th>\n",
       "      <td>2</td>\n",
       "      <td>1</td>\n",
       "    </tr>\n",
       "    <tr>\n",
       "      <th>tweet</th>\n",
       "      <td>!!!  @mayasolovely: As a woman you shouldn't c...</td>\n",
       "      <td>!!!!!  @mleew17: boy dats cold...tyga dwn bad ...</td>\n",
       "    </tr>\n",
       "  </tbody>\n",
       "</table>\n",
       "</div>"
      ],
      "text/plain": [
       "                                                                    0  \\\n",
       "Unnamed: 0                                                          0   \n",
       "count                                                               3   \n",
       "hate_speech                                                         0   \n",
       "offensive_language                                                  0   \n",
       "neither                                                             3   \n",
       "speech                                                              2   \n",
       "tweet               !!!  @mayasolovely: As a woman you shouldn't c...   \n",
       "\n",
       "                                                                    1  \n",
       "Unnamed: 0                                                          1  \n",
       "count                                                               3  \n",
       "hate_speech                                                         0  \n",
       "offensive_language                                                  3  \n",
       "neither                                                             0  \n",
       "speech                                                              1  \n",
       "tweet               !!!!!  @mleew17: boy dats cold...tyga dwn bad ...  "
      ]
     },
     "execution_count": 5,
     "metadata": {},
     "output_type": "execute_result"
    }
   ],
   "source": [
    "df.head(2).T # Columns are shown in rows for easy reading"
   ]
  },
  {
   "cell_type": "code",
   "execution_count": 6,
   "id": "766e06bf",
   "metadata": {},
   "outputs": [
    {
     "data": {
      "text/plain": [
       "Unnamed: 0            0\n",
       "count                 0\n",
       "hate_speech           0\n",
       "offensive_language    0\n",
       "neither               0\n",
       "speech                0\n",
       "tweet                 0\n",
       "dtype: int64"
      ]
     },
     "execution_count": 6,
     "metadata": {},
     "output_type": "execute_result"
    }
   ],
   "source": [
    "df.isnull().sum()"
   ]
  },
  {
   "cell_type": "code",
   "execution_count": 7,
   "id": "4dc62126",
   "metadata": {},
   "outputs": [
    {
     "name": "stdout",
     "output_type": "stream",
     "text": [
      "<class 'pandas.core.frame.DataFrame'>\n",
      "RangeIndex: 24784 entries, 0 to 24783\n",
      "Data columns (total 7 columns):\n",
      " #   Column              Non-Null Count  Dtype \n",
      "---  ------              --------------  ----- \n",
      " 0   Unnamed: 0          24784 non-null  int64 \n",
      " 1   count               24784 non-null  int64 \n",
      " 2   hate_speech         24784 non-null  int64 \n",
      " 3   offensive_language  24784 non-null  int64 \n",
      " 4   neither             24784 non-null  int64 \n",
      " 5   speech              24784 non-null  int64 \n",
      " 6   tweet               24784 non-null  object\n",
      "dtypes: int64(6), object(1)\n",
      "memory usage: 1.3+ MB\n"
     ]
    }
   ],
   "source": [
    "df.info()"
   ]
  },
  {
   "cell_type": "code",
   "execution_count": 8,
   "id": "ed1be0fc",
   "metadata": {},
   "outputs": [
    {
     "data": {
      "text/plain": [
       "Unnamed: 0            0\n",
       "count                 0\n",
       "hate_speech           0\n",
       "offensive_language    0\n",
       "neither               0\n",
       "speech                0\n",
       "tweet                 0\n",
       "dtype: int64"
      ]
     },
     "execution_count": 8,
     "metadata": {},
     "output_type": "execute_result"
    }
   ],
   "source": [
    "df.isna().sum()"
   ]
  },
  {
   "cell_type": "code",
   "execution_count": 9,
   "id": "60ab9ee5",
   "metadata": {},
   "outputs": [
    {
     "data": {
      "text/plain": [
       "array([2, 1, 0], dtype=int64)"
      ]
     },
     "execution_count": 9,
     "metadata": {},
     "output_type": "execute_result"
    }
   ],
   "source": [
    "df['speech'].unique()"
   ]
  },
  {
   "cell_type": "code",
   "execution_count": 10,
   "id": "4fb57822",
   "metadata": {},
   "outputs": [
    {
     "data": {
      "image/png": "[encoded data removed]",
      "text/plain": [
       "<PIL.Image.Image image mode=RGB size=400x200 at 0x20833C573A0>"
      ]
     },
     "execution_count": 10,
     "metadata": {},
     "output_type": "execute_result"
    }
   ],
   "source": [
    "# Importing word cloud\n",
    "from wordcloud import WordCloud\n",
    "\n",
    "#Creating wordcloud object\n",
    "wordcloud=WordCloud(background_color='white',max_words=5000,contour_width=6,contour_color='grey')\n",
    "\n",
    "#Generating wordcloud \n",
    "wordcloud.generate(str(df['tweet']))\n",
    "\n",
    "wordcloud.to_image()"
   ]
  },
  {
   "cell_type": "code",
   "execution_count": 11,
   "id": "add73105",
   "metadata": {},
   "outputs": [
    {
     "data": {
      "text/plain": [
       "100.0"
      ]
     },
     "execution_count": 11,
     "metadata": {},
     "output_type": "execute_result"
    }
   ],
   "source": [
    "# Percentage of complaints with text\n",
    "total = df['speech'].notnull().sum()\n",
    "round((total/len(df)*100),1)"
   ]
  },
  {
   "cell_type": "code",
   "execution_count": 12,
   "id": "d9071453",
   "metadata": {},
   "outputs": [
    {
     "data": {
      "text/plain": [
       "<AxesSubplot:xlabel='speech', ylabel='count'>"
      ]
     },
     "execution_count": 12,
     "metadata": {},
     "output_type": "execute_result"
    },
    {
     "data": {
      "image/png": "[encoded data removed]",
      "text/plain": [
       "<Figure size 432x288 with 1 Axes>"
      ]
     },
     "metadata": {
      "needs_background": "light"
     },
     "output_type": "display_data"
    }
   ],
   "source": [
    "sns.countplot('speech',data=df)"
   ]
  },
  {
   "cell_type": "code",
   "execution_count": 13,
   "id": "c5cc379e",
   "metadata": {},
   "outputs": [],
   "source": [
    "df2=df.drop(['Unnamed: 0','count','hate_speech','offensive_language','neither'],axis=1,inplace=True)"
   ]
  },
  {
   "cell_type": "markdown",
   "id": "349fba40",
   "metadata": {},
   "source": [
    "## Text Classification"
   ]
  },
  {
   "cell_type": "code",
   "execution_count": 14,
   "id": "7c9f652a",
   "metadata": {},
   "outputs": [],
   "source": [
    "import re\n",
    "import nltk\n",
    "stemmer = nltk.SnowballStemmer(\"english\")\n",
    "from nltk.corpus import stopwords\n",
    "import string\n",
    "stopword=set(stopwords.words('english'))"
   ]
  },
  {
   "cell_type": "code",
   "execution_count": 15,
   "id": "6fefcc73",
   "metadata": {},
   "outputs": [],
   "source": [
    "def clean_text(text):\n",
    "    text = str(text).lower()\n",
    "    text = re.sub('\\[.*?\\]', '', text)\n",
    "    text = re.sub('https?://\\S+|www\\.\\S+', '', text)\n",
    "    text = re.sub('<.*?>+', '', text)\n",
    "    text = re.sub('[%s]' % re.escape(string.punctuation), '', text)\n",
    "    text = re.sub('\\n', '', text)\n",
    "    text = re.sub('\\w*\\d\\w*', '', text)\n",
    "    text = [word for word in text.split(' ') if word not in stopword]\n",
    "    text=\" \".join(text)\n",
    "    text = [stemmer.stem(word) for word in text.split(' ')]\n",
    "    text=\" \".join(text)\n",
    "    return text"
   ]
  },
  {
   "cell_type": "code",
   "execution_count": 16,
   "id": "357797a8",
   "metadata": {},
   "outputs": [
    {
     "data": {
      "text/html": [
       "<div>\n",
       "<style scoped>\n",
       "    .dataframe tbody tr th:only-of-type {\n",
       "        vertical-align: middle;\n",
       "    }\n",
       "\n",
       "    .dataframe tbody tr th {\n",
       "        vertical-align: top;\n",
       "    }\n",
       "\n",
       "    .dataframe thead th {\n",
       "        text-align: right;\n",
       "    }\n",
       "</style>\n",
       "<table border=\"1\" class=\"dataframe\">\n",
       "  <thead>\n",
       "    <tr style=\"text-align: right;\">\n",
       "      <th></th>\n",
       "      <th>speech</th>\n",
       "      <th>tweet</th>\n",
       "    </tr>\n",
       "  </thead>\n",
       "  <tbody>\n",
       "    <tr>\n",
       "      <th>0</th>\n",
       "      <td>2</td>\n",
       "      <td>!!!  @mayasolovely: As a woman you shouldn't c...</td>\n",
       "    </tr>\n",
       "    <tr>\n",
       "      <th>1</th>\n",
       "      <td>1</td>\n",
       "      <td>!!!!!  @mleew17: boy dats cold...tyga dwn bad ...</td>\n",
       "    </tr>\n",
       "    <tr>\n",
       "      <th>2</th>\n",
       "      <td>1</td>\n",
       "      <td>!!!!!!!  @UrKindOfBrand Dawg!!!!  @80sbaby4lif...</td>\n",
       "    </tr>\n",
       "    <tr>\n",
       "      <th>3</th>\n",
       "      <td>1</td>\n",
       "      <td>!!!!!!!!!  @C_G_Anderson: @viva_based she look...</td>\n",
       "    </tr>\n",
       "    <tr>\n",
       "      <th>4</th>\n",
       "      <td>1</td>\n",
       "      <td>!!!!!!!!!!!!!  @ShenikaRobes: The shit you hea...</td>\n",
       "    </tr>\n",
       "    <tr>\n",
       "      <th>...</th>\n",
       "      <td>...</td>\n",
       "      <td>...</td>\n",
       "    </tr>\n",
       "    <tr>\n",
       "      <th>24779</th>\n",
       "      <td>2</td>\n",
       "      <td>you've gone and broke the wrong heart baby, an...</td>\n",
       "    </tr>\n",
       "    <tr>\n",
       "      <th>24780</th>\n",
       "      <td>1</td>\n",
       "      <td>young buck wanna eat!!.. dat nigguh like I ain...</td>\n",
       "    </tr>\n",
       "    <tr>\n",
       "      <th>24781</th>\n",
       "      <td>1</td>\n",
       "      <td>youu got wild bitches tellin you lies</td>\n",
       "    </tr>\n",
       "    <tr>\n",
       "      <th>24782</th>\n",
       "      <td>2</td>\n",
       "      <td>~~Ruffled | Ntac Eileen Dahlia - Beautiful col...</td>\n",
       "    </tr>\n",
       "    <tr>\n",
       "      <th>24783</th>\n",
       "      <td>0</td>\n",
       "      <td>I will shoot you by gun</td>\n",
       "    </tr>\n",
       "  </tbody>\n",
       "</table>\n",
       "<p>24784 rows × 2 columns</p>\n",
       "</div>"
      ],
      "text/plain": [
       "       speech                                              tweet\n",
       "0           2  !!!  @mayasolovely: As a woman you shouldn't c...\n",
       "1           1  !!!!!  @mleew17: boy dats cold...tyga dwn bad ...\n",
       "2           1  !!!!!!!  @UrKindOfBrand Dawg!!!!  @80sbaby4lif...\n",
       "3           1  !!!!!!!!!  @C_G_Anderson: @viva_based she look...\n",
       "4           1  !!!!!!!!!!!!!  @ShenikaRobes: The shit you hea...\n",
       "...       ...                                                ...\n",
       "24779       2  you've gone and broke the wrong heart baby, an...\n",
       "24780       1  young buck wanna eat!!.. dat nigguh like I ain...\n",
       "24781       1              youu got wild bitches tellin you lies\n",
       "24782       2  ~~Ruffled | Ntac Eileen Dahlia - Beautiful col...\n",
       "24783       0                            I will shoot you by gun\n",
       "\n",
       "[24784 rows x 2 columns]"
      ]
     },
     "execution_count": 16,
     "metadata": {},
     "output_type": "execute_result"
    }
   ],
   "source": [
    "df"
   ]
  },
  {
   "cell_type": "code",
   "execution_count": 17,
   "id": "75169a46",
   "metadata": {},
   "outputs": [],
   "source": [
    "df['tweet']=df['tweet'].apply(clean_text)"
   ]
  },
  {
   "cell_type": "code",
   "execution_count": 18,
   "id": "5cfe65d2",
   "metadata": {},
   "outputs": [
    {
     "data": {
      "text/html": [
       "<div>\n",
       "<style scoped>\n",
       "    .dataframe tbody tr th:only-of-type {\n",
       "        vertical-align: middle;\n",
       "    }\n",
       "\n",
       "    .dataframe tbody tr th {\n",
       "        vertical-align: top;\n",
       "    }\n",
       "\n",
       "    .dataframe thead th {\n",
       "        text-align: right;\n",
       "    }\n",
       "</style>\n",
       "<table border=\"1\" class=\"dataframe\">\n",
       "  <thead>\n",
       "    <tr style=\"text-align: right;\">\n",
       "      <th></th>\n",
       "      <th>speech</th>\n",
       "      <th>tweet</th>\n",
       "      <th>type</th>\n",
       "    </tr>\n",
       "  </thead>\n",
       "  <tbody>\n",
       "    <tr>\n",
       "      <th>0</th>\n",
       "      <td>2</td>\n",
       "      <td>mayasolov woman shouldnt complain clean hous...</td>\n",
       "      <td>2</td>\n",
       "    </tr>\n",
       "    <tr>\n",
       "      <th>1</th>\n",
       "      <td>1</td>\n",
       "      <td>boy dat coldtyga dwn bad cuffin dat hoe  place</td>\n",
       "      <td>1</td>\n",
       "    </tr>\n",
       "    <tr>\n",
       "      <th>2</th>\n",
       "      <td>1</td>\n",
       "      <td>urkindofbrand dawg   ever fuck bitch sta cri...</td>\n",
       "      <td>1</td>\n",
       "    </tr>\n",
       "    <tr>\n",
       "      <th>3</th>\n",
       "      <td>1</td>\n",
       "      <td>cganderson vivabas look like tranni</td>\n",
       "      <td>1</td>\n",
       "    </tr>\n",
       "    <tr>\n",
       "      <th>4</th>\n",
       "      <td>1</td>\n",
       "      <td>shenikarob shit hear might true might faker ...</td>\n",
       "      <td>1</td>\n",
       "    </tr>\n",
       "    <tr>\n",
       "      <th>...</th>\n",
       "      <td>...</td>\n",
       "      <td>...</td>\n",
       "      <td>...</td>\n",
       "    </tr>\n",
       "    <tr>\n",
       "      <th>24779</th>\n",
       "      <td>2</td>\n",
       "      <td>youv gone broke wrong heart babi drove redneck...</td>\n",
       "      <td>2</td>\n",
       "    </tr>\n",
       "    <tr>\n",
       "      <th>24780</th>\n",
       "      <td>1</td>\n",
       "      <td>young buck wanna eat dat nigguh like aint fuck...</td>\n",
       "      <td>1</td>\n",
       "    </tr>\n",
       "    <tr>\n",
       "      <th>24781</th>\n",
       "      <td>1</td>\n",
       "      <td>youu got wild bitch tellin lie</td>\n",
       "      <td>1</td>\n",
       "    </tr>\n",
       "    <tr>\n",
       "      <th>24782</th>\n",
       "      <td>2</td>\n",
       "      <td>ruffl  ntac eileen dahlia  beauti color combin...</td>\n",
       "      <td>2</td>\n",
       "    </tr>\n",
       "    <tr>\n",
       "      <th>24783</th>\n",
       "      <td>0</td>\n",
       "      <td>shoot gun</td>\n",
       "      <td>0</td>\n",
       "    </tr>\n",
       "  </tbody>\n",
       "</table>\n",
       "<p>24784 rows × 3 columns</p>\n",
       "</div>"
      ],
      "text/plain": [
       "       speech                                              tweet  type\n",
       "0           2    mayasolov woman shouldnt complain clean hous...     2\n",
       "1           1     boy dat coldtyga dwn bad cuffin dat hoe  place     1\n",
       "2           1    urkindofbrand dawg   ever fuck bitch sta cri...     1\n",
       "3           1                cganderson vivabas look like tranni     1\n",
       "4           1    shenikarob shit hear might true might faker ...     1\n",
       "...       ...                                                ...   ...\n",
       "24779       2  youv gone broke wrong heart babi drove redneck...     2\n",
       "24780       1  young buck wanna eat dat nigguh like aint fuck...     1\n",
       "24781       1                     youu got wild bitch tellin lie     1\n",
       "24782       2  ruffl  ntac eileen dahlia  beauti color combin...     2\n",
       "24783       0                                          shoot gun     0\n",
       "\n",
       "[24784 rows x 3 columns]"
      ]
     },
     "execution_count": 18,
     "metadata": {},
     "output_type": "execute_result"
    }
   ],
   "source": [
    "df['type'] = df['speech']\n",
    "df"
   ]
  },
  {
   "cell_type": "code",
   "execution_count": 19,
   "id": "7e270534",
   "metadata": {},
   "outputs": [],
   "source": [
    "df2=df"
   ]
  },
  {
   "cell_type": "code",
   "execution_count": 20,
   "id": "2da14470",
   "metadata": {},
   "outputs": [],
   "source": [
    "df2['type']=df['type'].replace(0,'Hate speech')"
   ]
  },
  {
   "cell_type": "code",
   "execution_count": 21,
   "id": "edca7b10",
   "metadata": {},
   "outputs": [],
   "source": [
    "df2['type']=df['type'].replace(1,'Offensive speech')"
   ]
  },
  {
   "cell_type": "code",
   "execution_count": 22,
   "id": "cd34b1cd",
   "metadata": {},
   "outputs": [],
   "source": [
    "df2['type']=df['type'].replace(2,'Normal speech')"
   ]
  },
  {
   "cell_type": "code",
   "execution_count": 23,
   "id": "e95e0001",
   "metadata": {},
   "outputs": [],
   "source": [
    "# Define helper functions\n",
    "def get_top_n_words(n_top_words, count_vectorizer, text_data):\n",
    "    '''\n",
    "    returns a tuple of the top n words in a sample and their \n",
    "    accompanying counts, given a CountVectorizer object and text sample\n",
    "    '''\n",
    "    vectorized_headlines = count_vectorizer.fit_transform(text_data.values)\n",
    "    vectorized_total = np.sum(vectorized_headlines, axis=0)\n",
    "    word_indices = np.flip(np.argsort(vectorized_total)[0,:], 1)\n",
    "    word_values = np.flip(np.sort(vectorized_total)[0,:],1)\n",
    "    \n",
    "    word_vectors = np.zeros((n_top_words, vectorized_headlines.shape[1]))\n",
    "    for i in range(n_top_words):\n",
    "        word_vectors[i,word_indices[0,i]] = 1\n",
    "\n",
    "    words = [word[0].encode('ascii').decode('utf-8') for \n",
    "             word in count_vectorizer.inverse_transform(word_vectors)]\n",
    "\n",
    "    return (words, word_values[0,:n_top_words].tolist()[0])"
   ]
  },
  {
   "cell_type": "code",
   "execution_count": 24,
   "id": "9523219a",
   "metadata": {},
   "outputs": [
    {
     "data": {
      "image/png": "[encoded data removed]",
      "text/plain": [
       "<Figure size 1152x576 with 1 Axes>"
      ]
     },
     "metadata": {
      "needs_background": "light"
     },
     "output_type": "display_data"
    }
   ],
   "source": [
    "count_vectorizer = CountVectorizer(stop_words='english')\n",
    "words, word_values = get_top_n_words(n_top_words=15,\n",
    "                                     count_vectorizer=count_vectorizer, \n",
    "                                     text_data=df['tweet'])\n",
    "\n",
    "fig, ax = plt.subplots(figsize=(16,8))\n",
    "ax.bar(range(len(words)), word_values);\n",
    "ax.set_xticks(range(len(words)));\n",
    "ax.set_xticklabels(words, rotation='vertical');\n",
    "ax.set_title('Top words in Hate speech');\n",
    "ax.set_xlabel('Word');\n",
    "ax.set_ylabel('Number of occurences');\n",
    "plt.show()"
   ]
  },
  {
   "cell_type": "code",
   "execution_count": 25,
   "id": "eb84294d",
   "metadata": {},
   "outputs": [],
   "source": [
    "tweet_text = [TextBlob(df['tweet'][i]).pos_tags for i in range(df['tweet'].shape[0])]"
   ]
  },
  {
   "cell_type": "code",
   "execution_count": 26,
   "id": "0ed3eba0",
   "metadata": {},
   "outputs": [
    {
     "name": "stdout",
     "output_type": "stream",
     "text": [
      "Total number of words:  208318\n",
      "Mean number of words per tweet:  8.405342156229827\n"
     ]
    }
   ],
   "source": [
    "tweet_text_df = pd.DataFrame({'tweet_text':tweet_text})\n",
    "\n",
    "word_counts = [] \n",
    "pos_counts = {}\n",
    "\n",
    "for headline in tweet_text_df[u'tweet_text']:\n",
    "    word_counts.append(len(headline))\n",
    "    for tag in headline:\n",
    "        if tag[1] in pos_counts:\n",
    "            pos_counts[tag[1]] += 1\n",
    "        else:\n",
    "            pos_counts[tag[1]] = 1\n",
    "            \n",
    "print('Total number of words: ', np.sum(word_counts))\n",
    "print('Mean number of words per tweet: ', np.mean(word_counts))"
   ]
  },
  {
   "cell_type": "code",
   "execution_count": 27,
   "id": "785ff0f1",
   "metadata": {},
   "outputs": [
    {
     "data": {
      "image/png": "[encoded data removed]",
      "text/plain": [
       "<Figure size 1296x576 with 1 Axes>"
      ]
     },
     "metadata": {
      "needs_background": "light"
     },
     "output_type": "display_data"
    }
   ],
   "source": [
    "y = stats.norm.pdf(np.linspace(0,30,30), np.mean(word_counts), np.std(word_counts))\n",
    "\n",
    "fig, ax = plt.subplots(figsize=(18,8))\n",
    "ax.hist(word_counts, bins=range(1,30), density=True);\n",
    "ax.plot(np.linspace(0,30,30), y, 'r--', linewidth=1);\n",
    "ax.set_title('Tweet word lengths');\n",
    "ax.set_xticks(range(1,30));\n",
    "ax.set_xlabel('Number of words');\n",
    "plt.show()"
   ]
  },
  {
   "cell_type": "code",
   "execution_count": 28,
   "id": "b496ddc6",
   "metadata": {},
   "outputs": [
    {
     "name": "stdout",
     "output_type": "stream",
     "text": [
      "Tweet before vectorization: bernadettvajda alway put ginger red yellow leopard print\n",
      "Tweet after vectorization: \n",
      "  (0, 1255)\t1\n",
      "  (0, 127)\t1\n",
      "  (0, 35)\t1\n",
      "  (0, 597)\t1\n",
      "  (0, 1752)\t1\n",
      "  (0, 874)\t1\n",
      "  (0, 1206)\t1\n"
     ]
    }
   ],
   "source": [
    "\n",
    "small_count_vectorizer = CountVectorizer(stop_words='english', max_features=40000)\n",
    "small_text_sample = df['tweet'].sample(n=500, random_state=0).values\n",
    "\n",
    "print('Tweet before vectorization: {}'.format(small_text_sample[123]))\n",
    "\n",
    "small_document_term_matrix = small_count_vectorizer.fit_transform(small_text_sample)\n",
    "\n",
    "print('Tweet after vectorization: \\n{}'.format(small_document_term_matrix[123]))"
   ]
  },
  {
   "cell_type": "code",
   "execution_count": 29,
   "id": "40949cbb",
   "metadata": {},
   "outputs": [],
   "source": [
    "#number of topics\n",
    "n_topics = 3"
   ]
  },
  {
   "cell_type": "markdown",
   "id": "1deaae61",
   "metadata": {},
   "source": [
    "# Latent Semantic Analysis (LSA)"
   ]
  },
  {
   "cell_type": "code",
   "execution_count": 30,
   "id": "f8533cd6",
   "metadata": {},
   "outputs": [],
   "source": [
    "lsa_model = TruncatedSVD(n_components=n_topics)\n",
    "lsa_topic_matrix = lsa_model.fit_transform(small_document_term_matrix)"
   ]
  },
  {
   "cell_type": "code",
   "execution_count": 31,
   "id": "16cb3b38",
   "metadata": {},
   "outputs": [],
   "source": [
    "# Define helper functions\n",
    "def get_keys(topic_matrix):\n",
    "    '''\n",
    "    returns an integer list of predicted topic \n",
    "    categories for a given topic matrix\n",
    "    '''\n",
    "    keys = topic_matrix.argmax(axis=1).tolist()\n",
    "    return keys\n",
    "\n",
    "def keys_to_counts(keys):\n",
    "    '''\n",
    "    returns a tuple of topic categories and their \n",
    "    accompanying magnitudes for a given list of keys\n",
    "    '''\n",
    "    count_pairs = Counter(keys).items()\n",
    "    categories = [pair[0] for pair in count_pairs]\n",
    "    counts = [pair[1] for pair in count_pairs]\n",
    "    return (categories, counts)"
   ]
  },
  {
   "cell_type": "code",
   "execution_count": 32,
   "id": "a101c6c2",
   "metadata": {},
   "outputs": [],
   "source": [
    "lsa_keys = get_keys(lsa_topic_matrix)\n",
    "lsa_categories, lsa_counts = keys_to_counts(lsa_keys)"
   ]
  },
  {
   "cell_type": "code",
   "execution_count": 33,
   "id": "46a61fc6",
   "metadata": {},
   "outputs": [],
   "source": [
    "def get_top_n_words(n, keys, document_term_matrix, count_vectorizer):\n",
    "    '''\n",
    "    returns a list of n_topic strings, where each string contains the n most common \n",
    "    words in a predicted category, in order\n",
    "    '''\n",
    "    top_word_indices = []\n",
    "    for topic in range(n_topics):\n",
    "        temp_vector_sum = 0\n",
    "        for i in range(len(keys)):\n",
    "            if keys[i] == topic:\n",
    "                temp_vector_sum += document_term_matrix[i]\n",
    "        temp_vector_sum = temp_vector_sum.toarray()\n",
    "        top_n_word_indices = np.flip(np.argsort(temp_vector_sum)[0][-n:],0)\n",
    "        top_word_indices.append(top_n_word_indices)   \n",
    "    top_words = []\n",
    "    for topic in top_word_indices:\n",
    "        topic_words = []\n",
    "        for index in topic:\n",
    "            temp_word_vector = np.zeros((1,document_term_matrix.shape[1]))\n",
    "            temp_word_vector[:,index] = 1\n",
    "            the_word = count_vectorizer.inverse_transform(temp_word_vector)[0][0]\n",
    "            topic_words.append(the_word.encode('ascii').decode('utf-8'))\n",
    "        top_words.append(\" \".join(topic_words))         \n",
    "    return top_words"
   ]
  },
  {
   "cell_type": "code",
   "execution_count": 34,
   "id": "a3685ae4",
   "metadata": {},
   "outputs": [
    {
     "name": "stdout",
     "output_type": "stream",
     "text": [
      "Topic 1:  bitch rt like fuck im ass nigga pussi lol aint\n",
      "Topic 2:  cunt use faggot bros stupid like littl rt hos im\n",
      "Topic 3:  rt hoe trash lol nigga amp im got love bird\n"
     ]
    }
   ],
   "source": [
    "top_n_words_lsa = get_top_n_words(10, lsa_keys, small_document_term_matrix, small_count_vectorizer)\n",
    "\n",
    "for i in range(len(top_n_words_lsa)):\n",
    "    print(\"Topic {}: \".format(i+1), top_n_words_lsa[i])"
   ]
  },
  {
   "cell_type": "code",
   "execution_count": 35,
   "id": "3b8cfa71",
   "metadata": {},
   "outputs": [
    {
     "data": {
      "image/png": "[encoded data removed]",
      "text/plain": [
       "<Figure size 1440x720 with 1 Axes>"
      ]
     },
     "metadata": {
      "needs_background": "light"
     },
     "output_type": "display_data"
    }
   ],
   "source": [
    "top_3_words = get_top_n_words(3, lsa_keys, small_document_term_matrix, small_count_vectorizer)\n",
    "labels = ['Topic {}: \\n'.format(i) + top_3_words[i] for i in lsa_categories]\n",
    "\n",
    "fig, ax = plt.subplots(figsize=(20,10))\n",
    "ax.bar(lsa_categories, lsa_counts);\n",
    "ax.set_xticks(lsa_categories);\n",
    "ax.set_xticklabels(labels);\n",
    "ax.set_ylabel('Number of Tweets');\n",
    "ax.set_title('LSA topic counts');\n",
    "plt.show()"
   ]
  },
  {
   "cell_type": "code",
   "execution_count": 36,
   "id": "355dccb9",
   "metadata": {},
   "outputs": [
    {
     "name": "stdout",
     "output_type": "stream",
     "text": [
      "[t-SNE] Computing 151 nearest neighbors...\n",
      "[t-SNE] Indexed 500 samples in 0.039s...\n",
      "[t-SNE] Computed neighbors for 500 samples in 0.014s...\n",
      "[t-SNE] Computed conditional probabilities for sample 500 / 500\n",
      "[t-SNE] Mean sigma: 0.055116\n",
      "[t-SNE] KL divergence after 250 iterations with early exaggeration: 41.994862\n",
      "[t-SNE] KL divergence after 2000 iterations: 0.114157\n"
     ]
    }
   ],
   "source": [
    "tsne_lsa_model = TSNE(n_components=2, perplexity=50, learning_rate=100, \n",
    "                        n_iter=2000, verbose=1, random_state=0, angle=0.75)\n",
    "tsne_lsa_vectors = tsne_lsa_model.fit_transform(lsa_topic_matrix)"
   ]
  },
  {
   "cell_type": "code",
   "execution_count": 37,
   "id": "1572c79e",
   "metadata": {},
   "outputs": [],
   "source": [
    "# Define helper functions\n",
    "def get_mean_topic_vectors(keys, two_dim_vectors):\n",
    "    '''\n",
    "    returns a list of centroid vectors from each predicted topic category\n",
    "    '''\n",
    "    mean_topic_vectors = []\n",
    "    for t in range(n_topics):\n",
    "        articles_in_that_topic = []\n",
    "        for i in range(len(keys)):\n",
    "            if keys[i] == t:\n",
    "                articles_in_that_topic.append(two_dim_vectors[i])    \n",
    "        \n",
    "        articles_in_that_topic = np.vstack(articles_in_that_topic)\n",
    "        mean_article_in_that_topic = np.mean(articles_in_that_topic, axis=0)\n",
    "        mean_topic_vectors.append(mean_article_in_that_topic)\n",
    "    return mean_topic_vectors"
   ]
  },
  {
   "cell_type": "code",
   "execution_count": 38,
   "id": "90402002",
   "metadata": {},
   "outputs": [],
   "source": [
    "colormap = np.array([\n",
    "    \"#1f77b4\", \"#aec7e8\", \"#ff7f0e\", \"#ffbb78\", \"#2ca02c\",\n",
    "    \"#98df8a\", \"#d62728\", \"#ff9896\", \"#9467bd\", \"#c5b0d5\",\n",
    "    \"#8c564b\", \"#c49c94\", \"#e377c2\", \"#f7b6d2\", \"#7f7f7f\",\n",
    "    \"#c7c7c7\", \"#bcbd22\", \"#dbdb8d\", \"#17becf\", \"#9edae5\" ])\n",
    "colormap = colormap[:n_topics]"
   ]
  },
  {
   "cell_type": "code",
   "execution_count": 39,
   "id": "46694f9b",
   "metadata": {},
   "outputs": [
    {
     "data": {
      "text/html": [
       "\n",
       "\n",
       "\n",
       "\n",
       "\n",
       "\n",
       "  <div class=\"bk-root\" id=\"526cb138-0404-4747-b049-1d0815e3f2e3\" data-root-id=\"1003\"></div>\n"
      ]
     },
     "metadata": {},
     "output_type": "display_data"
    },
    {
     "data": {
      "application/javascript": [
       "(function(root) {\n",
       "  function embed_document(root) {\n",
       "    \n",
       "  const docs_json = {\"8dfd2c10-f14f-4ea2-b5fe-f907593c03f2\":{\"defs\":[],\"roots\":{\"references\":[{\"attributes\":{\"below\":[{\"id\":\"1014\"}],\"center\":[{\"id\":\"1017\"},{\"id\":\"1021\"},{\"id\":\"1042\"},{\"id\":\"1043\"},{\"id\":\"1044\"}],\"height\":700,\"left\":[{\"id\":\"1018\"}],\"renderers\":[{\"id\":\"1040\"}],\"title\":{\"id\":\"1004\"},\"toolbar\":{\"id\":\"1029\"},\"width\":700,\"x_range\":{\"id\":\"1006\"},\"x_scale\":{\"id\":\"1010\"},\"y_range\":{\"id\":\"1008\"},\"y_scale\":{\"id\":\"1012\"}},\"id\":\"1003\",\"subtype\":\"Figure\",\"type\":\"Plot\"},{\"attributes\":{\"tools\":[{\"id\":\"1022\"},{\"id\":\"1023\"},{\"id\":\"1024\"},{\"id\":\"1025\"},{\"id\":\"1026\"},{\"id\":\"1027\"}]},\"id\":\"1029\",\"type\":\"Toolbar\"},{\"attributes\":{\"fill_alpha\":{\"value\":0.1},\"fill_color\":{\"field\":\"fill_color\"},\"hatch_alpha\":{\"value\":0.1},\"hatch_color\":{\"field\":\"hatch_color\"},\"line_alpha\":{\"value\":0.1},\"line_color\":{\"field\":\"line_color\"},\"x\":{\"field\":\"x\"},\"y\":{\"field\":\"y\"}},\"id\":\"1038\",\"type\":\"Scatter\"},{\"attributes\":{},\"id\":\"1050\",\"type\":\"BasicTickFormatter\"},{\"attributes\":{\"axis\":{\"id\":\"1014\"},\"coordinates\":null,\"group\":null,\"ticker\":null},\"id\":\"1017\",\"type\":\"Grid\"},{\"attributes\":{},\"id\":\"1008\",\"type\":\"DataRange1d\"},{\"attributes\":{},\"id\":\"1051\",\"type\":\"AllLabels\"},{\"attributes\":{},\"id\":\"1019\",\"type\":\"BasicTicker\"},{\"attributes\":{\"axis\":{\"id\":\"1018\"},\"coordinates\":null,\"dimension\":1,\"group\":null,\"ticker\":null},\"id\":\"1021\",\"type\":\"Grid\"},{\"attributes\":{},\"id\":\"1006\",\"type\":\"DataRange1d\"},{\"attributes\":{},\"id\":\"1047\",\"type\":\"BasicTickFormatter\"},{\"attributes\":{\"coordinates\":null,\"data_source\":{\"id\":\"1036\"},\"glyph\":{\"id\":\"1037\"},\"group\":null,\"hover_glyph\":null,\"muted_glyph\":{\"id\":\"1039\"},\"nonselection_glyph\":{\"id\":\"1038\"},\"view\":{\"id\":\"1041\"}},\"id\":\"1040\",\"type\":\"GlyphRenderer\"},{\"attributes\":{\"coordinates\":null,\"formatter\":{\"id\":\"1047\"},\"group\":null,\"major_label_policy\":{\"id\":\"1048\"},\"ticker\":{\"id\":\"1019\"}},\"id\":\"1018\",\"type\":\"LinearAxis\"},{\"attributes\":{\"coordinates\":null,\"group\":null,\"text\":\"t-SNE Clustering of 3 LSA Topics\"},\"id\":\"1004\",\"type\":\"Title\"},{\"attributes\":{},\"id\":\"1012\",\"type\":\"LinearScale\"},{\"attributes\":{\"data\":{\"fill_color\":[\"#1f77b4\",\"#1f77b4\",\"#1f77b4\",\"#ff7f0e\",\"#1f77b4\",\"#aec7e8\",\"#1f77b4\",\"#1f77b4\",\"#ff7f0e\",\"#1f77b4\",\"#1f77b4\",\"#1f77b4\",\"#1f77b4\",\"#ff7f0e\",\"#ff7f0e\",\"#1f77b4\",\"#ff7f0e\",\"#1f77b4\",\"#1f77b4\",\"#ff7f0e\",\"#ff7f0e\",\"#ff7f0e\",\"#1f77b4\",\"#ff7f0e\",\"#ff7f0e\",\"#ff7f0e\",\"#1f77b4\",\"#ff7f0e\",\"#1f77b4\",\"#ff7f0e\",\"#1f77b4\",\"#1f77b4\",\"#1f77b4\",\"#1f77b4\",\"#1f77b4\",\"#1f77b4\",\"#1f77b4\",\"#ff7f0e\",\"#1f77b4\",\"#1f77b4\",\"#1f77b4\",\"#1f77b4\",\"#1f77b4\",\"#1f77b4\",\"#1f77b4\",\"#1f77b4\",\"#1f77b4\",\"#1f77b4\",\"#1f77b4\",\"#1f77b4\",\"#ff7f0e\",\"#1f77b4\",\"#1f77b4\",\"#ff7f0e\",\"#ff7f0e\",\"#1f77b4\",\"#ff7f0e\",\"#1f77b4\",\"#ff7f0e\",\"#1f77b4\",\"#1f77b4\",\"#1f77b4\",\"#1f77b4\",\"#1f77b4\",\"#ff7f0e\",\"#1f77b4\",\"#1f77b4\",\"#ff7f0e\",\"#ff7f0e\",\"#1f77b4\",\"#ff7f0e\",\"#ff7f0e\",\"#1f77b4\",\"#1f77b4\",\"#ff7f0e\",\"#aec7e8\",\"#1f77b4\",\"#ff7f0e\",\"#1f77b4\",\"#1f77b4\",\"#1f77b4\",\"#1f77b4\",\"#ff7f0e\",\"#1f77b4\",\"#ff7f0e\",\"#ff7f0e\",\"#1f77b4\",\"#1f77b4\",\"#ff7f0e\",\"#ff7f0e\",\"#aec7e8\",\"#1f77b4\",\"#ff7f0e\",\"#1f77b4\",\"#1f77b4\",\"#ff7f0e\",\"#ff7f0e\",\"#1f77b4\",\"#ff7f0e\",\"#1f77b4\",\"#1f77b4\",\"#ff7f0e\",\"#ff7f0e\",\"#1f77b4\",\"#1f77b4\",\"#ff7f0e\",\"#ff7f0e\",\"#ff7f0e\",\"#1f77b4\",\"#1f77b4\",\"#1f77b4\",\"#1f77b4\",\"#ff7f0e\",\"#1f77b4\",\"#ff7f0e\",\"#ff7f0e\",\"#1f77b4\",\"#1f77b4\",\"#1f77b4\",\"#1f77b4\",\"#1f77b4\",\"#1f77b4\",\"#ff7f0e\",\"#1f77b4\",\"#1f77b4\",\"#1f77b4\",\"#1f77b4\",\"#1f77b4\",\"#1f77b4\",\"#1f77b4\",\"#1f77b4\",\"#1f77b4\",\"#1f77b4\",\"#1f77b4\",\"#ff7f0e\",\"#1f77b4\",\"#1f77b4\",\"#1f77b4\",\"#ff7f0e\",\"#1f77b4\",\"#1f77b4\",\"#1f77b4\",\"#1f77b4\",\"#ff7f0e\",\"#1f77b4\",\"#ff7f0e\",\"#1f77b4\",\"#1f77b4\",\"#1f77b4\",\"#1f77b4\",\"#1f77b4\",\"#1f77b4\",\"#1f77b4\",\"#1f77b4\",\"#1f77b4\",\"#1f77b4\",\"#ff7f0e\",\"#1f77b4\",\"#1f77b4\",\"#ff7f0e\",\"#1f77b4\",\"#1f77b4\",\"#1f77b4\",\"#1f77b4\",\"#ff7f0e\",\"#1f77b4\",\"#1f77b4\",\"#ff7f0e\",\"#1f77b4\",\"#1f77b4\",\"#ff7f0e\",\"#ff7f0e\",\"#1f77b4\",\"#ff7f0e\",\"#ff7f0e\",\"#1f77b4\",\"#ff7f0e\",\"#1f77b4\",\"#1f77b4\",\"#ff7f0e\",\"#1f77b4\",\"#1f77b4\",\"#ff7f0e\",\"#1f77b4\",\"#1f77b4\",\"#ff7f0e\",\"#1f77b4\",\"#1f77b4\",\"#1f77b4\",\"#1f77b4\",\"#ff7f0e\",\"#1f77b4\",\"#1f77b4\",\"#ff7f0e\",\"#1f77b4\",\"#ff7f0e\",\"#ff7f0e\",\"#ff7f0e\",\"#1f77b4\",\"#1f77b4\",\"#ff7f0e\",\"#ff7f0e\",\"#1f77b4\",\"#ff7f0e\",\"#1f77b4\",\"#1f77b4\",\"#1f77b4\",\"#1f77b4\",\"#ff7f0e\",\"#ff7f0e\",\"#1f77b4\",\"#1f77b4\",\"#1f77b4\",\"#1f77b4\",\"#ff7f0e\",\"#1f77b4\",\"#1f77b4\",\"#ff7f0e\",\"#1f77b4\",\"#1f77b4\",\"#1f77b4\",\"#1f77b4\",\"#ff7f0e\",\"#1f77b4\",\"#1f77b4\",\"#1f77b4\",\"#ff7f0e\",\"#1f77b4\",\"#1f77b4\",\"#1f77b4\",\"#ff7f0e\",\"#1f77b4\",\"#ff7f0e\",\"#1f77b4\",\"#1f77b4\",\"#1f77b4\",\"#ff7f0e\",\"#1f77b4\",\"#1f77b4\",\"#1f77b4\",\"#ff7f0e\",\"#1f77b4\",\"#1f77b4\",\"#1f77b4\",\"#1f77b4\",\"#1f77b4\",\"#1f77b4\",\"#ff7f0e\",\"#1f77b4\",\"#1f77b4\",\"#1f77b4\",\"#1f77b4\",\"#1f77b4\",\"#1f77b4\",\"#ff7f0e\",\"#ff7f0e\",\"#ff7f0e\",\"#1f77b4\",\"#ff7f0e\",\"#ff7f0e\",\"#1f77b4\",\"#ff7f0e\",\"#1f77b4\",\"#1f77b4\",\"#aec7e8\",\"#1f77b4\",\"#1f77b4\",\"#ff7f0e\",\"#1f77b4\",\"#ff7f0e\",\"#1f77b4\",\"#ff7f0e\",\"#1f77b4\",\"#1f77b4\",\"#1f77b4\",\"#1f77b4\",\"#1f77b4\",\"#1f77b4\",\"#1f77b4\",\"#1f77b4\",\"#1f77b4\",\"#ff7f0e\",\"#ff7f0e\",\"#1f77b4\",\"#1f77b4\",\"#1f77b4\",\"#1f77b4\",\"#1f77b4\",\"#ff7f0e\",\"#ff7f0e\",\"#ff7f0e\",\"#ff7f0e\",\"#1f77b4\",\"#ff7f0e\",\"#1f77b4\",\"#ff7f0e\",\"#1f77b4\",\"#aec7e8\",\"#1f77b4\",\"#ff7f0e\",\"#1f77b4\",\"#1f77b4\",\"#1f77b4\",\"#ff7f0e\",\"#1f77b4\",\"#1f77b4\",\"#1f77b4\",\"#ff7f0e\",\"#1f77b4\",\"#1f77b4\",\"#1f77b4\",\"#1f77b4\",\"#1f77b4\",\"#1f77b4\",\"#ff7f0e\",\"#1f77b4\",\"#ff7f0e\",\"#ff7f0e\",\"#1f77b4\",\"#1f77b4\",\"#1f77b4\",\"#1f77b4\",\"#1f77b4\",\"#ff7f0e\",\"#1f77b4\",\"#ff7f0e\",\"#1f77b4\",\"#ff7f0e\",\"#1f77b4\",\"#1f77b4\",\"#1f77b4\",\"#1f77b4\",\"#1f77b4\",\"#1f77b4\",\"#ff7f0e\",\"#1f77b4\",\"#1f77b4\",\"#1f77b4\",\"#ff7f0e\",\"#1f77b4\",\"#1f77b4\",\"#ff7f0e\",\"#1f77b4\",\"#1f77b4\",\"#1f77b4\",\"#1f77b4\",\"#1f77b4\",\"#1f77b4\",\"#ff7f0e\",\"#1f77b4\",\"#1f77b4\",\"#1f77b4\",\"#1f77b4\",\"#1f77b4\",\"#aec7e8\",\"#1f77b4\",\"#1f77b4\",\"#ff7f0e\",\"#ff7f0e\",\"#ff7f0e\",\"#1f77b4\",\"#ff7f0e\",\"#1f77b4\",\"#ff7f0e\",\"#aec7e8\",\"#ff7f0e\",\"#ff7f0e\",\"#1f77b4\",\"#1f77b4\",\"#1f77b4\",\"#1f77b4\",\"#1f77b4\",\"#1f77b4\",\"#ff7f0e\",\"#1f77b4\",\"#ff7f0e\",\"#1f77b4\",\"#1f77b4\",\"#1f77b4\",\"#1f77b4\",\"#ff7f0e\",\"#1f77b4\",\"#ff7f0e\",\"#aec7e8\",\"#1f77b4\",\"#1f77b4\",\"#1f77b4\",\"#1f77b4\",\"#1f77b4\",\"#ff7f0e\",\"#ff7f0e\",\"#aec7e8\",\"#1f77b4\",\"#1f77b4\",\"#1f77b4\",\"#1f77b4\",\"#1f77b4\",\"#1f77b4\",\"#ff7f0e\",\"#1f77b4\",\"#ff7f0e\",\"#1f77b4\",\"#ff7f0e\",\"#1f77b4\",\"#ff7f0e\",\"#1f77b4\",\"#1f77b4\",\"#ff7f0e\",\"#1f77b4\",\"#1f77b4\",\"#ff7f0e\",\"#1f77b4\",\"#1f77b4\",\"#1f77b4\",\"#1f77b4\",\"#1f77b4\",\"#1f77b4\",\"#1f77b4\",\"#aec7e8\",\"#ff7f0e\",\"#1f77b4\",\"#aec7e8\",\"#ff7f0e\",\"#1f77b4\",\"#aec7e8\",\"#1f77b4\",\"#1f77b4\",\"#1f77b4\",\"#aec7e8\",\"#1f77b4\",\"#ff7f0e\",\"#1f77b4\",\"#ff7f0e\",\"#ff7f0e\",\"#1f77b4\",\"#1f77b4\",\"#1f77b4\",\"#1f77b4\",\"#1f77b4\",\"#ff7f0e\",\"#1f77b4\",\"#1f77b4\",\"#1f77b4\",\"#1f77b4\",\"#1f77b4\",\"#1f77b4\",\"#ff7f0e\",\"#1f77b4\",\"#1f77b4\",\"#1f77b4\",\"#1f77b4\",\"#1f77b4\",\"#1f77b4\",\"#ff7f0e\",\"#1f77b4\",\"#ff7f0e\",\"#1f77b4\",\"#1f77b4\",\"#1f77b4\",\"#1f77b4\",\"#1f77b4\",\"#1f77b4\",\"#1f77b4\",\"#1f77b4\",\"#1f77b4\",\"#1f77b4\",\"#1f77b4\",\"#1f77b4\",\"#ff7f0e\",\"#1f77b4\",\"#1f77b4\",\"#1f77b4\",\"#ff7f0e\",\"#1f77b4\",\"#ff7f0e\",\"#1f77b4\",\"#1f77b4\",\"#1f77b4\",\"#1f77b4\",\"#1f77b4\",\"#1f77b4\",\"#1f77b4\",\"#1f77b4\",\"#1f77b4\",\"#1f77b4\",\"#1f77b4\",\"#1f77b4\",\"#1f77b4\",\"#1f77b4\",\"#1f77b4\",\"#1f77b4\",\"#ff7f0e\",\"#aec7e8\",\"#1f77b4\",\"#ff7f0e\",\"#1f77b4\",\"#1f77b4\",\"#1f77b4\",\"#1f77b4\",\"#ff7f0e\"],\"hatch_color\":[\"#1f77b4\",\"#1f77b4\",\"#1f77b4\",\"#ff7f0e\",\"#1f77b4\",\"#aec7e8\",\"#1f77b4\",\"#1f77b4\",\"#ff7f0e\",\"#1f77b4\",\"#1f77b4\",\"#1f77b4\",\"#1f77b4\",\"#ff7f0e\",\"#ff7f0e\",\"#1f77b4\",\"#ff7f0e\",\"#1f77b4\",\"#1f77b4\",\"#ff7f0e\",\"#ff7f0e\",\"#ff7f0e\",\"#1f77b4\",\"#ff7f0e\",\"#ff7f0e\",\"#ff7f0e\",\"#1f77b4\",\"#ff7f0e\",\"#1f77b4\",\"#ff7f0e\",\"#1f77b4\",\"#1f77b4\",\"#1f77b4\",\"#1f77b4\",\"#1f77b4\",\"#1f77b4\",\"#1f77b4\",\"#ff7f0e\",\"#1f77b4\",\"#1f77b4\",\"#1f77b4\",\"#1f77b4\",\"#1f77b4\",\"#1f77b4\",\"#1f77b4\",\"#1f77b4\",\"#1f77b4\",\"#1f77b4\",\"#1f77b4\",\"#1f77b4\",\"#ff7f0e\",\"#1f77b4\",\"#1f77b4\",\"#ff7f0e\",\"#ff7f0e\",\"#1f77b4\",\"#ff7f0e\",\"#1f77b4\",\"#ff7f0e\",\"#1f77b4\",\"#1f77b4\",\"#1f77b4\",\"#1f77b4\",\"#1f77b4\",\"#ff7f0e\",\"#1f77b4\",\"#1f77b4\",\"#ff7f0e\",\"#ff7f0e\",\"#1f77b4\",\"#ff7f0e\",\"#ff7f0e\",\"#1f77b4\",\"#1f77b4\",\"#ff7f0e\",\"#aec7e8\",\"#1f77b4\",\"#ff7f0e\",\"#1f77b4\",\"#1f77b4\",\"#1f77b4\",\"#1f77b4\",\"#ff7f0e\",\"#1f77b4\",\"#ff7f0e\",\"#ff7f0e\",\"#1f77b4\",\"#1f77b4\",\"#ff7f0e\",\"#ff7f0e\",\"#aec7e8\",\"#1f77b4\",\"#ff7f0e\",\"#1f77b4\",\"#1f77b4\",\"#ff7f0e\",\"#ff7f0e\",\"#1f77b4\",\"#ff7f0e\",\"#1f77b4\",\"#1f77b4\",\"#ff7f0e\",\"#ff7f0e\",\"#1f77b4\",\"#1f77b4\",\"#ff7f0e\",\"#ff7f0e\",\"#ff7f0e\",\"#1f77b4\",\"#1f77b4\",\"#1f77b4\",\"#1f77b4\",\"#ff7f0e\",\"#1f77b4\",\"#ff7f0e\",\"#ff7f0e\",\"#1f77b4\",\"#1f77b4\",\"#1f77b4\",\"#1f77b4\",\"#1f77b4\",\"#1f77b4\",\"#ff7f0e\",\"#1f77b4\",\"#1f77b4\",\"#1f77b4\",\"#1f77b4\",\"#1f77b4\",\"#1f77b4\",\"#1f77b4\",\"#1f77b4\",\"#1f77b4\",\"#1f77b4\",\"#1f77b4\",\"#ff7f0e\",\"#1f77b4\",\"#1f77b4\",\"#1f77b4\",\"#ff7f0e\",\"#1f77b4\",\"#1f77b4\",\"#1f77b4\",\"#1f77b4\",\"#ff7f0e\",\"#1f77b4\",\"#ff7f0e\",\"#1f77b4\",\"#1f77b4\",\"#1f77b4\",\"#1f77b4\",\"#1f77b4\",\"#1f77b4\",\"#1f77b4\",\"#1f77b4\",\"#1f77b4\",\"#1f77b4\",\"#ff7f0e\",\"#1f77b4\",\"#1f77b4\",\"#ff7f0e\",\"#1f77b4\",\"#1f77b4\",\"#1f77b4\",\"#1f77b4\",\"#ff7f0e\",\"#1f77b4\",\"#1f77b4\",\"#ff7f0e\",\"#1f77b4\",\"#1f77b4\",\"#ff7f0e\",\"#ff7f0e\",\"#1f77b4\",\"#ff7f0e\",\"#ff7f0e\",\"#1f77b4\",\"#ff7f0e\",\"#1f77b4\",\"#1f77b4\",\"#ff7f0e\",\"#1f77b4\",\"#1f77b4\",\"#ff7f0e\",\"#1f77b4\",\"#1f77b4\",\"#ff7f0e\",\"#1f77b4\",\"#1f77b4\",\"#1f77b4\",\"#1f77b4\",\"#ff7f0e\",\"#1f77b4\",\"#1f77b4\",\"#ff7f0e\",\"#1f77b4\",\"#ff7f0e\",\"#ff7f0e\",\"#ff7f0e\",\"#1f77b4\",\"#1f77b4\",\"#ff7f0e\",\"#ff7f0e\",\"#1f77b4\",\"#ff7f0e\",\"#1f77b4\",\"#1f77b4\",\"#1f77b4\",\"#1f77b4\",\"#ff7f0e\",\"#ff7f0e\",\"#1f77b4\",\"#1f77b4\",\"#1f77b4\",\"#1f77b4\",\"#ff7f0e\",\"#1f77b4\",\"#1f77b4\",\"#ff7f0e\",\"#1f77b4\",\"#1f77b4\",\"#1f77b4\",\"#1f77b4\",\"#ff7f0e\",\"#1f77b4\",\"#1f77b4\",\"#1f77b4\",\"#ff7f0e\",\"#1f77b4\",\"#1f77b4\",\"#1f77b4\",\"#ff7f0e\",\"#1f77b4\",\"#ff7f0e\",\"#1f77b4\",\"#1f77b4\",\"#1f77b4\",\"#ff7f0e\",\"#1f77b4\",\"#1f77b4\",\"#1f77b4\",\"#ff7f0e\",\"#1f77b4\",\"#1f77b4\",\"#1f77b4\",\"#1f77b4\",\"#1f77b4\",\"#1f77b4\",\"#ff7f0e\",\"#1f77b4\",\"#1f77b4\",\"#1f77b4\",\"#1f77b4\",\"#1f77b4\",\"#1f77b4\",\"#ff7f0e\",\"#ff7f0e\",\"#ff7f0e\",\"#1f77b4\",\"#ff7f0e\",\"#ff7f0e\",\"#1f77b4\",\"#ff7f0e\",\"#1f77b4\",\"#1f77b4\",\"#aec7e8\",\"#1f77b4\",\"#1f77b4\",\"#ff7f0e\",\"#1f77b4\",\"#ff7f0e\",\"#1f77b4\",\"#ff7f0e\",\"#1f77b4\",\"#1f77b4\",\"#1f77b4\",\"#1f77b4\",\"#1f77b4\",\"#1f77b4\",\"#1f77b4\",\"#1f77b4\",\"#1f77b4\",\"#ff7f0e\",\"#ff7f0e\",\"#1f77b4\",\"#1f77b4\",\"#1f77b4\",\"#1f77b4\",\"#1f77b4\",\"#ff7f0e\",\"#ff7f0e\",\"#ff7f0e\",\"#ff7f0e\",\"#1f77b4\",\"#ff7f0e\",\"#1f77b4\",\"#ff7f0e\",\"#1f77b4\",\"#aec7e8\",\"#1f77b4\",\"#ff7f0e\",\"#1f77b4\",\"#1f77b4\",\"#1f77b4\",\"#ff7f0e\",\"#1f77b4\",\"#1f77b4\",\"#1f77b4\",\"#ff7f0e\",\"#1f77b4\",\"#1f77b4\",\"#1f77b4\",\"#1f77b4\",\"#1f77b4\",\"#1f77b4\",\"#ff7f0e\",\"#1f77b4\",\"#ff7f0e\",\"#ff7f0e\",\"#1f77b4\",\"#1f77b4\",\"#1f77b4\",\"#1f77b4\",\"#1f77b4\",\"#ff7f0e\",\"#1f77b4\",\"#ff7f0e\",\"#1f77b4\",\"#ff7f0e\",\"#1f77b4\",\"#1f77b4\",\"#1f77b4\",\"#1f77b4\",\"#1f77b4\",\"#1f77b4\",\"#ff7f0e\",\"#1f77b4\",\"#1f77b4\",\"#1f77b4\",\"#ff7f0e\",\"#1f77b4\",\"#1f77b4\",\"#ff7f0e\",\"#1f77b4\",\"#1f77b4\",\"#1f77b4\",\"#1f77b4\",\"#1f77b4\",\"#1f77b4\",\"#ff7f0e\",\"#1f77b4\",\"#1f77b4\",\"#1f77b4\",\"#1f77b4\",\"#1f77b4\",\"#aec7e8\",\"#1f77b4\",\"#1f77b4\",\"#ff7f0e\",\"#ff7f0e\",\"#ff7f0e\",\"#1f77b4\",\"#ff7f0e\",\"#1f77b4\",\"#ff7f0e\",\"#aec7e8\",\"#ff7f0e\",\"#ff7f0e\",\"#1f77b4\",\"#1f77b4\",\"#1f77b4\",\"#1f77b4\",\"#1f77b4\",\"#1f77b4\",\"#ff7f0e\",\"#1f77b4\",\"#ff7f0e\",\"#1f77b4\",\"#1f77b4\",\"#1f77b4\",\"#1f77b4\",\"#ff7f0e\",\"#1f77b4\",\"#ff7f0e\",\"#aec7e8\",\"#1f77b4\",\"#1f77b4\",\"#1f77b4\",\"#1f77b4\",\"#1f77b4\",\"#ff7f0e\",\"#ff7f0e\",\"#aec7e8\",\"#1f77b4\",\"#1f77b4\",\"#1f77b4\",\"#1f77b4\",\"#1f77b4\",\"#1f77b4\",\"#ff7f0e\",\"#1f77b4\",\"#ff7f0e\",\"#1f77b4\",\"#ff7f0e\",\"#1f77b4\",\"#ff7f0e\",\"#1f77b4\",\"#1f77b4\",\"#ff7f0e\",\"#1f77b4\",\"#1f77b4\",\"#ff7f0e\",\"#1f77b4\",\"#1f77b4\",\"#1f77b4\",\"#1f77b4\",\"#1f77b4\",\"#1f77b4\",\"#1f77b4\",\"#aec7e8\",\"#ff7f0e\",\"#1f77b4\",\"#aec7e8\",\"#ff7f0e\",\"#1f77b4\",\"#aec7e8\",\"#1f77b4\",\"#1f77b4\",\"#1f77b4\",\"#aec7e8\",\"#1f77b4\",\"#ff7f0e\",\"#1f77b4\",\"#ff7f0e\",\"#ff7f0e\",\"#1f77b4\",\"#1f77b4\",\"#1f77b4\",\"#1f77b4\",\"#1f77b4\",\"#ff7f0e\",\"#1f77b4\",\"#1f77b4\",\"#1f77b4\",\"#1f77b4\",\"#1f77b4\",\"#1f77b4\",\"#ff7f0e\",\"#1f77b4\",\"#1f77b4\",\"#1f77b4\",\"#1f77b4\",\"#1f77b4\",\"#1f77b4\",\"#ff7f0e\",\"#1f77b4\",\"#ff7f0e\",\"#1f77b4\",\"#1f77b4\",\"#1f77b4\",\"#1f77b4\",\"#1f77b4\",\"#1f77b4\",\"#1f77b4\",\"#1f77b4\",\"#1f77b4\",\"#1f77b4\",\"#1f77b4\",\"#1f77b4\",\"#ff7f0e\",\"#1f77b4\",\"#1f77b4\",\"#1f77b4\",\"#ff7f0e\",\"#1f77b4\",\"#ff7f0e\",\"#1f77b4\",\"#1f77b4\",\"#1f77b4\",\"#1f77b4\",\"#1f77b4\",\"#1f77b4\",\"#1f77b4\",\"#1f77b4\",\"#1f77b4\",\"#1f77b4\",\"#1f77b4\",\"#1f77b4\",\"#1f77b4\",\"#1f77b4\",\"#1f77b4\",\"#1f77b4\",\"#ff7f0e\",\"#aec7e8\",\"#1f77b4\",\"#ff7f0e\",\"#1f77b4\",\"#1f77b4\",\"#1f77b4\",\"#1f77b4\",\"#ff7f0e\"],\"line_color\":[\"#1f77b4\",\"#1f77b4\",\"#1f77b4\",\"#ff7f0e\",\"#1f77b4\",\"#aec7e8\",\"#1f77b4\",\"#1f77b4\",\"#ff7f0e\",\"#1f77b4\",\"#1f77b4\",\"#1f77b4\",\"#1f77b4\",\"#ff7f0e\",\"#ff7f0e\",\"#1f77b4\",\"#ff7f0e\",\"#1f77b4\",\"#1f77b4\",\"#ff7f0e\",\"#ff7f0e\",\"#ff7f0e\",\"#1f77b4\",\"#ff7f0e\",\"#ff7f0e\",\"#ff7f0e\",\"#1f77b4\",\"#ff7f0e\",\"#1f77b4\",\"#ff7f0e\",\"#1f77b4\",\"#1f77b4\",\"#1f77b4\",\"#1f77b4\",\"#1f77b4\",\"#1f77b4\",\"#1f77b4\",\"#ff7f0e\",\"#1f77b4\",\"#1f77b4\",\"#1f77b4\",\"#1f77b4\",\"#1f77b4\",\"#1f77b4\",\"#1f77b4\",\"#1f77b4\",\"#1f77b4\",\"#1f77b4\",\"#1f77b4\",\"#1f77b4\",\"#ff7f0e\",\"#1f77b4\",\"#1f77b4\",\"#ff7f0e\",\"#ff7f0e\",\"#1f77b4\",\"#ff7f0e\",\"#1f77b4\",\"#ff7f0e\",\"#1f77b4\",\"#1f77b4\",\"#1f77b4\",\"#1f77b4\",\"#1f77b4\",\"#ff7f0e\",\"#1f77b4\",\"#1f77b4\",\"#ff7f0e\",\"#ff7f0e\",\"#1f77b4\",\"#ff7f0e\",\"#ff7f0e\",\"#1f77b4\",\"#1f77b4\",\"#ff7f0e\",\"#aec7e8\",\"#1f77b4\",\"#ff7f0e\",\"#1f77b4\",\"#1f77b4\",\"#1f77b4\",\"#1f77b4\",\"#ff7f0e\",\"#1f77b4\",\"#ff7f0e\",\"#ff7f0e\",\"#1f77b4\",\"#1f77b4\",\"#ff7f0e\",\"#ff7f0e\",\"#aec7e8\",\"#1f77b4\",\"#ff7f0e\",\"#1f77b4\",\"#1f77b4\",\"#ff7f0e\",\"#ff7f0e\",\"#1f77b4\",\"#ff7f0e\",\"#1f77b4\",\"#1f77b4\",\"#ff7f0e\",\"#ff7f0e\",\"#1f77b4\",\"#1f77b4\",\"#ff7f0e\",\"#ff7f0e\",\"#ff7f0e\",\"#1f77b4\",\"#1f77b4\",\"#1f77b4\",\"#1f77b4\",\"#ff7f0e\",\"#1f77b4\",\"#ff7f0e\",\"#ff7f0e\",\"#1f77b4\",\"#1f77b4\",\"#1f77b4\",\"#1f77b4\",\"#1f77b4\",\"#1f77b4\",\"#ff7f0e\",\"#1f77b4\",\"#1f77b4\",\"#1f77b4\",\"#1f77b4\",\"#1f77b4\",\"#1f77b4\",\"#1f77b4\",\"#1f77b4\",\"#1f77b4\",\"#1f77b4\",\"#1f77b4\",\"#ff7f0e\",\"#1f77b4\",\"#1f77b4\",\"#1f77b4\",\"#ff7f0e\",\"#1f77b4\",\"#1f77b4\",\"#1f77b4\",\"#1f77b4\",\"#ff7f0e\",\"#1f77b4\",\"#ff7f0e\",\"#1f77b4\",\"#1f77b4\",\"#1f77b4\",\"#1f77b4\",\"#1f77b4\",\"#1f77b4\",\"#1f77b4\",\"#1f77b4\",\"#1f77b4\",\"#1f77b4\",\"#ff7f0e\",\"#1f77b4\",\"#1f77b4\",\"#ff7f0e\",\"#1f77b4\",\"#1f77b4\",\"#1f77b4\",\"#1f77b4\",\"#ff7f0e\",\"#1f77b4\",\"#1f77b4\",\"#ff7f0e\",\"#1f77b4\",\"#1f77b4\",\"#ff7f0e\",\"#ff7f0e\",\"#1f77b4\",\"#ff7f0e\",\"#ff7f0e\",\"#1f77b4\",\"#ff7f0e\",\"#1f77b4\",\"#1f77b4\",\"#ff7f0e\",\"#1f77b4\",\"#1f77b4\",\"#ff7f0e\",\"#1f77b4\",\"#1f77b4\",\"#ff7f0e\",\"#1f77b4\",\"#1f77b4\",\"#1f77b4\",\"#1f77b4\",\"#ff7f0e\",\"#1f77b4\",\"#1f77b4\",\"#ff7f0e\",\"#1f77b4\",\"#ff7f0e\",\"#ff7f0e\",\"#ff7f0e\",\"#1f77b4\",\"#1f77b4\",\"#ff7f0e\",\"#ff7f0e\",\"#1f77b4\",\"#ff7f0e\",\"#1f77b4\",\"#1f77b4\",\"#1f77b4\",\"#1f77b4\",\"#ff7f0e\",\"#ff7f0e\",\"#1f77b4\",\"#1f77b4\",\"#1f77b4\",\"#1f77b4\",\"#ff7f0e\",\"#1f77b4\",\"#1f77b4\",\"#ff7f0e\",\"#1f77b4\",\"#1f77b4\",\"#1f77b4\",\"#1f77b4\",\"#ff7f0e\",\"#1f77b4\",\"#1f77b4\",\"#1f77b4\",\"#ff7f0e\",\"#1f77b4\",\"#1f77b4\",\"#1f77b4\",\"#ff7f0e\",\"#1f77b4\",\"#ff7f0e\",\"#1f77b4\",\"#1f77b4\",\"#1f77b4\",\"#ff7f0e\",\"#1f77b4\",\"#1f77b4\",\"#1f77b4\",\"#ff7f0e\",\"#1f77b4\",\"#1f77b4\",\"#1f77b4\",\"#1f77b4\",\"#1f77b4\",\"#1f77b4\",\"#ff7f0e\",\"#1f77b4\",\"#1f77b4\",\"#1f77b4\",\"#1f77b4\",\"#1f77b4\",\"#1f77b4\",\"#ff7f0e\",\"#ff7f0e\",\"#ff7f0e\",\"#1f77b4\",\"#ff7f0e\",\"#ff7f0e\",\"#1f77b4\",\"#ff7f0e\",\"#1f77b4\",\"#1f77b4\",\"#aec7e8\",\"#1f77b4\",\"#1f77b4\",\"#ff7f0e\",\"#1f77b4\",\"#ff7f0e\",\"#1f77b4\",\"#ff7f0e\",\"#1f77b4\",\"#1f77b4\",\"#1f77b4\",\"#1f77b4\",\"#1f77b4\",\"#1f77b4\",\"#1f77b4\",\"#1f77b4\",\"#1f77b4\",\"#ff7f0e\",\"#ff7f0e\",\"#1f77b4\",\"#1f77b4\",\"#1f77b4\",\"#1f77b4\",\"#1f77b4\",\"#ff7f0e\",\"#ff7f0e\",\"#ff7f0e\",\"#ff7f0e\",\"#1f77b4\",\"#ff7f0e\",\"#1f77b4\",\"#ff7f0e\",\"#1f77b4\",\"#aec7e8\",\"#1f77b4\",\"#ff7f0e\",\"#1f77b4\",\"#1f77b4\",\"#1f77b4\",\"#ff7f0e\",\"#1f77b4\",\"#1f77b4\",\"#1f77b4\",\"#ff7f0e\",\"#1f77b4\",\"#1f77b4\",\"#1f77b4\",\"#1f77b4\",\"#1f77b4\",\"#1f77b4\",\"#ff7f0e\",\"#1f77b4\",\"#ff7f0e\",\"#ff7f0e\",\"#1f77b4\",\"#1f77b4\",\"#1f77b4\",\"#1f77b4\",\"#1f77b4\",\"#ff7f0e\",\"#1f77b4\",\"#ff7f0e\",\"#1f77b4\",\"#ff7f0e\",\"#1f77b4\",\"#1f77b4\",\"#1f77b4\",\"#1f77b4\",\"#1f77b4\",\"#1f77b4\",\"#ff7f0e\",\"#1f77b4\",\"#1f77b4\",\"#1f77b4\",\"#ff7f0e\",\"#1f77b4\",\"#1f77b4\",\"#ff7f0e\",\"#1f77b4\",\"#1f77b4\",\"#1f77b4\",\"#1f77b4\",\"#1f77b4\",\"#1f77b4\",\"#ff7f0e\",\"#1f77b4\",\"#1f77b4\",\"#1f77b4\",\"#1f77b4\",\"#1f77b4\",\"#aec7e8\",\"#1f77b4\",\"#1f77b4\",\"#ff7f0e\",\"#ff7f0e\",\"#ff7f0e\",\"#1f77b4\",\"#ff7f0e\",\"#1f77b4\",\"#ff7f0e\",\"#aec7e8\",\"#ff7f0e\",\"#ff7f0e\",\"#1f77b4\",\"#1f77b4\",\"#1f77b4\",\"#1f77b4\",\"#1f77b4\",\"#1f77b4\",\"#ff7f0e\",\"#1f77b4\",\"#ff7f0e\",\"#1f77b4\",\"#1f77b4\",\"#1f77b4\",\"#1f77b4\",\"#ff7f0e\",\"#1f77b4\",\"#ff7f0e\",\"#aec7e8\",\"#1f77b4\",\"#1f77b4\",\"#1f77b4\",\"#1f77b4\",\"#1f77b4\",\"#ff7f0e\",\"#ff7f0e\",\"#aec7e8\",\"#1f77b4\",\"#1f77b4\",\"#1f77b4\",\"#1f77b4\",\"#1f77b4\",\"#1f77b4\",\"#ff7f0e\",\"#1f77b4\",\"#ff7f0e\",\"#1f77b4\",\"#ff7f0e\",\"#1f77b4\",\"#ff7f0e\",\"#1f77b4\",\"#1f77b4\",\"#ff7f0e\",\"#1f77b4\",\"#1f77b4\",\"#ff7f0e\",\"#1f77b4\",\"#1f77b4\",\"#1f77b4\",\"#1f77b4\",\"#1f77b4\",\"#1f77b4\",\"#1f77b4\",\"#aec7e8\",\"#ff7f0e\",\"#1f77b4\",\"#aec7e8\",\"#ff7f0e\",\"#1f77b4\",\"#aec7e8\",\"#1f77b4\",\"#1f77b4\",\"#1f77b4\",\"#aec7e8\",\"#1f77b4\",\"#ff7f0e\",\"#1f77b4\",\"#ff7f0e\",\"#ff7f0e\",\"#1f77b4\",\"#1f77b4\",\"#1f77b4\",\"#1f77b4\",\"#1f77b4\",\"#ff7f0e\",\"#1f77b4\",\"#1f77b4\",\"#1f77b4\",\"#1f77b4\",\"#1f77b4\",\"#1f77b4\",\"#ff7f0e\",\"#1f77b4\",\"#1f77b4\",\"#1f77b4\",\"#1f77b4\",\"#1f77b4\",\"#1f77b4\",\"#ff7f0e\",\"#1f77b4\",\"#ff7f0e\",\"#1f77b4\",\"#1f77b4\",\"#1f77b4\",\"#1f77b4\",\"#1f77b4\",\"#1f77b4\",\"#1f77b4\",\"#1f77b4\",\"#1f77b4\",\"#1f77b4\",\"#1f77b4\",\"#1f77b4\",\"#ff7f0e\",\"#1f77b4\",\"#1f77b4\",\"#1f77b4\",\"#ff7f0e\",\"#1f77b4\",\"#ff7f0e\",\"#1f77b4\",\"#1f77b4\",\"#1f77b4\",\"#1f77b4\",\"#1f77b4\",\"#1f77b4\",\"#1f77b4\",\"#1f77b4\",\"#1f77b4\",\"#1f77b4\",\"#1f77b4\",\"#1f77b4\",\"#1f77b4\",\"#1f77b4\",\"#1f77b4\",\"#1f77b4\",\"#ff7f0e\",\"#aec7e8\",\"#1f77b4\",\"#ff7f0e\",\"#1f77b4\",\"#1f77b4\",\"#1f77b4\",\"#1f77b4\",\"#ff7f0e\"],\"x\":{\"__ndarray__\":\"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\",\"dtype\":\"float32\",\"order\":\"little\",\"shape\":[500]},\"y\":{\"__ndarray__\":\"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\",\"dtype\":\"float32\",\"order\":\"little\",\"shape\":[500]}},\"selected\":{\"id\":\"1053\"},\"selection_policy\":{\"id\":\"1052\"}},\"id\":\"1036\",\"type\":\"ColumnDataSource\"},{\"attributes\":{},\"id\":\"1015\",\"type\":\"BasicTicker\"},{\"attributes\":{\"coordinates\":null,\"group\":null,\"text\":\"bitch rt like\",\"text_color\":\"#1f77b4\",\"x\":1.4203197956085205,\"y\":8.452322006225586},\"id\":\"1042\",\"type\":\"Label\"},{\"attributes\":{},\"id\":\"1048\",\"type\":\"AllLabels\"},{\"attributes\":{},\"id\":\"1025\",\"type\":\"SaveTool\"},{\"attributes\":{\"bottom_units\":\"screen\",\"coordinates\":null,\"fill_alpha\":0.5,\"fill_color\":\"lightgrey\",\"group\":null,\"left_units\":\"screen\",\"level\":\"overlay\",\"line_alpha\":1.0,\"line_color\":\"black\",\"line_dash\":[4,4],\"line_width\":2,\"right_units\":\"screen\",\"syncable\":false,\"top_units\":\"screen\"},\"id\":\"1028\",\"type\":\"BoxAnnotation\"},{\"attributes\":{\"fill_alpha\":{\"value\":0.2},\"fill_color\":{\"field\":\"fill_color\"},\"hatch_alpha\":{\"value\":0.2},\"hatch_color\":{\"field\":\"hatch_color\"},\"line_alpha\":{\"value\":0.2},\"line_color\":{\"field\":\"line_color\"},\"x\":{\"field\":\"x\"},\"y\":{\"field\":\"y\"}},\"id\":\"1039\",\"type\":\"Scatter\"},{\"attributes\":{},\"id\":\"1023\",\"type\":\"WheelZoomTool\"},{\"attributes\":{},\"id\":\"1027\",\"type\":\"HelpTool\"},{\"attributes\":{},\"id\":\"1052\",\"type\":\"UnionRenderers\"},{\"attributes\":{},\"id\":\"1026\",\"type\":\"ResetTool\"},{\"attributes\":{},\"id\":\"1053\",\"type\":\"Selection\"},{\"attributes\":{\"fill_color\":{\"field\":\"fill_color\"},\"hatch_color\":{\"field\":\"hatch_color\"},\"line_color\":{\"field\":\"line_color\"},\"x\":{\"field\":\"x\"},\"y\":{\"field\":\"y\"}},\"id\":\"1037\",\"type\":\"Scatter\"},{\"attributes\":{\"source\":{\"id\":\"1036\"}},\"id\":\"1041\",\"type\":\"CDSView\"},{\"attributes\":{},\"id\":\"1010\",\"type\":\"LinearScale\"},{\"attributes\":{\"coordinates\":null,\"formatter\":{\"id\":\"1050\"},\"group\":null,\"major_label_policy\":{\"id\":\"1051\"},\"ticker\":{\"id\":\"1015\"}},\"id\":\"1014\",\"type\":\"LinearAxis\"},{\"attributes\":{\"overlay\":{\"id\":\"1028\"}},\"id\":\"1024\",\"type\":\"BoxZoomTool\"},{\"attributes\":{\"coordinates\":null,\"group\":null,\"text\":\"cunt use faggot\",\"text_color\":\"#aec7e8\",\"x\":9.633700370788574,\"y\":-12.68575382232666},\"id\":\"1043\",\"type\":\"Label\"},{\"attributes\":{},\"id\":\"1022\",\"type\":\"PanTool\"},{\"attributes\":{\"coordinates\":null,\"group\":null,\"text\":\"rt hoe trash\",\"text_color\":\"#ff7f0e\",\"x\":-4.284701824188232,\"y\":-18.922489166259766},\"id\":\"1044\",\"type\":\"Label\"}],\"root_ids\":[\"1003\"]},\"title\":\"Bokeh Application\",\"version\":\"2.4.1\"}};\n",
       "  const render_items = [{\"docid\":\"8dfd2c10-f14f-4ea2-b5fe-f907593c03f2\",\"root_ids\":[\"1003\"],\"roots\":{\"1003\":\"526cb138-0404-4747-b049-1d0815e3f2e3\"}}];\n",
       "  root.Bokeh.embed.embed_items_notebook(docs_json, render_items);\n",
       "\n",
       "  }\n",
       "  if (root.Bokeh !== undefined) {\n",
       "    embed_document(root);\n",
       "  } else {\n",
       "    let attempts = 0;\n",
       "    const timer = setInterval(function(root) {\n",
       "      if (root.Bokeh !== undefined) {\n",
       "        clearInterval(timer);\n",
       "        embed_document(root);\n",
       "      } else {\n",
       "        attempts++;\n",
       "        if (attempts > 100) {\n",
       "          clearInterval(timer);\n",
       "          console.log(\"Bokeh: ERROR: Unable to run BokehJS code because BokehJS library is missing\");\n",
       "        }\n",
       "      }\n",
       "    }, 10, root)\n",
       "  }\n",
       "})(window);"
      ],
      "application/vnd.bokehjs_exec.v0+json": ""
     },
     "metadata": {
      "application/vnd.bokehjs_exec.v0+json": {
       "id": "1003"
      }
     },
     "output_type": "display_data"
    }
   ],
   "source": [
    "top_3_words_lsa = get_top_n_words(3, lsa_keys, small_document_term_matrix, small_count_vectorizer)\n",
    "lsa_mean_topic_vectors = get_mean_topic_vectors(lsa_keys, tsne_lsa_vectors)\n",
    "\n",
    "plot = figure(title=\"t-SNE Clustering of {} LSA Topics\".format(n_topics), plot_width=700, plot_height=700)\n",
    "plot.scatter(x=tsne_lsa_vectors[:,0], y=tsne_lsa_vectors[:,1], color=colormap[lsa_keys])\n",
    "\n",
    "for t in range(n_topics):\n",
    "    label = Label(x=lsa_mean_topic_vectors[t][0], y=lsa_mean_topic_vectors[t][1], \n",
    "                  text=top_3_words_lsa[t], text_color=colormap[t])\n",
    "    plot.add_layout(label)\n",
    "    \n",
    "show(plot)"
   ]
  },
  {
   "cell_type": "markdown",
   "id": "ce8d1a68",
   "metadata": {},
   "source": [
    "# Latent Dirichilet Allocation"
   ]
  },
  {
   "cell_type": "code",
   "execution_count": 40,
   "id": "934d7308",
   "metadata": {},
   "outputs": [],
   "source": [
    "lda_model = LatentDirichletAllocation(n_components=n_topics, learning_method='online', \n",
    "                                          random_state=0, verbose=0)\n",
    "lda_topic_matrix = lda_model.fit_transform(small_document_term_matrix)"
   ]
  },
  {
   "cell_type": "code",
   "execution_count": 41,
   "id": "597e33ef",
   "metadata": {},
   "outputs": [],
   "source": [
    "lda_keys = get_keys(lda_topic_matrix)\n",
    "lda_categories, lda_counts = keys_to_counts(lda_keys)"
   ]
  },
  {
   "cell_type": "code",
   "execution_count": 42,
   "id": "8b426c1f",
   "metadata": {},
   "outputs": [
    {
     "name": "stdout",
     "output_type": "stream",
     "text": [
      "Topic 1:  bitch rt like nigga fuck pussi dont im ass hate\n",
      "Topic 2:  rt hoe bitch lol amp im like bad yall mani\n",
      "Topic 3:  bitch rt like aint cunt hoe im ass shit faggot\n"
     ]
    }
   ],
   "source": [
    "top_n_words_lda = get_top_n_words(10, lda_keys, small_document_term_matrix, small_count_vectorizer)\n",
    "\n",
    "for i in range(len(top_n_words_lda)):\n",
    "    print(\"Topic {}: \".format(i+1), top_n_words_lda[i])"
   ]
  },
  {
   "cell_type": "code",
   "execution_count": 43,
   "id": "ce94b393",
   "metadata": {},
   "outputs": [
    {
     "name": "stdout",
     "output_type": "stream",
     "text": [
      "[t-SNE] Computing 151 nearest neighbors...\n",
      "[t-SNE] Indexed 500 samples in 0.001s...\n",
      "[t-SNE] Computed neighbors for 500 samples in 0.014s...\n",
      "[t-SNE] Computed conditional probabilities for sample 500 / 500\n",
      "[t-SNE] Mean sigma: 0.015711\n",
      "[t-SNE] KL divergence after 250 iterations with early exaggeration: 42.746666\n",
      "[t-SNE] KL divergence after 1450 iterations: 0.095972\n"
     ]
    }
   ],
   "source": [
    "\n",
    "tsne_lda_model = TSNE(n_components=2, perplexity=50, learning_rate=100, \n",
    "                        n_iter=2000, verbose=1, random_state=0, angle=0.75)\n",
    "tsne_lda_vectors = tsne_lda_model.fit_transform(lda_topic_matrix)"
   ]
  },
  {
   "cell_type": "code",
   "execution_count": 44,
   "id": "e6a79e8e",
   "metadata": {},
   "outputs": [
    {
     "data": {
      "image/png": "[encoded data removed]",
      "text/plain": [
       "<Figure size 1440x720 with 1 Axes>"
      ]
     },
     "metadata": {
      "needs_background": "light"
     },
     "output_type": "display_data"
    }
   ],
   "source": [
    "top_3_words = get_top_n_words(3, lda_keys, small_document_term_matrix, small_count_vectorizer)\n",
    "labels = ['Topic {}: \\n'.format(i) + top_3_words[i] for i in lda_categories]\n",
    "\n",
    "fig, ax = plt.subplots(figsize=(20,10))\n",
    "ax.bar(lda_categories, lda_counts);\n",
    "ax.set_xticks(lda_categories);\n",
    "ax.set_xticklabels(labels);\n",
    "ax.set_title('LDA topic counts');\n",
    "ax.set_ylabel('Number of Tweets');"
   ]
  },
  {
   "cell_type": "code",
   "execution_count": 45,
   "id": "4cc75c42",
   "metadata": {},
   "outputs": [
    {
     "name": "stdout",
     "output_type": "stream",
     "text": [
      "[t-SNE] Computing 151 nearest neighbors...\n",
      "[t-SNE] Indexed 500 samples in 0.000s...\n",
      "[t-SNE] Computed neighbors for 500 samples in 0.011s...\n",
      "[t-SNE] Computed conditional probabilities for sample 500 / 500\n",
      "[t-SNE] Mean sigma: 0.015711\n",
      "[t-SNE] KL divergence after 250 iterations with early exaggeration: 42.746666\n",
      "[t-SNE] KL divergence after 1450 iterations: 0.095972\n"
     ]
    }
   ],
   "source": [
    "tsne_lda_model = TSNE(n_components=2, perplexity=50, learning_rate=100, \n",
    "                        n_iter=2000, verbose=1, random_state=0, angle=0.75)\n",
    "tsne_lda_vectors = tsne_lda_model.fit_transform(lda_topic_matrix)"
   ]
  },
  {
   "cell_type": "code",
   "execution_count": 46,
   "id": "9331e583",
   "metadata": {},
   "outputs": [
    {
     "data": {
      "text/html": [
       "\n",
       "\n",
       "\n",
       "\n",
       "\n",
       "\n",
       "  <div class=\"bk-root\" id=\"4af52cd9-f2bd-4a62-baad-0b5d475b91d3\" data-root-id=\"1105\"></div>\n"
      ]
     },
     "metadata": {},
     "output_type": "display_data"
    },
    {
     "data": {
      "application/javascript": [
       "(function(root) {\n",
       "  function embed_document(root) {\n",
       "    \n",
       "  const docs_json = {\"52599499-8bf1-43a5-8700-fc256b6840ba\":{\"defs\":[],\"roots\":{\"references\":[{\"attributes\":{\"below\":[{\"id\":\"1116\"}],\"center\":[{\"id\":\"1119\"},{\"id\":\"1123\"},{\"id\":\"1144\"},{\"id\":\"1145\"},{\"id\":\"1146\"}],\"height\":700,\"left\":[{\"id\":\"1120\"}],\"renderers\":[{\"id\":\"1142\"}],\"title\":{\"id\":\"1106\"},\"toolbar\":{\"id\":\"1131\"},\"width\":700,\"x_range\":{\"id\":\"1108\"},\"x_scale\":{\"id\":\"1112\"},\"y_range\":{\"id\":\"1110\"},\"y_scale\":{\"id\":\"1114\"}},\"id\":\"1105\",\"subtype\":\"Figure\",\"type\":\"Plot\"},{\"attributes\":{},\"id\":\"1163\",\"type\":\"AllLabels\"},{\"attributes\":{\"coordinates\":null,\"group\":null,\"text\":\"t-SNE Clustering of 3 LDA Topics\"},\"id\":\"1106\",\"type\":\"Title\"},{\"attributes\":{},\"id\":\"1165\",\"type\":\"Selection\"},{\"attributes\":{},\"id\":\"1114\",\"type\":\"LinearScale\"},{\"attributes\":{\"axis\":{\"id\":\"1116\"},\"coordinates\":null,\"group\":null,\"ticker\":null},\"id\":\"1119\",\"type\":\"Grid\"},{\"attributes\":{\"coordinates\":null,\"formatter\":{\"id\":\"1162\"},\"group\":null,\"major_label_policy\":{\"id\":\"1163\"},\"ticker\":{\"id\":\"1117\"}},\"id\":\"1116\",\"type\":\"LinearAxis\"},{\"attributes\":{},\"id\":\"1128\",\"type\":\"ResetTool\"},{\"attributes\":{\"tools\":[{\"id\":\"1124\"},{\"id\":\"1125\"},{\"id\":\"1126\"},{\"id\":\"1127\"},{\"id\":\"1128\"},{\"id\":\"1129\"}]},\"id\":\"1131\",\"type\":\"Toolbar\"},{\"attributes\":{},\"id\":\"1127\",\"type\":\"SaveTool\"},{\"attributes\":{},\"id\":\"1117\",\"type\":\"BasicTicker\"},{\"attributes\":{\"overlay\":{\"id\":\"1130\"}},\"id\":\"1126\",\"type\":\"BoxZoomTool\"},{\"attributes\":{\"fill_color\":{\"field\":\"fill_color\"},\"hatch_color\":{\"field\":\"hatch_color\"},\"line_color\":{\"field\":\"line_color\"},\"x\":{\"field\":\"x\"},\"y\":{\"field\":\"y\"}},\"id\":\"1139\",\"type\":\"Scatter\"},{\"attributes\":{},\"id\":\"1162\",\"type\":\"BasicTickFormatter\"},{\"attributes\":{\"data\":{\"fill_color\":[\"#1f77b4\",\"#1f77b4\",\"#ff7f0e\",\"#aec7e8\",\"#1f77b4\",\"#1f77b4\",\"#1f77b4\",\"#ff7f0e\",\"#aec7e8\",\"#1f77b4\",\"#1f77b4\",\"#ff7f0e\",\"#1f77b4\",\"#1f77b4\",\"#aec7e8\",\"#aec7e8\",\"#ff7f0e\",\"#1f77b4\",\"#1f77b4\",\"#aec7e8\",\"#aec7e8\",\"#ff7f0e\",\"#1f77b4\",\"#ff7f0e\",\"#ff7f0e\",\"#1f77b4\",\"#1f77b4\",\"#aec7e8\",\"#1f77b4\",\"#aec7e8\",\"#1f77b4\",\"#aec7e8\",\"#1f77b4\",\"#1f77b4\",\"#1f77b4\",\"#1f77b4\",\"#ff7f0e\",\"#aec7e8\",\"#aec7e8\",\"#aec7e8\",\"#aec7e8\",\"#aec7e8\",\"#aec7e8\",\"#1f77b4\",\"#ff7f0e\",\"#ff7f0e\",\"#ff7f0e\",\"#ff7f0e\",\"#ff7f0e\",\"#aec7e8\",\"#ff7f0e\",\"#1f77b4\",\"#1f77b4\",\"#1f77b4\",\"#1f77b4\",\"#ff7f0e\",\"#aec7e8\",\"#ff7f0e\",\"#1f77b4\",\"#aec7e8\",\"#1f77b4\",\"#1f77b4\",\"#1f77b4\",\"#1f77b4\",\"#aec7e8\",\"#1f77b4\",\"#ff7f0e\",\"#aec7e8\",\"#1f77b4\",\"#1f77b4\",\"#ff7f0e\",\"#ff7f0e\",\"#ff7f0e\",\"#1f77b4\",\"#aec7e8\",\"#aec7e8\",\"#ff7f0e\",\"#1f77b4\",\"#ff7f0e\",\"#1f77b4\",\"#aec7e8\",\"#ff7f0e\",\"#ff7f0e\",\"#aec7e8\",\"#aec7e8\",\"#ff7f0e\",\"#ff7f0e\",\"#ff7f0e\",\"#ff7f0e\",\"#1f77b4\",\"#ff7f0e\",\"#1f77b4\",\"#ff7f0e\",\"#aec7e8\",\"#1f77b4\",\"#ff7f0e\",\"#1f77b4\",\"#1f77b4\",\"#aec7e8\",\"#ff7f0e\",\"#1f77b4\",\"#aec7e8\",\"#aec7e8\",\"#1f77b4\",\"#ff7f0e\",\"#ff7f0e\",\"#1f77b4\",\"#ff7f0e\",\"#aec7e8\",\"#1f77b4\",\"#aec7e8\",\"#aec7e8\",\"#aec7e8\",\"#1f77b4\",\"#1f77b4\",\"#aec7e8\",\"#ff7f0e\",\"#1f77b4\",\"#aec7e8\",\"#aec7e8\",\"#1f77b4\",\"#1f77b4\",\"#1f77b4\",\"#aec7e8\",\"#1f77b4\",\"#aec7e8\",\"#1f77b4\",\"#1f77b4\",\"#1f77b4\",\"#aec7e8\",\"#aec7e8\",\"#ff7f0e\",\"#ff7f0e\",\"#1f77b4\",\"#1f77b4\",\"#ff7f0e\",\"#aec7e8\",\"#ff7f0e\",\"#aec7e8\",\"#1f77b4\",\"#1f77b4\",\"#ff7f0e\",\"#ff7f0e\",\"#aec7e8\",\"#aec7e8\",\"#1f77b4\",\"#1f77b4\",\"#1f77b4\",\"#ff7f0e\",\"#aec7e8\",\"#1f77b4\",\"#1f77b4\",\"#1f77b4\",\"#1f77b4\",\"#1f77b4\",\"#1f77b4\",\"#ff7f0e\",\"#aec7e8\",\"#ff7f0e\",\"#1f77b4\",\"#aec7e8\",\"#1f77b4\",\"#aec7e8\",\"#1f77b4\",\"#1f77b4\",\"#1f77b4\",\"#aec7e8\",\"#aec7e8\",\"#1f77b4\",\"#ff7f0e\",\"#aec7e8\",\"#aec7e8\",\"#aec7e8\",\"#ff7f0e\",\"#ff7f0e\",\"#aec7e8\",\"#aec7e8\",\"#aec7e8\",\"#1f77b4\",\"#ff7f0e\",\"#1f77b4\",\"#1f77b4\",\"#1f77b4\",\"#1f77b4\",\"#1f77b4\",\"#aec7e8\",\"#1f77b4\",\"#aec7e8\",\"#1f77b4\",\"#ff7f0e\",\"#1f77b4\",\"#ff7f0e\",\"#ff7f0e\",\"#ff7f0e\",\"#1f77b4\",\"#aec7e8\",\"#ff7f0e\",\"#1f77b4\",\"#1f77b4\",\"#ff7f0e\",\"#aec7e8\",\"#ff7f0e\",\"#1f77b4\",\"#aec7e8\",\"#aec7e8\",\"#ff7f0e\",\"#ff7f0e\",\"#1f77b4\",\"#ff7f0e\",\"#ff7f0e\",\"#1f77b4\",\"#ff7f0e\",\"#1f77b4\",\"#ff7f0e\",\"#ff7f0e\",\"#1f77b4\",\"#ff7f0e\",\"#ff7f0e\",\"#ff7f0e\",\"#aec7e8\",\"#1f77b4\",\"#ff7f0e\",\"#1f77b4\",\"#1f77b4\",\"#aec7e8\",\"#1f77b4\",\"#1f77b4\",\"#1f77b4\",\"#1f77b4\",\"#1f77b4\",\"#aec7e8\",\"#aec7e8\",\"#ff7f0e\",\"#ff7f0e\",\"#1f77b4\",\"#1f77b4\",\"#aec7e8\",\"#1f77b4\",\"#ff7f0e\",\"#aec7e8\",\"#aec7e8\",\"#1f77b4\",\"#ff7f0e\",\"#1f77b4\",\"#1f77b4\",\"#1f77b4\",\"#1f77b4\",\"#1f77b4\",\"#1f77b4\",\"#1f77b4\",\"#1f77b4\",\"#1f77b4\",\"#1f77b4\",\"#1f77b4\",\"#ff7f0e\",\"#aec7e8\",\"#ff7f0e\",\"#1f77b4\",\"#aec7e8\",\"#aec7e8\",\"#1f77b4\",\"#aec7e8\",\"#1f77b4\",\"#ff7f0e\",\"#ff7f0e\",\"#1f77b4\",\"#aec7e8\",\"#1f77b4\",\"#ff7f0e\",\"#ff7f0e\",\"#ff7f0e\",\"#aec7e8\",\"#1f77b4\",\"#ff7f0e\",\"#1f77b4\",\"#1f77b4\",\"#aec7e8\",\"#1f77b4\",\"#1f77b4\",\"#aec7e8\",\"#aec7e8\",\"#1f77b4\",\"#aec7e8\",\"#1f77b4\",\"#aec7e8\",\"#1f77b4\",\"#ff7f0e\",\"#1f77b4\",\"#aec7e8\",\"#aec7e8\",\"#1f77b4\",\"#1f77b4\",\"#ff7f0e\",\"#1f77b4\",\"#1f77b4\",\"#aec7e8\",\"#ff7f0e\",\"#ff7f0e\",\"#ff7f0e\",\"#1f77b4\",\"#ff7f0e\",\"#1f77b4\",\"#1f77b4\",\"#aec7e8\",\"#aec7e8\",\"#1f77b4\",\"#1f77b4\",\"#aec7e8\",\"#aec7e8\",\"#1f77b4\",\"#1f77b4\",\"#ff7f0e\",\"#1f77b4\",\"#1f77b4\",\"#1f77b4\",\"#ff7f0e\",\"#1f77b4\",\"#1f77b4\",\"#1f77b4\",\"#1f77b4\",\"#ff7f0e\",\"#ff7f0e\",\"#ff7f0e\",\"#aec7e8\",\"#1f77b4\",\"#1f77b4\",\"#1f77b4\",\"#aec7e8\",\"#ff7f0e\",\"#1f77b4\",\"#1f77b4\",\"#ff7f0e\",\"#1f77b4\",\"#1f77b4\",\"#aec7e8\",\"#ff7f0e\",\"#1f77b4\",\"#1f77b4\",\"#aec7e8\",\"#ff7f0e\",\"#1f77b4\",\"#aec7e8\",\"#ff7f0e\",\"#1f77b4\",\"#1f77b4\",\"#ff7f0e\",\"#1f77b4\",\"#ff7f0e\",\"#ff7f0e\",\"#1f77b4\",\"#ff7f0e\",\"#1f77b4\",\"#1f77b4\",\"#1f77b4\",\"#ff7f0e\",\"#1f77b4\",\"#aec7e8\",\"#ff7f0e\",\"#1f77b4\",\"#ff7f0e\",\"#aec7e8\",\"#ff7f0e\",\"#1f77b4\",\"#aec7e8\",\"#aec7e8\",\"#aec7e8\",\"#1f77b4\",\"#aec7e8\",\"#ff7f0e\",\"#1f77b4\",\"#1f77b4\",\"#ff7f0e\",\"#aec7e8\",\"#1f77b4\",\"#1f77b4\",\"#aec7e8\",\"#1f77b4\",\"#1f77b4\",\"#1f77b4\",\"#1f77b4\",\"#aec7e8\",\"#ff7f0e\",\"#aec7e8\",\"#ff7f0e\",\"#1f77b4\",\"#1f77b4\",\"#ff7f0e\",\"#1f77b4\",\"#1f77b4\",\"#aec7e8\",\"#1f77b4\",\"#1f77b4\",\"#1f77b4\",\"#aec7e8\",\"#aec7e8\",\"#1f77b4\",\"#1f77b4\",\"#ff7f0e\",\"#1f77b4\",\"#1f77b4\",\"#aec7e8\",\"#1f77b4\",\"#aec7e8\",\"#aec7e8\",\"#1f77b4\",\"#1f77b4\",\"#1f77b4\",\"#aec7e8\",\"#1f77b4\",\"#ff7f0e\",\"#1f77b4\",\"#ff7f0e\",\"#1f77b4\",\"#ff7f0e\",\"#1f77b4\",\"#1f77b4\",\"#1f77b4\",\"#1f77b4\",\"#ff7f0e\",\"#aec7e8\",\"#1f77b4\",\"#ff7f0e\",\"#aec7e8\",\"#aec7e8\",\"#ff7f0e\",\"#ff7f0e\",\"#1f77b4\",\"#1f77b4\",\"#ff7f0e\",\"#1f77b4\",\"#ff7f0e\",\"#1f77b4\",\"#aec7e8\",\"#aec7e8\",\"#aec7e8\",\"#ff7f0e\",\"#1f77b4\",\"#ff7f0e\",\"#1f77b4\",\"#1f77b4\",\"#ff7f0e\",\"#ff7f0e\",\"#aec7e8\",\"#aec7e8\",\"#1f77b4\",\"#1f77b4\",\"#aec7e8\",\"#ff7f0e\",\"#1f77b4\",\"#1f77b4\",\"#ff7f0e\",\"#aec7e8\",\"#aec7e8\",\"#aec7e8\",\"#ff7f0e\",\"#aec7e8\",\"#ff7f0e\",\"#ff7f0e\",\"#1f77b4\",\"#1f77b4\",\"#1f77b4\",\"#aec7e8\",\"#1f77b4\",\"#1f77b4\",\"#ff7f0e\",\"#aec7e8\",\"#1f77b4\",\"#ff7f0e\",\"#ff7f0e\",\"#aec7e8\",\"#ff7f0e\",\"#ff7f0e\",\"#ff7f0e\",\"#1f77b4\",\"#aec7e8\",\"#1f77b4\",\"#1f77b4\",\"#1f77b4\",\"#1f77b4\",\"#1f77b4\",\"#1f77b4\",\"#aec7e8\",\"#aec7e8\",\"#ff7f0e\",\"#1f77b4\",\"#1f77b4\",\"#1f77b4\",\"#aec7e8\",\"#1f77b4\",\"#1f77b4\",\"#1f77b4\",\"#1f77b4\",\"#1f77b4\",\"#1f77b4\",\"#aec7e8\",\"#ff7f0e\",\"#1f77b4\",\"#1f77b4\",\"#1f77b4\",\"#aec7e8\"],\"hatch_color\":[\"#1f77b4\",\"#1f77b4\",\"#ff7f0e\",\"#aec7e8\",\"#1f77b4\",\"#1f77b4\",\"#1f77b4\",\"#ff7f0e\",\"#aec7e8\",\"#1f77b4\",\"#1f77b4\",\"#ff7f0e\",\"#1f77b4\",\"#1f77b4\",\"#aec7e8\",\"#aec7e8\",\"#ff7f0e\",\"#1f77b4\",\"#1f77b4\",\"#aec7e8\",\"#aec7e8\",\"#ff7f0e\",\"#1f77b4\",\"#ff7f0e\",\"#ff7f0e\",\"#1f77b4\",\"#1f77b4\",\"#aec7e8\",\"#1f77b4\",\"#aec7e8\",\"#1f77b4\",\"#aec7e8\",\"#1f77b4\",\"#1f77b4\",\"#1f77b4\",\"#1f77b4\",\"#ff7f0e\",\"#aec7e8\",\"#aec7e8\",\"#aec7e8\",\"#aec7e8\",\"#aec7e8\",\"#aec7e8\",\"#1f77b4\",\"#ff7f0e\",\"#ff7f0e\",\"#ff7f0e\",\"#ff7f0e\",\"#ff7f0e\",\"#aec7e8\",\"#ff7f0e\",\"#1f77b4\",\"#1f77b4\",\"#1f77b4\",\"#1f77b4\",\"#ff7f0e\",\"#aec7e8\",\"#ff7f0e\",\"#1f77b4\",\"#aec7e8\",\"#1f77b4\",\"#1f77b4\",\"#1f77b4\",\"#1f77b4\",\"#aec7e8\",\"#1f77b4\",\"#ff7f0e\",\"#aec7e8\",\"#1f77b4\",\"#1f77b4\",\"#ff7f0e\",\"#ff7f0e\",\"#ff7f0e\",\"#1f77b4\",\"#aec7e8\",\"#aec7e8\",\"#ff7f0e\",\"#1f77b4\",\"#ff7f0e\",\"#1f77b4\",\"#aec7e8\",\"#ff7f0e\",\"#ff7f0e\",\"#aec7e8\",\"#aec7e8\",\"#ff7f0e\",\"#ff7f0e\",\"#ff7f0e\",\"#ff7f0e\",\"#1f77b4\",\"#ff7f0e\",\"#1f77b4\",\"#ff7f0e\",\"#aec7e8\",\"#1f77b4\",\"#ff7f0e\",\"#1f77b4\",\"#1f77b4\",\"#aec7e8\",\"#ff7f0e\",\"#1f77b4\",\"#aec7e8\",\"#aec7e8\",\"#1f77b4\",\"#ff7f0e\",\"#ff7f0e\",\"#1f77b4\",\"#ff7f0e\",\"#aec7e8\",\"#1f77b4\",\"#aec7e8\",\"#aec7e8\",\"#aec7e8\",\"#1f77b4\",\"#1f77b4\",\"#aec7e8\",\"#ff7f0e\",\"#1f77b4\",\"#aec7e8\",\"#aec7e8\",\"#1f77b4\",\"#1f77b4\",\"#1f77b4\",\"#aec7e8\",\"#1f77b4\",\"#aec7e8\",\"#1f77b4\",\"#1f77b4\",\"#1f77b4\",\"#aec7e8\",\"#aec7e8\",\"#ff7f0e\",\"#ff7f0e\",\"#1f77b4\",\"#1f77b4\",\"#ff7f0e\",\"#aec7e8\",\"#ff7f0e\",\"#aec7e8\",\"#1f77b4\",\"#1f77b4\",\"#ff7f0e\",\"#ff7f0e\",\"#aec7e8\",\"#aec7e8\",\"#1f77b4\",\"#1f77b4\",\"#1f77b4\",\"#ff7f0e\",\"#aec7e8\",\"#1f77b4\",\"#1f77b4\",\"#1f77b4\",\"#1f77b4\",\"#1f77b4\",\"#1f77b4\",\"#ff7f0e\",\"#aec7e8\",\"#ff7f0e\",\"#1f77b4\",\"#aec7e8\",\"#1f77b4\",\"#aec7e8\",\"#1f77b4\",\"#1f77b4\",\"#1f77b4\",\"#aec7e8\",\"#aec7e8\",\"#1f77b4\",\"#ff7f0e\",\"#aec7e8\",\"#aec7e8\",\"#aec7e8\",\"#ff7f0e\",\"#ff7f0e\",\"#aec7e8\",\"#aec7e8\",\"#aec7e8\",\"#1f77b4\",\"#ff7f0e\",\"#1f77b4\",\"#1f77b4\",\"#1f77b4\",\"#1f77b4\",\"#1f77b4\",\"#aec7e8\",\"#1f77b4\",\"#aec7e8\",\"#1f77b4\",\"#ff7f0e\",\"#1f77b4\",\"#ff7f0e\",\"#ff7f0e\",\"#ff7f0e\",\"#1f77b4\",\"#aec7e8\",\"#ff7f0e\",\"#1f77b4\",\"#1f77b4\",\"#ff7f0e\",\"#aec7e8\",\"#ff7f0e\",\"#1f77b4\",\"#aec7e8\",\"#aec7e8\",\"#ff7f0e\",\"#ff7f0e\",\"#1f77b4\",\"#ff7f0e\",\"#ff7f0e\",\"#1f77b4\",\"#ff7f0e\",\"#1f77b4\",\"#ff7f0e\",\"#ff7f0e\",\"#1f77b4\",\"#ff7f0e\",\"#ff7f0e\",\"#ff7f0e\",\"#aec7e8\",\"#1f77b4\",\"#ff7f0e\",\"#1f77b4\",\"#1f77b4\",\"#aec7e8\",\"#1f77b4\",\"#1f77b4\",\"#1f77b4\",\"#1f77b4\",\"#1f77b4\",\"#aec7e8\",\"#aec7e8\",\"#ff7f0e\",\"#ff7f0e\",\"#1f77b4\",\"#1f77b4\",\"#aec7e8\",\"#1f77b4\",\"#ff7f0e\",\"#aec7e8\",\"#aec7e8\",\"#1f77b4\",\"#ff7f0e\",\"#1f77b4\",\"#1f77b4\",\"#1f77b4\",\"#1f77b4\",\"#1f77b4\",\"#1f77b4\",\"#1f77b4\",\"#1f77b4\",\"#1f77b4\",\"#1f77b4\",\"#1f77b4\",\"#ff7f0e\",\"#aec7e8\",\"#ff7f0e\",\"#1f77b4\",\"#aec7e8\",\"#aec7e8\",\"#1f77b4\",\"#aec7e8\",\"#1f77b4\",\"#ff7f0e\",\"#ff7f0e\",\"#1f77b4\",\"#aec7e8\",\"#1f77b4\",\"#ff7f0e\",\"#ff7f0e\",\"#ff7f0e\",\"#aec7e8\",\"#1f77b4\",\"#ff7f0e\",\"#1f77b4\",\"#1f77b4\",\"#aec7e8\",\"#1f77b4\",\"#1f77b4\",\"#aec7e8\",\"#aec7e8\",\"#1f77b4\",\"#aec7e8\",\"#1f77b4\",\"#aec7e8\",\"#1f77b4\",\"#ff7f0e\",\"#1f77b4\",\"#aec7e8\",\"#aec7e8\",\"#1f77b4\",\"#1f77b4\",\"#ff7f0e\",\"#1f77b4\",\"#1f77b4\",\"#aec7e8\",\"#ff7f0e\",\"#ff7f0e\",\"#ff7f0e\",\"#1f77b4\",\"#ff7f0e\",\"#1f77b4\",\"#1f77b4\",\"#aec7e8\",\"#aec7e8\",\"#1f77b4\",\"#1f77b4\",\"#aec7e8\",\"#aec7e8\",\"#1f77b4\",\"#1f77b4\",\"#ff7f0e\",\"#1f77b4\",\"#1f77b4\",\"#1f77b4\",\"#ff7f0e\",\"#1f77b4\",\"#1f77b4\",\"#1f77b4\",\"#1f77b4\",\"#ff7f0e\",\"#ff7f0e\",\"#ff7f0e\",\"#aec7e8\",\"#1f77b4\",\"#1f77b4\",\"#1f77b4\",\"#aec7e8\",\"#ff7f0e\",\"#1f77b4\",\"#1f77b4\",\"#ff7f0e\",\"#1f77b4\",\"#1f77b4\",\"#aec7e8\",\"#ff7f0e\",\"#1f77b4\",\"#1f77b4\",\"#aec7e8\",\"#ff7f0e\",\"#1f77b4\",\"#aec7e8\",\"#ff7f0e\",\"#1f77b4\",\"#1f77b4\",\"#ff7f0e\",\"#1f77b4\",\"#ff7f0e\",\"#ff7f0e\",\"#1f77b4\",\"#ff7f0e\",\"#1f77b4\",\"#1f77b4\",\"#1f77b4\",\"#ff7f0e\",\"#1f77b4\",\"#aec7e8\",\"#ff7f0e\",\"#1f77b4\",\"#ff7f0e\",\"#aec7e8\",\"#ff7f0e\",\"#1f77b4\",\"#aec7e8\",\"#aec7e8\",\"#aec7e8\",\"#1f77b4\",\"#aec7e8\",\"#ff7f0e\",\"#1f77b4\",\"#1f77b4\",\"#ff7f0e\",\"#aec7e8\",\"#1f77b4\",\"#1f77b4\",\"#aec7e8\",\"#1f77b4\",\"#1f77b4\",\"#1f77b4\",\"#1f77b4\",\"#aec7e8\",\"#ff7f0e\",\"#aec7e8\",\"#ff7f0e\",\"#1f77b4\",\"#1f77b4\",\"#ff7f0e\",\"#1f77b4\",\"#1f77b4\",\"#aec7e8\",\"#1f77b4\",\"#1f77b4\",\"#1f77b4\",\"#aec7e8\",\"#aec7e8\",\"#1f77b4\",\"#1f77b4\",\"#ff7f0e\",\"#1f77b4\",\"#1f77b4\",\"#aec7e8\",\"#1f77b4\",\"#aec7e8\",\"#aec7e8\",\"#1f77b4\",\"#1f77b4\",\"#1f77b4\",\"#aec7e8\",\"#1f77b4\",\"#ff7f0e\",\"#1f77b4\",\"#ff7f0e\",\"#1f77b4\",\"#ff7f0e\",\"#1f77b4\",\"#1f77b4\",\"#1f77b4\",\"#1f77b4\",\"#ff7f0e\",\"#aec7e8\",\"#1f77b4\",\"#ff7f0e\",\"#aec7e8\",\"#aec7e8\",\"#ff7f0e\",\"#ff7f0e\",\"#1f77b4\",\"#1f77b4\",\"#ff7f0e\",\"#1f77b4\",\"#ff7f0e\",\"#1f77b4\",\"#aec7e8\",\"#aec7e8\",\"#aec7e8\",\"#ff7f0e\",\"#1f77b4\",\"#ff7f0e\",\"#1f77b4\",\"#1f77b4\",\"#ff7f0e\",\"#ff7f0e\",\"#aec7e8\",\"#aec7e8\",\"#1f77b4\",\"#1f77b4\",\"#aec7e8\",\"#ff7f0e\",\"#1f77b4\",\"#1f77b4\",\"#ff7f0e\",\"#aec7e8\",\"#aec7e8\",\"#aec7e8\",\"#ff7f0e\",\"#aec7e8\",\"#ff7f0e\",\"#ff7f0e\",\"#1f77b4\",\"#1f77b4\",\"#1f77b4\",\"#aec7e8\",\"#1f77b4\",\"#1f77b4\",\"#ff7f0e\",\"#aec7e8\",\"#1f77b4\",\"#ff7f0e\",\"#ff7f0e\",\"#aec7e8\",\"#ff7f0e\",\"#ff7f0e\",\"#ff7f0e\",\"#1f77b4\",\"#aec7e8\",\"#1f77b4\",\"#1f77b4\",\"#1f77b4\",\"#1f77b4\",\"#1f77b4\",\"#1f77b4\",\"#aec7e8\",\"#aec7e8\",\"#ff7f0e\",\"#1f77b4\",\"#1f77b4\",\"#1f77b4\",\"#aec7e8\",\"#1f77b4\",\"#1f77b4\",\"#1f77b4\",\"#1f77b4\",\"#1f77b4\",\"#1f77b4\",\"#aec7e8\",\"#ff7f0e\",\"#1f77b4\",\"#1f77b4\",\"#1f77b4\",\"#aec7e8\"],\"line_color\":[\"#1f77b4\",\"#1f77b4\",\"#ff7f0e\",\"#aec7e8\",\"#1f77b4\",\"#1f77b4\",\"#1f77b4\",\"#ff7f0e\",\"#aec7e8\",\"#1f77b4\",\"#1f77b4\",\"#ff7f0e\",\"#1f77b4\",\"#1f77b4\",\"#aec7e8\",\"#aec7e8\",\"#ff7f0e\",\"#1f77b4\",\"#1f77b4\",\"#aec7e8\",\"#aec7e8\",\"#ff7f0e\",\"#1f77b4\",\"#ff7f0e\",\"#ff7f0e\",\"#1f77b4\",\"#1f77b4\",\"#aec7e8\",\"#1f77b4\",\"#aec7e8\",\"#1f77b4\",\"#aec7e8\",\"#1f77b4\",\"#1f77b4\",\"#1f77b4\",\"#1f77b4\",\"#ff7f0e\",\"#aec7e8\",\"#aec7e8\",\"#aec7e8\",\"#aec7e8\",\"#aec7e8\",\"#aec7e8\",\"#1f77b4\",\"#ff7f0e\",\"#ff7f0e\",\"#ff7f0e\",\"#ff7f0e\",\"#ff7f0e\",\"#aec7e8\",\"#ff7f0e\",\"#1f77b4\",\"#1f77b4\",\"#1f77b4\",\"#1f77b4\",\"#ff7f0e\",\"#aec7e8\",\"#ff7f0e\",\"#1f77b4\",\"#aec7e8\",\"#1f77b4\",\"#1f77b4\",\"#1f77b4\",\"#1f77b4\",\"#aec7e8\",\"#1f77b4\",\"#ff7f0e\",\"#aec7e8\",\"#1f77b4\",\"#1f77b4\",\"#ff7f0e\",\"#ff7f0e\",\"#ff7f0e\",\"#1f77b4\",\"#aec7e8\",\"#aec7e8\",\"#ff7f0e\",\"#1f77b4\",\"#ff7f0e\",\"#1f77b4\",\"#aec7e8\",\"#ff7f0e\",\"#ff7f0e\",\"#aec7e8\",\"#aec7e8\",\"#ff7f0e\",\"#ff7f0e\",\"#ff7f0e\",\"#ff7f0e\",\"#1f77b4\",\"#ff7f0e\",\"#1f77b4\",\"#ff7f0e\",\"#aec7e8\",\"#1f77b4\",\"#ff7f0e\",\"#1f77b4\",\"#1f77b4\",\"#aec7e8\",\"#ff7f0e\",\"#1f77b4\",\"#aec7e8\",\"#aec7e8\",\"#1f77b4\",\"#ff7f0e\",\"#ff7f0e\",\"#1f77b4\",\"#ff7f0e\",\"#aec7e8\",\"#1f77b4\",\"#aec7e8\",\"#aec7e8\",\"#aec7e8\",\"#1f77b4\",\"#1f77b4\",\"#aec7e8\",\"#ff7f0e\",\"#1f77b4\",\"#aec7e8\",\"#aec7e8\",\"#1f77b4\",\"#1f77b4\",\"#1f77b4\",\"#aec7e8\",\"#1f77b4\",\"#aec7e8\",\"#1f77b4\",\"#1f77b4\",\"#1f77b4\",\"#aec7e8\",\"#aec7e8\",\"#ff7f0e\",\"#ff7f0e\",\"#1f77b4\",\"#1f77b4\",\"#ff7f0e\",\"#aec7e8\",\"#ff7f0e\",\"#aec7e8\",\"#1f77b4\",\"#1f77b4\",\"#ff7f0e\",\"#ff7f0e\",\"#aec7e8\",\"#aec7e8\",\"#1f77b4\",\"#1f77b4\",\"#1f77b4\",\"#ff7f0e\",\"#aec7e8\",\"#1f77b4\",\"#1f77b4\",\"#1f77b4\",\"#1f77b4\",\"#1f77b4\",\"#1f77b4\",\"#ff7f0e\",\"#aec7e8\",\"#ff7f0e\",\"#1f77b4\",\"#aec7e8\",\"#1f77b4\",\"#aec7e8\",\"#1f77b4\",\"#1f77b4\",\"#1f77b4\",\"#aec7e8\",\"#aec7e8\",\"#1f77b4\",\"#ff7f0e\",\"#aec7e8\",\"#aec7e8\",\"#aec7e8\",\"#ff7f0e\",\"#ff7f0e\",\"#aec7e8\",\"#aec7e8\",\"#aec7e8\",\"#1f77b4\",\"#ff7f0e\",\"#1f77b4\",\"#1f77b4\",\"#1f77b4\",\"#1f77b4\",\"#1f77b4\",\"#aec7e8\",\"#1f77b4\",\"#aec7e8\",\"#1f77b4\",\"#ff7f0e\",\"#1f77b4\",\"#ff7f0e\",\"#ff7f0e\",\"#ff7f0e\",\"#1f77b4\",\"#aec7e8\",\"#ff7f0e\",\"#1f77b4\",\"#1f77b4\",\"#ff7f0e\",\"#aec7e8\",\"#ff7f0e\",\"#1f77b4\",\"#aec7e8\",\"#aec7e8\",\"#ff7f0e\",\"#ff7f0e\",\"#1f77b4\",\"#ff7f0e\",\"#ff7f0e\",\"#1f77b4\",\"#ff7f0e\",\"#1f77b4\",\"#ff7f0e\",\"#ff7f0e\",\"#1f77b4\",\"#ff7f0e\",\"#ff7f0e\",\"#ff7f0e\",\"#aec7e8\",\"#1f77b4\",\"#ff7f0e\",\"#1f77b4\",\"#1f77b4\",\"#aec7e8\",\"#1f77b4\",\"#1f77b4\",\"#1f77b4\",\"#1f77b4\",\"#1f77b4\",\"#aec7e8\",\"#aec7e8\",\"#ff7f0e\",\"#ff7f0e\",\"#1f77b4\",\"#1f77b4\",\"#aec7e8\",\"#1f77b4\",\"#ff7f0e\",\"#aec7e8\",\"#aec7e8\",\"#1f77b4\",\"#ff7f0e\",\"#1f77b4\",\"#1f77b4\",\"#1f77b4\",\"#1f77b4\",\"#1f77b4\",\"#1f77b4\",\"#1f77b4\",\"#1f77b4\",\"#1f77b4\",\"#1f77b4\",\"#1f77b4\",\"#ff7f0e\",\"#aec7e8\",\"#ff7f0e\",\"#1f77b4\",\"#aec7e8\",\"#aec7e8\",\"#1f77b4\",\"#aec7e8\",\"#1f77b4\",\"#ff7f0e\",\"#ff7f0e\",\"#1f77b4\",\"#aec7e8\",\"#1f77b4\",\"#ff7f0e\",\"#ff7f0e\",\"#ff7f0e\",\"#aec7e8\",\"#1f77b4\",\"#ff7f0e\",\"#1f77b4\",\"#1f77b4\",\"#aec7e8\",\"#1f77b4\",\"#1f77b4\",\"#aec7e8\",\"#aec7e8\",\"#1f77b4\",\"#aec7e8\",\"#1f77b4\",\"#aec7e8\",\"#1f77b4\",\"#ff7f0e\",\"#1f77b4\",\"#aec7e8\",\"#aec7e8\",\"#1f77b4\",\"#1f77b4\",\"#ff7f0e\",\"#1f77b4\",\"#1f77b4\",\"#aec7e8\",\"#ff7f0e\",\"#ff7f0e\",\"#ff7f0e\",\"#1f77b4\",\"#ff7f0e\",\"#1f77b4\",\"#1f77b4\",\"#aec7e8\",\"#aec7e8\",\"#1f77b4\",\"#1f77b4\",\"#aec7e8\",\"#aec7e8\",\"#1f77b4\",\"#1f77b4\",\"#ff7f0e\",\"#1f77b4\",\"#1f77b4\",\"#1f77b4\",\"#ff7f0e\",\"#1f77b4\",\"#1f77b4\",\"#1f77b4\",\"#1f77b4\",\"#ff7f0e\",\"#ff7f0e\",\"#ff7f0e\",\"#aec7e8\",\"#1f77b4\",\"#1f77b4\",\"#1f77b4\",\"#aec7e8\",\"#ff7f0e\",\"#1f77b4\",\"#1f77b4\",\"#ff7f0e\",\"#1f77b4\",\"#1f77b4\",\"#aec7e8\",\"#ff7f0e\",\"#1f77b4\",\"#1f77b4\",\"#aec7e8\",\"#ff7f0e\",\"#1f77b4\",\"#aec7e8\",\"#ff7f0e\",\"#1f77b4\",\"#1f77b4\",\"#ff7f0e\",\"#1f77b4\",\"#ff7f0e\",\"#ff7f0e\",\"#1f77b4\",\"#ff7f0e\",\"#1f77b4\",\"#1f77b4\",\"#1f77b4\",\"#ff7f0e\",\"#1f77b4\",\"#aec7e8\",\"#ff7f0e\",\"#1f77b4\",\"#ff7f0e\",\"#aec7e8\",\"#ff7f0e\",\"#1f77b4\",\"#aec7e8\",\"#aec7e8\",\"#aec7e8\",\"#1f77b4\",\"#aec7e8\",\"#ff7f0e\",\"#1f77b4\",\"#1f77b4\",\"#ff7f0e\",\"#aec7e8\",\"#1f77b4\",\"#1f77b4\",\"#aec7e8\",\"#1f77b4\",\"#1f77b4\",\"#1f77b4\",\"#1f77b4\",\"#aec7e8\",\"#ff7f0e\",\"#aec7e8\",\"#ff7f0e\",\"#1f77b4\",\"#1f77b4\",\"#ff7f0e\",\"#1f77b4\",\"#1f77b4\",\"#aec7e8\",\"#1f77b4\",\"#1f77b4\",\"#1f77b4\",\"#aec7e8\",\"#aec7e8\",\"#1f77b4\",\"#1f77b4\",\"#ff7f0e\",\"#1f77b4\",\"#1f77b4\",\"#aec7e8\",\"#1f77b4\",\"#aec7e8\",\"#aec7e8\",\"#1f77b4\",\"#1f77b4\",\"#1f77b4\",\"#aec7e8\",\"#1f77b4\",\"#ff7f0e\",\"#1f77b4\",\"#ff7f0e\",\"#1f77b4\",\"#ff7f0e\",\"#1f77b4\",\"#1f77b4\",\"#1f77b4\",\"#1f77b4\",\"#ff7f0e\",\"#aec7e8\",\"#1f77b4\",\"#ff7f0e\",\"#aec7e8\",\"#aec7e8\",\"#ff7f0e\",\"#ff7f0e\",\"#1f77b4\",\"#1f77b4\",\"#ff7f0e\",\"#1f77b4\",\"#ff7f0e\",\"#1f77b4\",\"#aec7e8\",\"#aec7e8\",\"#aec7e8\",\"#ff7f0e\",\"#1f77b4\",\"#ff7f0e\",\"#1f77b4\",\"#1f77b4\",\"#ff7f0e\",\"#ff7f0e\",\"#aec7e8\",\"#aec7e8\",\"#1f77b4\",\"#1f77b4\",\"#aec7e8\",\"#ff7f0e\",\"#1f77b4\",\"#1f77b4\",\"#ff7f0e\",\"#aec7e8\",\"#aec7e8\",\"#aec7e8\",\"#ff7f0e\",\"#aec7e8\",\"#ff7f0e\",\"#ff7f0e\",\"#1f77b4\",\"#1f77b4\",\"#1f77b4\",\"#aec7e8\",\"#1f77b4\",\"#1f77b4\",\"#ff7f0e\",\"#aec7e8\",\"#1f77b4\",\"#ff7f0e\",\"#ff7f0e\",\"#aec7e8\",\"#ff7f0e\",\"#ff7f0e\",\"#ff7f0e\",\"#1f77b4\",\"#aec7e8\",\"#1f77b4\",\"#1f77b4\",\"#1f77b4\",\"#1f77b4\",\"#1f77b4\",\"#1f77b4\",\"#aec7e8\",\"#aec7e8\",\"#ff7f0e\",\"#1f77b4\",\"#1f77b4\",\"#1f77b4\",\"#aec7e8\",\"#1f77b4\",\"#1f77b4\",\"#1f77b4\",\"#1f77b4\",\"#1f77b4\",\"#1f77b4\",\"#aec7e8\",\"#ff7f0e\",\"#1f77b4\",\"#1f77b4\",\"#1f77b4\",\"#aec7e8\"],\"x\":{\"__ndarray__\":\"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\",\"dtype\":\"float32\",\"order\":\"little\",\"shape\":[500]},\"y\":{\"__ndarray__\":\"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\",\"dtype\":\"float32\",\"order\":\"little\",\"shape\":[500]}},\"selected\":{\"id\":\"1165\"},\"selection_policy\":{\"id\":\"1164\"}},\"id\":\"1138\",\"type\":\"ColumnDataSource\"},{\"attributes\":{},\"id\":\"1159\",\"type\":\"BasicTickFormatter\"},{\"attributes\":{},\"id\":\"1112\",\"type\":\"LinearScale\"},{\"attributes\":{},\"id\":\"1164\",\"type\":\"UnionRenderers\"},{\"attributes\":{},\"id\":\"1124\",\"type\":\"PanTool\"},{\"attributes\":{\"coordinates\":null,\"group\":null,\"text\":\"bitch rt like\",\"text_color\":\"#1f77b4\",\"x\":-9.168110847473145,\"y\":16.49258041381836},\"id\":\"1144\",\"type\":\"Label\"},{\"attributes\":{},\"id\":\"1125\",\"type\":\"WheelZoomTool\"},{\"attributes\":{},\"id\":\"1108\",\"type\":\"DataRange1d\"},{\"attributes\":{\"coordinates\":null,\"data_source\":{\"id\":\"1138\"},\"glyph\":{\"id\":\"1139\"},\"group\":null,\"hover_glyph\":null,\"muted_glyph\":{\"id\":\"1141\"},\"nonselection_glyph\":{\"id\":\"1140\"},\"view\":{\"id\":\"1143\"}},\"id\":\"1142\",\"type\":\"GlyphRenderer\"},{\"attributes\":{},\"id\":\"1110\",\"type\":\"DataRange1d\"},{\"attributes\":{},\"id\":\"1121\",\"type\":\"BasicTicker\"},{\"attributes\":{\"axis\":{\"id\":\"1120\"},\"coordinates\":null,\"dimension\":1,\"group\":null,\"ticker\":null},\"id\":\"1123\",\"type\":\"Grid\"},{\"attributes\":{\"fill_alpha\":{\"value\":0.1},\"fill_color\":{\"field\":\"fill_color\"},\"hatch_alpha\":{\"value\":0.1},\"hatch_color\":{\"field\":\"hatch_color\"},\"line_alpha\":{\"value\":0.1},\"line_color\":{\"field\":\"line_color\"},\"x\":{\"field\":\"x\"},\"y\":{\"field\":\"y\"}},\"id\":\"1140\",\"type\":\"Scatter\"},{\"attributes\":{\"coordinates\":null,\"formatter\":{\"id\":\"1159\"},\"group\":null,\"major_label_policy\":{\"id\":\"1160\"},\"ticker\":{\"id\":\"1121\"}},\"id\":\"1120\",\"type\":\"LinearAxis\"},{\"attributes\":{},\"id\":\"1129\",\"type\":\"HelpTool\"},{\"attributes\":{\"bottom_units\":\"screen\",\"coordinates\":null,\"fill_alpha\":0.5,\"fill_color\":\"lightgrey\",\"group\":null,\"left_units\":\"screen\",\"level\":\"overlay\",\"line_alpha\":1.0,\"line_color\":\"black\",\"line_dash\":[4,4],\"line_width\":2,\"right_units\":\"screen\",\"syncable\":false,\"top_units\":\"screen\"},\"id\":\"1130\",\"type\":\"BoxAnnotation\"},{\"attributes\":{\"coordinates\":null,\"group\":null,\"text\":\"bitch rt like\",\"text_color\":\"#ff7f0e\",\"x\":-2.081360340118408,\"y\":-21.833084106445312},\"id\":\"1146\",\"type\":\"Label\"},{\"attributes\":{\"source\":{\"id\":\"1138\"}},\"id\":\"1143\",\"type\":\"CDSView\"},{\"attributes\":{\"fill_alpha\":{\"value\":0.2},\"fill_color\":{\"field\":\"fill_color\"},\"hatch_alpha\":{\"value\":0.2},\"hatch_color\":{\"field\":\"hatch_color\"},\"line_alpha\":{\"value\":0.2},\"line_color\":{\"field\":\"line_color\"},\"x\":{\"field\":\"x\"},\"y\":{\"field\":\"y\"}},\"id\":\"1141\",\"type\":\"Scatter\"},{\"attributes\":{},\"id\":\"1160\",\"type\":\"AllLabels\"},{\"attributes\":{\"coordinates\":null,\"group\":null,\"text\":\"rt hoe bitch\",\"text_color\":\"#aec7e8\",\"x\":16.21685218811035,\"y\":6.847841262817383},\"id\":\"1145\",\"type\":\"Label\"}],\"root_ids\":[\"1105\"]},\"title\":\"Bokeh Application\",\"version\":\"2.4.1\"}};\n",
       "  const render_items = [{\"docid\":\"52599499-8bf1-43a5-8700-fc256b6840ba\",\"root_ids\":[\"1105\"],\"roots\":{\"1105\":\"4af52cd9-f2bd-4a62-baad-0b5d475b91d3\"}}];\n",
       "  root.Bokeh.embed.embed_items_notebook(docs_json, render_items);\n",
       "\n",
       "  }\n",
       "  if (root.Bokeh !== undefined) {\n",
       "    embed_document(root);\n",
       "  } else {\n",
       "    let attempts = 0;\n",
       "    const timer = setInterval(function(root) {\n",
       "      if (root.Bokeh !== undefined) {\n",
       "        clearInterval(timer);\n",
       "        embed_document(root);\n",
       "      } else {\n",
       "        attempts++;\n",
       "        if (attempts > 100) {\n",
       "          clearInterval(timer);\n",
       "          console.log(\"Bokeh: ERROR: Unable to run BokehJS code because BokehJS library is missing\");\n",
       "        }\n",
       "      }\n",
       "    }, 10, root)\n",
       "  }\n",
       "})(window);"
      ],
      "application/vnd.bokehjs_exec.v0+json": ""
     },
     "metadata": {
      "application/vnd.bokehjs_exec.v0+json": {
       "id": "1105"
      }
     },
     "output_type": "display_data"
    }
   ],
   "source": [
    "top_3_words_lda = get_top_n_words(3, lda_keys, small_document_term_matrix, small_count_vectorizer)\n",
    "lda_mean_topic_vectors = get_mean_topic_vectors(lda_keys, tsne_lda_vectors)\n",
    "\n",
    "plot = figure(title=\"t-SNE Clustering of {} LDA Topics\".format(n_topics), plot_width=700, plot_height=700)\n",
    "plot.scatter(x=tsne_lda_vectors[:,0], y=tsne_lda_vectors[:,1], color=colormap[lda_keys])\n",
    "\n",
    "for t in range(n_topics):\n",
    "    label = Label(x=lda_mean_topic_vectors[t][0], y=lda_mean_topic_vectors[t][1], \n",
    "                  text=top_3_words_lda[t], text_color=colormap[t])\n",
    "    plot.add_layout(label)\n",
    "\n",
    "show(plot)"
   ]
  },
  {
   "cell_type": "code",
   "execution_count": 47,
   "id": "823c3a5d",
   "metadata": {},
   "outputs": [
    {
     "data": {
      "text/plain": [
       "['  mayasolov woman shouldnt complain clean hous amp man alway take trash',\n",
       " '   boy dat coldtyga dwn bad cuffin dat hoe  place',\n",
       " '  urkindofbrand dawg   ever fuck bitch sta cri confus shit',\n",
       " '  cganderson vivabas look like tranni',\n",
       " '  shenikarob shit hear might true might faker bitch told ya ']"
      ]
     },
     "execution_count": 47,
     "metadata": {},
     "output_type": "execute_result"
    }
   ],
   "source": [
    "# Preparing a corpus for analysis and checking the first 5 entries\n",
    "corpus=[]\n",
    "\n",
    "corpus = df['tweet'].to_list()\n",
    "\n",
    "corpus[:5]"
   ]
  },
  {
   "cell_type": "code",
   "execution_count": 48,
   "id": "63d119df",
   "metadata": {},
   "outputs": [
    {
     "name": "stderr",
     "output_type": "stream",
     "text": [
      "[nltk_data] Downloading package stopwords to\n",
      "[nltk_data]     C:\\Users\\nup_2\\AppData\\Roaming\\nltk_data...\n",
      "[nltk_data]   Package stopwords is already up-to-date!\n"
     ]
    },
    {
     "data": {
      "text/plain": [
       "True"
      ]
     },
     "execution_count": 48,
     "metadata": {},
     "output_type": "execute_result"
    }
   ],
   "source": [
    "nltk.download('stopwords')"
   ]
  },
  {
   "cell_type": "code",
   "execution_count": 49,
   "id": "635a5a85",
   "metadata": {},
   "outputs": [],
   "source": [
    "# removing common words and tokenizing\n",
    "stoplist = stopwords.words('english') + list(punctuation) + list(\"([)]?\") + [\")?\"]\n",
    "\n",
    "texts = [[word for word in str(document).lower().split() if word not in stoplist] for document in corpus]\n",
    "\n",
    "dictionary = corpora.Dictionary(texts)"
   ]
  },
  {
   "cell_type": "code",
   "execution_count": 50,
   "id": "75ef9bf7",
   "metadata": {},
   "outputs": [],
   "source": [
    "corpus = [dictionary.doc2bow(text) for text in texts]"
   ]
  },
  {
   "cell_type": "code",
   "execution_count": 51,
   "id": "45c84904",
   "metadata": {},
   "outputs": [],
   "source": [
    "tfidf = models.TfidfModel(corpus) # step 1 -- initialize a model"
   ]
  },
  {
   "cell_type": "code",
   "execution_count": 52,
   "id": "e0301a22",
   "metadata": {},
   "outputs": [],
   "source": [
    "corpus_tfidf = tfidf[corpus]  # step 2 -- use the model to transform vectors"
   ]
  },
  {
   "cell_type": "code",
   "execution_count": 53,
   "id": "6df4584e",
   "metadata": {},
   "outputs": [],
   "source": [
    "#I will try 5 topics\n",
    "total_topics = 3\n",
    "\n",
    "lda = models.LdaModel(corpus, id2word=dictionary, num_topics=total_topics)\n",
    "corpus_lda = lda[corpus_tfidf] # create a double wrapper over the original corpus: bow->tf"
   ]
  },
  {
   "cell_type": "code",
   "execution_count": 54,
   "id": "200310d4",
   "metadata": {},
   "outputs": [
    {
     "data": {
      "text/plain": [
       "[(0, '0.082*\"bitch\" + 0.018*\"rt\" + 0.018*\"like\" + 0.015*\"im\" + 0.014*\"nigga\"'),\n",
       " (1, '0.062*\"rt\" + 0.052*\"hoe\" + 0.034*\"bitch\" + 0.012*\"get\" + 0.012*\"like\"'),\n",
       " (2,\n",
       "  '0.035*\"rt\" + 0.028*\"bitch\" + 0.019*\"pussi\" + 0.014*\"fuck\" + 0.010*\"trash\"')]"
      ]
     },
     "execution_count": 54,
     "metadata": {},
     "output_type": "execute_result"
    }
   ],
   "source": [
    "lda.show_topics(total_topics,5)"
   ]
  },
  {
   "cell_type": "code",
   "execution_count": 55,
   "id": "260a98e3",
   "metadata": {},
   "outputs": [],
   "source": [
    "data_lda = {i: OrderedDict(lda.show_topic(i,25)) for i in range(total_topics)}"
   ]
  },
  {
   "cell_type": "code",
   "execution_count": 56,
   "id": "64de02ae",
   "metadata": {},
   "outputs": [
    {
     "name": "stdout",
     "output_type": "stream",
     "text": [
      "(3, 48)\n"
     ]
    }
   ],
   "source": [
    "df_lda = pd.DataFrame(data_lda)\n",
    "df_lda = df_lda.fillna(0).T\n",
    "print(df_lda.shape)"
   ]
  },
  {
   "cell_type": "code",
   "execution_count": 57,
   "id": "ad0054b6",
   "metadata": {},
   "outputs": [
    {
     "data": {
      "text/html": [
       "<div>\n",
       "<style scoped>\n",
       "    .dataframe tbody tr th:only-of-type {\n",
       "        vertical-align: middle;\n",
       "    }\n",
       "\n",
       "    .dataframe tbody tr th {\n",
       "        vertical-align: top;\n",
       "    }\n",
       "\n",
       "    .dataframe thead th {\n",
       "        text-align: right;\n",
       "    }\n",
       "</style>\n",
       "<table border=\"1\" class=\"dataframe\">\n",
       "  <thead>\n",
       "    <tr style=\"text-align: right;\">\n",
       "      <th></th>\n",
       "      <th>bitch</th>\n",
       "      <th>rt</th>\n",
       "      <th>like</th>\n",
       "      <th>im</th>\n",
       "      <th>nigga</th>\n",
       "      <th>ass</th>\n",
       "      <th>shit</th>\n",
       "      <th>fuck</th>\n",
       "      <th>dont</th>\n",
       "      <th>get</th>\n",
       "      <th>...</th>\n",
       "      <th>go</th>\n",
       "      <th>good</th>\n",
       "      <th>da</th>\n",
       "      <th>right</th>\n",
       "      <th>dat</th>\n",
       "      <th>retard</th>\n",
       "      <th>peopl</th>\n",
       "      <th>bird</th>\n",
       "      <th>best</th>\n",
       "      <th>day</th>\n",
       "    </tr>\n",
       "  </thead>\n",
       "  <tbody>\n",
       "    <tr>\n",
       "      <th>0</th>\n",
       "      <td>0.082095</td>\n",
       "      <td>0.018023</td>\n",
       "      <td>0.017701</td>\n",
       "      <td>0.014502</td>\n",
       "      <td>0.014296</td>\n",
       "      <td>0.014195</td>\n",
       "      <td>0.010344</td>\n",
       "      <td>0.009414</td>\n",
       "      <td>0.008638</td>\n",
       "      <td>0.007513</td>\n",
       "      <td>...</td>\n",
       "      <td>0.000000</td>\n",
       "      <td>0.000000</td>\n",
       "      <td>0.000000</td>\n",
       "      <td>0.000000</td>\n",
       "      <td>0.000000</td>\n",
       "      <td>0.000000</td>\n",
       "      <td>0.000000</td>\n",
       "      <td>0.000000</td>\n",
       "      <td>0.000000</td>\n",
       "      <td>0.000000</td>\n",
       "    </tr>\n",
       "    <tr>\n",
       "      <th>1</th>\n",
       "      <td>0.033849</td>\n",
       "      <td>0.062427</td>\n",
       "      <td>0.011769</td>\n",
       "      <td>0.004241</td>\n",
       "      <td>0.011001</td>\n",
       "      <td>0.000000</td>\n",
       "      <td>0.003687</td>\n",
       "      <td>0.005408</td>\n",
       "      <td>0.011251</td>\n",
       "      <td>0.012001</td>\n",
       "      <td>...</td>\n",
       "      <td>0.000000</td>\n",
       "      <td>0.000000</td>\n",
       "      <td>0.000000</td>\n",
       "      <td>0.000000</td>\n",
       "      <td>0.000000</td>\n",
       "      <td>0.000000</td>\n",
       "      <td>0.000000</td>\n",
       "      <td>0.000000</td>\n",
       "      <td>0.000000</td>\n",
       "      <td>0.000000</td>\n",
       "    </tr>\n",
       "    <tr>\n",
       "      <th>2</th>\n",
       "      <td>0.028226</td>\n",
       "      <td>0.034820</td>\n",
       "      <td>0.007487</td>\n",
       "      <td>0.004668</td>\n",
       "      <td>0.000000</td>\n",
       "      <td>0.000000</td>\n",
       "      <td>0.003264</td>\n",
       "      <td>0.014148</td>\n",
       "      <td>0.000000</td>\n",
       "      <td>0.000000</td>\n",
       "      <td>...</td>\n",
       "      <td>0.004356</td>\n",
       "      <td>0.004324</td>\n",
       "      <td>0.003866</td>\n",
       "      <td>0.003794</td>\n",
       "      <td>0.003514</td>\n",
       "      <td>0.003359</td>\n",
       "      <td>0.003255</td>\n",
       "      <td>0.003178</td>\n",
       "      <td>0.002977</td>\n",
       "      <td>0.002924</td>\n",
       "    </tr>\n",
       "  </tbody>\n",
       "</table>\n",
       "<p>3 rows × 48 columns</p>\n",
       "</div>"
      ],
      "text/plain": [
       "      bitch        rt      like        im     nigga       ass      shit  \\\n",
       "0  0.082095  0.018023  0.017701  0.014502  0.014296  0.014195  0.010344   \n",
       "1  0.033849  0.062427  0.011769  0.004241  0.011001  0.000000  0.003687   \n",
       "2  0.028226  0.034820  0.007487  0.004668  0.000000  0.000000  0.003264   \n",
       "\n",
       "       fuck      dont       get  ...        go      good        da     right  \\\n",
       "0  0.009414  0.008638  0.007513  ...  0.000000  0.000000  0.000000  0.000000   \n",
       "1  0.005408  0.011251  0.012001  ...  0.000000  0.000000  0.000000  0.000000   \n",
       "2  0.014148  0.000000  0.000000  ...  0.004356  0.004324  0.003866  0.003794   \n",
       "\n",
       "        dat    retard     peopl      bird      best       day  \n",
       "0  0.000000  0.000000  0.000000  0.000000  0.000000  0.000000  \n",
       "1  0.000000  0.000000  0.000000  0.000000  0.000000  0.000000  \n",
       "2  0.003514  0.003359  0.003255  0.003178  0.002977  0.002924  \n",
       "\n",
       "[3 rows x 48 columns]"
      ]
     },
     "execution_count": 57,
     "metadata": {},
     "output_type": "execute_result"
    }
   ],
   "source": [
    "df_lda"
   ]
  },
  {
   "cell_type": "code",
   "execution_count": 58,
   "id": "00dbec46",
   "metadata": {},
   "outputs": [
    {
     "data": {
      "text/html": [
       "\n",
       "<link rel=\"stylesheet\" type=\"text/css\" href=\"https://cdn.jsdelivr.net/gh/bmabey/pyLDAvis@3.3.1/pyLDAvis/js/ldavis.v1.0.0.css\">\n",
       "\n",
       "\n",
       "<div id=\"ldavis_el1063622343938983365204321898\"></div>\n",
       "<script type=\"text/javascript\">\n",
       "\n",
       "var ldavis_el1063622343938983365204321898_data = {\"mdsDat\": {\"x\": [-1015.7005615234375, -387.9960021972656, -2184.74560546875], \"y\": [1338.981201171875, -373.316162109375, -60.565799713134766], \"topics\": [1, 2, 3], \"cluster\": [1, 1, 1], \"Freq\": [62.89021141319242, 18.928245392003003, 18.181543194804572]}, \"tinfo\": {\"Term\": [\"bitch\", \"hoe\", \"pussi\", \"ass\", \"im\", \"fuck\", \"nigga\", \"like\", \"trash\", \"shit\", \"yall\", \"dont\", \"rt\", \"aint\", \"cunt\", \"never\", \"talk\", \"yo\", \"eat\", \"white\", \"u\", \"real\", \"make\", \"da\", \"look\", \"bad\", \"retard\", \"peopl\", \"dat\", \"know\", \"bae\", \"hurt\", \"dyke\", \"ha\", \"ago\", \"ratchet\", \"wake\", \"loyal\", \"seem\", \"togeth\", \"low\", \"minut\", \"short\", \"paper\", \"instagram\", \"kick\", \"lame\", \"self\", \"deep\", \"ignor\", \"caught\", \"negro\", \"flappi\", \"step\", \"instead\", \"million\", \"gun\", \"doe\", \"nd\", \"grade\", \"hoe\", \"ah\", \"back\", \"either\", \"monkey\", \"skinni\", \"liter\", \"stupid\", \"text\", \"mine\", \"follow\", \"die\", \"jihadi\", \"want\", \"rt\", \"girl\", \"move\", \"dem\", \"school\", \"faggot\", \"hes\", \"kid\", \"dont\", \"get\", \"aint\", \"call\", \"anoth\", \"got\", \"nigga\", \"love\", \"one\", \"bitch\", \"like\", \"look\", \"cant\", \"know\", \"amp\", \"come\", \"lol\", \"u\", \"bird\", \"take\", \"man\", \"realli\", \"make\", \"still\", \"fuck\", \"pussi\", \"im\", \"shit\", \"eye\", \"club\", \"gettin\", \"wouldnt\", \"talkin\", \"slow\", \"public\", \"kind\", \"twat\", \"rape\", \"cream\", \"knew\", \"la\", \"sell\", \"matter\", \"blunt\", \"rick\", \"asshol\", \"impress\", \"jig\", \"cock\", \"cat\", \"biggest\", \"soul\", \"star\", \"mexican\", \"rap\", \"tha\", \"clam\", \"cross\", \"ice\", \"anymor\", \"rest\", \"point\", \"sweet\", \"young\", \"browni\", \"person\", \"drink\", \"broke\", \"top\", \"wet\", \"cunt\", \"best\", \"found\", \"busi\", \"white\", \"eat\", \"crazi\", \"dis\", \"pussi\", \"color\", \"ima\", \"da\", \"trash\", \"water\", \"fuck\", \"wish\", \"retard\", \"niggah\", \"rt\", \"peopl\", \"bitch\", \"right\", \"make\", \"good\", \"show\", \"dat\", \"go\", \"like\", \"new\", \"im\", \"u\", \"day\", \"bird\", \"shit\", \"one\", \"got\", \"get\", \"girl\", \"nigguh\", \"thirsti\", \"dumb\", \"everyth\", \"fag\", \"order\", \"chase\", \"may\", \"piss\", \"late\", \"boss\", \"famili\", \"scream\", \"vote\", \"attent\", \"bullshit\", \"movi\", \"past\", \"sometim\", \"bone\", \"worst\", \"social\", \"idea\", \"danc\", \"karma\", \"bunch\", \"trick\", \"three\", \"media\", \"match\", \"door\", \"whole\", \"coupl\", \"enough\", \"sleep\", \"made\", \"throw\", \"wont\", \"real\", \"lie\", \"saw\", \"yall\", \"everyon\", \"chang\", \"put\", \"yes\", \"ass\", \"nasti\", \"bitch\", \"beat\", \"pop\", \"im\", \"ion\", \"talk\", \"shit\", \"never\", \"yo\", \"like\", \"see\", \"nigga\", \"bad\", \"trash\", \"tri\", \"ugli\", \"fuck\", \"u\", \"say\", \"everi\", \"dont\", \"bout\", \"look\", \"rt\", \"aint\", \"know\", \"get\", \"lol\", \"pussi\", \"need\", \"time\", \"got\", \"think\", \"go\", \"amp\"], \"Freq\": [1029.0, 819.0, 202.0, 112.0, 153.0, 193.0, 242.0, 298.0, 101.0, 119.0, 44.0, 217.0, 1217.0, 160.0, 27.0, 42.0, 47.0, 52.0, 30.0, 29.0, 135.0, 24.0, 88.0, 28.0, 95.0, 41.0, 28.0, 29.0, 43.0, 94.0, 19.90093080536506, 18.871125909309583, 26.861955874552823, 13.811882650975498, 12.82115279127763, 11.988749001832844, 12.002002342544538, 23.55736492566675, 12.804753959585142, 11.71863597449392, 14.490756177875445, 10.684067025037763, 11.01146482322392, 12.479792170422185, 10.39683479685759, 14.832800877242434, 9.292674921473873, 11.58954019798737, 9.153882286702908, 9.500630252653236, 9.600928501262066, 8.745908386703569, 11.875969495819113, 10.463004422961504, 8.057684577124629, 7.885087213785912, 11.652905465100332, 7.670456219890459, 10.015172516106595, 7.606564284904884, 803.2252606631789, 26.74944038292485, 85.38093137383864, 20.902389084690242, 29.027020814821164, 11.868069024096945, 11.884689228676459, 63.16187986574201, 26.769946407484387, 11.4559743222416, 30.320199566884348, 29.892220453119066, 17.471706316793266, 119.48674884232646, 973.0265392762286, 114.05146381568039, 21.980563956560566, 16.993540880820422, 29.625990523962376, 55.885422021458574, 26.170127497432293, 29.723723024519956, 175.36826236215677, 187.06085889718145, 129.96972037388483, 72.86404382131903, 25.785149159705586, 114.09353192234248, 171.47445118381785, 64.61997960410655, 77.99948108702233, 527.5939806428024, 183.4334790610358, 69.34563751060897, 56.794509741875004, 68.5376990542441, 67.07439523850262, 43.73995462460137, 68.13654235044599, 83.42853864032195, 56.77765636995137, 42.49449624594684, 48.08781611048233, 45.85504554288986, 56.33621342977854, 43.74925591492011, 84.29196548099179, 86.46819886486371, 66.09592707785448, 57.47112689840598, 10.585304412078978, 7.543835988108517, 6.887385236614442, 7.106578433768568, 5.662436587063658, 6.023356816406401, 5.071174022708598, 4.364010941172649, 4.239592242373189, 4.067514597306783, 3.6524346251016993, 4.484040434928451, 3.4553390027987643, 7.815424945010511, 3.7689604551823, 3.675790198437159, 4.0794370478863655, 3.3337713485346305, 3.0898913988371426, 2.7558014618904876, 3.0298558992167184, 6.386859123818874, 2.96830872614092, 3.4119575790532135, 3.0510176892175536, 2.8419291662354182, 4.818767699520489, 2.6332286649259866, 2.5979394454524782, 2.683148021753552, 4.7187777092948595, 5.289037952091632, 3.875756252705935, 7.176063530859493, 4.504610771767374, 10.06260508614697, 11.939629481393055, 9.35791294628329, 3.9840159377646605, 9.688931204274109, 7.685720304240469, 4.768076395283541, 23.513929867906793, 13.96481207451074, 4.888558080376427, 4.50902482548958, 22.861301990035415, 23.070426284192163, 11.235106640218381, 8.895690388812726, 89.05213276231824, 13.25137429204794, 9.918845377440684, 18.134798253149086, 45.16792904690898, 6.4598656336411056, 66.37201095250727, 8.200188437138008, 15.756667214441585, 12.530721108684702, 163.34729177727556, 15.271802322628597, 132.41406640589082, 17.796056698190814, 27.228690440053715, 20.283935885108278, 12.337588441016495, 16.484023533639817, 20.43664111809167, 35.12101084961034, 11.063990447868084, 21.897393896811998, 18.431943666343603, 13.719340990199006, 14.909270478991484, 15.310613227895812, 13.890775027184791, 14.039657386545489, 13.328254465099569, 11.948205825303173, 5.7342878556285655, 3.741231719431335, 10.73289223515186, 4.529559488940834, 9.019423958381914, 3.4987385331094583, 3.14090133535535, 3.170484275518684, 3.113119280641239, 3.0238686987378443, 2.806299651625458, 2.6696432389149614, 2.5505670982871305, 2.9354091844888126, 3.3279180172213376, 2.553866186137454, 3.7247955577957286, 2.1915359549220614, 3.2915965760274224, 2.1762281663133343, 2.438244409239052, 2.2414776087007744, 2.559229498934672, 2.215493029661513, 2.010754963511916, 2.421447860681332, 2.5339709395463648, 2.326134175363398, 1.9954011429491638, 2.189193046492819, 3.029051293493333, 4.066113972458287, 3.564351247612711, 3.1128383676910327, 4.734971641254792, 9.487724468989876, 8.066956470140882, 6.823838765247633, 20.117744335911524, 8.89297588556127, 3.9580146824057487, 33.40611138383353, 4.12631065380672, 5.92505896136874, 12.969903564005655, 5.092947066016145, 63.96565499215698, 3.9393333154911816, 369.9306644542445, 7.673675716948547, 5.113377384893341, 65.34711091539725, 5.999554138111713, 24.50781100444482, 46.61289984218972, 21.395415120551174, 25.08567228685934, 79.76212197230173, 16.957772132492163, 64.42164988934582, 17.914232728813438, 30.54211494005518, 14.50040964292856, 10.911613722841164, 42.420119571350966, 33.778477630187815, 20.004789527152898, 9.675250518689012, 38.92417128283935, 13.3500378009606, 23.137029248731718, 81.2132631920974, 29.463705074761943, 22.44259355091726, 33.8540277386635, 22.236645277155848, 26.939437566208003, 17.13630791862335, 15.119044482705808, 21.95985972768188, 15.756822320389562, 16.607355390643086, 16.417353320169024], \"Total\": [1029.0, 819.0, 202.0, 112.0, 153.0, 193.0, 242.0, 298.0, 101.0, 119.0, 44.0, 217.0, 1217.0, 160.0, 27.0, 42.0, 47.0, 52.0, 30.0, 29.0, 135.0, 24.0, 88.0, 28.0, 95.0, 41.0, 28.0, 29.0, 43.0, 94.0, 19.955961325739377, 18.92843102350131, 26.95397711048037, 13.863491747938092, 12.87574900059937, 12.03981119541385, 12.05417569826885, 23.662175590343843, 12.861739090382986, 11.770791483932248, 14.558681658959722, 10.734202015262182, 11.064330526482, 12.542494150778614, 10.449627171011057, 14.90829895594739, 9.343430106109587, 11.653243469654287, 9.204785785148363, 9.554322068968668, 9.655671517681787, 8.79599466769687, 11.946274935238877, 10.525811335924287, 8.110991607623712, 7.93732176235805, 11.730669281780074, 7.72181587137388, 10.084873827115386, 7.660235780702699, 819.4820485257395, 26.981893650633836, 87.30117135288631, 21.077169587651227, 29.407440533032783, 11.955617392015307, 11.973749888444692, 65.78793382028482, 27.412276090263017, 11.554968354438834, 31.21231728158299, 30.789835744068352, 17.80014666028058, 130.02291158025093, 1217.5870942456015, 128.25030878884192, 22.762846020610773, 17.41469807263182, 31.280159047011754, 61.39203574196826, 27.664980738586497, 31.79122543705693, 217.3118399922276, 234.2431411009445, 160.57455916412874, 88.12229916309657, 27.790720280469515, 150.09304903656985, 242.76235455664144, 80.34769611384479, 104.71707715226226, 1029.9387115029376, 298.3166118829479, 95.25345279358254, 74.34775341301341, 94.63105335774111, 93.13082402965777, 54.57720502614694, 100.87988829675015, 135.63895993685335, 79.02255648546486, 52.50519077492441, 64.28511332137882, 59.962083041727595, 88.81100278781051, 58.75278897308613, 193.08409600485, 202.45976919338995, 153.34043189006374, 119.3946399684915, 10.6795544891113, 7.643725434481398, 6.978836820768195, 7.203910528599466, 5.763675481713056, 6.138330108641475, 5.169414127829095, 4.45399086785782, 4.329480393019039, 4.159698442991655, 3.7361348859362953, 4.591211889910598, 3.542891900738867, 8.017795325685537, 3.8667922443589533, 3.7749251561550463, 4.192913964093909, 3.4293200871016807, 3.182253905796522, 2.8388334091529326, 3.122624732292439, 6.58338074472451, 3.0607003810325244, 3.521362701636818, 3.150893973566996, 2.93638740174038, 4.980509472561578, 2.722871959154388, 2.6872452232567117, 2.7759421003650377, 4.8926277282359365, 5.49528916305369, 4.016671941107317, 7.530773804799182, 4.6981053501096, 10.765667455919422, 12.903073015111195, 10.013481400748985, 4.146214712508406, 10.467590041160168, 8.23033260526968, 5.007274501798936, 27.415542511229575, 15.88780998486683, 5.153975869675945, 4.727635809510721, 29.826163813005667, 30.343589431131324, 13.833297212902966, 10.650391361402516, 202.45976919338995, 18.414020827259453, 12.772934607579375, 28.89123587908208, 101.61225222607732, 7.539460245269613, 193.08409600485, 10.748781387833382, 28.452211839672266, 20.60214712387998, 1217.5870942456015, 29.607455530439744, 1029.9387115029376, 38.39147877349293, 88.81100278781051, 53.49089095184251, 21.725016238747184, 43.198304218991865, 80.98626417769415, 298.3166118829479, 21.61122029380501, 153.34043189006374, 135.63895993685335, 51.28885421770801, 79.02255648546486, 119.3946399684915, 104.71707715226226, 150.09304903656985, 234.2431411009445, 128.25030878884192, 5.83964535825269, 3.8436129339097245, 11.028050935703329, 4.654900788951565, 9.274951299339538, 3.6110485230870846, 3.2469003971931345, 3.2823422335021326, 3.2265384410506064, 3.134550765750015, 2.9169243323788376, 2.7779184732537874, 2.656086602584306, 3.0644335732002825, 3.4742823518226555, 2.6668810901858198, 3.892861667038405, 2.291333115391263, 3.4419230287796023, 2.277498589532197, 2.552718402775799, 2.348234052942117, 2.6817422883624835, 2.3215986325521336, 2.1077929267501347, 2.5402260296403707, 2.6636967952493813, 2.44704210506453, 2.099140526061966, 2.3042858986123798, 3.1939431769594644, 4.303355784434583, 3.781876720034056, 3.301035179910618, 5.096576643137808, 10.52458657541187, 9.010130106213598, 7.559724933368875, 24.421482681636586, 10.181753447793154, 4.285849412778037, 44.47369431707697, 4.532652351786652, 6.824535815854887, 16.946881926433075, 5.801590044157905, 112.3976404649338, 4.345239540008315, 1029.9387115029376, 9.829981329086891, 6.0026365161695985, 153.34043189006374, 7.467759434206273, 47.35375503391009, 119.3946399684915, 42.4104639545413, 52.71419062474179, 298.3166118829479, 33.83974860632824, 242.76235455664144, 41.67676975438473, 101.61225222607732, 32.04427997047569, 20.499171437795766, 193.08409600485, 135.63895993685335, 59.734775009725524, 17.305142714550026, 217.3118399922276, 32.40173017091608, 95.25345279358254, 1217.5870942456015, 160.57455916412874, 94.63105335774111, 234.2431411009445, 100.87988829675015, 202.45976919338995, 60.67503983395149, 45.021886889142216, 150.09304903656985, 52.40875860647691, 80.98626417769415, 93.13082402965777], \"Category\": [\"Default\", \"Default\", \"Default\", \"Default\", \"Default\", \"Default\", \"Default\", \"Default\", \"Default\", \"Default\", \"Default\", \"Default\", \"Default\", \"Default\", \"Default\", \"Default\", \"Default\", \"Default\", \"Default\", \"Default\", \"Default\", \"Default\", \"Default\", \"Default\", \"Default\", \"Default\", \"Default\", \"Default\", \"Default\", \"Default\", \"Topic1\", \"Topic1\", \"Topic1\", \"Topic1\", \"Topic1\", \"Topic1\", \"Topic1\", \"Topic1\", \"Topic1\", \"Topic1\", \"Topic1\", \"Topic1\", \"Topic1\", \"Topic1\", \"Topic1\", \"Topic1\", \"Topic1\", \"Topic1\", \"Topic1\", \"Topic1\", \"Topic1\", \"Topic1\", \"Topic1\", \"Topic1\", \"Topic1\", \"Topic1\", \"Topic1\", \"Topic1\", \"Topic1\", \"Topic1\", \"Topic1\", \"Topic1\", \"Topic1\", \"Topic1\", \"Topic1\", \"Topic1\", \"Topic1\", \"Topic1\", \"Topic1\", \"Topic1\", \"Topic1\", \"Topic1\", \"Topic1\", \"Topic1\", \"Topic1\", \"Topic1\", \"Topic1\", \"Topic1\", \"Topic1\", \"Topic1\", \"Topic1\", \"Topic1\", \"Topic1\", \"Topic1\", \"Topic1\", \"Topic1\", \"Topic1\", \"Topic1\", \"Topic1\", \"Topic1\", \"Topic1\", \"Topic1\", \"Topic1\", \"Topic1\", \"Topic1\", \"Topic1\", \"Topic1\", \"Topic1\", \"Topic1\", \"Topic1\", \"Topic1\", \"Topic1\", \"Topic1\", \"Topic1\", \"Topic1\", \"Topic1\", \"Topic1\", \"Topic1\", \"Topic1\", \"Topic1\", \"Topic2\", \"Topic2\", \"Topic2\", \"Topic2\", \"Topic2\", \"Topic2\", \"Topic2\", \"Topic2\", \"Topic2\", \"Topic2\", \"Topic2\", \"Topic2\", \"Topic2\", \"Topic2\", \"Topic2\", \"Topic2\", \"Topic2\", \"Topic2\", \"Topic2\", \"Topic2\", \"Topic2\", \"Topic2\", \"Topic2\", \"Topic2\", \"Topic2\", \"Topic2\", \"Topic2\", \"Topic2\", \"Topic2\", \"Topic2\", \"Topic2\", \"Topic2\", \"Topic2\", \"Topic2\", \"Topic2\", \"Topic2\", \"Topic2\", \"Topic2\", \"Topic2\", \"Topic2\", \"Topic2\", \"Topic2\", \"Topic2\", \"Topic2\", \"Topic2\", \"Topic2\", \"Topic2\", \"Topic2\", \"Topic2\", \"Topic2\", \"Topic2\", \"Topic2\", \"Topic2\", \"Topic2\", \"Topic2\", \"Topic2\", \"Topic2\", \"Topic2\", \"Topic2\", \"Topic2\", \"Topic2\", \"Topic2\", \"Topic2\", \"Topic2\", \"Topic2\", \"Topic2\", \"Topic2\", \"Topic2\", \"Topic2\", \"Topic2\", \"Topic2\", \"Topic2\", \"Topic2\", \"Topic2\", \"Topic2\", \"Topic2\", \"Topic2\", \"Topic2\", \"Topic2\", \"Topic2\", \"Topic3\", \"Topic3\", \"Topic3\", \"Topic3\", \"Topic3\", \"Topic3\", \"Topic3\", \"Topic3\", \"Topic3\", \"Topic3\", \"Topic3\", \"Topic3\", \"Topic3\", \"Topic3\", \"Topic3\", \"Topic3\", \"Topic3\", \"Topic3\", \"Topic3\", \"Topic3\", \"Topic3\", \"Topic3\", \"Topic3\", \"Topic3\", \"Topic3\", \"Topic3\", \"Topic3\", \"Topic3\", \"Topic3\", \"Topic3\", \"Topic3\", \"Topic3\", \"Topic3\", \"Topic3\", \"Topic3\", \"Topic3\", \"Topic3\", \"Topic3\", \"Topic3\", \"Topic3\", \"Topic3\", \"Topic3\", \"Topic3\", \"Topic3\", \"Topic3\", \"Topic3\", \"Topic3\", \"Topic3\", \"Topic3\", \"Topic3\", \"Topic3\", \"Topic3\", \"Topic3\", \"Topic3\", \"Topic3\", \"Topic3\", \"Topic3\", \"Topic3\", \"Topic3\", \"Topic3\", \"Topic3\", \"Topic3\", \"Topic3\", \"Topic3\", \"Topic3\", \"Topic3\", \"Topic3\", \"Topic3\", \"Topic3\", \"Topic3\", \"Topic3\", \"Topic3\", \"Topic3\", \"Topic3\", \"Topic3\", \"Topic3\", \"Topic3\", \"Topic3\", \"Topic3\", \"Topic3\", \"Topic3\", \"Topic3\", \"Topic3\"], \"logprob\": [30.0, 29.0, 28.0, 27.0, 26.0, 25.0, 24.0, 23.0, 22.0, 21.0, 20.0, 19.0, 18.0, 17.0, 16.0, 15.0, 14.0, 13.0, 12.0, 11.0, 10.0, 9.0, 8.0, 7.0, 6.0, 5.0, 4.0, 3.0, 2.0, 1.0, -6.6634, -6.7165, -6.3635, -7.0286, -7.1031, -7.1702, -7.1691, -6.4947, -7.1044, -7.193, -6.9807, -7.2854, -7.2552, -7.1301, -7.3127, -6.9573, -7.4249, -7.2041, -7.44, -7.4028, -7.3923, -7.4856, -7.1797, -7.3063, -7.5675, -7.5892, -7.1986, -7.6168, -7.3501, -7.6252, -2.9655, -6.3677, -5.2071, -6.6143, -6.2859, -7.1803, -7.1789, -5.5085, -6.3669, -7.2157, -6.2424, -6.2566, -6.7936, -4.871, -2.7738, -4.9175, -6.564, -6.8213, -6.2655, -5.6309, -6.3896, -6.2622, -4.4873, -4.4227, -4.7869, -5.3656, -6.4044, -4.9172, -4.5097, -5.4857, -5.2975, -3.3858, -4.4423, -5.4151, -5.6147, -5.4268, -5.4484, -5.8759, -5.4327, -5.2302, -5.615, -5.9048, -5.7811, -5.8287, -5.6228, -5.8757, -5.2199, -5.1944, -5.4631, -5.6029, -6.094, -6.4327, -6.5237, -6.4924, -6.7196, -6.6578, -6.8299, -6.98, -7.009, -7.0504, -7.158, -6.9529, -7.2135, -6.3973, -7.1266, -7.1517, -7.0475, -7.2493, -7.3253, -7.4397, -7.3449, -6.5992, -7.3654, -7.2262, -7.338, -7.409, -6.8809, -7.4852, -7.4987, -7.4664, -6.9019, -6.7878, -7.0987, -6.4827, -6.9483, -6.1446, -5.9736, -6.2172, -7.0711, -6.1825, -6.4141, -6.8915, -5.2958, -5.8169, -6.8665, -6.9474, -5.324, -5.3149, -6.0344, -6.2679, -3.9642, -5.8693, -6.159, -5.5556, -4.6431, -6.5878, -4.2582, -6.3493, -5.6962, -5.9253, -3.3576, -5.7274, -3.5675, -5.5745, -5.1492, -5.4436, -5.9408, -5.651, -5.4361, -4.8946, -6.0497, -5.3671, -5.5394, -5.8346, -5.7515, -5.7249, -5.8222, -5.8116, -5.8636, -5.9729, -6.6667, -7.0938, -6.0399, -6.9026, -6.2138, -7.1608, -7.2687, -7.2593, -7.2776, -7.3067, -7.3813, -7.4312, -7.4769, -7.3363, -7.2108, -7.4756, -7.0982, -7.6286, -7.2218, -7.6356, -7.5219, -7.6061, -7.4735, -7.6177, -7.7147, -7.5288, -7.4834, -7.569, -7.7223, -7.6297, -7.3049, -7.0105, -7.1422, -7.2777, -6.8582, -6.1632, -6.3254, -6.4928, -5.4116, -6.2279, -7.0374, -4.9045, -6.9958, -6.634, -5.8506, -6.7853, -4.2548, -7.0422, -2.4999, -6.3754, -6.7813, -4.2335, -6.6215, -5.2142, -4.5713, -5.35, -5.1909, -4.0341, -5.5825, -4.2477, -5.5276, -4.9941, -5.739, -6.0234, -4.6656, -4.8934, -5.4172, -6.1436, -4.7516, -5.8217, -5.2718, -4.0161, -5.03, -5.3022, -4.8911, -5.3114, -5.1196, -5.572, -5.6972, -5.324, -5.6559, -5.6033, -5.6149], \"loglift\": [30.0, 29.0, 28.0, 27.0, 26.0, 25.0, 24.0, 23.0, 22.0, 21.0, 20.0, 19.0, 18.0, 17.0, 16.0, 15.0, 14.0, 13.0, 12.0, 11.0, 10.0, 9.0, 8.0, 7.0, 6.0, 5.0, 4.0, 3.0, 2.0, 1.0, 0.461, 0.4607, 0.4604, 0.4601, 0.4595, 0.4595, 0.4594, 0.4593, 0.4593, 0.4593, 0.4591, 0.4591, 0.459, 0.4588, 0.4587, 0.4587, 0.4583, 0.4583, 0.4582, 0.4581, 0.4581, 0.4581, 0.4579, 0.4578, 0.4572, 0.4572, 0.4571, 0.4571, 0.4568, 0.4567, 0.4437, 0.4551, 0.4415, 0.4555, 0.4508, 0.4564, 0.4563, 0.423, 0.4401, 0.4552, 0.4348, 0.4342, 0.4452, 0.3793, 0.2396, 0.3464, 0.4288, 0.4393, 0.4094, 0.3698, 0.4082, 0.3965, 0.2493, 0.2389, 0.2523, 0.2736, 0.3889, 0.1895, 0.1161, 0.2459, 0.1692, -0.2051, -0.0225, 0.1463, 0.1945, 0.1412, 0.1356, 0.2424, 0.0714, -0.0222, 0.1332, 0.2522, 0.1735, 0.1956, 0.0086, 0.1689, -0.3651, -0.387, -0.3778, -0.2674, 1.6557, 1.6514, 1.6513, 1.6509, 1.6468, 1.6456, 1.6453, 1.6441, 1.6435, 1.6421, 1.6419, 1.6409, 1.6395, 1.639, 1.6389, 1.6379, 1.6371, 1.6363, 1.6351, 1.6348, 1.6344, 1.6342, 1.6339, 1.633, 1.6323, 1.6318, 1.6315, 1.631, 1.6307, 1.6305, 1.6283, 1.6263, 1.6288, 1.6163, 1.6225, 1.597, 1.5869, 1.5968, 1.6246, 1.5872, 1.5961, 1.6156, 1.511, 1.5355, 1.6116, 1.6172, 1.3986, 1.3905, 1.4565, 1.4845, 0.8432, 1.3355, 1.4116, 1.1988, 0.8537, 1.51, 0.5967, 1.3939, 1.0736, 1.1673, -0.3442, 1.0025, -0.3868, 0.8957, 0.4823, 0.6948, 1.0987, 0.7011, 0.2876, -0.4748, 0.995, -0.2818, -0.3314, 0.3458, -0.0032, -0.3894, -0.3555, -0.7049, -1.202, -0.7089, 1.6866, 1.6778, 1.6776, 1.6775, 1.6768, 1.6732, 1.6716, 1.6701, 1.669, 1.6688, 1.6661, 1.665, 1.6642, 1.6617, 1.6617, 1.6615, 1.6606, 1.6602, 1.6601, 1.6593, 1.6589, 1.6582, 1.658, 1.658, 1.6576, 1.6569, 1.6548, 1.6541, 1.6541, 1.6535, 1.6518, 1.6481, 1.6455, 1.6461, 1.6312, 1.601, 1.5942, 1.6024, 1.5109, 1.5694, 1.6252, 1.4186, 1.6108, 1.5634, 1.4373, 1.5745, 1.1411, 1.6067, 0.6808, 1.4571, 1.5444, 0.8518, 1.4859, 1.0461, 0.7642, 1.0205, 0.9622, 0.3857, 1.0139, 0.3781, 0.8604, 0.5027, 0.9118, 1.0742, 0.1893, 0.3146, 0.6108, 1.1233, -0.015, 0.8181, 0.2897, -1.0028, 0.0092, 0.2657, -0.2295, 0.1926, -0.3122, 0.4404, 0.6136, -0.2173, 0.503, 0.1203, -0.0309]}, \"token.table\": {\"Topic\": [1, 1, 1, 2, 3, 1, 2, 3, 1, 2, 3, 2, 1, 2, 3, 2, 3, 1, 2, 3, 1, 2, 3, 1, 1, 3, 1, 2, 2, 1, 2, 3, 1, 2, 3, 2, 3, 3, 1, 2, 3, 1, 2, 2, 3, 3, 3, 2, 1, 2, 3, 1, 2, 3, 2, 1, 1, 3, 3, 2, 2, 2, 1, 2, 1, 2, 3, 3, 1, 2, 3, 2, 2, 1, 2, 1, 2, 3, 3, 1, 2, 1, 2, 3, 1, 1, 1, 2, 1, 2, 1, 1, 2, 3, 3, 2, 3, 1, 1, 2, 3, 1, 3, 1, 2, 3, 3, 3, 2, 3, 1, 2, 3, 3, 1, 1, 3, 2, 1, 2, 3, 1, 2, 3, 2, 1, 2, 3, 1, 2, 3, 1, 2, 3, 1, 2, 3, 1, 1, 1, 1, 2, 1, 2, 3, 1, 2, 3, 1, 1, 2, 3, 1, 2, 2, 1, 1, 1, 3, 2, 1, 3, 1, 1, 2, 3, 2, 2, 1, 2, 3, 2, 1, 3, 1, 3, 1, 2, 3, 1, 1, 2, 3, 1, 2, 3, 1, 2, 3, 1, 1, 2, 3, 1, 2, 3, 1, 2, 3, 3, 2, 3, 3, 2, 1, 1, 1, 1, 1, 3, 3, 1, 1, 2, 3, 1, 1, 2, 3, 1, 2, 3, 1, 2, 3, 1, 2, 3, 3, 1, 2, 3, 3, 1, 3, 1, 2, 3, 2, 3, 3, 2, 2, 3, 2, 1, 2, 3, 1, 2, 3, 2, 2, 1, 1, 2, 3, 1, 3, 2, 1, 2, 3, 2, 1, 2, 3, 1, 2, 3, 3, 1, 2, 3, 1, 3, 3, 1, 2, 3, 1, 1, 2, 1, 2, 3, 1, 1, 2, 3, 1, 3, 2, 3, 3, 2, 2, 1, 1, 2, 3, 1, 2, 2, 1, 2, 3, 1, 2, 3, 2, 1, 2, 2, 1, 2, 3, 3, 3, 1, 3, 1, 2, 3, 1, 2, 1, 2, 3, 1, 2, 3, 3, 2, 1, 2, 3, 1, 2, 3, 3, 1, 1, 2, 3, 1, 2, 2, 1, 2, 3, 3, 1, 2, 3, 1, 3, 3, 2, 1, 2, 3, 3, 1, 2, 3, 1, 2], \"Freq\": [1.0096500016732888, 1.0006710555456413, 0.8095927566403751, 0.006227636589541347, 0.18060146109669906, 0.7194180949012505, 0.10737583505988814, 0.17180133609582102, 0.9355640925317081, 0.03598323432814262, 0.03598323432814262, 0.909870227324223, 0.39146729253384344, 0.04448491960611858, 0.5694069709583177, 0.8748089778156217, 0.8634876778009016, 0.9736410025521355, 0.011454600030025124, 0.011454600030025124, 0.28793018438617124, 0.28793018438617124, 0.43189527657925686, 1.0022067929247698, 0.20345918603955074, 0.813836744158203, 0.1258826736916544, 0.8811787158415808, 0.9801678134165988, 0.7213130343420917, 0.18981921956370834, 0.0885823024630639, 0.5126518637497529, 0.12816296593743823, 0.3592446772488799, 1.0596236573003222, 0.8781564165143146, 1.0284805699959354, 0.49380079136519883, 0.09258764838097477, 0.40121314298422406, 0.09553297330788145, 0.9553297330788145, 0.9300110125662641, 0.07750091771385534, 1.124909547351048, 0.787331511709274, 1.0576110769660718, 0.8283941827810433, 0.10213078965793684, 0.06808719310529122, 0.7666674160731674, 0.04035091663542986, 0.2017545831771493, 0.9113858415082565, 1.035660749403878, 0.14653011237435104, 0.8791806742461062, 0.9239581240599268, 1.1163849037804805, 1.0466100684244126, 0.9607302372826543, 0.2715322224789808, 0.7059837784453501, 0.8061973855004192, 0.05496800355684676, 0.14658134281825802, 1.057675936079688, 0.07228934538233249, 0.7951827992056574, 0.07228934538233249, 1.0706251573134995, 1.0807141833417557, 0.1459026389268633, 0.8754158335611798, 0.34612572621859455, 0.6230263071934702, 0.03461257262185946, 0.8614753523529602, 0.601875477986223, 0.3703849095299834, 0.5069327516976043, 0.2729637893756331, 0.23396896232197123, 0.977752248674947, 0.9761868927671196, 0.9743475168028295, 0.03247825056009432, 0.09389326326768083, 0.8450393694091274, 1.0360257397042316, 0.8052943641094709, 0.013805046241876643, 0.17946560114439636, 0.9392778248659727, 0.9647353736729308, 0.9974564013290406, 1.0017074619204056, 0.1318235605935321, 0.7579854734128095, 0.09886767044514906, 0.9963387120205912, 0.9088058249900962, 0.2889314513307099, 0.11557258053228396, 0.5778629026614198, 0.8824855050759199, 1.074136748922239, 1.0300055129842187, 0.9703554994020166, 0.9121704358423449, 0.048866273348697045, 0.048866273348697045, 1.079945300369484, 1.0044972231973872, 0.961159010699333, 0.032038633689977766, 0.9701248369085543, 0.435043598815565, 0.3418199704979439, 0.2175217994077825, 0.7983157975132105, 0.05549788966669377, 0.1451483268205837, 1.0030324794482695, 0.8888867487071366, 0.09356702617969859, 0.015594504363283098, 0.5433020086401122, 0.24695545847277828, 0.20991213970186154, 0.4860640669344548, 0.3738954361034268, 0.13086340263619936, 0.7595288438189043, 0.09327547204793561, 0.1465757417896131, 1.0443542769470906, 1.022959535534622, 1.0098465995828367, 0.9398163058807332, 0.03614678099541282, 0.9798872366327109, 0.008541980892190507, 0.012202829845986437, 1.0037810305782782, 1.021945726862562, 1.1186757254858557, 1.0466467351439661, 0.43041485658080186, 0.1434716188602673, 0.4238934193598806, 0.1565810881716417, 0.7829054408582086, 0.9427280439613748, 0.9569719413283572, 0.9863159015576606, 0.13390897347596298, 0.8034538408557778, 1.0567721199586548, 0.9550483108059984, 0.9488598118998656, 1.0061510065181531, 0.9436566092551746, 0.06291044061701165, 0.031455220308505824, 0.8980709926609772, 0.8712296656989816, 0.7291475425001764, 0.042269422753633414, 0.2324818251449838, 0.8467658861887242, 0.9632436800822194, 0.9570749444481176, 0.09821491014563362, 0.8839341913107026, 0.6134422043912349, 0.11732501176881541, 0.2681714554715781, 1.002192304983808, 0.6740689462300943, 0.10904056483133878, 0.21808112966267756, 0.7243831900721261, 0.03149492130748375, 0.24146106335737538, 0.8089839926200421, 0.012445907578769878, 0.1742427061027783, 0.9616255323080096, 1.014276980084368, 0.09501560872103576, 0.8551404784893218, 0.6305525018538144, 0.3040163848223748, 0.056299330522662, 0.7466736468213863, 0.10888990682811883, 0.14000130877900993, 0.8679478536948831, 1.0344491628262098, 0.913981476209175, 0.9527708960733772, 1.0216635578200333, 1.0078966482043346, 0.9519714518105414, 1.024761783350071, 0.9861449848865591, 0.966487230115248, 1.0275217416197333, 0.920547639127933, 0.9915840467049588, 0.6592496702015759, 0.0659249670201576, 0.2801811098356698, 1.02319298044283, 0.4715817309010694, 0.02357908654505347, 0.4951608174461229, 0.09254451959722572, 0.5089948577847414, 0.3701780783889029, 0.7043925748384607, 0.028834783765317108, 0.2636323087114707, 0.2912317810334143, 0.6310021922390643, 0.09707726034447142, 1.0274596541244914, 0.7448641818620022, 0.1336935711034363, 0.1241440303103337, 0.8307836299677581, 0.9567475061772354, 0.8728543163652939, 0.06755055320251274, 0.5066291490188456, 0.40530331921507645, 0.8987883074638578, 0.0998653674959842, 0.9297890153210627, 0.9295193537135676, 0.1665934622738276, 0.832967311369138, 0.967227596079589, 0.42477574849871846, 0.4395935071672784, 0.13335982801703952, 0.05900790507310018, 0.17702371521930055, 0.7671027659503024, 1.0039133601784713, 0.9616081681928847, 0.9966933704550935, 0.12284266435042498, 0.040947554783475, 0.8189510956695, 0.7671514675030321, 0.2334808814139663, 0.9958493147183135, 0.07029330483232608, 0.5623464386586087, 0.3866131765777935, 0.9539904787587032, 0.4428065951900114, 0.4688540419658945, 0.1041897871035321, 0.799121479357381, 0.13387132696326115, 0.06652501523941198, 0.9333039065894867, 0.5859233586181849, 0.083703336945455, 0.33481334778182, 0.9590744073555454, 0.06393829382370303, 1.1294812439779165, 0.3250615165014238, 0.17730628172804933, 0.5023677982294731, 1.0107497834192885, 1.0297562246295366, 0.9977805213325254, 0.47740836619669375, 0.1256337805780773, 0.39365251247797556, 0.9941857732532459, 0.32220919529235154, 0.5523586205011741, 0.09205977008352902, 1.003712280723732, 0.981050683645101, 0.9774645373915725, 0.8517038569874189, 0.8716057781988534, 0.8519429136355436, 0.9521107422741442, 0.9500455291147288, 0.7489006184907377, 0.13616374881649776, 0.11914328021443554, 0.9576224140447895, 0.030400711556977444, 1.0642588080497934, 0.7999209102970918, 0.057137207878363704, 0.13332015171618197, 0.401235339972386, 0.08447059788892337, 0.5279412368057711, 1.0410023983891445, 0.9849601656970959, 0.03648000613692948, 1.1017778452320897, 0.4770195033184852, 0.22896936159287287, 0.30529248212383053, 1.0406875168700191, 0.8173132762451011, 0.11098618868004763, 0.887889509440381, 0.5774968975427446, 0.08884567654503764, 0.33317128704389115, 1.01947265112806, 0.9720141801897284, 0.255874655175958, 0.44285998011223493, 0.30508131963287294, 0.28086135835450937, 0.28086135835450937, 0.46810226392418225, 1.1262543114330448, 0.923898398165678, 0.6119185817897793, 0.13270523460501238, 0.25066544314280115, 0.3902596758252305, 0.048782459478153815, 0.5366070542596919, 0.9789737412604469, 0.9955056488618603, 0.9152233137507652, 0.023072856649178953, 0.053836665514750894, 0.1326354894738542, 0.7958129368431253, 0.9985472133001051, 0.06705522079671211, 0.7711350391621894, 0.16763805199178028, 0.9295071568258815, 0.09303380205796229, 0.7442704164636983, 0.09303380205796229, 0.13227994521149403, 0.9259596164804581, 0.7834785058254844, 0.9716944668052243, 0.04497040398175426, 0.20236681791789418, 0.7420116656989453, 0.8618326979230303, 0.37940447843303987, 0.15176179137321597, 0.47425559804129985, 0.09288787751382359, 0.9288787751382358], \"Term\": [\"ago\", \"ah\", \"aint\", \"aint\", \"aint\", \"amp\", \"amp\", \"amp\", \"anoth\", \"anoth\", \"anoth\", \"anymor\", \"ass\", \"ass\", \"ass\", \"asshol\", \"attent\", \"back\", \"back\", \"back\", \"bad\", \"bad\", \"bad\", \"bae\", \"beat\", \"beat\", \"best\", \"best\", \"biggest\", \"bird\", \"bird\", \"bird\", \"bitch\", \"bitch\", \"bitch\", \"blunt\", \"bone\", \"boss\", \"bout\", \"bout\", \"bout\", \"broke\", \"broke\", \"browni\", \"browni\", \"bullshit\", \"bunch\", \"busi\", \"call\", \"call\", \"call\", \"cant\", \"cant\", \"cant\", \"cat\", \"caught\", \"chang\", \"chang\", \"chase\", \"clam\", \"club\", \"cock\", \"color\", \"color\", \"come\", \"come\", \"come\", \"coupl\", \"crazi\", \"crazi\", \"crazi\", \"cream\", \"cross\", \"cunt\", \"cunt\", \"da\", \"da\", \"da\", \"danc\", \"dat\", \"dat\", \"day\", \"day\", \"day\", \"deep\", \"dem\", \"die\", \"die\", \"dis\", \"dis\", \"doe\", \"dont\", \"dont\", \"dont\", \"door\", \"drink\", \"dumb\", \"dyke\", \"eat\", \"eat\", \"eat\", \"either\", \"enough\", \"everi\", \"everi\", \"everi\", \"everyon\", \"everyth\", \"eye\", \"fag\", \"faggot\", \"faggot\", \"faggot\", \"famili\", \"flappi\", \"follow\", \"follow\", \"found\", \"fuck\", \"fuck\", \"fuck\", \"get\", \"get\", \"get\", \"gettin\", \"girl\", \"girl\", \"girl\", \"go\", \"go\", \"go\", \"good\", \"good\", \"good\", \"got\", \"got\", \"got\", \"grade\", \"gun\", \"ha\", \"hes\", \"hes\", \"hoe\", \"hoe\", \"hoe\", \"hurt\", \"ice\", \"idea\", \"ignor\", \"im\", \"im\", \"im\", \"ima\", \"ima\", \"impress\", \"instagram\", \"instead\", \"ion\", \"ion\", \"jig\", \"jihadi\", \"karma\", \"kick\", \"kid\", \"kid\", \"kid\", \"kind\", \"knew\", \"know\", \"know\", \"know\", \"la\", \"lame\", \"late\", \"lie\", \"lie\", \"like\", \"like\", \"like\", \"liter\", \"lol\", \"lol\", \"lol\", \"look\", \"look\", \"look\", \"love\", \"love\", \"love\", \"low\", \"loyal\", \"made\", \"made\", \"make\", \"make\", \"make\", \"man\", \"man\", \"man\", \"match\", \"matter\", \"may\", \"media\", \"mexican\", \"million\", \"mine\", \"minut\", \"monkey\", \"move\", \"movi\", \"nasti\", \"nd\", \"need\", \"need\", \"need\", \"negro\", \"never\", \"never\", \"never\", \"new\", \"new\", \"new\", \"nigga\", \"nigga\", \"nigga\", \"niggah\", \"niggah\", \"niggah\", \"nigguh\", \"one\", \"one\", \"one\", \"order\", \"paper\", \"past\", \"peopl\", \"peopl\", \"peopl\", \"person\", \"person\", \"piss\", \"point\", \"pop\", \"pop\", \"public\", \"pussi\", \"pussi\", \"pussi\", \"put\", \"put\", \"put\", \"rap\", \"rape\", \"ratchet\", \"real\", \"real\", \"real\", \"realli\", \"realli\", \"rest\", \"retard\", \"retard\", \"retard\", \"rick\", \"right\", \"right\", \"right\", \"rt\", \"rt\", \"rt\", \"saw\", \"say\", \"say\", \"say\", \"school\", \"school\", \"scream\", \"see\", \"see\", \"see\", \"seem\", \"self\", \"sell\", \"shit\", \"shit\", \"shit\", \"short\", \"show\", \"show\", \"show\", \"skinni\", \"sleep\", \"slow\", \"social\", \"sometim\", \"soul\", \"star\", \"step\", \"still\", \"still\", \"still\", \"stupid\", \"stupid\", \"sweet\", \"take\", \"take\", \"take\", \"talk\", \"talk\", \"talk\", \"talkin\", \"text\", \"text\", \"tha\", \"think\", \"think\", \"think\", \"thirsti\", \"three\", \"throw\", \"throw\", \"time\", \"time\", \"time\", \"togeth\", \"top\", \"trash\", \"trash\", \"trash\", \"tri\", \"tri\", \"tri\", \"trick\", \"twat\", \"u\", \"u\", \"u\", \"ugli\", \"ugli\", \"ugli\", \"vote\", \"wake\", \"want\", \"want\", \"want\", \"water\", \"water\", \"wet\", \"white\", \"white\", \"white\", \"whole\", \"wish\", \"wish\", \"wish\", \"wont\", \"wont\", \"worst\", \"wouldnt\", \"yall\", \"yall\", \"yall\", \"yes\", \"yo\", \"yo\", \"yo\", \"young\", \"young\"]}, \"R\": 30, \"lambda.step\": 0.01, \"plot.opts\": {\"xlab\": \"PC1\", \"ylab\": \"PC2\"}, \"topic.order\": [2, 3, 1]};\n",
       "\n",
       "function LDAvis_load_lib(url, callback){\n",
       "  var s = document.createElement('script');\n",
       "  s.src = url;\n",
       "  s.async = true;\n",
       "  s.onreadystatechange = s.onload = callback;\n",
       "  s.onerror = function(){console.warn(\"failed to load library \" + url);};\n",
       "  document.getElementsByTagName(\"head\")[0].appendChild(s);\n",
       "}\n",
       "\n",
       "if(typeof(LDAvis) !== \"undefined\"){\n",
       "   // already loaded: just create the visualization\n",
       "   !function(LDAvis){\n",
       "       new LDAvis(\"#\" + \"ldavis_el1063622343938983365204321898\", ldavis_el1063622343938983365204321898_data);\n",
       "   }(LDAvis);\n",
       "}else if(typeof define === \"function\" && define.amd){\n",
       "   // require.js is available: use it to load d3/LDAvis\n",
       "   require.config({paths: {d3: \"https://d3js.org/d3.v5\"}});\n",
       "   require([\"d3\"], function(d3){\n",
       "      window.d3 = d3;\n",
       "      LDAvis_load_lib(\"https://cdn.jsdelivr.net/gh/bmabey/pyLDAvis@3.3.1/pyLDAvis/js/ldavis.v3.0.0.js\", function(){\n",
       "        new LDAvis(\"#\" + \"ldavis_el1063622343938983365204321898\", ldavis_el1063622343938983365204321898_data);\n",
       "      });\n",
       "    });\n",
       "}else{\n",
       "    // require.js not available: dynamically load d3 & LDAvis\n",
       "    LDAvis_load_lib(\"https://d3js.org/d3.v5.js\", function(){\n",
       "         LDAvis_load_lib(\"https://cdn.jsdelivr.net/gh/bmabey/pyLDAvis@3.3.1/pyLDAvis/js/ldavis.v3.0.0.js\", function(){\n",
       "                 new LDAvis(\"#\" + \"ldavis_el1063622343938983365204321898\", ldavis_el1063622343938983365204321898_data);\n",
       "            })\n",
       "         });\n",
       "}\n",
       "</script>"
      ],
      "text/plain": [
       "PreparedData(topic_coordinates=                 x            y  topics  cluster       Freq\n",
       "topic                                                      \n",
       "1     -1015.700562  1338.981201       1        1  62.890211\n",
       "2      -387.996002  -373.316162       2        1  18.928245\n",
       "0     -2184.745605   -60.565800       3        1  18.181543, topic_info=      Term         Freq        Total Category  logprob  loglift\n",
       "19   bitch  1029.000000  1029.000000  Default  30.0000  30.0000\n",
       "17     hoe   819.000000   819.000000  Default  29.0000  29.0000\n",
       "115  pussi   202.000000   202.000000  Default  28.0000  28.0000\n",
       "148    ass   112.000000   112.000000  Default  27.0000  27.0000\n",
       "56      im   153.000000   153.000000  Default  26.0000  26.0000\n",
       "..     ...          ...          ...      ...      ...      ...\n",
       "735   time    15.119044    45.021887   Topic3  -5.6972   0.6136\n",
       "49     got    21.959860   150.093049   Topic3  -5.3240  -0.2173\n",
       "247  think    15.756822    52.408759   Topic3  -5.6559   0.5030\n",
       "48      go    16.607355    80.986264   Topic3  -5.6033   0.1203\n",
       "1      amp    16.417353    93.130824   Topic3  -5.6149  -0.0309\n",
       "\n",
       "[273 rows x 6 columns], token_table=      Topic      Freq   Term\n",
       "term                        \n",
       "3900      1  1.009650    ago\n",
       "1402      1  1.000671     ah\n",
       "137       1  0.809593   aint\n",
       "137       2  0.006228   aint\n",
       "137       3  0.180601   aint\n",
       "...     ...       ...    ...\n",
       "315       1  0.379404     yo\n",
       "315       2  0.151762     yo\n",
       "315       3  0.474256     yo\n",
       "209       1  0.092888  young\n",
       "209       2  0.928879  young\n",
       "\n",
       "[368 rows x 3 columns], R=30, lambda_step=0.01, plot_opts={'xlab': 'PC1', 'ylab': 'PC2'}, topic_order=[2, 3, 1])"
      ]
     },
     "execution_count": 58,
     "metadata": {},
     "output_type": "execute_result"
    }
   ],
   "source": [
    "pyLDAvis.enable_notebook()\n",
    "panel = pyLDAvis.gensim_models.prepare(lda, corpus_lda, dictionary, mds='tsne')\n",
    "panel"
   ]
  },
  {
   "cell_type": "markdown",
   "id": "9f4ab147",
   "metadata": {},
   "source": [
    "# Text Preprocessing\n"
   ]
  },
  {
   "cell_type": "code",
   "execution_count": 59,
   "id": "e1a2e838",
   "metadata": {},
   "outputs": [
    {
     "name": "stdout",
     "output_type": "stream",
     "text": [
      "Each of the 24784 complaints is represented by 6398 features (TF-IDF score of unigrams and bigrams)\n"
     ]
    }
   ],
   "source": [
    "tfidf = TfidfVectorizer(sublinear_tf=True, min_df=5,\n",
    "                        ngram_range=(1, 2), \n",
    "                        stop_words='english')\n",
    "\n",
    "# We transform each complaint into a vector\n",
    "features = tfidf.fit_transform(df.tweet).toarray()\n",
    "\n",
    "labels = df.speech\n",
    "\n",
    "print(\"Each of the %d complaints is represented by %d features (TF-IDF score of unigrams and bigrams)\" %(features.shape))"
   ]
  },
  {
   "cell_type": "markdown",
   "id": "4066c549",
   "metadata": {},
   "source": [
    "# Multi-Classification models\n",
    "The classification models evaluated are:\n",
    "\n",
    "* Random Forest\n",
    "* Linear Support Vector Machine\n",
    "* Multinomial Naive Bayes\n",
    "* Logistic Regression."
   ]
  },
  {
   "cell_type": "markdown",
   "id": "adbae097",
   "metadata": {},
   "source": [
    "## Spliting the data into train and test sets"
   ]
  },
  {
   "cell_type": "code",
   "execution_count": 60,
   "id": "3439ef2a",
   "metadata": {},
   "outputs": [],
   "source": [
    "X = df['tweet'] # Collection of documents\n",
    "y = df['speech'] # Target or the labels we want to predict (i.e., the 3 different complaints of Hate Speech)\n",
    "\n",
    "X_train, X_test, y_train, y_test = train_test_split(X, y, \n",
    "                                                    test_size=0.25,\n",
    "                                                    random_state = 0)"
   ]
  },
  {
   "cell_type": "markdown",
   "id": "46da35ce",
   "metadata": {},
   "source": [
    "## Models"
   ]
  },
  {
   "cell_type": "code",
   "execution_count": null,
   "id": "fa2b31ea",
   "metadata": {},
   "outputs": [],
   "source": [
    "models = [\n",
    "    RandomForestClassifier(n_estimators=100, max_depth=5, random_state=0),\n",
    "    LinearSVC(),\n",
    "    MultinomialNB(),\n",
    "    LogisticRegression(random_state=0),\n",
    "]\n",
    "\n",
    "# 5 Cross-validation\n",
    "CV = 5\n",
    "cv_df = pd.DataFrame(index=range(CV * len(models)))\n",
    "\n",
    "entries = []\n",
    "for model in models:\n",
    "  model_name = model.__class__.__name__\n",
    "  accuracies = cross_val_score(model, features, labels, scoring='accuracy', cv=CV)\n",
    "  for fold_idx, accuracy in enumerate(accuracies):\n",
    "    entries.append((model_name, fold_idx, accuracy))\n",
    "    \n",
    "cv_df = pd.DataFrame(entries, columns=['model_name', 'fold_idx', 'accuracy'])"
   ]
  },
  {
   "cell_type": "markdown",
   "id": "b893e5d7",
   "metadata": {},
   "source": [
    "### Comparison of model performance"
   ]
  },
  {
   "cell_type": "code",
   "execution_count": null,
   "id": "6836c116",
   "metadata": {},
   "outputs": [],
   "source": [
    "mean_accuracy = cv_df.groupby('model_name').accuracy.mean()\n",
    "std_accuracy = cv_df.groupby('model_name').accuracy.std()\n",
    "\n",
    "acc = pd.concat([mean_accuracy, std_accuracy], axis= 1, \n",
    "          ignore_index=True)\n",
    "acc.columns = ['Mean Accuracy', 'Standard deviation']\n",
    "acc"
   ]
  },
  {
   "cell_type": "code",
   "execution_count": null,
   "id": "c7c23bb2",
   "metadata": {},
   "outputs": [],
   "source": [
    "plt.figure(figsize=(8,5))\n",
    "sns.boxplot(x='model_name', y='accuracy', \n",
    "            data=cv_df, \n",
    "            color='lightblue', \n",
    "            showmeans=True)\n",
    "plt.title(\"MEAN ACCURACY (cv = 5)\\n\", size=14);"
   ]
  },
  {
   "cell_type": "markdown",
   "id": "54350894",
   "metadata": {},
   "source": [
    "## Model Evaluation\n"
   ]
  },
  {
   "cell_type": "code",
   "execution_count": null,
   "id": "1544381d",
   "metadata": {},
   "outputs": [],
   "source": [
    "X_train, X_test, y_train, y_test,indices_train,indices_test = train_test_split(features, \n",
    "                                                               labels, \n",
    "                                                               df.index, test_size=0.25, \n",
    "                                                               random_state=1)"
   ]
  },
  {
   "cell_type": "code",
   "execution_count": null,
   "id": "1655da12",
   "metadata": {},
   "outputs": [],
   "source": [
    "model = LinearSVC()\n",
    "model.fit(X_train, y_train)\n",
    "y_pred = model.predict(X_test)"
   ]
  },
  {
   "cell_type": "code",
   "execution_count": null,
   "id": "d1f824d9",
   "metadata": {},
   "outputs": [],
   "source": [
    "model2 = MultinomialNB()\n",
    "model2.fit(X_train, y_train)\n",
    "y_pred2 = model.predict(X_test)"
   ]
  },
  {
   "cell_type": "code",
   "execution_count": null,
   "id": "bfdc0cbd",
   "metadata": {},
   "outputs": [],
   "source": [
    "model3 = LogisticRegression(random_state=0)\n",
    "model3.fit(X_train, y_train)\n",
    "y_pred3 = model3.predict(X_test)"
   ]
  },
  {
   "cell_type": "code",
   "execution_count": null,
   "id": "4fd2771c",
   "metadata": {},
   "outputs": [],
   "source": [
    "model4 = RandomForestClassifier(n_estimators=100, max_depth=5, random_state=0)\n",
    "model4.fit(X_train, y_train)\n",
    "y_pred4 = model4.predict(X_test)"
   ]
  },
  {
   "cell_type": "code",
   "execution_count": null,
   "id": "b5760383",
   "metadata": {},
   "outputs": [],
   "source": []
  },
  {
   "cell_type": "code",
   "execution_count": null,
   "id": "c701e2b0",
   "metadata": {},
   "outputs": [],
   "source": [
    "df2"
   ]
  },
  {
   "cell_type": "markdown",
   "id": "4a3af965",
   "metadata": {},
   "source": [
    "# Precision, Recall, F1-score"
   ]
  },
  {
   "cell_type": "markdown",
   "id": "e70ba3c3",
   "metadata": {},
   "source": [
    "### Logistic Regression"
   ]
  },
  {
   "cell_type": "code",
   "execution_count": null,
   "id": "cab65cb1",
   "metadata": {},
   "outputs": [],
   "source": [
    "# Classification report\n",
    "print('\\t\\t\\t\\tCLASSIFICATIION METRICS\\n')\n",
    "print(metrics.classification_report(y_test, y_pred, \n",
    "                                    target_names= df2['type'].unique()))"
   ]
  },
  {
   "cell_type": "markdown",
   "id": "1fc474b9",
   "metadata": {},
   "source": [
    "### NB Classifier"
   ]
  },
  {
   "cell_type": "code",
   "execution_count": null,
   "id": "53ce6f62",
   "metadata": {},
   "outputs": [],
   "source": [
    "# Classification report\n",
    "print('\\t\\t\\t\\tCLASSIFICATIION METRICS\\n')\n",
    "print(metrics.classification_report(y_test, y_pred2, \n",
    "                                    target_names= df2['type'].unique()))"
   ]
  },
  {
   "cell_type": "markdown",
   "id": "10e9d51b",
   "metadata": {},
   "source": [
    "## LinearSVC"
   ]
  },
  {
   "cell_type": "code",
   "execution_count": null,
   "id": "5533ee22",
   "metadata": {},
   "outputs": [],
   "source": [
    "# Classification report\n",
    "print('\\t\\t\\t\\tCLASSIFICATIION METRICS\\n')\n",
    "print(metrics.classification_report(y_test, y_pred3, \n",
    "                                    target_names= df2['type'].unique()))"
   ]
  },
  {
   "cell_type": "markdown",
   "id": "49f0ce49",
   "metadata": {},
   "source": [
    "### RandomForest Classifier"
   ]
  },
  {
   "cell_type": "code",
   "execution_count": null,
   "id": "cac0d8b4",
   "metadata": {},
   "outputs": [],
   "source": [
    "# Classification report\n",
    "print('\\t\\t\\t\\tCLASSIFICATIION METRICS\\n')\n",
    "print(metrics.classification_report(y_test, y_pred4, \n",
    "                                    target_names= df2['type'].unique()))"
   ]
  },
  {
   "cell_type": "markdown",
   "id": "8acecdf3",
   "metadata": {},
   "source": [
    "## Predictions"
   ]
  },
  {
   "cell_type": "code",
   "execution_count": null,
   "id": "93e440b0",
   "metadata": {},
   "outputs": [],
   "source": [
    "X_train, X_test, y_train, y_test = train_test_split(X, y, \n",
    "                                                    test_size=0.25,\n",
    "                                                    random_state = 0)\n",
    "\n",
    "tfidf = TfidfVectorizer(sublinear_tf=True, min_df=5,\n",
    "                        ngram_range=(1, 2), \n",
    "                        stop_words='english')\n",
    "\n",
    "fitted_vectorizer = tfidf.fit(X_train)\n",
    "tfidf_vectorizer_vectors = fitted_vectorizer.transform(X_train)\n",
    "\n",
    "model = LinearSVC().fit(tfidf_vectorizer_vectors, y_train)"
   ]
  },
  {
   "cell_type": "code",
   "execution_count": null,
   "id": "583282e0",
   "metadata": {},
   "outputs": [],
   "source": [
    "\n",
    "tweet = \"\"\"I will kill you\"\"\"\n",
    "num=model.predict(fitted_vectorizer.transform([tweet]))\n",
    "if num == 0:\n",
    "    print(\"Hate Speech\")\n",
    "elif num == 1:\n",
    "    print(\"Offensive Speech\")\n",
    "else:\n",
    "    print(\"Normal Speech\")"
   ]
  },
  {
   "cell_type": "code",
   "execution_count": null,
   "id": "48df7542",
   "metadata": {},
   "outputs": [],
   "source": [
    "\n",
    "tweet2 = \"\"\"I hate this country\"\"\"\n",
    "num=model.predict(fitted_vectorizer.transform([tweet2]))\n",
    "if num == 0:\n",
    "    print(\"Hate Speech\")\n",
    "elif num == 1:\n",
    "    print(\"Offensive Speech\")\n",
    "else:\n",
    "    print(\"Normal Speech\")"
   ]
  },
  {
   "cell_type": "code",
   "execution_count": null,
   "id": "24aa6fc0",
   "metadata": {},
   "outputs": [],
   "source": [
    "tweet3 = \"\"\"Have a nice day\"\"\"\n",
    "num=model.predict(fitted_vectorizer.transform([tweet3]))\n",
    "if num == 0:\n",
    "    print(\"Hate Speech\")\n",
    "elif num == 1:\n",
    "    print(\"Offensive Speech\")\n",
    "else:\n",
    "    print(\"Normal Speech\")"
   ]
  },
  {
   "cell_type": "code",
   "execution_count": null,
   "id": "c4efc09d",
   "metadata": {},
   "outputs": [],
   "source": [
    "\n",
    "tweet4 = \"\"\"You pice of shit\"\"\"\n",
    "num=model.predict(fitted_vectorizer.transform([tweet4]))\n",
    "if num == 0:\n",
    "    print(\"Hate Speech\")\n",
    "elif num == 1:\n",
    "    print(\"Offensive Speech\")\n",
    "else:\n",
    "    print(\"Normal Speech\")"
   ]
  },
  {
   "cell_type": "code",
   "execution_count": null,
   "id": "314900c8",
   "metadata": {},
   "outputs": [],
   "source": [
    "tweet5 = \"\"\"She's got to get pregnant first and *then* Robyn gets to have that *sweet sweet* titty milk\"\"\"\n",
    "num=(model.predict(fitted_vectorizer.transform([tweet5])))\n",
    "if num == 0:\n",
    "    print(\"Hate Speech\")\n",
    "elif num == 1:\n",
    "    print(\"Offensive Speech\")\n",
    "else:\n",
    "    print(\"Normal Speech\")"
   ]
  },
  {
   "cell_type": "code",
   "execution_count": null,
   "id": "8856bd39",
   "metadata": {},
   "outputs": [],
   "source": [
    "tweet5 = \"\"\"I have gun \"\"\"\n",
    "num=(model.predict(fitted_vectorizer.transform([tweet5])))\n",
    "if num == 0:\n",
    "    print(\"Hate Speech\")\n",
    "elif num == 1:\n",
    "    print(\"Offensive Speech\")\n",
    "else:\n",
    "    print(\"Normal Speech\")"
   ]
  },
  {
   "cell_type": "code",
   "execution_count": null,
   "id": "134e2899",
   "metadata": {},
   "outputs": [],
   "source": []
  }
 ],
 "metadata": {
  "kernelspec": {
   "display_name": "Python 3 (ipykernel)",
   "language": "python",
   "name": "python3"
  },
  "language_info": {
   "codemirror_mode": {
    "name": "ipython",
    "version": 3
   },
   "file_extension": ".py",
   "mimetype": "text/x-python",
   "name": "python",
   "nbconvert_exporter": "python",
   "pygments_lexer": "ipython3",
   "version": "3.9.7"
  }
 },
 "nbformat": 4,
 "nbformat_minor": 5
}
