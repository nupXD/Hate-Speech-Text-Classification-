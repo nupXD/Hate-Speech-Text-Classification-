{
 "cells": [
  {
   "cell_type": "markdown",
   "id": "801ef69e",
   "metadata": {},
   "source": [
    "# Hate speech classification"
   ]
  },
  {
   "cell_type": "code",
   "execution_count": 1,
   "id": "f5162db3",
   "metadata": {},
   "outputs": [
    {
     "data": {
      "text/html": [
       "\n",
       "    <div class=\"bk-root\">\n",
       "        <a href=\"https://bokeh.org\" target=\"_blank\" class=\"bk-logo bk-logo-small bk-logo-notebook\"></a>\n",
       "        <span id=\"1002\">Loading BokehJS ...</span>\n",
       "    </div>"
      ]
     },
     "metadata": {},
     "output_type": "display_data"
    },
    {
     "data": {
      "application/javascript": [
       "\n",
       "(function(root) {\n",
       "  function now() {\n",
       "    return new Date();\n",
       "  }\n",
       "\n",
       "  const force = true;\n",
       "\n",
       "  if (typeof root._bokeh_onload_callbacks === \"undefined\" || force === true) {\n",
       "    root._bokeh_onload_callbacks = [];\n",
       "    root._bokeh_is_loading = undefined;\n",
       "  }\n",
       "\n",
       "  const JS_MIME_TYPE = 'application/javascript';\n",
       "  const HTML_MIME_TYPE = 'text/html';\n",
       "  const EXEC_MIME_TYPE = 'application/vnd.bokehjs_exec.v0+json';\n",
       "  const CLASS_NAME = 'output_bokeh rendered_html';\n",
       "\n",
       "  /**\n",
       "   * Render data to the DOM node\n",
       "   */\n",
       "  function render(props, node) {\n",
       "    const script = document.createElement(\"script\");\n",
       "    node.appendChild(script);\n",
       "  }\n",
       "\n",
       "  /**\n",
       "   * Handle when an output is cleared or removed\n",
       "   */\n",
       "  function handleClearOutput(event, handle) {\n",
       "    const cell = handle.cell;\n",
       "\n",
       "    const id = cell.output_area._bokeh_element_id;\n",
       "    const server_id = cell.output_area._bokeh_server_id;\n",
       "    // Clean up Bokeh references\n",
       "    if (id != null && id in Bokeh.index) {\n",
       "      Bokeh.index[id].model.document.clear();\n",
       "      delete Bokeh.index[id];\n",
       "    }\n",
       "\n",
       "    if (server_id !== undefined) {\n",
       "      // Clean up Bokeh references\n",
       "      const cmd_clean = \"from bokeh.io.state import curstate; print(curstate().uuid_to_server['\" + server_id + \"'].get_sessions()[0].document.roots[0]._id)\";\n",
       "      cell.notebook.kernel.execute(cmd_clean, {\n",
       "        iopub: {\n",
       "          output: function(msg) {\n",
       "            const id = msg.content.text.trim();\n",
       "            if (id in Bokeh.index) {\n",
       "              Bokeh.index[id].model.document.clear();\n",
       "              delete Bokeh.index[id];\n",
       "            }\n",
       "          }\n",
       "        }\n",
       "      });\n",
       "      // Destroy server and session\n",
       "      const cmd_destroy = \"import bokeh.io.notebook as ion; ion.destroy_server('\" + server_id + \"')\";\n",
       "      cell.notebook.kernel.execute(cmd_destroy);\n",
       "    }\n",
       "  }\n",
       "\n",
       "  /**\n",
       "   * Handle when a new output is added\n",
       "   */\n",
       "  function handleAddOutput(event, handle) {\n",
       "    const output_area = handle.output_area;\n",
       "    const output = handle.output;\n",
       "\n",
       "    // limit handleAddOutput to display_data with EXEC_MIME_TYPE content only\n",
       "    if ((output.output_type != \"display_data\") || (!Object.prototype.hasOwnProperty.call(output.data, EXEC_MIME_TYPE))) {\n",
       "      return\n",
       "    }\n",
       "\n",
       "    const toinsert = output_area.element.find(\".\" + CLASS_NAME.split(' ')[0]);\n",
       "\n",
       "    if (output.metadata[EXEC_MIME_TYPE][\"id\"] !== undefined) {\n",
       "      toinsert[toinsert.length - 1].firstChild.textContent = output.data[JS_MIME_TYPE];\n",
       "      // store reference to embed id on output_area\n",
       "      output_area._bokeh_element_id = output.metadata[EXEC_MIME_TYPE][\"id\"];\n",
       "    }\n",
       "    if (output.metadata[EXEC_MIME_TYPE][\"server_id\"] !== undefined) {\n",
       "      const bk_div = document.createElement(\"div\");\n",
       "      bk_div.innerHTML = output.data[HTML_MIME_TYPE];\n",
       "      const script_attrs = bk_div.children[0].attributes;\n",
       "      for (let i = 0; i < script_attrs.length; i++) {\n",
       "        toinsert[toinsert.length - 1].firstChild.setAttribute(script_attrs[i].name, script_attrs[i].value);\n",
       "        toinsert[toinsert.length - 1].firstChild.textContent = bk_div.children[0].textContent\n",
       "      }\n",
       "      // store reference to server id on output_area\n",
       "      output_area._bokeh_server_id = output.metadata[EXEC_MIME_TYPE][\"server_id\"];\n",
       "    }\n",
       "  }\n",
       "\n",
       "  function register_renderer(events, OutputArea) {\n",
       "\n",
       "    function append_mime(data, metadata, element) {\n",
       "      // create a DOM node to render to\n",
       "      const toinsert = this.create_output_subarea(\n",
       "        metadata,\n",
       "        CLASS_NAME,\n",
       "        EXEC_MIME_TYPE\n",
       "      );\n",
       "      this.keyboard_manager.register_events(toinsert);\n",
       "      // Render to node\n",
       "      const props = {data: data, metadata: metadata[EXEC_MIME_TYPE]};\n",
       "      render(props, toinsert[toinsert.length - 1]);\n",
       "      element.append(toinsert);\n",
       "      return toinsert\n",
       "    }\n",
       "\n",
       "    /* Handle when an output is cleared or removed */\n",
       "    events.on('clear_output.CodeCell', handleClearOutput);\n",
       "    events.on('delete.Cell', handleClearOutput);\n",
       "\n",
       "    /* Handle when a new output is added */\n",
       "    events.on('output_added.OutputArea', handleAddOutput);\n",
       "\n",
       "    /**\n",
       "     * Register the mime type and append_mime function with output_area\n",
       "     */\n",
       "    OutputArea.prototype.register_mime_type(EXEC_MIME_TYPE, append_mime, {\n",
       "      /* Is output safe? */\n",
       "      safe: true,\n",
       "      /* Index of renderer in `output_area.display_order` */\n",
       "      index: 0\n",
       "    });\n",
       "  }\n",
       "\n",
       "  // register the mime type if in Jupyter Notebook environment and previously unregistered\n",
       "  if (root.Jupyter !== undefined) {\n",
       "    const events = require('base/js/events');\n",
       "    const OutputArea = require('notebook/js/outputarea').OutputArea;\n",
       "\n",
       "    if (OutputArea.prototype.mime_types().indexOf(EXEC_MIME_TYPE) == -1) {\n",
       "      register_renderer(events, OutputArea);\n",
       "    }\n",
       "  }\n",
       "\n",
       "  \n",
       "  if (typeof (root._bokeh_timeout) === \"undefined\" || force === true) {\n",
       "    root._bokeh_timeout = Date.now() + 5000;\n",
       "    root._bokeh_failed_load = false;\n",
       "  }\n",
       "\n",
       "  const NB_LOAD_WARNING = {'data': {'text/html':\n",
       "     \"<div style='background-color: #fdd'>\\n\"+\n",
       "     \"<p>\\n\"+\n",
       "     \"BokehJS does not appear to have successfully loaded. If loading BokehJS from CDN, this \\n\"+\n",
       "     \"may be due to a slow or bad network connection. Possible fixes:\\n\"+\n",
       "     \"</p>\\n\"+\n",
       "     \"<ul>\\n\"+\n",
       "     \"<li>re-rerun `output_notebook()` to attempt to load from CDN again, or</li>\\n\"+\n",
       "     \"<li>use INLINE resources instead, as so:</li>\\n\"+\n",
       "     \"</ul>\\n\"+\n",
       "     \"<code>\\n\"+\n",
       "     \"from bokeh.resources import INLINE\\n\"+\n",
       "     \"output_notebook(resources=INLINE)\\n\"+\n",
       "     \"</code>\\n\"+\n",
       "     \"</div>\"}};\n",
       "\n",
       "  function display_loaded() {\n",
       "    const el = document.getElementById(\"1002\");\n",
       "    if (el != null) {\n",
       "      el.textContent = \"BokehJS is loading...\";\n",
       "    }\n",
       "    if (root.Bokeh !== undefined) {\n",
       "      if (el != null) {\n",
       "        el.textContent = \"BokehJS \" + root.Bokeh.version + \" successfully loaded.\";\n",
       "      }\n",
       "    } else if (Date.now() < root._bokeh_timeout) {\n",
       "      setTimeout(display_loaded, 100)\n",
       "    }\n",
       "  }\n",
       "\n",
       "\n",
       "  function run_callbacks() {\n",
       "    try {\n",
       "      root._bokeh_onload_callbacks.forEach(function(callback) {\n",
       "        if (callback != null)\n",
       "          callback();\n",
       "      });\n",
       "    } finally {\n",
       "      delete root._bokeh_onload_callbacks\n",
       "    }\n",
       "    console.debug(\"Bokeh: all callbacks have finished\");\n",
       "  }\n",
       "\n",
       "  function load_libs(css_urls, js_urls, callback) {\n",
       "    if (css_urls == null) css_urls = [];\n",
       "    if (js_urls == null) js_urls = [];\n",
       "\n",
       "    root._bokeh_onload_callbacks.push(callback);\n",
       "    if (root._bokeh_is_loading > 0) {\n",
       "      console.debug(\"Bokeh: BokehJS is being loaded, scheduling callback at\", now());\n",
       "      return null;\n",
       "    }\n",
       "    if (js_urls == null || js_urls.length === 0) {\n",
       "      run_callbacks();\n",
       "      return null;\n",
       "    }\n",
       "    console.debug(\"Bokeh: BokehJS not loaded, scheduling load and callback at\", now());\n",
       "    root._bokeh_is_loading = css_urls.length + js_urls.length;\n",
       "\n",
       "    function on_load() {\n",
       "      root._bokeh_is_loading--;\n",
       "      if (root._bokeh_is_loading === 0) {\n",
       "        console.debug(\"Bokeh: all BokehJS libraries/stylesheets loaded\");\n",
       "        run_callbacks()\n",
       "      }\n",
       "    }\n",
       "\n",
       "    function on_error(url) {\n",
       "      console.error(\"failed to load \" + url);\n",
       "    }\n",
       "\n",
       "    for (let i = 0; i < css_urls.length; i++) {\n",
       "      const url = css_urls[i];\n",
       "      const element = document.createElement(\"link\");\n",
       "      element.onload = on_load;\n",
       "      element.onerror = on_error.bind(null, url);\n",
       "      element.rel = \"stylesheet\";\n",
       "      element.type = \"text/css\";\n",
       "      element.href = url;\n",
       "      console.debug(\"Bokeh: injecting link tag for BokehJS stylesheet: \", url);\n",
       "      document.body.appendChild(element);\n",
       "    }\n",
       "\n",
       "    for (let i = 0; i < js_urls.length; i++) {\n",
       "      const url = js_urls[i];\n",
       "      const element = document.createElement('script');\n",
       "      element.onload = on_load;\n",
       "      element.onerror = on_error.bind(null, url);\n",
       "      element.async = false;\n",
       "      element.src = url;\n",
       "      console.debug(\"Bokeh: injecting script tag for BokehJS library: \", url);\n",
       "      document.head.appendChild(element);\n",
       "    }\n",
       "  };\n",
       "\n",
       "  function inject_raw_css(css) {\n",
       "    const element = document.createElement(\"style\");\n",
       "    element.appendChild(document.createTextNode(css));\n",
       "    document.body.appendChild(element);\n",
       "  }\n",
       "\n",
       "  \n",
       "  const js_urls = [\"https://cdn.bokeh.org/bokeh/release/bokeh-2.4.1.min.js\", \"https://cdn.bokeh.org/bokeh/release/bokeh-gl-2.4.1.min.js\", \"https://cdn.bokeh.org/bokeh/release/bokeh-widgets-2.4.1.min.js\", \"https://cdn.bokeh.org/bokeh/release/bokeh-tables-2.4.1.min.js\", \"https://cdn.bokeh.org/bokeh/release/bokeh-mathjax-2.4.1.min.js\"];\n",
       "  const css_urls = [];\n",
       "  \n",
       "\n",
       "  const inline_js = [\n",
       "    function(Bokeh) {\n",
       "      Bokeh.set_log_level(\"info\");\n",
       "    },\n",
       "    function(Bokeh) {\n",
       "    \n",
       "    \n",
       "    }\n",
       "  ];\n",
       "\n",
       "  function run_inline_js() {\n",
       "    \n",
       "    if (root.Bokeh !== undefined || force === true) {\n",
       "      \n",
       "    for (let i = 0; i < inline_js.length; i++) {\n",
       "      inline_js[i].call(root, root.Bokeh);\n",
       "    }\n",
       "    if (force === true) {\n",
       "        display_loaded();\n",
       "      }} else if (Date.now() < root._bokeh_timeout) {\n",
       "      setTimeout(run_inline_js, 100);\n",
       "    } else if (!root._bokeh_failed_load) {\n",
       "      console.log(\"Bokeh: BokehJS failed to load within specified timeout.\");\n",
       "      root._bokeh_failed_load = true;\n",
       "    } else if (force !== true) {\n",
       "      const cell = $(document.getElementById(\"1002\")).parents('.cell').data().cell;\n",
       "      cell.output_area.append_execute_result(NB_LOAD_WARNING)\n",
       "    }\n",
       "\n",
       "  }\n",
       "\n",
       "  if (root._bokeh_is_loading === 0) {\n",
       "    console.debug(\"Bokeh: BokehJS loaded, going straight to plotting\");\n",
       "    run_inline_js();\n",
       "  } else {\n",
       "    load_libs(css_urls, js_urls, function() {\n",
       "      console.debug(\"Bokeh: BokehJS plotting callback run at\", now());\n",
       "      run_inline_js();\n",
       "    });\n",
       "  }\n",
       "}(window));"
      ],
      "application/vnd.bokehjs_load.v0+json": "\n(function(root) {\n  function now() {\n    return new Date();\n  }\n\n  const force = true;\n\n  if (typeof root._bokeh_onload_callbacks === \"undefined\" || force === true) {\n    root._bokeh_onload_callbacks = [];\n    root._bokeh_is_loading = undefined;\n  }\n\n  \n\n  \n  if (typeof (root._bokeh_timeout) === \"undefined\" || force === true) {\n    root._bokeh_timeout = Date.now() + 5000;\n    root._bokeh_failed_load = false;\n  }\n\n  const NB_LOAD_WARNING = {'data': {'text/html':\n     \"<div style='background-color: #fdd'>\\n\"+\n     \"<p>\\n\"+\n     \"BokehJS does not appear to have successfully loaded. If loading BokehJS from CDN, this \\n\"+\n     \"may be due to a slow or bad network connection. Possible fixes:\\n\"+\n     \"</p>\\n\"+\n     \"<ul>\\n\"+\n     \"<li>re-rerun `output_notebook()` to attempt to load from CDN again, or</li>\\n\"+\n     \"<li>use INLINE resources instead, as so:</li>\\n\"+\n     \"</ul>\\n\"+\n     \"<code>\\n\"+\n     \"from bokeh.resources import INLINE\\n\"+\n     \"output_notebook(resources=INLINE)\\n\"+\n     \"</code>\\n\"+\n     \"</div>\"}};\n\n  function display_loaded() {\n    const el = document.getElementById(\"1002\");\n    if (el != null) {\n      el.textContent = \"BokehJS is loading...\";\n    }\n    if (root.Bokeh !== undefined) {\n      if (el != null) {\n        el.textContent = \"BokehJS \" + root.Bokeh.version + \" successfully loaded.\";\n      }\n    } else if (Date.now() < root._bokeh_timeout) {\n      setTimeout(display_loaded, 100)\n    }\n  }\n\n\n  function run_callbacks() {\n    try {\n      root._bokeh_onload_callbacks.forEach(function(callback) {\n        if (callback != null)\n          callback();\n      });\n    } finally {\n      delete root._bokeh_onload_callbacks\n    }\n    console.debug(\"Bokeh: all callbacks have finished\");\n  }\n\n  function load_libs(css_urls, js_urls, callback) {\n    if (css_urls == null) css_urls = [];\n    if (js_urls == null) js_urls = [];\n\n    root._bokeh_onload_callbacks.push(callback);\n    if (root._bokeh_is_loading > 0) {\n      console.debug(\"Bokeh: BokehJS is being loaded, scheduling callback at\", now());\n      return null;\n    }\n    if (js_urls == null || js_urls.length === 0) {\n      run_callbacks();\n      return null;\n    }\n    console.debug(\"Bokeh: BokehJS not loaded, scheduling load and callback at\", now());\n    root._bokeh_is_loading = css_urls.length + js_urls.length;\n\n    function on_load() {\n      root._bokeh_is_loading--;\n      if (root._bokeh_is_loading === 0) {\n        console.debug(\"Bokeh: all BokehJS libraries/stylesheets loaded\");\n        run_callbacks()\n      }\n    }\n\n    function on_error(url) {\n      console.error(\"failed to load \" + url);\n    }\n\n    for (let i = 0; i < css_urls.length; i++) {\n      const url = css_urls[i];\n      const element = document.createElement(\"link\");\n      element.onload = on_load;\n      element.onerror = on_error.bind(null, url);\n      element.rel = \"stylesheet\";\n      element.type = \"text/css\";\n      element.href = url;\n      console.debug(\"Bokeh: injecting link tag for BokehJS stylesheet: \", url);\n      document.body.appendChild(element);\n    }\n\n    for (let i = 0; i < js_urls.length; i++) {\n      const url = js_urls[i];\n      const element = document.createElement('script');\n      element.onload = on_load;\n      element.onerror = on_error.bind(null, url);\n      element.async = false;\n      element.src = url;\n      console.debug(\"Bokeh: injecting script tag for BokehJS library: \", url);\n      document.head.appendChild(element);\n    }\n  };\n\n  function inject_raw_css(css) {\n    const element = document.createElement(\"style\");\n    element.appendChild(document.createTextNode(css));\n    document.body.appendChild(element);\n  }\n\n  \n  const js_urls = [\"https://cdn.bokeh.org/bokeh/release/bokeh-2.4.1.min.js\", \"https://cdn.bokeh.org/bokeh/release/bokeh-gl-2.4.1.min.js\", \"https://cdn.bokeh.org/bokeh/release/bokeh-widgets-2.4.1.min.js\", \"https://cdn.bokeh.org/bokeh/release/bokeh-tables-2.4.1.min.js\", \"https://cdn.bokeh.org/bokeh/release/bokeh-mathjax-2.4.1.min.js\"];\n  const css_urls = [];\n  \n\n  const inline_js = [\n    function(Bokeh) {\n      Bokeh.set_log_level(\"info\");\n    },\n    function(Bokeh) {\n    \n    \n    }\n  ];\n\n  function run_inline_js() {\n    \n    if (root.Bokeh !== undefined || force === true) {\n      \n    for (let i = 0; i < inline_js.length; i++) {\n      inline_js[i].call(root, root.Bokeh);\n    }\n    if (force === true) {\n        display_loaded();\n      }} else if (Date.now() < root._bokeh_timeout) {\n      setTimeout(run_inline_js, 100);\n    } else if (!root._bokeh_failed_load) {\n      console.log(\"Bokeh: BokehJS failed to load within specified timeout.\");\n      root._bokeh_failed_load = true;\n    } else if (force !== true) {\n      const cell = $(document.getElementById(\"1002\")).parents('.cell').data().cell;\n      cell.output_area.append_execute_result(NB_LOAD_WARNING)\n    }\n\n  }\n\n  if (root._bokeh_is_loading === 0) {\n    console.debug(\"Bokeh: BokehJS loaded, going straight to plotting\");\n    run_inline_js();\n  } else {\n    load_libs(css_urls, js_urls, function() {\n      console.debug(\"Bokeh: BokehJS plotting callback run at\", now());\n      run_inline_js();\n    });\n  }\n}(window));"
     },
     "metadata": {},
     "output_type": "display_data"
    }
   ],
   "source": [
    "# Importing all the model required\n",
    "\n",
    "import pandas as pd\n",
    "import numpy as np\n",
    "from scipy.stats import randint\n",
    "import seaborn as sns # used for plot interactive graph. \n",
    "import matplotlib.pyplot as plt\n",
    "import seaborn as sns\n",
    "from io import StringIO\n",
    "from sklearn.feature_extraction.text import TfidfVectorizer\n",
    "from sklearn.feature_selection import chi2\n",
    "from IPython.display import display\n",
    "from sklearn.model_selection import train_test_split\n",
    "from sklearn.feature_extraction.text import TfidfTransformer\n",
    "from sklearn.naive_bayes import MultinomialNB\n",
    "from sklearn.linear_model import LogisticRegression\n",
    "from sklearn.ensemble import RandomForestClassifier\n",
    "from sklearn.svm import LinearSVC\n",
    "from sklearn.model_selection import cross_val_score\n",
    "from sklearn.metrics import confusion_matrix\n",
    "from sklearn import metrics\n",
    "\n",
    "import matplotlib.mlab as mlab\n",
    "import plotly.express as px\n",
    "import seaborn as sb\n",
    "import gensim as ge\n",
    "import pyLDAvis.gensim_models\n",
    "import warnings\n",
    "warnings.filterwarnings(\"ignore\")\n",
    "\n",
    "\n",
    "\n",
    "from sklearn.feature_extraction.text import CountVectorizer\n",
    "from textblob import TextBlob\n",
    "import scipy.stats as stats\n",
    "import nltk\n",
    "from nltk import word_tokenize,sent_tokenize\n",
    "from nltk.corpus import stopwords\n",
    "\n",
    "from sklearn.decomposition import TruncatedSVD\n",
    "from sklearn.decomposition import LatentDirichletAllocation\n",
    "from sklearn.manifold import TSNE\n",
    "from bokeh.plotting import figure, output_file, show\n",
    "from bokeh.models import Label\n",
    "from bokeh.io import output_notebook\n",
    "from collections import Counter,OrderedDict\n",
    "import ast\n",
    "output_notebook()\n",
    "\n",
    "\n",
    "import nltk\n",
    "import re\n",
    "import string\n",
    "from string import punctuation\n",
    "from gensim import corpora,models,similarities\n",
    "%matplotlib inline"
   ]
  },
  {
   "cell_type": "code",
   "execution_count": 2,
   "id": "3720ccb0",
   "metadata": {},
   "outputs": [
    {
     "data": {
      "text/plain": [
       "(24783, 7)"
      ]
     },
     "execution_count": 2,
     "metadata": {},
     "output_type": "execute_result"
    }
   ],
   "source": [
    "# loading data\n",
    "df = pd.read_csv('hate_speech.csv')\n",
    "df.shape"
   ]
  },
  {
   "cell_type": "markdown",
   "id": "bb4b2000",
   "metadata": {},
   "source": [
    "## Exploratory Data Analysis (EDA) and Feature Engineering"
   ]
  },
  {
   "cell_type": "code",
   "execution_count": 3,
   "id": "8cee48bd",
   "metadata": {},
   "outputs": [
    {
     "data": {
      "text/html": [
       "<div>\n",
       "<style scoped>\n",
       "    .dataframe tbody tr th:only-of-type {\n",
       "        vertical-align: middle;\n",
       "    }\n",
       "\n",
       "    .dataframe tbody tr th {\n",
       "        vertical-align: top;\n",
       "    }\n",
       "\n",
       "    .dataframe thead th {\n",
       "        text-align: right;\n",
       "    }\n",
       "</style>\n",
       "<table border=\"1\" class=\"dataframe\">\n",
       "  <thead>\n",
       "    <tr style=\"text-align: right;\">\n",
       "      <th></th>\n",
       "      <th>Unnamed: 0</th>\n",
       "      <th>count</th>\n",
       "      <th>hate_speech</th>\n",
       "      <th>offensive_language</th>\n",
       "      <th>neither</th>\n",
       "      <th>speech</th>\n",
       "      <th>tweet</th>\n",
       "    </tr>\n",
       "  </thead>\n",
       "  <tbody>\n",
       "    <tr>\n",
       "      <th>0</th>\n",
       "      <td>0</td>\n",
       "      <td>3</td>\n",
       "      <td>0</td>\n",
       "      <td>0</td>\n",
       "      <td>3</td>\n",
       "      <td>2</td>\n",
       "      <td>!!! RT @mayasolovely: As a woman you shouldn't...</td>\n",
       "    </tr>\n",
       "    <tr>\n",
       "      <th>1</th>\n",
       "      <td>1</td>\n",
       "      <td>3</td>\n",
       "      <td>0</td>\n",
       "      <td>3</td>\n",
       "      <td>0</td>\n",
       "      <td>1</td>\n",
       "      <td>!!!!! RT @mleew17: boy dats cold...tyga dwn ba...</td>\n",
       "    </tr>\n",
       "    <tr>\n",
       "      <th>2</th>\n",
       "      <td>2</td>\n",
       "      <td>3</td>\n",
       "      <td>0</td>\n",
       "      <td>3</td>\n",
       "      <td>0</td>\n",
       "      <td>1</td>\n",
       "      <td>!!!!!!! RT @UrKindOfBrand Dawg!!!! RT @80sbaby...</td>\n",
       "    </tr>\n",
       "    <tr>\n",
       "      <th>3</th>\n",
       "      <td>3</td>\n",
       "      <td>3</td>\n",
       "      <td>0</td>\n",
       "      <td>2</td>\n",
       "      <td>1</td>\n",
       "      <td>1</td>\n",
       "      <td>!!!!!!!!! RT @C_G_Anderson: @viva_based she lo...</td>\n",
       "    </tr>\n",
       "    <tr>\n",
       "      <th>4</th>\n",
       "      <td>4</td>\n",
       "      <td>6</td>\n",
       "      <td>0</td>\n",
       "      <td>6</td>\n",
       "      <td>0</td>\n",
       "      <td>1</td>\n",
       "      <td>!!!!!!!!!!!!! RT @ShenikaRoberts: The shit you...</td>\n",
       "    </tr>\n",
       "  </tbody>\n",
       "</table>\n",
       "</div>"
      ],
      "text/plain": [
       "   Unnamed: 0  count  hate_speech  offensive_language  neither  speech  \\\n",
       "0           0      3            0                   0        3       2   \n",
       "1           1      3            0                   3        0       1   \n",
       "2           2      3            0                   3        0       1   \n",
       "3           3      3            0                   2        1       1   \n",
       "4           4      6            0                   6        0       1   \n",
       "\n",
       "                                               tweet  \n",
       "0  !!! RT @mayasolovely: As a woman you shouldn't...  \n",
       "1  !!!!! RT @mleew17: boy dats cold...tyga dwn ba...  \n",
       "2  !!!!!!! RT @UrKindOfBrand Dawg!!!! RT @80sbaby...  \n",
       "3  !!!!!!!!! RT @C_G_Anderson: @viva_based she lo...  \n",
       "4  !!!!!!!!!!!!! RT @ShenikaRoberts: The shit you...  "
      ]
     },
     "execution_count": 3,
     "metadata": {},
     "output_type": "execute_result"
    }
   ],
   "source": [
    "df.head() # Columns are shown in rows for easy reading"
   ]
  },
  {
   "cell_type": "code",
   "execution_count": 4,
   "id": "ad9e5dc5",
   "metadata": {},
   "outputs": [
    {
     "data": {
      "text/plain": [
       "(24783, 7)"
      ]
     },
     "execution_count": 4,
     "metadata": {},
     "output_type": "execute_result"
    }
   ],
   "source": [
    "df.shape"
   ]
  },
  {
   "cell_type": "code",
   "execution_count": 5,
   "id": "15aba7e3",
   "metadata": {},
   "outputs": [
    {
     "data": {
      "text/html": [
       "<div>\n",
       "<style scoped>\n",
       "    .dataframe tbody tr th:only-of-type {\n",
       "        vertical-align: middle;\n",
       "    }\n",
       "\n",
       "    .dataframe tbody tr th {\n",
       "        vertical-align: top;\n",
       "    }\n",
       "\n",
       "    .dataframe thead th {\n",
       "        text-align: right;\n",
       "    }\n",
       "</style>\n",
       "<table border=\"1\" class=\"dataframe\">\n",
       "  <thead>\n",
       "    <tr style=\"text-align: right;\">\n",
       "      <th></th>\n",
       "      <th>0</th>\n",
       "      <th>1</th>\n",
       "    </tr>\n",
       "  </thead>\n",
       "  <tbody>\n",
       "    <tr>\n",
       "      <th>Unnamed: 0</th>\n",
       "      <td>0</td>\n",
       "      <td>1</td>\n",
       "    </tr>\n",
       "    <tr>\n",
       "      <th>count</th>\n",
       "      <td>3</td>\n",
       "      <td>3</td>\n",
       "    </tr>\n",
       "    <tr>\n",
       "      <th>hate_speech</th>\n",
       "      <td>0</td>\n",
       "      <td>0</td>\n",
       "    </tr>\n",
       "    <tr>\n",
       "      <th>offensive_language</th>\n",
       "      <td>0</td>\n",
       "      <td>3</td>\n",
       "    </tr>\n",
       "    <tr>\n",
       "      <th>neither</th>\n",
       "      <td>3</td>\n",
       "      <td>0</td>\n",
       "    </tr>\n",
       "    <tr>\n",
       "      <th>speech</th>\n",
       "      <td>2</td>\n",
       "      <td>1</td>\n",
       "    </tr>\n",
       "    <tr>\n",
       "      <th>tweet</th>\n",
       "      <td>!!! RT @mayasolovely: As a woman you shouldn't...</td>\n",
       "      <td>!!!!! RT @mleew17: boy dats cold...tyga dwn ba...</td>\n",
       "    </tr>\n",
       "  </tbody>\n",
       "</table>\n",
       "</div>"
      ],
      "text/plain": [
       "                                                                    0  \\\n",
       "Unnamed: 0                                                          0   \n",
       "count                                                               3   \n",
       "hate_speech                                                         0   \n",
       "offensive_language                                                  0   \n",
       "neither                                                             3   \n",
       "speech                                                              2   \n",
       "tweet               !!! RT @mayasolovely: As a woman you shouldn't...   \n",
       "\n",
       "                                                                    1  \n",
       "Unnamed: 0                                                          1  \n",
       "count                                                               3  \n",
       "hate_speech                                                         0  \n",
       "offensive_language                                                  3  \n",
       "neither                                                             0  \n",
       "speech                                                              1  \n",
       "tweet               !!!!! RT @mleew17: boy dats cold...tyga dwn ba...  "
      ]
     },
     "execution_count": 5,
     "metadata": {},
     "output_type": "execute_result"
    }
   ],
   "source": [
    "df.head(2).T # Columns are shown in rows for easy reading"
   ]
  },
  {
   "cell_type": "code",
   "execution_count": 6,
   "id": "2c690a03",
   "metadata": {},
   "outputs": [
    {
     "data": {
      "text/plain": [
       "Unnamed: 0            0\n",
       "count                 0\n",
       "hate_speech           0\n",
       "offensive_language    0\n",
       "neither               0\n",
       "speech                0\n",
       "tweet                 0\n",
       "dtype: int64"
      ]
     },
     "execution_count": 6,
     "metadata": {},
     "output_type": "execute_result"
    }
   ],
   "source": [
    "df.isnull().sum()"
   ]
  },
  {
   "cell_type": "code",
   "execution_count": 7,
   "id": "48752fe6",
   "metadata": {},
   "outputs": [
    {
     "name": "stdout",
     "output_type": "stream",
     "text": [
      "<class 'pandas.core.frame.DataFrame'>\n",
      "RangeIndex: 24783 entries, 0 to 24782\n",
      "Data columns (total 7 columns):\n",
      " #   Column              Non-Null Count  Dtype \n",
      "---  ------              --------------  ----- \n",
      " 0   Unnamed: 0          24783 non-null  int64 \n",
      " 1   count               24783 non-null  int64 \n",
      " 2   hate_speech         24783 non-null  int64 \n",
      " 3   offensive_language  24783 non-null  int64 \n",
      " 4   neither             24783 non-null  int64 \n",
      " 5   speech              24783 non-null  int64 \n",
      " 6   tweet               24783 non-null  object\n",
      "dtypes: int64(6), object(1)\n",
      "memory usage: 1.3+ MB\n"
     ]
    }
   ],
   "source": [
    "df.info()"
   ]
  },
  {
   "cell_type": "code",
   "execution_count": 8,
   "id": "d5c60e1c",
   "metadata": {},
   "outputs": [
    {
     "data": {
      "text/plain": [
       "Unnamed: 0            0\n",
       "count                 0\n",
       "hate_speech           0\n",
       "offensive_language    0\n",
       "neither               0\n",
       "speech                0\n",
       "tweet                 0\n",
       "dtype: int64"
      ]
     },
     "execution_count": 8,
     "metadata": {},
     "output_type": "execute_result"
    }
   ],
   "source": [
    "df.isna().sum()"
   ]
  },
  {
   "cell_type": "code",
   "execution_count": 9,
   "id": "9ed0e4ca",
   "metadata": {},
   "outputs": [
    {
     "data": {
      "text/plain": [
       "array([2, 1, 0], dtype=int64)"
      ]
     },
     "execution_count": 9,
     "metadata": {},
     "output_type": "execute_result"
    }
   ],
   "source": [
    "df['speech'].unique()"
   ]
  },
  {
   "cell_type": "code",
   "execution_count": 10,
   "id": "257d20c8",
   "metadata": {},
   "outputs": [
    {
     "data": {
      "image/png": "[encoded data removed]",
      "text/plain": [
       "<PIL.Image.Image image mode=RGB size=400x200 at 0x219398987C0>"
      ]
     },
     "execution_count": 10,
     "metadata": {},
     "output_type": "execute_result"
    }
   ],
   "source": [
    "# Importing word cloud\n",
    "from wordcloud import WordCloud\n",
    "\n",
    "#Creating wordcloud object\n",
    "wordcloud=WordCloud(background_color='white',max_words=5000,contour_width=6,contour_color='grey')\n",
    "\n",
    "#Generating wordcloud \n",
    "wordcloud.generate(str(df['tweet']))\n",
    "\n",
    "wordcloud.to_image()"
   ]
  },
  {
   "cell_type": "code",
   "execution_count": 11,
   "id": "ef563f16",
   "metadata": {},
   "outputs": [
    {
     "data": {
      "text/plain": [
       "100.0"
      ]
     },
     "execution_count": 11,
     "metadata": {},
     "output_type": "execute_result"
    }
   ],
   "source": [
    "# Percentage of complaints with text\n",
    "total = df['speech'].notnull().sum()\n",
    "round((total/len(df)*100),1)"
   ]
  },
  {
   "cell_type": "code",
   "execution_count": 12,
   "id": "c45cad42",
   "metadata": {},
   "outputs": [
    {
     "data": {
      "text/plain": [
       "<AxesSubplot:xlabel='speech', ylabel='count'>"
      ]
     },
     "execution_count": 12,
     "metadata": {},
     "output_type": "execute_result"
    },
    {
     "data": {
      "image/png": "[encoded data removed]",
      "text/plain": [
       "<Figure size 432x288 with 1 Axes>"
      ]
     },
     "metadata": {
      "needs_background": "light"
     },
     "output_type": "display_data"
    }
   ],
   "source": [
    "sns.countplot('speech',data=df)"
   ]
  },
  {
   "cell_type": "code",
   "execution_count": 13,
   "id": "7461ae95",
   "metadata": {},
   "outputs": [],
   "source": [
    "df2=df.drop(['Unnamed: 0','count','hate_speech','offensive_language','neither'],axis=1,inplace=True)"
   ]
  },
  {
   "cell_type": "markdown",
   "id": "d1445497",
   "metadata": {},
   "source": [
    "## Text Classification"
   ]
  },
  {
   "cell_type": "code",
   "execution_count": 14,
   "id": "9c5857d9",
   "metadata": {},
   "outputs": [],
   "source": [
    "import re\n",
    "import nltk\n",
    "stemmer = nltk.SnowballStemmer(\"english\")\n",
    "from nltk.corpus import stopwords\n",
    "import string\n",
    "stopword=set(stopwords.words('english'))"
   ]
  },
  {
   "cell_type": "code",
   "execution_count": 15,
   "id": "ad5fb0ce",
   "metadata": {},
   "outputs": [],
   "source": [
    "def clean_text(text):\n",
    "    text = str(text).lower()\n",
    "    text = re.sub('\\[.*?\\]', '', text)\n",
    "    text = re.sub('https?://\\S+|www\\.\\S+', '', text)\n",
    "    text = re.sub('<.*?>+', '', text)\n",
    "    text = re.sub('[%s]' % re.escape(string.punctuation), '', text)\n",
    "    text = re.sub('\\n', '', text)\n",
    "    text = re.sub('\\w*\\d\\w*', '', text)\n",
    "    text = [word for word in text.split(' ') if word not in stopword]\n",
    "    text=\" \".join(text)\n",
    "    text = [stemmer.stem(word) for word in text.split(' ')]\n",
    "    text=\" \".join(text)\n",
    "    return text"
   ]
  },
  {
   "cell_type": "code",
   "execution_count": 16,
   "id": "ffacfb2a",
   "metadata": {},
   "outputs": [
    {
     "data": {
      "text/html": [
       "<div>\n",
       "<style scoped>\n",
       "    .dataframe tbody tr th:only-of-type {\n",
       "        vertical-align: middle;\n",
       "    }\n",
       "\n",
       "    .dataframe tbody tr th {\n",
       "        vertical-align: top;\n",
       "    }\n",
       "\n",
       "    .dataframe thead th {\n",
       "        text-align: right;\n",
       "    }\n",
       "</style>\n",
       "<table border=\"1\" class=\"dataframe\">\n",
       "  <thead>\n",
       "    <tr style=\"text-align: right;\">\n",
       "      <th></th>\n",
       "      <th>speech</th>\n",
       "      <th>tweet</th>\n",
       "    </tr>\n",
       "  </thead>\n",
       "  <tbody>\n",
       "    <tr>\n",
       "      <th>0</th>\n",
       "      <td>2</td>\n",
       "      <td>!!! RT @mayasolovely: As a woman you shouldn't...</td>\n",
       "    </tr>\n",
       "    <tr>\n",
       "      <th>1</th>\n",
       "      <td>1</td>\n",
       "      <td>!!!!! RT @mleew17: boy dats cold...tyga dwn ba...</td>\n",
       "    </tr>\n",
       "    <tr>\n",
       "      <th>2</th>\n",
       "      <td>1</td>\n",
       "      <td>!!!!!!! RT @UrKindOfBrand Dawg!!!! RT @80sbaby...</td>\n",
       "    </tr>\n",
       "    <tr>\n",
       "      <th>3</th>\n",
       "      <td>1</td>\n",
       "      <td>!!!!!!!!! RT @C_G_Anderson: @viva_based she lo...</td>\n",
       "    </tr>\n",
       "    <tr>\n",
       "      <th>4</th>\n",
       "      <td>1</td>\n",
       "      <td>!!!!!!!!!!!!! RT @ShenikaRoberts: The shit you...</td>\n",
       "    </tr>\n",
       "    <tr>\n",
       "      <th>...</th>\n",
       "      <td>...</td>\n",
       "      <td>...</td>\n",
       "    </tr>\n",
       "    <tr>\n",
       "      <th>24778</th>\n",
       "      <td>1</td>\n",
       "      <td>you's a muthaf***in lie &amp;#8220;@LifeAsKing: @2...</td>\n",
       "    </tr>\n",
       "    <tr>\n",
       "      <th>24779</th>\n",
       "      <td>2</td>\n",
       "      <td>you've gone and broke the wrong heart baby, an...</td>\n",
       "    </tr>\n",
       "    <tr>\n",
       "      <th>24780</th>\n",
       "      <td>1</td>\n",
       "      <td>young buck wanna eat!!.. dat nigguh like I ain...</td>\n",
       "    </tr>\n",
       "    <tr>\n",
       "      <th>24781</th>\n",
       "      <td>1</td>\n",
       "      <td>youu got wild bitches tellin you lies</td>\n",
       "    </tr>\n",
       "    <tr>\n",
       "      <th>24782</th>\n",
       "      <td>2</td>\n",
       "      <td>~~Ruffled | Ntac Eileen Dahlia - Beautiful col...</td>\n",
       "    </tr>\n",
       "  </tbody>\n",
       "</table>\n",
       "<p>24783 rows × 2 columns</p>\n",
       "</div>"
      ],
      "text/plain": [
       "       speech                                              tweet\n",
       "0           2  !!! RT @mayasolovely: As a woman you shouldn't...\n",
       "1           1  !!!!! RT @mleew17: boy dats cold...tyga dwn ba...\n",
       "2           1  !!!!!!! RT @UrKindOfBrand Dawg!!!! RT @80sbaby...\n",
       "3           1  !!!!!!!!! RT @C_G_Anderson: @viva_based she lo...\n",
       "4           1  !!!!!!!!!!!!! RT @ShenikaRoberts: The shit you...\n",
       "...       ...                                                ...\n",
       "24778       1  you's a muthaf***in lie &#8220;@LifeAsKing: @2...\n",
       "24779       2  you've gone and broke the wrong heart baby, an...\n",
       "24780       1  young buck wanna eat!!.. dat nigguh like I ain...\n",
       "24781       1              youu got wild bitches tellin you lies\n",
       "24782       2  ~~Ruffled | Ntac Eileen Dahlia - Beautiful col...\n",
       "\n",
       "[24783 rows x 2 columns]"
      ]
     },
     "execution_count": 16,
     "metadata": {},
     "output_type": "execute_result"
    }
   ],
   "source": [
    "df"
   ]
  },
  {
   "cell_type": "code",
   "execution_count": 17,
   "id": "a30fa255",
   "metadata": {},
   "outputs": [],
   "source": [
    "df['tweet']=df['tweet'].apply(clean_text)"
   ]
  },
  {
   "cell_type": "code",
   "execution_count": 18,
   "id": "17fe5256",
   "metadata": {},
   "outputs": [
    {
     "data": {
      "text/html": [
       "<div>\n",
       "<style scoped>\n",
       "    .dataframe tbody tr th:only-of-type {\n",
       "        vertical-align: middle;\n",
       "    }\n",
       "\n",
       "    .dataframe tbody tr th {\n",
       "        vertical-align: top;\n",
       "    }\n",
       "\n",
       "    .dataframe thead th {\n",
       "        text-align: right;\n",
       "    }\n",
       "</style>\n",
       "<table border=\"1\" class=\"dataframe\">\n",
       "  <thead>\n",
       "    <tr style=\"text-align: right;\">\n",
       "      <th></th>\n",
       "      <th>speech</th>\n",
       "      <th>tweet</th>\n",
       "      <th>type</th>\n",
       "    </tr>\n",
       "  </thead>\n",
       "  <tbody>\n",
       "    <tr>\n",
       "      <th>0</th>\n",
       "      <td>2</td>\n",
       "      <td>rt mayasolov woman shouldnt complain clean ho...</td>\n",
       "      <td>2</td>\n",
       "    </tr>\n",
       "    <tr>\n",
       "      <th>1</th>\n",
       "      <td>1</td>\n",
       "      <td>rt  boy dat coldtyga dwn bad cuffin dat hoe  ...</td>\n",
       "      <td>1</td>\n",
       "    </tr>\n",
       "    <tr>\n",
       "      <th>2</th>\n",
       "      <td>1</td>\n",
       "      <td>rt urkindofbrand dawg rt  ever fuck bitch sta...</td>\n",
       "      <td>1</td>\n",
       "    </tr>\n",
       "    <tr>\n",
       "      <th>3</th>\n",
       "      <td>1</td>\n",
       "      <td>rt cganderson vivabas look like tranni</td>\n",
       "      <td>1</td>\n",
       "    </tr>\n",
       "    <tr>\n",
       "      <th>4</th>\n",
       "      <td>1</td>\n",
       "      <td>rt shenikarobert shit hear might true might f...</td>\n",
       "      <td>1</td>\n",
       "    </tr>\n",
       "    <tr>\n",
       "      <th>...</th>\n",
       "      <td>...</td>\n",
       "      <td>...</td>\n",
       "      <td>...</td>\n",
       "    </tr>\n",
       "    <tr>\n",
       "      <th>24778</th>\n",
       "      <td>1</td>\n",
       "      <td>yous muthafin lie   coreyemanuel right tl tras...</td>\n",
       "      <td>1</td>\n",
       "    </tr>\n",
       "    <tr>\n",
       "      <th>24779</th>\n",
       "      <td>2</td>\n",
       "      <td>youv gone broke wrong heart babi drove redneck...</td>\n",
       "      <td>2</td>\n",
       "    </tr>\n",
       "    <tr>\n",
       "      <th>24780</th>\n",
       "      <td>1</td>\n",
       "      <td>young buck wanna eat dat nigguh like aint fuck...</td>\n",
       "      <td>1</td>\n",
       "    </tr>\n",
       "    <tr>\n",
       "      <th>24781</th>\n",
       "      <td>1</td>\n",
       "      <td>youu got wild bitch tellin lie</td>\n",
       "      <td>1</td>\n",
       "    </tr>\n",
       "    <tr>\n",
       "      <th>24782</th>\n",
       "      <td>2</td>\n",
       "      <td>ruffl  ntac eileen dahlia  beauti color combin...</td>\n",
       "      <td>2</td>\n",
       "    </tr>\n",
       "  </tbody>\n",
       "</table>\n",
       "<p>24783 rows × 3 columns</p>\n",
       "</div>"
      ],
      "text/plain": [
       "       speech                                              tweet  type\n",
       "0           2   rt mayasolov woman shouldnt complain clean ho...     2\n",
       "1           1   rt  boy dat coldtyga dwn bad cuffin dat hoe  ...     1\n",
       "2           1   rt urkindofbrand dawg rt  ever fuck bitch sta...     1\n",
       "3           1             rt cganderson vivabas look like tranni     1\n",
       "4           1   rt shenikarobert shit hear might true might f...     1\n",
       "...       ...                                                ...   ...\n",
       "24778       1  yous muthafin lie   coreyemanuel right tl tras...     1\n",
       "24779       2  youv gone broke wrong heart babi drove redneck...     2\n",
       "24780       1  young buck wanna eat dat nigguh like aint fuck...     1\n",
       "24781       1                     youu got wild bitch tellin lie     1\n",
       "24782       2  ruffl  ntac eileen dahlia  beauti color combin...     2\n",
       "\n",
       "[24783 rows x 3 columns]"
      ]
     },
     "execution_count": 18,
     "metadata": {},
     "output_type": "execute_result"
    }
   ],
   "source": [
    "df['type'] = df['speech']\n",
    "df"
   ]
  },
  {
   "cell_type": "code",
   "execution_count": 19,
   "id": "f6fb2261",
   "metadata": {},
   "outputs": [],
   "source": [
    "df2=df"
   ]
  },
  {
   "cell_type": "code",
   "execution_count": 20,
   "id": "1438df18",
   "metadata": {},
   "outputs": [],
   "source": [
    "df2['type']=df['type'].replace(0,'Hate speech')"
   ]
  },
  {
   "cell_type": "code",
   "execution_count": 21,
   "id": "0f53bd6b",
   "metadata": {},
   "outputs": [],
   "source": [
    "df2['type']=df['type'].replace(1,'Offensive speech')"
   ]
  },
  {
   "cell_type": "code",
   "execution_count": 22,
   "id": "187329a6",
   "metadata": {},
   "outputs": [],
   "source": [
    "df2['type']=df['type'].replace(2,'Normal speech')"
   ]
  },
  {
   "cell_type": "code",
   "execution_count": 23,
   "id": "2d3b9bc5",
   "metadata": {},
   "outputs": [],
   "source": [
    "# Define helper functions\n",
    "def get_top_n_words(n_top_words, count_vectorizer, text_data):\n",
    "    '''\n",
    "    returns a tuple of the top n words in a sample and their \n",
    "    accompanying counts, given a CountVectorizer object and text sample\n",
    "    '''\n",
    "    vectorized_headlines = count_vectorizer.fit_transform(text_data.values)\n",
    "    vectorized_total = np.sum(vectorized_headlines, axis=0)\n",
    "    word_indices = np.flip(np.argsort(vectorized_total)[0,:], 1)\n",
    "    word_values = np.flip(np.sort(vectorized_total)[0,:],1)\n",
    "    \n",
    "    word_vectors = np.zeros((n_top_words, vectorized_headlines.shape[1]))\n",
    "    for i in range(n_top_words):\n",
    "        word_vectors[i,word_indices[0,i]] = 1\n",
    "\n",
    "    words = [word[0].encode('ascii').decode('utf-8') for \n",
    "             word in count_vectorizer.inverse_transform(word_vectors)]\n",
    "\n",
    "    return (words, word_values[0,:n_top_words].tolist()[0])"
   ]
  },
  {
   "cell_type": "code",
   "execution_count": 24,
   "id": "d9542f8a",
   "metadata": {},
   "outputs": [
    {
     "data": {
      "image/png": "[encoded data removed]",
      "text/plain": [
       "<Figure size 1152x576 with 1 Axes>"
      ]
     },
     "metadata": {
      "needs_background": "light"
     },
     "output_type": "display_data"
    }
   ],
   "source": [
    "count_vectorizer = CountVectorizer(stop_words='english')\n",
    "words, word_values = get_top_n_words(n_top_words=15,\n",
    "                                     count_vectorizer=count_vectorizer, \n",
    "                                     text_data=df['tweet'])\n",
    "\n",
    "fig, ax = plt.subplots(figsize=(16,8))\n",
    "ax.bar(range(len(words)), word_values);\n",
    "ax.set_xticks(range(len(words)));\n",
    "ax.set_xticklabels(words, rotation='vertical');\n",
    "ax.set_title('Top words in Hate speech');\n",
    "ax.set_xlabel('Word');\n",
    "ax.set_ylabel('Number of occurences');\n",
    "plt.show()"
   ]
  },
  {
   "cell_type": "code",
   "execution_count": 25,
   "id": "10a7a6e4",
   "metadata": {},
   "outputs": [],
   "source": [
    "tweet_text = [TextBlob(df['tweet'][i]).pos_tags for i in range(df['tweet'].shape[0])]"
   ]
  },
  {
   "cell_type": "code",
   "execution_count": 26,
   "id": "457a5fd7",
   "metadata": {},
   "outputs": [
    {
     "name": "stdout",
     "output_type": "stream",
     "text": [
      "Total number of words:  208472\n",
      "Mean number of words per tweet:  8.411895250776743\n"
     ]
    }
   ],
   "source": [
    "tweet_text_df = pd.DataFrame({'tweet_text':tweet_text})\n",
    "\n",
    "word_counts = [] \n",
    "pos_counts = {}\n",
    "\n",
    "for headline in tweet_text_df[u'tweet_text']:\n",
    "    word_counts.append(len(headline))\n",
    "    for tag in headline:\n",
    "        if tag[1] in pos_counts:\n",
    "            pos_counts[tag[1]] += 1\n",
    "        else:\n",
    "            pos_counts[tag[1]] = 1\n",
    "            \n",
    "print('Total number of words: ', np.sum(word_counts))\n",
    "print('Mean number of words per tweet: ', np.mean(word_counts))"
   ]
  },
  {
   "cell_type": "code",
   "execution_count": 27,
   "id": "f093e786",
   "metadata": {},
   "outputs": [
    {
     "data": {
      "image/png": "[encoded data removed]",
      "text/plain": [
       "<Figure size 1296x576 with 1 Axes>"
      ]
     },
     "metadata": {
      "needs_background": "light"
     },
     "output_type": "display_data"
    }
   ],
   "source": [
    "y = stats.norm.pdf(np.linspace(0,30,30), np.mean(word_counts), np.std(word_counts))\n",
    "\n",
    "fig, ax = plt.subplots(figsize=(18,8))\n",
    "ax.hist(word_counts, bins=range(1,30), density=True);\n",
    "ax.plot(np.linspace(0,30,30), y, 'r--', linewidth=1);\n",
    "ax.set_title('Tweet word lengths');\n",
    "ax.set_xticks(range(1,30));\n",
    "ax.set_xlabel('Number of words');\n",
    "plt.show()"
   ]
  },
  {
   "cell_type": "code",
   "execution_count": 28,
   "id": "e1ec133d",
   "metadata": {},
   "outputs": [
    {
     "name": "stdout",
     "output_type": "stream",
     "text": [
      "Tweet before vectorization: bernadettvajda alway put ginger red yellow leopard print\n",
      "Tweet after vectorization: \n",
      "  (0, 121)\t1\n",
      "  (0, 31)\t1\n",
      "  (0, 580)\t1\n",
      "  (0, 1242)\t1\n",
      "  (0, 1757)\t1\n",
      "  (0, 870)\t1\n",
      "  (0, 1195)\t1\n"
     ]
    }
   ],
   "source": [
    "\n",
    "small_count_vectorizer = CountVectorizer(stop_words='english', max_features=40000)\n",
    "small_text_sample = df['tweet'].sample(n=500, random_state=0).values\n",
    "\n",
    "print('Tweet before vectorization: {}'.format(small_text_sample[123]))\n",
    "\n",
    "small_document_term_matrix = small_count_vectorizer.fit_transform(small_text_sample)\n",
    "\n",
    "print('Tweet after vectorization: \\n{}'.format(small_document_term_matrix[123]))"
   ]
  },
  {
   "cell_type": "code",
   "execution_count": 29,
   "id": "c5aca518",
   "metadata": {},
   "outputs": [],
   "source": [
    "#number of topics\n",
    "n_topics = 3"
   ]
  },
  {
   "cell_type": "markdown",
   "id": "284c007c",
   "metadata": {},
   "source": [
    "# Latent Semantic Analysis (LSA)"
   ]
  },
  {
   "cell_type": "code",
   "execution_count": 30,
   "id": "042fac27",
   "metadata": {},
   "outputs": [],
   "source": [
    "lsa_model = TruncatedSVD(n_components=n_topics)\n",
    "lsa_topic_matrix = lsa_model.fit_transform(small_document_term_matrix)"
   ]
  },
  {
   "cell_type": "code",
   "execution_count": 31,
   "id": "597b0bfb",
   "metadata": {},
   "outputs": [],
   "source": [
    "# Define helper functions\n",
    "def get_keys(topic_matrix):\n",
    "    '''\n",
    "    returns an integer list of predicted topic \n",
    "    categories for a given topic matrix\n",
    "    '''\n",
    "    keys = topic_matrix.argmax(axis=1).tolist()\n",
    "    return keys\n",
    "\n",
    "def keys_to_counts(keys):\n",
    "    '''\n",
    "    returns a tuple of topic categories and their \n",
    "    accompanying magnitudes for a given list of keys\n",
    "    '''\n",
    "    count_pairs = Counter(keys).items()\n",
    "    categories = [pair[0] for pair in count_pairs]\n",
    "    counts = [pair[1] for pair in count_pairs]\n",
    "    return (categories, counts)"
   ]
  },
  {
   "cell_type": "code",
   "execution_count": 32,
   "id": "342a8c7d",
   "metadata": {},
   "outputs": [],
   "source": [
    "lsa_keys = get_keys(lsa_topic_matrix)\n",
    "lsa_categories, lsa_counts = keys_to_counts(lsa_keys)"
   ]
  },
  {
   "cell_type": "code",
   "execution_count": 33,
   "id": "f51c68aa",
   "metadata": {},
   "outputs": [],
   "source": [
    "def get_top_n_words(n, keys, document_term_matrix, count_vectorizer):\n",
    "    '''\n",
    "    returns a list of n_topic strings, where each string contains the n most common \n",
    "    words in a predicted category, in order\n",
    "    '''\n",
    "    top_word_indices = []\n",
    "    for topic in range(n_topics):\n",
    "        temp_vector_sum = 0\n",
    "        for i in range(len(keys)):\n",
    "            if keys[i] == topic:\n",
    "                temp_vector_sum += document_term_matrix[i]\n",
    "        temp_vector_sum = temp_vector_sum.toarray()\n",
    "        top_n_word_indices = np.flip(np.argsort(temp_vector_sum)[0][-n:],0)\n",
    "        top_word_indices.append(top_n_word_indices)   \n",
    "    top_words = []\n",
    "    for topic in top_word_indices:\n",
    "        topic_words = []\n",
    "        for index in topic:\n",
    "            temp_word_vector = np.zeros((1,document_term_matrix.shape[1]))\n",
    "            temp_word_vector[:,index] = 1\n",
    "            the_word = count_vectorizer.inverse_transform(temp_word_vector)[0][0]\n",
    "            topic_words.append(the_word.encode('ascii').decode('utf-8'))\n",
    "        top_words.append(\" \".join(topic_words))         \n",
    "    return top_words"
   ]
  },
  {
   "cell_type": "code",
   "execution_count": 34,
   "id": "1eaaa5b0",
   "metadata": {},
   "outputs": [
    {
     "name": "stdout",
     "output_type": "stream",
     "text": [
      "Topic 1:  bitch rt like fuck im ass pussi nigga lol dont\n",
      "Topic 2:  cunt use stupid rt peopl littl faggot watch word bobhel\n",
      "Topic 3:  rt hoe trash nigga pussi play love im like yall\n"
     ]
    }
   ],
   "source": [
    "top_n_words_lsa = get_top_n_words(10, lsa_keys, small_document_term_matrix, small_count_vectorizer)\n",
    "\n",
    "for i in range(len(top_n_words_lsa)):\n",
    "    print(\"Topic {}: \".format(i+1), top_n_words_lsa[i])"
   ]
  },
  {
   "cell_type": "code",
   "execution_count": 35,
   "id": "27d0628b",
   "metadata": {},
   "outputs": [
    {
     "data": {
      "image/png": "[encoded data removed]",
      "text/plain": [
       "<Figure size 1440x720 with 1 Axes>"
      ]
     },
     "metadata": {
      "needs_background": "light"
     },
     "output_type": "display_data"
    }
   ],
   "source": [
    "top_3_words = get_top_n_words(3, lsa_keys, small_document_term_matrix, small_count_vectorizer)\n",
    "labels = ['Topic {}: \\n'.format(i) + top_3_words[i] for i in lsa_categories]\n",
    "\n",
    "fig, ax = plt.subplots(figsize=(20,10))\n",
    "ax.bar(lsa_categories, lsa_counts);\n",
    "ax.set_xticks(lsa_categories);\n",
    "ax.set_xticklabels(labels);\n",
    "ax.set_ylabel('Number of Tweets');\n",
    "ax.set_title('LSA topic counts');\n",
    "plt.show()"
   ]
  },
  {
   "cell_type": "code",
   "execution_count": 36,
   "id": "f27c34a8",
   "metadata": {},
   "outputs": [
    {
     "name": "stdout",
     "output_type": "stream",
     "text": [
      "[t-SNE] Computing 151 nearest neighbors...\n",
      "[t-SNE] Indexed 500 samples in 0.001s...\n",
      "[t-SNE] Computed neighbors for 500 samples in 0.013s...\n",
      "[t-SNE] Computed conditional probabilities for sample 500 / 500\n",
      "[t-SNE] Mean sigma: 0.050685\n",
      "[t-SNE] KL divergence after 250 iterations with early exaggeration: 41.829365\n",
      "[t-SNE] KL divergence after 2000 iterations: 0.104593\n"
     ]
    }
   ],
   "source": [
    "tsne_lsa_model = TSNE(n_components=2, perplexity=50, learning_rate=100, \n",
    "                        n_iter=2000, verbose=1, random_state=0, angle=0.75)\n",
    "tsne_lsa_vectors = tsne_lsa_model.fit_transform(lsa_topic_matrix)"
   ]
  },
  {
   "cell_type": "code",
   "execution_count": 37,
   "id": "20ff1e85",
   "metadata": {},
   "outputs": [],
   "source": [
    "# Define helper functions\n",
    "def get_mean_topic_vectors(keys, two_dim_vectors):\n",
    "    '''\n",
    "    returns a list of centroid vectors from each predicted topic category\n",
    "    '''\n",
    "    mean_topic_vectors = []\n",
    "    for t in range(n_topics):\n",
    "        articles_in_that_topic = []\n",
    "        for i in range(len(keys)):\n",
    "            if keys[i] == t:\n",
    "                articles_in_that_topic.append(two_dim_vectors[i])    \n",
    "        \n",
    "        articles_in_that_topic = np.vstack(articles_in_that_topic)\n",
    "        mean_article_in_that_topic = np.mean(articles_in_that_topic, axis=0)\n",
    "        mean_topic_vectors.append(mean_article_in_that_topic)\n",
    "    return mean_topic_vectors"
   ]
  },
  {
   "cell_type": "code",
   "execution_count": 38,
   "id": "dbbbbb0c",
   "metadata": {},
   "outputs": [],
   "source": [
    "colormap = np.array([\n",
    "    \"#1f77b4\", \"#aec7e8\", \"#ff7f0e\", \"#ffbb78\", \"#2ca02c\",\n",
    "    \"#98df8a\", \"#d62728\", \"#ff9896\", \"#9467bd\", \"#c5b0d5\",\n",
    "    \"#8c564b\", \"#c49c94\", \"#e377c2\", \"#f7b6d2\", \"#7f7f7f\",\n",
    "    \"#c7c7c7\", \"#bcbd22\", \"#dbdb8d\", \"#17becf\", \"#9edae5\" ])\n",
    "colormap = colormap[:n_topics]"
   ]
  },
  {
   "cell_type": "code",
   "execution_count": 39,
   "id": "b9b92790",
   "metadata": {},
   "outputs": [
    {
     "data": {
      "text/html": [
       "\n",
       "\n",
       "\n",
       "\n",
       "\n",
       "\n",
       "  <div class=\"bk-root\" id=\"2c5ed52a-fa9d-4e30-9fc9-b016979bf640\" data-root-id=\"1003\"></div>\n"
      ]
     },
     "metadata": {},
     "output_type": "display_data"
    },
    {
     "data": {
      "application/javascript": [
       "(function(root) {\n",
       "  function embed_document(root) {\n",
       "    \n",
       "  const docs_json = {\"89d91a5c-1b4c-4d9b-be2e-c09540518f8b\":{\"defs\":[],\"roots\":{\"references\":[{\"attributes\":{\"below\":[{\"id\":\"1014\"}],\"center\":[{\"id\":\"1017\"},{\"id\":\"1021\"},{\"id\":\"1042\"},{\"id\":\"1043\"},{\"id\":\"1044\"}],\"height\":700,\"left\":[{\"id\":\"1018\"}],\"renderers\":[{\"id\":\"1040\"}],\"title\":{\"id\":\"1004\"},\"toolbar\":{\"id\":\"1029\"},\"width\":700,\"x_range\":{\"id\":\"1006\"},\"x_scale\":{\"id\":\"1010\"},\"y_range\":{\"id\":\"1008\"},\"y_scale\":{\"id\":\"1012\"}},\"id\":\"1003\",\"subtype\":\"Figure\",\"type\":\"Plot\"},{\"attributes\":{\"fill_color\":{\"field\":\"fill_color\"},\"hatch_color\":{\"field\":\"hatch_color\"},\"line_color\":{\"field\":\"line_color\"},\"x\":{\"field\":\"x\"},\"y\":{\"field\":\"y\"}},\"id\":\"1037\",\"type\":\"Scatter\"},{\"attributes\":{},\"id\":\"1027\",\"type\":\"HelpTool\"},{\"attributes\":{},\"id\":\"1047\",\"type\":\"BasicTickFormatter\"},{\"attributes\":{\"coordinates\":null,\"formatter\":{\"id\":\"1050\"},\"group\":null,\"major_label_policy\":{\"id\":\"1051\"},\"ticker\":{\"id\":\"1015\"}},\"id\":\"1014\",\"type\":\"LinearAxis\"},{\"attributes\":{},\"id\":\"1048\",\"type\":\"AllLabels\"},{\"attributes\":{\"fill_alpha\":{\"value\":0.2},\"fill_color\":{\"field\":\"fill_color\"},\"hatch_alpha\":{\"value\":0.2},\"hatch_color\":{\"field\":\"hatch_color\"},\"line_alpha\":{\"value\":0.2},\"line_color\":{\"field\":\"line_color\"},\"x\":{\"field\":\"x\"},\"y\":{\"field\":\"y\"}},\"id\":\"1039\",\"type\":\"Scatter\"},{\"attributes\":{},\"id\":\"1050\",\"type\":\"BasicTickFormatter\"},{\"attributes\":{},\"id\":\"1010\",\"type\":\"LinearScale\"},{\"attributes\":{},\"id\":\"1051\",\"type\":\"AllLabels\"},{\"attributes\":{\"coordinates\":null,\"data_source\":{\"id\":\"1036\"},\"glyph\":{\"id\":\"1037\"},\"group\":null,\"hover_glyph\":null,\"muted_glyph\":{\"id\":\"1039\"},\"nonselection_glyph\":{\"id\":\"1038\"},\"view\":{\"id\":\"1041\"}},\"id\":\"1040\",\"type\":\"GlyphRenderer\"},{\"attributes\":{\"coordinates\":null,\"group\":null,\"text\":\"t-SNE Clustering of 3 LSA Topics\"},\"id\":\"1004\",\"type\":\"Title\"},{\"attributes\":{},\"id\":\"1022\",\"type\":\"PanTool\"},{\"attributes\":{\"data\":{\"fill_color\":[\"#1f77b4\",\"#1f77b4\",\"#1f77b4\",\"#ff7f0e\",\"#1f77b4\",\"#1f77b4\",\"#1f77b4\",\"#1f77b4\",\"#ff7f0e\",\"#aec7e8\",\"#1f77b4\",\"#1f77b4\",\"#1f77b4\",\"#ff7f0e\",\"#ff7f0e\",\"#1f77b4\",\"#ff7f0e\",\"#1f77b4\",\"#ff7f0e\",\"#ff7f0e\",\"#1f77b4\",\"#ff7f0e\",\"#1f77b4\",\"#1f77b4\",\"#ff7f0e\",\"#ff7f0e\",\"#1f77b4\",\"#ff7f0e\",\"#1f77b4\",\"#ff7f0e\",\"#1f77b4\",\"#1f77b4\",\"#1f77b4\",\"#1f77b4\",\"#1f77b4\",\"#ff7f0e\",\"#1f77b4\",\"#ff7f0e\",\"#1f77b4\",\"#1f77b4\",\"#1f77b4\",\"#1f77b4\",\"#ff7f0e\",\"#1f77b4\",\"#1f77b4\",\"#1f77b4\",\"#1f77b4\",\"#1f77b4\",\"#1f77b4\",\"#1f77b4\",\"#ff7f0e\",\"#1f77b4\",\"#1f77b4\",\"#ff7f0e\",\"#ff7f0e\",\"#1f77b4\",\"#ff7f0e\",\"#1f77b4\",\"#ff7f0e\",\"#1f77b4\",\"#1f77b4\",\"#1f77b4\",\"#1f77b4\",\"#1f77b4\",\"#ff7f0e\",\"#1f77b4\",\"#1f77b4\",\"#ff7f0e\",\"#ff7f0e\",\"#1f77b4\",\"#ff7f0e\",\"#ff7f0e\",\"#1f77b4\",\"#1f77b4\",\"#ff7f0e\",\"#ff7f0e\",\"#1f77b4\",\"#ff7f0e\",\"#1f77b4\",\"#1f77b4\",\"#1f77b4\",\"#1f77b4\",\"#1f77b4\",\"#1f77b4\",\"#1f77b4\",\"#ff7f0e\",\"#1f77b4\",\"#1f77b4\",\"#ff7f0e\",\"#ff7f0e\",\"#aec7e8\",\"#1f77b4\",\"#ff7f0e\",\"#1f77b4\",\"#1f77b4\",\"#ff7f0e\",\"#ff7f0e\",\"#1f77b4\",\"#ff7f0e\",\"#1f77b4\",\"#1f77b4\",\"#ff7f0e\",\"#ff7f0e\",\"#1f77b4\",\"#1f77b4\",\"#ff7f0e\",\"#ff7f0e\",\"#ff7f0e\",\"#1f77b4\",\"#1f77b4\",\"#1f77b4\",\"#1f77b4\",\"#ff7f0e\",\"#1f77b4\",\"#1f77b4\",\"#ff7f0e\",\"#1f77b4\",\"#1f77b4\",\"#1f77b4\",\"#1f77b4\",\"#1f77b4\",\"#1f77b4\",\"#ff7f0e\",\"#ff7f0e\",\"#1f77b4\",\"#1f77b4\",\"#1f77b4\",\"#1f77b4\",\"#1f77b4\",\"#1f77b4\",\"#1f77b4\",\"#1f77b4\",\"#1f77b4\",\"#1f77b4\",\"#ff7f0e\",\"#1f77b4\",\"#1f77b4\",\"#1f77b4\",\"#ff7f0e\",\"#1f77b4\",\"#1f77b4\",\"#1f77b4\",\"#1f77b4\",\"#ff7f0e\",\"#1f77b4\",\"#ff7f0e\",\"#1f77b4\",\"#1f77b4\",\"#1f77b4\",\"#1f77b4\",\"#1f77b4\",\"#1f77b4\",\"#ff7f0e\",\"#1f77b4\",\"#1f77b4\",\"#1f77b4\",\"#ff7f0e\",\"#ff7f0e\",\"#1f77b4\",\"#ff7f0e\",\"#1f77b4\",\"#1f77b4\",\"#1f77b4\",\"#1f77b4\",\"#1f77b4\",\"#ff7f0e\",\"#1f77b4\",\"#ff7f0e\",\"#1f77b4\",\"#1f77b4\",\"#ff7f0e\",\"#ff7f0e\",\"#1f77b4\",\"#ff7f0e\",\"#ff7f0e\",\"#1f77b4\",\"#1f77b4\",\"#1f77b4\",\"#1f77b4\",\"#1f77b4\",\"#1f77b4\",\"#1f77b4\",\"#ff7f0e\",\"#ff7f0e\",\"#1f77b4\",\"#ff7f0e\",\"#1f77b4\",\"#1f77b4\",\"#ff7f0e\",\"#1f77b4\",\"#ff7f0e\",\"#1f77b4\",\"#1f77b4\",\"#ff7f0e\",\"#1f77b4\",\"#ff7f0e\",\"#ff7f0e\",\"#1f77b4\",\"#1f77b4\",\"#1f77b4\",\"#1f77b4\",\"#ff7f0e\",\"#1f77b4\",\"#ff7f0e\",\"#1f77b4\",\"#1f77b4\",\"#1f77b4\",\"#1f77b4\",\"#1f77b4\",\"#ff7f0e\",\"#1f77b4\",\"#1f77b4\",\"#1f77b4\",\"#1f77b4\",\"#ff7f0e\",\"#1f77b4\",\"#1f77b4\",\"#ff7f0e\",\"#1f77b4\",\"#1f77b4\",\"#1f77b4\",\"#1f77b4\",\"#ff7f0e\",\"#1f77b4\",\"#1f77b4\",\"#1f77b4\",\"#1f77b4\",\"#1f77b4\",\"#1f77b4\",\"#1f77b4\",\"#ff7f0e\",\"#1f77b4\",\"#ff7f0e\",\"#1f77b4\",\"#1f77b4\",\"#1f77b4\",\"#ff7f0e\",\"#1f77b4\",\"#1f77b4\",\"#1f77b4\",\"#ff7f0e\",\"#1f77b4\",\"#1f77b4\",\"#1f77b4\",\"#1f77b4\",\"#1f77b4\",\"#1f77b4\",\"#ff7f0e\",\"#1f77b4\",\"#1f77b4\",\"#1f77b4\",\"#1f77b4\",\"#1f77b4\",\"#1f77b4\",\"#ff7f0e\",\"#ff7f0e\",\"#1f77b4\",\"#1f77b4\",\"#ff7f0e\",\"#ff7f0e\",\"#1f77b4\",\"#ff7f0e\",\"#1f77b4\",\"#1f77b4\",\"#1f77b4\",\"#1f77b4\",\"#1f77b4\",\"#ff7f0e\",\"#1f77b4\",\"#ff7f0e\",\"#1f77b4\",\"#ff7f0e\",\"#1f77b4\",\"#ff7f0e\",\"#1f77b4\",\"#1f77b4\",\"#1f77b4\",\"#1f77b4\",\"#1f77b4\",\"#1f77b4\",\"#1f77b4\",\"#1f77b4\",\"#ff7f0e\",\"#1f77b4\",\"#1f77b4\",\"#ff7f0e\",\"#1f77b4\",\"#1f77b4\",\"#ff7f0e\",\"#1f77b4\",\"#ff7f0e\",\"#ff7f0e\",\"#1f77b4\",\"#ff7f0e\",\"#1f77b4\",\"#ff7f0e\",\"#1f77b4\",\"#aec7e8\",\"#1f77b4\",\"#ff7f0e\",\"#1f77b4\",\"#1f77b4\",\"#1f77b4\",\"#ff7f0e\",\"#1f77b4\",\"#1f77b4\",\"#1f77b4\",\"#ff7f0e\",\"#1f77b4\",\"#1f77b4\",\"#1f77b4\",\"#1f77b4\",\"#1f77b4\",\"#1f77b4\",\"#ff7f0e\",\"#1f77b4\",\"#ff7f0e\",\"#ff7f0e\",\"#1f77b4\",\"#1f77b4\",\"#1f77b4\",\"#1f77b4\",\"#ff7f0e\",\"#ff7f0e\",\"#ff7f0e\",\"#ff7f0e\",\"#1f77b4\",\"#ff7f0e\",\"#ff7f0e\",\"#1f77b4\",\"#1f77b4\",\"#1f77b4\",\"#1f77b4\",\"#1f77b4\",\"#ff7f0e\",\"#1f77b4\",\"#1f77b4\",\"#1f77b4\",\"#ff7f0e\",\"#1f77b4\",\"#1f77b4\",\"#ff7f0e\",\"#1f77b4\",\"#1f77b4\",\"#1f77b4\",\"#1f77b4\",\"#1f77b4\",\"#1f77b4\",\"#ff7f0e\",\"#ff7f0e\",\"#ff7f0e\",\"#1f77b4\",\"#1f77b4\",\"#1f77b4\",\"#aec7e8\",\"#1f77b4\",\"#1f77b4\",\"#ff7f0e\",\"#ff7f0e\",\"#1f77b4\",\"#1f77b4\",\"#ff7f0e\",\"#1f77b4\",\"#ff7f0e\",\"#1f77b4\",\"#ff7f0e\",\"#1f77b4\",\"#1f77b4\",\"#1f77b4\",\"#1f77b4\",\"#1f77b4\",\"#1f77b4\",\"#1f77b4\",\"#ff7f0e\",\"#1f77b4\",\"#ff7f0e\",\"#1f77b4\",\"#ff7f0e\",\"#1f77b4\",\"#1f77b4\",\"#ff7f0e\",\"#1f77b4\",\"#1f77b4\",\"#1f77b4\",\"#1f77b4\",\"#1f77b4\",\"#1f77b4\",\"#1f77b4\",\"#1f77b4\",\"#ff7f0e\",\"#ff7f0e\",\"#aec7e8\",\"#1f77b4\",\"#1f77b4\",\"#1f77b4\",\"#1f77b4\",\"#1f77b4\",\"#1f77b4\",\"#ff7f0e\",\"#1f77b4\",\"#ff7f0e\",\"#1f77b4\",\"#ff7f0e\",\"#1f77b4\",\"#ff7f0e\",\"#1f77b4\",\"#1f77b4\",\"#1f77b4\",\"#1f77b4\",\"#1f77b4\",\"#ff7f0e\",\"#1f77b4\",\"#1f77b4\",\"#1f77b4\",\"#1f77b4\",\"#1f77b4\",\"#1f77b4\",\"#1f77b4\",\"#aec7e8\",\"#ff7f0e\",\"#1f77b4\",\"#aec7e8\",\"#ff7f0e\",\"#1f77b4\",\"#aec7e8\",\"#1f77b4\",\"#ff7f0e\",\"#1f77b4\",\"#ff7f0e\",\"#1f77b4\",\"#1f77b4\",\"#1f77b4\",\"#ff7f0e\",\"#ff7f0e\",\"#1f77b4\",\"#1f77b4\",\"#1f77b4\",\"#1f77b4\",\"#1f77b4\",\"#ff7f0e\",\"#1f77b4\",\"#1f77b4\",\"#1f77b4\",\"#1f77b4\",\"#1f77b4\",\"#1f77b4\",\"#1f77b4\",\"#1f77b4\",\"#ff7f0e\",\"#1f77b4\",\"#1f77b4\",\"#1f77b4\",\"#ff7f0e\",\"#ff7f0e\",\"#1f77b4\",\"#ff7f0e\",\"#1f77b4\",\"#1f77b4\",\"#1f77b4\",\"#1f77b4\",\"#1f77b4\",\"#1f77b4\",\"#1f77b4\",\"#1f77b4\",\"#1f77b4\",\"#1f77b4\",\"#1f77b4\",\"#1f77b4\",\"#ff7f0e\",\"#1f77b4\",\"#1f77b4\",\"#1f77b4\",\"#ff7f0e\",\"#1f77b4\",\"#ff7f0e\",\"#1f77b4\",\"#1f77b4\",\"#1f77b4\",\"#1f77b4\",\"#1f77b4\",\"#1f77b4\",\"#1f77b4\",\"#1f77b4\",\"#1f77b4\",\"#1f77b4\",\"#1f77b4\",\"#1f77b4\",\"#1f77b4\",\"#1f77b4\",\"#1f77b4\",\"#ff7f0e\",\"#ff7f0e\",\"#aec7e8\",\"#1f77b4\",\"#ff7f0e\",\"#1f77b4\",\"#1f77b4\",\"#1f77b4\",\"#1f77b4\",\"#1f77b4\"],\"hatch_color\":[\"#1f77b4\",\"#1f77b4\",\"#1f77b4\",\"#ff7f0e\",\"#1f77b4\",\"#1f77b4\",\"#1f77b4\",\"#1f77b4\",\"#ff7f0e\",\"#aec7e8\",\"#1f77b4\",\"#1f77b4\",\"#1f77b4\",\"#ff7f0e\",\"#ff7f0e\",\"#1f77b4\",\"#ff7f0e\",\"#1f77b4\",\"#ff7f0e\",\"#ff7f0e\",\"#1f77b4\",\"#ff7f0e\",\"#1f77b4\",\"#1f77b4\",\"#ff7f0e\",\"#ff7f0e\",\"#1f77b4\",\"#ff7f0e\",\"#1f77b4\",\"#ff7f0e\",\"#1f77b4\",\"#1f77b4\",\"#1f77b4\",\"#1f77b4\",\"#1f77b4\",\"#ff7f0e\",\"#1f77b4\",\"#ff7f0e\",\"#1f77b4\",\"#1f77b4\",\"#1f77b4\",\"#1f77b4\",\"#ff7f0e\",\"#1f77b4\",\"#1f77b4\",\"#1f77b4\",\"#1f77b4\",\"#1f77b4\",\"#1f77b4\",\"#1f77b4\",\"#ff7f0e\",\"#1f77b4\",\"#1f77b4\",\"#ff7f0e\",\"#ff7f0e\",\"#1f77b4\",\"#ff7f0e\",\"#1f77b4\",\"#ff7f0e\",\"#1f77b4\",\"#1f77b4\",\"#1f77b4\",\"#1f77b4\",\"#1f77b4\",\"#ff7f0e\",\"#1f77b4\",\"#1f77b4\",\"#ff7f0e\",\"#ff7f0e\",\"#1f77b4\",\"#ff7f0e\",\"#ff7f0e\",\"#1f77b4\",\"#1f77b4\",\"#ff7f0e\",\"#ff7f0e\",\"#1f77b4\",\"#ff7f0e\",\"#1f77b4\",\"#1f77b4\",\"#1f77b4\",\"#1f77b4\",\"#1f77b4\",\"#1f77b4\",\"#1f77b4\",\"#ff7f0e\",\"#1f77b4\",\"#1f77b4\",\"#ff7f0e\",\"#ff7f0e\",\"#aec7e8\",\"#1f77b4\",\"#ff7f0e\",\"#1f77b4\",\"#1f77b4\",\"#ff7f0e\",\"#ff7f0e\",\"#1f77b4\",\"#ff7f0e\",\"#1f77b4\",\"#1f77b4\",\"#ff7f0e\",\"#ff7f0e\",\"#1f77b4\",\"#1f77b4\",\"#ff7f0e\",\"#ff7f0e\",\"#ff7f0e\",\"#1f77b4\",\"#1f77b4\",\"#1f77b4\",\"#1f77b4\",\"#ff7f0e\",\"#1f77b4\",\"#1f77b4\",\"#ff7f0e\",\"#1f77b4\",\"#1f77b4\",\"#1f77b4\",\"#1f77b4\",\"#1f77b4\",\"#1f77b4\",\"#ff7f0e\",\"#ff7f0e\",\"#1f77b4\",\"#1f77b4\",\"#1f77b4\",\"#1f77b4\",\"#1f77b4\",\"#1f77b4\",\"#1f77b4\",\"#1f77b4\",\"#1f77b4\",\"#1f77b4\",\"#ff7f0e\",\"#1f77b4\",\"#1f77b4\",\"#1f77b4\",\"#ff7f0e\",\"#1f77b4\",\"#1f77b4\",\"#1f77b4\",\"#1f77b4\",\"#ff7f0e\",\"#1f77b4\",\"#ff7f0e\",\"#1f77b4\",\"#1f77b4\",\"#1f77b4\",\"#1f77b4\",\"#1f77b4\",\"#1f77b4\",\"#ff7f0e\",\"#1f77b4\",\"#1f77b4\",\"#1f77b4\",\"#ff7f0e\",\"#ff7f0e\",\"#1f77b4\",\"#ff7f0e\",\"#1f77b4\",\"#1f77b4\",\"#1f77b4\",\"#1f77b4\",\"#1f77b4\",\"#ff7f0e\",\"#1f77b4\",\"#ff7f0e\",\"#1f77b4\",\"#1f77b4\",\"#ff7f0e\",\"#ff7f0e\",\"#1f77b4\",\"#ff7f0e\",\"#ff7f0e\",\"#1f77b4\",\"#1f77b4\",\"#1f77b4\",\"#1f77b4\",\"#1f77b4\",\"#1f77b4\",\"#1f77b4\",\"#ff7f0e\",\"#ff7f0e\",\"#1f77b4\",\"#ff7f0e\",\"#1f77b4\",\"#1f77b4\",\"#ff7f0e\",\"#1f77b4\",\"#ff7f0e\",\"#1f77b4\",\"#1f77b4\",\"#ff7f0e\",\"#1f77b4\",\"#ff7f0e\",\"#ff7f0e\",\"#1f77b4\",\"#1f77b4\",\"#1f77b4\",\"#1f77b4\",\"#ff7f0e\",\"#1f77b4\",\"#ff7f0e\",\"#1f77b4\",\"#1f77b4\",\"#1f77b4\",\"#1f77b4\",\"#1f77b4\",\"#ff7f0e\",\"#1f77b4\",\"#1f77b4\",\"#1f77b4\",\"#1f77b4\",\"#ff7f0e\",\"#1f77b4\",\"#1f77b4\",\"#ff7f0e\",\"#1f77b4\",\"#1f77b4\",\"#1f77b4\",\"#1f77b4\",\"#ff7f0e\",\"#1f77b4\",\"#1f77b4\",\"#1f77b4\",\"#1f77b4\",\"#1f77b4\",\"#1f77b4\",\"#1f77b4\",\"#ff7f0e\",\"#1f77b4\",\"#ff7f0e\",\"#1f77b4\",\"#1f77b4\",\"#1f77b4\",\"#ff7f0e\",\"#1f77b4\",\"#1f77b4\",\"#1f77b4\",\"#ff7f0e\",\"#1f77b4\",\"#1f77b4\",\"#1f77b4\",\"#1f77b4\",\"#1f77b4\",\"#1f77b4\",\"#ff7f0e\",\"#1f77b4\",\"#1f77b4\",\"#1f77b4\",\"#1f77b4\",\"#1f77b4\",\"#1f77b4\",\"#ff7f0e\",\"#ff7f0e\",\"#1f77b4\",\"#1f77b4\",\"#ff7f0e\",\"#ff7f0e\",\"#1f77b4\",\"#ff7f0e\",\"#1f77b4\",\"#1f77b4\",\"#1f77b4\",\"#1f77b4\",\"#1f77b4\",\"#ff7f0e\",\"#1f77b4\",\"#ff7f0e\",\"#1f77b4\",\"#ff7f0e\",\"#1f77b4\",\"#ff7f0e\",\"#1f77b4\",\"#1f77b4\",\"#1f77b4\",\"#1f77b4\",\"#1f77b4\",\"#1f77b4\",\"#1f77b4\",\"#1f77b4\",\"#ff7f0e\",\"#1f77b4\",\"#1f77b4\",\"#ff7f0e\",\"#1f77b4\",\"#1f77b4\",\"#ff7f0e\",\"#1f77b4\",\"#ff7f0e\",\"#ff7f0e\",\"#1f77b4\",\"#ff7f0e\",\"#1f77b4\",\"#ff7f0e\",\"#1f77b4\",\"#aec7e8\",\"#1f77b4\",\"#ff7f0e\",\"#1f77b4\",\"#1f77b4\",\"#1f77b4\",\"#ff7f0e\",\"#1f77b4\",\"#1f77b4\",\"#1f77b4\",\"#ff7f0e\",\"#1f77b4\",\"#1f77b4\",\"#1f77b4\",\"#1f77b4\",\"#1f77b4\",\"#1f77b4\",\"#ff7f0e\",\"#1f77b4\",\"#ff7f0e\",\"#ff7f0e\",\"#1f77b4\",\"#1f77b4\",\"#1f77b4\",\"#1f77b4\",\"#ff7f0e\",\"#ff7f0e\",\"#ff7f0e\",\"#ff7f0e\",\"#1f77b4\",\"#ff7f0e\",\"#ff7f0e\",\"#1f77b4\",\"#1f77b4\",\"#1f77b4\",\"#1f77b4\",\"#1f77b4\",\"#ff7f0e\",\"#1f77b4\",\"#1f77b4\",\"#1f77b4\",\"#ff7f0e\",\"#1f77b4\",\"#1f77b4\",\"#ff7f0e\",\"#1f77b4\",\"#1f77b4\",\"#1f77b4\",\"#1f77b4\",\"#1f77b4\",\"#1f77b4\",\"#ff7f0e\",\"#ff7f0e\",\"#ff7f0e\",\"#1f77b4\",\"#1f77b4\",\"#1f77b4\",\"#aec7e8\",\"#1f77b4\",\"#1f77b4\",\"#ff7f0e\",\"#ff7f0e\",\"#1f77b4\",\"#1f77b4\",\"#ff7f0e\",\"#1f77b4\",\"#ff7f0e\",\"#1f77b4\",\"#ff7f0e\",\"#1f77b4\",\"#1f77b4\",\"#1f77b4\",\"#1f77b4\",\"#1f77b4\",\"#1f77b4\",\"#1f77b4\",\"#ff7f0e\",\"#1f77b4\",\"#ff7f0e\",\"#1f77b4\",\"#ff7f0e\",\"#1f77b4\",\"#1f77b4\",\"#ff7f0e\",\"#1f77b4\",\"#1f77b4\",\"#1f77b4\",\"#1f77b4\",\"#1f77b4\",\"#1f77b4\",\"#1f77b4\",\"#1f77b4\",\"#ff7f0e\",\"#ff7f0e\",\"#aec7e8\",\"#1f77b4\",\"#1f77b4\",\"#1f77b4\",\"#1f77b4\",\"#1f77b4\",\"#1f77b4\",\"#ff7f0e\",\"#1f77b4\",\"#ff7f0e\",\"#1f77b4\",\"#ff7f0e\",\"#1f77b4\",\"#ff7f0e\",\"#1f77b4\",\"#1f77b4\",\"#1f77b4\",\"#1f77b4\",\"#1f77b4\",\"#ff7f0e\",\"#1f77b4\",\"#1f77b4\",\"#1f77b4\",\"#1f77b4\",\"#1f77b4\",\"#1f77b4\",\"#1f77b4\",\"#aec7e8\",\"#ff7f0e\",\"#1f77b4\",\"#aec7e8\",\"#ff7f0e\",\"#1f77b4\",\"#aec7e8\",\"#1f77b4\",\"#ff7f0e\",\"#1f77b4\",\"#ff7f0e\",\"#1f77b4\",\"#1f77b4\",\"#1f77b4\",\"#ff7f0e\",\"#ff7f0e\",\"#1f77b4\",\"#1f77b4\",\"#1f77b4\",\"#1f77b4\",\"#1f77b4\",\"#ff7f0e\",\"#1f77b4\",\"#1f77b4\",\"#1f77b4\",\"#1f77b4\",\"#1f77b4\",\"#1f77b4\",\"#1f77b4\",\"#1f77b4\",\"#ff7f0e\",\"#1f77b4\",\"#1f77b4\",\"#1f77b4\",\"#ff7f0e\",\"#ff7f0e\",\"#1f77b4\",\"#ff7f0e\",\"#1f77b4\",\"#1f77b4\",\"#1f77b4\",\"#1f77b4\",\"#1f77b4\",\"#1f77b4\",\"#1f77b4\",\"#1f77b4\",\"#1f77b4\",\"#1f77b4\",\"#1f77b4\",\"#1f77b4\",\"#ff7f0e\",\"#1f77b4\",\"#1f77b4\",\"#1f77b4\",\"#ff7f0e\",\"#1f77b4\",\"#ff7f0e\",\"#1f77b4\",\"#1f77b4\",\"#1f77b4\",\"#1f77b4\",\"#1f77b4\",\"#1f77b4\",\"#1f77b4\",\"#1f77b4\",\"#1f77b4\",\"#1f77b4\",\"#1f77b4\",\"#1f77b4\",\"#1f77b4\",\"#1f77b4\",\"#1f77b4\",\"#ff7f0e\",\"#ff7f0e\",\"#aec7e8\",\"#1f77b4\",\"#ff7f0e\",\"#1f77b4\",\"#1f77b4\",\"#1f77b4\",\"#1f77b4\",\"#1f77b4\"],\"line_color\":[\"#1f77b4\",\"#1f77b4\",\"#1f77b4\",\"#ff7f0e\",\"#1f77b4\",\"#1f77b4\",\"#1f77b4\",\"#1f77b4\",\"#ff7f0e\",\"#aec7e8\",\"#1f77b4\",\"#1f77b4\",\"#1f77b4\",\"#ff7f0e\",\"#ff7f0e\",\"#1f77b4\",\"#ff7f0e\",\"#1f77b4\",\"#ff7f0e\",\"#ff7f0e\",\"#1f77b4\",\"#ff7f0e\",\"#1f77b4\",\"#1f77b4\",\"#ff7f0e\",\"#ff7f0e\",\"#1f77b4\",\"#ff7f0e\",\"#1f77b4\",\"#ff7f0e\",\"#1f77b4\",\"#1f77b4\",\"#1f77b4\",\"#1f77b4\",\"#1f77b4\",\"#ff7f0e\",\"#1f77b4\",\"#ff7f0e\",\"#1f77b4\",\"#1f77b4\",\"#1f77b4\",\"#1f77b4\",\"#ff7f0e\",\"#1f77b4\",\"#1f77b4\",\"#1f77b4\",\"#1f77b4\",\"#1f77b4\",\"#1f77b4\",\"#1f77b4\",\"#ff7f0e\",\"#1f77b4\",\"#1f77b4\",\"#ff7f0e\",\"#ff7f0e\",\"#1f77b4\",\"#ff7f0e\",\"#1f77b4\",\"#ff7f0e\",\"#1f77b4\",\"#1f77b4\",\"#1f77b4\",\"#1f77b4\",\"#1f77b4\",\"#ff7f0e\",\"#1f77b4\",\"#1f77b4\",\"#ff7f0e\",\"#ff7f0e\",\"#1f77b4\",\"#ff7f0e\",\"#ff7f0e\",\"#1f77b4\",\"#1f77b4\",\"#ff7f0e\",\"#ff7f0e\",\"#1f77b4\",\"#ff7f0e\",\"#1f77b4\",\"#1f77b4\",\"#1f77b4\",\"#1f77b4\",\"#1f77b4\",\"#1f77b4\",\"#1f77b4\",\"#ff7f0e\",\"#1f77b4\",\"#1f77b4\",\"#ff7f0e\",\"#ff7f0e\",\"#aec7e8\",\"#1f77b4\",\"#ff7f0e\",\"#1f77b4\",\"#1f77b4\",\"#ff7f0e\",\"#ff7f0e\",\"#1f77b4\",\"#ff7f0e\",\"#1f77b4\",\"#1f77b4\",\"#ff7f0e\",\"#ff7f0e\",\"#1f77b4\",\"#1f77b4\",\"#ff7f0e\",\"#ff7f0e\",\"#ff7f0e\",\"#1f77b4\",\"#1f77b4\",\"#1f77b4\",\"#1f77b4\",\"#ff7f0e\",\"#1f77b4\",\"#1f77b4\",\"#ff7f0e\",\"#1f77b4\",\"#1f77b4\",\"#1f77b4\",\"#1f77b4\",\"#1f77b4\",\"#1f77b4\",\"#ff7f0e\",\"#ff7f0e\",\"#1f77b4\",\"#1f77b4\",\"#1f77b4\",\"#1f77b4\",\"#1f77b4\",\"#1f77b4\",\"#1f77b4\",\"#1f77b4\",\"#1f77b4\",\"#1f77b4\",\"#ff7f0e\",\"#1f77b4\",\"#1f77b4\",\"#1f77b4\",\"#ff7f0e\",\"#1f77b4\",\"#1f77b4\",\"#1f77b4\",\"#1f77b4\",\"#ff7f0e\",\"#1f77b4\",\"#ff7f0e\",\"#1f77b4\",\"#1f77b4\",\"#1f77b4\",\"#1f77b4\",\"#1f77b4\",\"#1f77b4\",\"#ff7f0e\",\"#1f77b4\",\"#1f77b4\",\"#1f77b4\",\"#ff7f0e\",\"#ff7f0e\",\"#1f77b4\",\"#ff7f0e\",\"#1f77b4\",\"#1f77b4\",\"#1f77b4\",\"#1f77b4\",\"#1f77b4\",\"#ff7f0e\",\"#1f77b4\",\"#ff7f0e\",\"#1f77b4\",\"#1f77b4\",\"#ff7f0e\",\"#ff7f0e\",\"#1f77b4\",\"#ff7f0e\",\"#ff7f0e\",\"#1f77b4\",\"#1f77b4\",\"#1f77b4\",\"#1f77b4\",\"#1f77b4\",\"#1f77b4\",\"#1f77b4\",\"#ff7f0e\",\"#ff7f0e\",\"#1f77b4\",\"#ff7f0e\",\"#1f77b4\",\"#1f77b4\",\"#ff7f0e\",\"#1f77b4\",\"#ff7f0e\",\"#1f77b4\",\"#1f77b4\",\"#ff7f0e\",\"#1f77b4\",\"#ff7f0e\",\"#ff7f0e\",\"#1f77b4\",\"#1f77b4\",\"#1f77b4\",\"#1f77b4\",\"#ff7f0e\",\"#1f77b4\",\"#ff7f0e\",\"#1f77b4\",\"#1f77b4\",\"#1f77b4\",\"#1f77b4\",\"#1f77b4\",\"#ff7f0e\",\"#1f77b4\",\"#1f77b4\",\"#1f77b4\",\"#1f77b4\",\"#ff7f0e\",\"#1f77b4\",\"#1f77b4\",\"#ff7f0e\",\"#1f77b4\",\"#1f77b4\",\"#1f77b4\",\"#1f77b4\",\"#ff7f0e\",\"#1f77b4\",\"#1f77b4\",\"#1f77b4\",\"#1f77b4\",\"#1f77b4\",\"#1f77b4\",\"#1f77b4\",\"#ff7f0e\",\"#1f77b4\",\"#ff7f0e\",\"#1f77b4\",\"#1f77b4\",\"#1f77b4\",\"#ff7f0e\",\"#1f77b4\",\"#1f77b4\",\"#1f77b4\",\"#ff7f0e\",\"#1f77b4\",\"#1f77b4\",\"#1f77b4\",\"#1f77b4\",\"#1f77b4\",\"#1f77b4\",\"#ff7f0e\",\"#1f77b4\",\"#1f77b4\",\"#1f77b4\",\"#1f77b4\",\"#1f77b4\",\"#1f77b4\",\"#ff7f0e\",\"#ff7f0e\",\"#1f77b4\",\"#1f77b4\",\"#ff7f0e\",\"#ff7f0e\",\"#1f77b4\",\"#ff7f0e\",\"#1f77b4\",\"#1f77b4\",\"#1f77b4\",\"#1f77b4\",\"#1f77b4\",\"#ff7f0e\",\"#1f77b4\",\"#ff7f0e\",\"#1f77b4\",\"#ff7f0e\",\"#1f77b4\",\"#ff7f0e\",\"#1f77b4\",\"#1f77b4\",\"#1f77b4\",\"#1f77b4\",\"#1f77b4\",\"#1f77b4\",\"#1f77b4\",\"#1f77b4\",\"#ff7f0e\",\"#1f77b4\",\"#1f77b4\",\"#ff7f0e\",\"#1f77b4\",\"#1f77b4\",\"#ff7f0e\",\"#1f77b4\",\"#ff7f0e\",\"#ff7f0e\",\"#1f77b4\",\"#ff7f0e\",\"#1f77b4\",\"#ff7f0e\",\"#1f77b4\",\"#aec7e8\",\"#1f77b4\",\"#ff7f0e\",\"#1f77b4\",\"#1f77b4\",\"#1f77b4\",\"#ff7f0e\",\"#1f77b4\",\"#1f77b4\",\"#1f77b4\",\"#ff7f0e\",\"#1f77b4\",\"#1f77b4\",\"#1f77b4\",\"#1f77b4\",\"#1f77b4\",\"#1f77b4\",\"#ff7f0e\",\"#1f77b4\",\"#ff7f0e\",\"#ff7f0e\",\"#1f77b4\",\"#1f77b4\",\"#1f77b4\",\"#1f77b4\",\"#ff7f0e\",\"#ff7f0e\",\"#ff7f0e\",\"#ff7f0e\",\"#1f77b4\",\"#ff7f0e\",\"#ff7f0e\",\"#1f77b4\",\"#1f77b4\",\"#1f77b4\",\"#1f77b4\",\"#1f77b4\",\"#ff7f0e\",\"#1f77b4\",\"#1f77b4\",\"#1f77b4\",\"#ff7f0e\",\"#1f77b4\",\"#1f77b4\",\"#ff7f0e\",\"#1f77b4\",\"#1f77b4\",\"#1f77b4\",\"#1f77b4\",\"#1f77b4\",\"#1f77b4\",\"#ff7f0e\",\"#ff7f0e\",\"#ff7f0e\",\"#1f77b4\",\"#1f77b4\",\"#1f77b4\",\"#aec7e8\",\"#1f77b4\",\"#1f77b4\",\"#ff7f0e\",\"#ff7f0e\",\"#1f77b4\",\"#1f77b4\",\"#ff7f0e\",\"#1f77b4\",\"#ff7f0e\",\"#1f77b4\",\"#ff7f0e\",\"#1f77b4\",\"#1f77b4\",\"#1f77b4\",\"#1f77b4\",\"#1f77b4\",\"#1f77b4\",\"#1f77b4\",\"#ff7f0e\",\"#1f77b4\",\"#ff7f0e\",\"#1f77b4\",\"#ff7f0e\",\"#1f77b4\",\"#1f77b4\",\"#ff7f0e\",\"#1f77b4\",\"#1f77b4\",\"#1f77b4\",\"#1f77b4\",\"#1f77b4\",\"#1f77b4\",\"#1f77b4\",\"#1f77b4\",\"#ff7f0e\",\"#ff7f0e\",\"#aec7e8\",\"#1f77b4\",\"#1f77b4\",\"#1f77b4\",\"#1f77b4\",\"#1f77b4\",\"#1f77b4\",\"#ff7f0e\",\"#1f77b4\",\"#ff7f0e\",\"#1f77b4\",\"#ff7f0e\",\"#1f77b4\",\"#ff7f0e\",\"#1f77b4\",\"#1f77b4\",\"#1f77b4\",\"#1f77b4\",\"#1f77b4\",\"#ff7f0e\",\"#1f77b4\",\"#1f77b4\",\"#1f77b4\",\"#1f77b4\",\"#1f77b4\",\"#1f77b4\",\"#1f77b4\",\"#aec7e8\",\"#ff7f0e\",\"#1f77b4\",\"#aec7e8\",\"#ff7f0e\",\"#1f77b4\",\"#aec7e8\",\"#1f77b4\",\"#ff7f0e\",\"#1f77b4\",\"#ff7f0e\",\"#1f77b4\",\"#1f77b4\",\"#1f77b4\",\"#ff7f0e\",\"#ff7f0e\",\"#1f77b4\",\"#1f77b4\",\"#1f77b4\",\"#1f77b4\",\"#1f77b4\",\"#ff7f0e\",\"#1f77b4\",\"#1f77b4\",\"#1f77b4\",\"#1f77b4\",\"#1f77b4\",\"#1f77b4\",\"#1f77b4\",\"#1f77b4\",\"#ff7f0e\",\"#1f77b4\",\"#1f77b4\",\"#1f77b4\",\"#ff7f0e\",\"#ff7f0e\",\"#1f77b4\",\"#ff7f0e\",\"#1f77b4\",\"#1f77b4\",\"#1f77b4\",\"#1f77b4\",\"#1f77b4\",\"#1f77b4\",\"#1f77b4\",\"#1f77b4\",\"#1f77b4\",\"#1f77b4\",\"#1f77b4\",\"#1f77b4\",\"#ff7f0e\",\"#1f77b4\",\"#1f77b4\",\"#1f77b4\",\"#ff7f0e\",\"#1f77b4\",\"#ff7f0e\",\"#1f77b4\",\"#1f77b4\",\"#1f77b4\",\"#1f77b4\",\"#1f77b4\",\"#1f77b4\",\"#1f77b4\",\"#1f77b4\",\"#1f77b4\",\"#1f77b4\",\"#1f77b4\",\"#1f77b4\",\"#1f77b4\",\"#1f77b4\",\"#1f77b4\",\"#ff7f0e\",\"#ff7f0e\",\"#aec7e8\",\"#1f77b4\",\"#ff7f0e\",\"#1f77b4\",\"#1f77b4\",\"#1f77b4\",\"#1f77b4\",\"#1f77b4\"],\"x\":{\"__ndarray__\":\"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\",\"dtype\":\"float32\",\"order\":\"little\",\"shape\":[500]},\"y\":{\"__ndarray__\":\"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\",\"dtype\":\"float32\",\"order\":\"little\",\"shape\":[500]}},\"selected\":{\"id\":\"1053\"},\"selection_policy\":{\"id\":\"1052\"}},\"id\":\"1036\",\"type\":\"ColumnDataSource\"},{\"attributes\":{\"source\":{\"id\":\"1036\"}},\"id\":\"1041\",\"type\":\"CDSView\"},{\"attributes\":{},\"id\":\"1023\",\"type\":\"WheelZoomTool\"},{\"attributes\":{\"coordinates\":null,\"formatter\":{\"id\":\"1047\"},\"group\":null,\"major_label_policy\":{\"id\":\"1048\"},\"ticker\":{\"id\":\"1019\"}},\"id\":\"1018\",\"type\":\"LinearAxis\"},{\"attributes\":{\"overlay\":{\"id\":\"1028\"}},\"id\":\"1024\",\"type\":\"BoxZoomTool\"},{\"attributes\":{},\"id\":\"1025\",\"type\":\"SaveTool\"},{\"attributes\":{},\"id\":\"1026\",\"type\":\"ResetTool\"},{\"attributes\":{\"axis\":{\"id\":\"1014\"},\"coordinates\":null,\"group\":null,\"ticker\":null},\"id\":\"1017\",\"type\":\"Grid\"},{\"attributes\":{},\"id\":\"1006\",\"type\":\"DataRange1d\"},{\"attributes\":{\"axis\":{\"id\":\"1018\"},\"coordinates\":null,\"dimension\":1,\"group\":null,\"ticker\":null},\"id\":\"1021\",\"type\":\"Grid\"},{\"attributes\":{},\"id\":\"1012\",\"type\":\"LinearScale\"},{\"attributes\":{},\"id\":\"1008\",\"type\":\"DataRange1d\"},{\"attributes\":{\"tools\":[{\"id\":\"1022\"},{\"id\":\"1023\"},{\"id\":\"1024\"},{\"id\":\"1025\"},{\"id\":\"1026\"},{\"id\":\"1027\"}]},\"id\":\"1029\",\"type\":\"Toolbar\"},{\"attributes\":{\"coordinates\":null,\"group\":null,\"text\":\"bitch rt like\",\"text_color\":\"#1f77b4\",\"x\":4.897303104400635,\"y\":12.828251838684082},\"id\":\"1042\",\"type\":\"Label\"},{\"attributes\":{\"fill_alpha\":{\"value\":0.1},\"fill_color\":{\"field\":\"fill_color\"},\"hatch_alpha\":{\"value\":0.1},\"hatch_color\":{\"field\":\"hatch_color\"},\"line_alpha\":{\"value\":0.1},\"line_color\":{\"field\":\"line_color\"},\"x\":{\"field\":\"x\"},\"y\":{\"field\":\"y\"}},\"id\":\"1038\",\"type\":\"Scatter\"},{\"attributes\":{\"coordinates\":null,\"group\":null,\"text\":\"rt hoe trash\",\"text_color\":\"#ff7f0e\",\"x\":-9.335704803466797,\"y\":-8.367972373962402},\"id\":\"1044\",\"type\":\"Label\"},{\"attributes\":{},\"id\":\"1015\",\"type\":\"BasicTicker\"},{\"attributes\":{},\"id\":\"1052\",\"type\":\"UnionRenderers\"},{\"attributes\":{\"bottom_units\":\"screen\",\"coordinates\":null,\"fill_alpha\":0.5,\"fill_color\":\"lightgrey\",\"group\":null,\"left_units\":\"screen\",\"level\":\"overlay\",\"line_alpha\":1.0,\"line_color\":\"black\",\"line_dash\":[4,4],\"line_width\":2,\"right_units\":\"screen\",\"syncable\":false,\"top_units\":\"screen\"},\"id\":\"1028\",\"type\":\"BoxAnnotation\"},{\"attributes\":{},\"id\":\"1053\",\"type\":\"Selection\"},{\"attributes\":{},\"id\":\"1019\",\"type\":\"BasicTicker\"},{\"attributes\":{\"coordinates\":null,\"group\":null,\"text\":\"cunt use stupid\",\"text_color\":\"#aec7e8\",\"x\":3.341108798980713,\"y\":-9.22797966003418},\"id\":\"1043\",\"type\":\"Label\"}],\"root_ids\":[\"1003\"]},\"title\":\"Bokeh Application\",\"version\":\"2.4.1\"}};\n",
       "  const render_items = [{\"docid\":\"89d91a5c-1b4c-4d9b-be2e-c09540518f8b\",\"root_ids\":[\"1003\"],\"roots\":{\"1003\":\"2c5ed52a-fa9d-4e30-9fc9-b016979bf640\"}}];\n",
       "  root.Bokeh.embed.embed_items_notebook(docs_json, render_items);\n",
       "\n",
       "  }\n",
       "  if (root.Bokeh !== undefined) {\n",
       "    embed_document(root);\n",
       "  } else {\n",
       "    let attempts = 0;\n",
       "    const timer = setInterval(function(root) {\n",
       "      if (root.Bokeh !== undefined) {\n",
       "        clearInterval(timer);\n",
       "        embed_document(root);\n",
       "      } else {\n",
       "        attempts++;\n",
       "        if (attempts > 100) {\n",
       "          clearInterval(timer);\n",
       "          console.log(\"Bokeh: ERROR: Unable to run BokehJS code because BokehJS library is missing\");\n",
       "        }\n",
       "      }\n",
       "    }, 10, root)\n",
       "  }\n",
       "})(window);"
      ],
      "application/vnd.bokehjs_exec.v0+json": ""
     },
     "metadata": {
      "application/vnd.bokehjs_exec.v0+json": {
       "id": "1003"
      }
     },
     "output_type": "display_data"
    }
   ],
   "source": [
    "top_3_words_lsa = get_top_n_words(3, lsa_keys, small_document_term_matrix, small_count_vectorizer)\n",
    "lsa_mean_topic_vectors = get_mean_topic_vectors(lsa_keys, tsne_lsa_vectors)\n",
    "\n",
    "plot = figure(title=\"t-SNE Clustering of {} LSA Topics\".format(n_topics), plot_width=700, plot_height=700)\n",
    "plot.scatter(x=tsne_lsa_vectors[:,0], y=tsne_lsa_vectors[:,1], color=colormap[lsa_keys])\n",
    "\n",
    "for t in range(n_topics):\n",
    "    label = Label(x=lsa_mean_topic_vectors[t][0], y=lsa_mean_topic_vectors[t][1], \n",
    "                  text=top_3_words_lsa[t], text_color=colormap[t])\n",
    "    plot.add_layout(label)\n",
    "    \n",
    "show(plot)"
   ]
  },
  {
   "cell_type": "markdown",
   "id": "64dd1358",
   "metadata": {},
   "source": [
    "# Latent Dirichilet Allocation"
   ]
  },
  {
   "cell_type": "code",
   "execution_count": 40,
   "id": "f01014d7",
   "metadata": {},
   "outputs": [],
   "source": [
    "lda_model = LatentDirichletAllocation(n_components=n_topics, learning_method='online', \n",
    "                                          random_state=0, verbose=0)\n",
    "lda_topic_matrix = lda_model.fit_transform(small_document_term_matrix)"
   ]
  },
  {
   "cell_type": "code",
   "execution_count": 41,
   "id": "8524bf2f",
   "metadata": {},
   "outputs": [],
   "source": [
    "lda_keys = get_keys(lda_topic_matrix)\n",
    "lda_categories, lda_counts = keys_to_counts(lda_keys)"
   ]
  },
  {
   "cell_type": "code",
   "execution_count": 42,
   "id": "14a50344",
   "metadata": {},
   "outputs": [
    {
     "name": "stdout",
     "output_type": "stream",
     "text": [
      "Topic 1:  bitch rt like lol fuck hoe got ass hate dont\n",
      "Topic 2:  bitch rt cunt amp hoe nigga like shit im ass\n",
      "Topic 3:  rt bitch hoe like pussi nigga im fuck trash look\n"
     ]
    }
   ],
   "source": [
    "top_n_words_lda = get_top_n_words(10, lda_keys, small_document_term_matrix, small_count_vectorizer)\n",
    "\n",
    "for i in range(len(top_n_words_lda)):\n",
    "    print(\"Topic {}: \".format(i+1), top_n_words_lda[i])"
   ]
  },
  {
   "cell_type": "code",
   "execution_count": 43,
   "id": "1029ccec",
   "metadata": {},
   "outputs": [
    {
     "name": "stdout",
     "output_type": "stream",
     "text": [
      "[t-SNE] Computing 151 nearest neighbors...\n",
      "[t-SNE] Indexed 500 samples in 0.001s...\n",
      "[t-SNE] Computed neighbors for 500 samples in 0.013s...\n",
      "[t-SNE] Computed conditional probabilities for sample 500 / 500\n",
      "[t-SNE] Mean sigma: 0.017535\n",
      "[t-SNE] KL divergence after 250 iterations with early exaggeration: 42.646618\n",
      "[t-SNE] KL divergence after 1050 iterations: 0.100276\n"
     ]
    }
   ],
   "source": [
    "\n",
    "tsne_lda_model = TSNE(n_components=2, perplexity=50, learning_rate=100, \n",
    "                        n_iter=2000, verbose=1, random_state=0, angle=0.75)\n",
    "tsne_lda_vectors = tsne_lda_model.fit_transform(lda_topic_matrix)"
   ]
  },
  {
   "cell_type": "code",
   "execution_count": 44,
   "id": "b9a5fced",
   "metadata": {},
   "outputs": [
    {
     "data": {
      "image/png": "[encoded data removed]",
      "text/plain": [
       "<Figure size 1440x720 with 1 Axes>"
      ]
     },
     "metadata": {
      "needs_background": "light"
     },
     "output_type": "display_data"
    }
   ],
   "source": [
    "top_3_words = get_top_n_words(3, lda_keys, small_document_term_matrix, small_count_vectorizer)\n",
    "labels = ['Topic {}: \\n'.format(i) + top_3_words[i] for i in lda_categories]\n",
    "\n",
    "fig, ax = plt.subplots(figsize=(20,10))\n",
    "ax.bar(lda_categories, lda_counts);\n",
    "ax.set_xticks(lda_categories);\n",
    "ax.set_xticklabels(labels);\n",
    "ax.set_title('LDA topic counts');\n",
    "ax.set_ylabel('Number of Tweets');"
   ]
  },
  {
   "cell_type": "code",
   "execution_count": 45,
   "id": "e73de5de",
   "metadata": {},
   "outputs": [
    {
     "name": "stdout",
     "output_type": "stream",
     "text": [
      "[t-SNE] Computing 151 nearest neighbors...\n",
      "[t-SNE] Indexed 500 samples in 0.000s...\n",
      "[t-SNE] Computed neighbors for 500 samples in 0.013s...\n",
      "[t-SNE] Computed conditional probabilities for sample 500 / 500\n",
      "[t-SNE] Mean sigma: 0.017535\n",
      "[t-SNE] KL divergence after 250 iterations with early exaggeration: 42.646618\n",
      "[t-SNE] KL divergence after 1050 iterations: 0.100276\n"
     ]
    }
   ],
   "source": [
    "tsne_lda_model = TSNE(n_components=2, perplexity=50, learning_rate=100, \n",
    "                        n_iter=2000, verbose=1, random_state=0, angle=0.75)\n",
    "tsne_lda_vectors = tsne_lda_model.fit_transform(lda_topic_matrix)"
   ]
  },
  {
   "cell_type": "code",
   "execution_count": 46,
   "id": "57af3e62",
   "metadata": {},
   "outputs": [
    {
     "data": {
      "text/html": [
       "\n",
       "\n",
       "\n",
       "\n",
       "\n",
       "\n",
       "  <div class=\"bk-root\" id=\"5a67b80c-fa76-46fc-b773-dc5ffc78d5e6\" data-root-id=\"1105\"></div>\n"
      ]
     },
     "metadata": {},
     "output_type": "display_data"
    },
    {
     "data": {
      "application/javascript": [
       "(function(root) {\n",
       "  function embed_document(root) {\n",
       "    \n",
       "  const docs_json = {\"66cf5735-8cc1-43e5-8a9e-93f48b89a78f\":{\"defs\":[],\"roots\":{\"references\":[{\"attributes\":{\"below\":[{\"id\":\"1116\"}],\"center\":[{\"id\":\"1119\"},{\"id\":\"1123\"},{\"id\":\"1144\"},{\"id\":\"1145\"},{\"id\":\"1146\"}],\"height\":700,\"left\":[{\"id\":\"1120\"}],\"renderers\":[{\"id\":\"1142\"}],\"title\":{\"id\":\"1106\"},\"toolbar\":{\"id\":\"1131\"},\"width\":700,\"x_range\":{\"id\":\"1108\"},\"x_scale\":{\"id\":\"1112\"},\"y_range\":{\"id\":\"1110\"},\"y_scale\":{\"id\":\"1114\"}},\"id\":\"1105\",\"subtype\":\"Figure\",\"type\":\"Plot\"},{\"attributes\":{},\"id\":\"1127\",\"type\":\"SaveTool\"},{\"attributes\":{},\"id\":\"1164\",\"type\":\"UnionRenderers\"},{\"attributes\":{\"overlay\":{\"id\":\"1130\"}},\"id\":\"1126\",\"type\":\"BoxZoomTool\"},{\"attributes\":{},\"id\":\"1110\",\"type\":\"DataRange1d\"},{\"attributes\":{},\"id\":\"1112\",\"type\":\"LinearScale\"},{\"attributes\":{},\"id\":\"1124\",\"type\":\"PanTool\"},{\"attributes\":{},\"id\":\"1128\",\"type\":\"ResetTool\"},{\"attributes\":{\"coordinates\":null,\"group\":null,\"text\":\"t-SNE Clustering of 3 LDA Topics\"},\"id\":\"1106\",\"type\":\"Title\"},{\"attributes\":{\"data\":{\"fill_color\":[\"#aec7e8\",\"#ff7f0e\",\"#ff7f0e\",\"#1f77b4\",\"#1f77b4\",\"#1f77b4\",\"#ff7f0e\",\"#aec7e8\",\"#1f77b4\",\"#1f77b4\",\"#aec7e8\",\"#1f77b4\",\"#1f77b4\",\"#ff7f0e\",\"#ff7f0e\",\"#1f77b4\",\"#ff7f0e\",\"#1f77b4\",\"#aec7e8\",\"#aec7e8\",\"#1f77b4\",\"#ff7f0e\",\"#ff7f0e\",\"#aec7e8\",\"#aec7e8\",\"#aec7e8\",\"#1f77b4\",\"#1f77b4\",\"#ff7f0e\",\"#ff7f0e\",\"#1f77b4\",\"#1f77b4\",\"#ff7f0e\",\"#aec7e8\",\"#1f77b4\",\"#ff7f0e\",\"#1f77b4\",\"#1f77b4\",\"#aec7e8\",\"#1f77b4\",\"#1f77b4\",\"#1f77b4\",\"#1f77b4\",\"#ff7f0e\",\"#1f77b4\",\"#aec7e8\",\"#aec7e8\",\"#ff7f0e\",\"#1f77b4\",\"#1f77b4\",\"#1f77b4\",\"#1f77b4\",\"#ff7f0e\",\"#aec7e8\",\"#aec7e8\",\"#1f77b4\",\"#ff7f0e\",\"#1f77b4\",\"#ff7f0e\",\"#aec7e8\",\"#ff7f0e\",\"#ff7f0e\",\"#aec7e8\",\"#1f77b4\",\"#1f77b4\",\"#ff7f0e\",\"#ff7f0e\",\"#1f77b4\",\"#1f77b4\",\"#ff7f0e\",\"#1f77b4\",\"#ff7f0e\",\"#ff7f0e\",\"#1f77b4\",\"#ff7f0e\",\"#aec7e8\",\"#ff7f0e\",\"#ff7f0e\",\"#1f77b4\",\"#aec7e8\",\"#ff7f0e\",\"#aec7e8\",\"#aec7e8\",\"#1f77b4\",\"#aec7e8\",\"#ff7f0e\",\"#1f77b4\",\"#1f77b4\",\"#ff7f0e\",\"#aec7e8\",\"#aec7e8\",\"#ff7f0e\",\"#ff7f0e\",\"#1f77b4\",\"#aec7e8\",\"#ff7f0e\",\"#aec7e8\",\"#aec7e8\",\"#aec7e8\",\"#1f77b4\",\"#1f77b4\",\"#ff7f0e\",\"#ff7f0e\",\"#ff7f0e\",\"#1f77b4\",\"#1f77b4\",\"#ff7f0e\",\"#ff7f0e\",\"#1f77b4\",\"#1f77b4\",\"#1f77b4\",\"#ff7f0e\",\"#ff7f0e\",\"#ff7f0e\",\"#ff7f0e\",\"#ff7f0e\",\"#aec7e8\",\"#ff7f0e\",\"#aec7e8\",\"#1f77b4\",\"#1f77b4\",\"#ff7f0e\",\"#1f77b4\",\"#1f77b4\",\"#1f77b4\",\"#1f77b4\",\"#1f77b4\",\"#aec7e8\",\"#ff7f0e\",\"#aec7e8\",\"#ff7f0e\",\"#1f77b4\",\"#aec7e8\",\"#ff7f0e\",\"#ff7f0e\",\"#ff7f0e\",\"#1f77b4\",\"#ff7f0e\",\"#1f77b4\",\"#aec7e8\",\"#aec7e8\",\"#1f77b4\",\"#1f77b4\",\"#ff7f0e\",\"#1f77b4\",\"#ff7f0e\",\"#1f77b4\",\"#ff7f0e\",\"#aec7e8\",\"#1f77b4\",\"#1f77b4\",\"#1f77b4\",\"#aec7e8\",\"#1f77b4\",\"#aec7e8\",\"#1f77b4\",\"#ff7f0e\",\"#ff7f0e\",\"#ff7f0e\",\"#ff7f0e\",\"#1f77b4\",\"#1f77b4\",\"#1f77b4\",\"#ff7f0e\",\"#aec7e8\",\"#ff7f0e\",\"#aec7e8\",\"#ff7f0e\",\"#1f77b4\",\"#1f77b4\",\"#aec7e8\",\"#1f77b4\",\"#1f77b4\",\"#ff7f0e\",\"#aec7e8\",\"#1f77b4\",\"#1f77b4\",\"#1f77b4\",\"#aec7e8\",\"#ff7f0e\",\"#ff7f0e\",\"#ff7f0e\",\"#ff7f0e\",\"#aec7e8\",\"#1f77b4\",\"#ff7f0e\",\"#1f77b4\",\"#1f77b4\",\"#ff7f0e\",\"#aec7e8\",\"#aec7e8\",\"#1f77b4\",\"#1f77b4\",\"#ff7f0e\",\"#aec7e8\",\"#ff7f0e\",\"#ff7f0e\",\"#1f77b4\",\"#ff7f0e\",\"#1f77b4\",\"#1f77b4\",\"#ff7f0e\",\"#ff7f0e\",\"#ff7f0e\",\"#1f77b4\",\"#ff7f0e\",\"#1f77b4\",\"#aec7e8\",\"#1f77b4\",\"#1f77b4\",\"#ff7f0e\",\"#1f77b4\",\"#aec7e8\",\"#aec7e8\",\"#1f77b4\",\"#aec7e8\",\"#1f77b4\",\"#aec7e8\",\"#1f77b4\",\"#1f77b4\",\"#1f77b4\",\"#1f77b4\",\"#ff7f0e\",\"#1f77b4\",\"#1f77b4\",\"#aec7e8\",\"#1f77b4\",\"#ff7f0e\",\"#1f77b4\",\"#aec7e8\",\"#ff7f0e\",\"#1f77b4\",\"#ff7f0e\",\"#ff7f0e\",\"#ff7f0e\",\"#1f77b4\",\"#ff7f0e\",\"#aec7e8\",\"#ff7f0e\",\"#ff7f0e\",\"#1f77b4\",\"#1f77b4\",\"#1f77b4\",\"#ff7f0e\",\"#aec7e8\",\"#aec7e8\",\"#1f77b4\",\"#aec7e8\",\"#aec7e8\",\"#1f77b4\",\"#aec7e8\",\"#ff7f0e\",\"#ff7f0e\",\"#ff7f0e\",\"#ff7f0e\",\"#ff7f0e\",\"#ff7f0e\",\"#1f77b4\",\"#aec7e8\",\"#1f77b4\",\"#ff7f0e\",\"#ff7f0e\",\"#ff7f0e\",\"#ff7f0e\",\"#1f77b4\",\"#1f77b4\",\"#1f77b4\",\"#aec7e8\",\"#1f77b4\",\"#1f77b4\",\"#ff7f0e\",\"#aec7e8\",\"#1f77b4\",\"#ff7f0e\",\"#1f77b4\",\"#ff7f0e\",\"#1f77b4\",\"#ff7f0e\",\"#1f77b4\",\"#aec7e8\",\"#1f77b4\",\"#1f77b4\",\"#1f77b4\",\"#ff7f0e\",\"#ff7f0e\",\"#aec7e8\",\"#1f77b4\",\"#ff7f0e\",\"#1f77b4\",\"#1f77b4\",\"#ff7f0e\",\"#aec7e8\",\"#1f77b4\",\"#ff7f0e\",\"#ff7f0e\",\"#1f77b4\",\"#aec7e8\",\"#aec7e8\",\"#1f77b4\",\"#ff7f0e\",\"#1f77b4\",\"#1f77b4\",\"#ff7f0e\",\"#aec7e8\",\"#ff7f0e\",\"#1f77b4\",\"#1f77b4\",\"#ff7f0e\",\"#1f77b4\",\"#aec7e8\",\"#aec7e8\",\"#aec7e8\",\"#ff7f0e\",\"#1f77b4\",\"#ff7f0e\",\"#1f77b4\",\"#ff7f0e\",\"#ff7f0e\",\"#1f77b4\",\"#1f77b4\",\"#1f77b4\",\"#ff7f0e\",\"#ff7f0e\",\"#ff7f0e\",\"#1f77b4\",\"#ff7f0e\",\"#ff7f0e\",\"#ff7f0e\",\"#aec7e8\",\"#1f77b4\",\"#1f77b4\",\"#ff7f0e\",\"#aec7e8\",\"#ff7f0e\",\"#ff7f0e\",\"#1f77b4\",\"#ff7f0e\",\"#ff7f0e\",\"#aec7e8\",\"#ff7f0e\",\"#1f77b4\",\"#ff7f0e\",\"#aec7e8\",\"#aec7e8\",\"#aec7e8\",\"#ff7f0e\",\"#1f77b4\",\"#aec7e8\",\"#ff7f0e\",\"#1f77b4\",\"#ff7f0e\",\"#aec7e8\",\"#1f77b4\",\"#1f77b4\",\"#1f77b4\",\"#ff7f0e\",\"#ff7f0e\",\"#1f77b4\",\"#ff7f0e\",\"#ff7f0e\",\"#1f77b4\",\"#ff7f0e\",\"#ff7f0e\",\"#ff7f0e\",\"#1f77b4\",\"#ff7f0e\",\"#1f77b4\",\"#1f77b4\",\"#ff7f0e\",\"#ff7f0e\",\"#aec7e8\",\"#1f77b4\",\"#aec7e8\",\"#ff7f0e\",\"#ff7f0e\",\"#aec7e8\",\"#1f77b4\",\"#1f77b4\",\"#aec7e8\",\"#aec7e8\",\"#1f77b4\",\"#1f77b4\",\"#1f77b4\",\"#1f77b4\",\"#aec7e8\",\"#1f77b4\",\"#1f77b4\",\"#ff7f0e\",\"#1f77b4\",\"#aec7e8\",\"#1f77b4\",\"#1f77b4\",\"#1f77b4\",\"#aec7e8\",\"#1f77b4\",\"#1f77b4\",\"#ff7f0e\",\"#aec7e8\",\"#ff7f0e\",\"#aec7e8\",\"#aec7e8\",\"#ff7f0e\",\"#1f77b4\",\"#1f77b4\",\"#ff7f0e\",\"#1f77b4\",\"#aec7e8\",\"#aec7e8\",\"#1f77b4\",\"#1f77b4\",\"#ff7f0e\",\"#1f77b4\",\"#ff7f0e\",\"#ff7f0e\",\"#1f77b4\",\"#ff7f0e\",\"#aec7e8\",\"#ff7f0e\",\"#aec7e8\",\"#ff7f0e\",\"#1f77b4\",\"#ff7f0e\",\"#ff7f0e\",\"#aec7e8\",\"#aec7e8\",\"#aec7e8\",\"#ff7f0e\",\"#ff7f0e\",\"#aec7e8\",\"#1f77b4\",\"#aec7e8\",\"#1f77b4\",\"#aec7e8\",\"#aec7e8\",\"#1f77b4\",\"#aec7e8\",\"#aec7e8\",\"#1f77b4\",\"#ff7f0e\",\"#ff7f0e\",\"#ff7f0e\",\"#ff7f0e\",\"#ff7f0e\",\"#aec7e8\",\"#1f77b4\",\"#ff7f0e\",\"#ff7f0e\",\"#ff7f0e\",\"#ff7f0e\",\"#1f77b4\",\"#1f77b4\",\"#1f77b4\",\"#aec7e8\",\"#ff7f0e\",\"#aec7e8\",\"#1f77b4\",\"#aec7e8\",\"#ff7f0e\",\"#ff7f0e\",\"#ff7f0e\",\"#1f77b4\",\"#ff7f0e\",\"#1f77b4\",\"#ff7f0e\",\"#1f77b4\",\"#aec7e8\",\"#ff7f0e\",\"#ff7f0e\",\"#aec7e8\",\"#aec7e8\",\"#ff7f0e\",\"#1f77b4\",\"#ff7f0e\",\"#aec7e8\",\"#ff7f0e\",\"#ff7f0e\",\"#1f77b4\",\"#ff7f0e\",\"#ff7f0e\",\"#aec7e8\",\"#aec7e8\",\"#1f77b4\",\"#1f77b4\",\"#1f77b4\",\"#ff7f0e\",\"#aec7e8\",\"#ff7f0e\",\"#ff7f0e\",\"#1f77b4\",\"#ff7f0e\",\"#ff7f0e\",\"#ff7f0e\",\"#1f77b4\",\"#ff7f0e\",\"#1f77b4\",\"#aec7e8\",\"#1f77b4\",\"#1f77b4\",\"#aec7e8\",\"#1f77b4\"],\"hatch_color\":[\"#aec7e8\",\"#ff7f0e\",\"#ff7f0e\",\"#1f77b4\",\"#1f77b4\",\"#1f77b4\",\"#ff7f0e\",\"#aec7e8\",\"#1f77b4\",\"#1f77b4\",\"#aec7e8\",\"#1f77b4\",\"#1f77b4\",\"#ff7f0e\",\"#ff7f0e\",\"#1f77b4\",\"#ff7f0e\",\"#1f77b4\",\"#aec7e8\",\"#aec7e8\",\"#1f77b4\",\"#ff7f0e\",\"#ff7f0e\",\"#aec7e8\",\"#aec7e8\",\"#aec7e8\",\"#1f77b4\",\"#1f77b4\",\"#ff7f0e\",\"#ff7f0e\",\"#1f77b4\",\"#1f77b4\",\"#ff7f0e\",\"#aec7e8\",\"#1f77b4\",\"#ff7f0e\",\"#1f77b4\",\"#1f77b4\",\"#aec7e8\",\"#1f77b4\",\"#1f77b4\",\"#1f77b4\",\"#1f77b4\",\"#ff7f0e\",\"#1f77b4\",\"#aec7e8\",\"#aec7e8\",\"#ff7f0e\",\"#1f77b4\",\"#1f77b4\",\"#1f77b4\",\"#1f77b4\",\"#ff7f0e\",\"#aec7e8\",\"#aec7e8\",\"#1f77b4\",\"#ff7f0e\",\"#1f77b4\",\"#ff7f0e\",\"#aec7e8\",\"#ff7f0e\",\"#ff7f0e\",\"#aec7e8\",\"#1f77b4\",\"#1f77b4\",\"#ff7f0e\",\"#ff7f0e\",\"#1f77b4\",\"#1f77b4\",\"#ff7f0e\",\"#1f77b4\",\"#ff7f0e\",\"#ff7f0e\",\"#1f77b4\",\"#ff7f0e\",\"#aec7e8\",\"#ff7f0e\",\"#ff7f0e\",\"#1f77b4\",\"#aec7e8\",\"#ff7f0e\",\"#aec7e8\",\"#aec7e8\",\"#1f77b4\",\"#aec7e8\",\"#ff7f0e\",\"#1f77b4\",\"#1f77b4\",\"#ff7f0e\",\"#aec7e8\",\"#aec7e8\",\"#ff7f0e\",\"#ff7f0e\",\"#1f77b4\",\"#aec7e8\",\"#ff7f0e\",\"#aec7e8\",\"#aec7e8\",\"#aec7e8\",\"#1f77b4\",\"#1f77b4\",\"#ff7f0e\",\"#ff7f0e\",\"#ff7f0e\",\"#1f77b4\",\"#1f77b4\",\"#ff7f0e\",\"#ff7f0e\",\"#1f77b4\",\"#1f77b4\",\"#1f77b4\",\"#ff7f0e\",\"#ff7f0e\",\"#ff7f0e\",\"#ff7f0e\",\"#ff7f0e\",\"#aec7e8\",\"#ff7f0e\",\"#aec7e8\",\"#1f77b4\",\"#1f77b4\",\"#ff7f0e\",\"#1f77b4\",\"#1f77b4\",\"#1f77b4\",\"#1f77b4\",\"#1f77b4\",\"#aec7e8\",\"#ff7f0e\",\"#aec7e8\",\"#ff7f0e\",\"#1f77b4\",\"#aec7e8\",\"#ff7f0e\",\"#ff7f0e\",\"#ff7f0e\",\"#1f77b4\",\"#ff7f0e\",\"#1f77b4\",\"#aec7e8\",\"#aec7e8\",\"#1f77b4\",\"#1f77b4\",\"#ff7f0e\",\"#1f77b4\",\"#ff7f0e\",\"#1f77b4\",\"#ff7f0e\",\"#aec7e8\",\"#1f77b4\",\"#1f77b4\",\"#1f77b4\",\"#aec7e8\",\"#1f77b4\",\"#aec7e8\",\"#1f77b4\",\"#ff7f0e\",\"#ff7f0e\",\"#ff7f0e\",\"#ff7f0e\",\"#1f77b4\",\"#1f77b4\",\"#1f77b4\",\"#ff7f0e\",\"#aec7e8\",\"#ff7f0e\",\"#aec7e8\",\"#ff7f0e\",\"#1f77b4\",\"#1f77b4\",\"#aec7e8\",\"#1f77b4\",\"#1f77b4\",\"#ff7f0e\",\"#aec7e8\",\"#1f77b4\",\"#1f77b4\",\"#1f77b4\",\"#aec7e8\",\"#ff7f0e\",\"#ff7f0e\",\"#ff7f0e\",\"#ff7f0e\",\"#aec7e8\",\"#1f77b4\",\"#ff7f0e\",\"#1f77b4\",\"#1f77b4\",\"#ff7f0e\",\"#aec7e8\",\"#aec7e8\",\"#1f77b4\",\"#1f77b4\",\"#ff7f0e\",\"#aec7e8\",\"#ff7f0e\",\"#ff7f0e\",\"#1f77b4\",\"#ff7f0e\",\"#1f77b4\",\"#1f77b4\",\"#ff7f0e\",\"#ff7f0e\",\"#ff7f0e\",\"#1f77b4\",\"#ff7f0e\",\"#1f77b4\",\"#aec7e8\",\"#1f77b4\",\"#1f77b4\",\"#ff7f0e\",\"#1f77b4\",\"#aec7e8\",\"#aec7e8\",\"#1f77b4\",\"#aec7e8\",\"#1f77b4\",\"#aec7e8\",\"#1f77b4\",\"#1f77b4\",\"#1f77b4\",\"#1f77b4\",\"#ff7f0e\",\"#1f77b4\",\"#1f77b4\",\"#aec7e8\",\"#1f77b4\",\"#ff7f0e\",\"#1f77b4\",\"#aec7e8\",\"#ff7f0e\",\"#1f77b4\",\"#ff7f0e\",\"#ff7f0e\",\"#ff7f0e\",\"#1f77b4\",\"#ff7f0e\",\"#aec7e8\",\"#ff7f0e\",\"#ff7f0e\",\"#1f77b4\",\"#1f77b4\",\"#1f77b4\",\"#ff7f0e\",\"#aec7e8\",\"#aec7e8\",\"#1f77b4\",\"#aec7e8\",\"#aec7e8\",\"#1f77b4\",\"#aec7e8\",\"#ff7f0e\",\"#ff7f0e\",\"#ff7f0e\",\"#ff7f0e\",\"#ff7f0e\",\"#ff7f0e\",\"#1f77b4\",\"#aec7e8\",\"#1f77b4\",\"#ff7f0e\",\"#ff7f0e\",\"#ff7f0e\",\"#ff7f0e\",\"#1f77b4\",\"#1f77b4\",\"#1f77b4\",\"#aec7e8\",\"#1f77b4\",\"#1f77b4\",\"#ff7f0e\",\"#aec7e8\",\"#1f77b4\",\"#ff7f0e\",\"#1f77b4\",\"#ff7f0e\",\"#1f77b4\",\"#ff7f0e\",\"#1f77b4\",\"#aec7e8\",\"#1f77b4\",\"#1f77b4\",\"#1f77b4\",\"#ff7f0e\",\"#ff7f0e\",\"#aec7e8\",\"#1f77b4\",\"#ff7f0e\",\"#1f77b4\",\"#1f77b4\",\"#ff7f0e\",\"#aec7e8\",\"#1f77b4\",\"#ff7f0e\",\"#ff7f0e\",\"#1f77b4\",\"#aec7e8\",\"#aec7e8\",\"#1f77b4\",\"#ff7f0e\",\"#1f77b4\",\"#1f77b4\",\"#ff7f0e\",\"#aec7e8\",\"#ff7f0e\",\"#1f77b4\",\"#1f77b4\",\"#ff7f0e\",\"#1f77b4\",\"#aec7e8\",\"#aec7e8\",\"#aec7e8\",\"#ff7f0e\",\"#1f77b4\",\"#ff7f0e\",\"#1f77b4\",\"#ff7f0e\",\"#ff7f0e\",\"#1f77b4\",\"#1f77b4\",\"#1f77b4\",\"#ff7f0e\",\"#ff7f0e\",\"#ff7f0e\",\"#1f77b4\",\"#ff7f0e\",\"#ff7f0e\",\"#ff7f0e\",\"#aec7e8\",\"#1f77b4\",\"#1f77b4\",\"#ff7f0e\",\"#aec7e8\",\"#ff7f0e\",\"#ff7f0e\",\"#1f77b4\",\"#ff7f0e\",\"#ff7f0e\",\"#aec7e8\",\"#ff7f0e\",\"#1f77b4\",\"#ff7f0e\",\"#aec7e8\",\"#aec7e8\",\"#aec7e8\",\"#ff7f0e\",\"#1f77b4\",\"#aec7e8\",\"#ff7f0e\",\"#1f77b4\",\"#ff7f0e\",\"#aec7e8\",\"#1f77b4\",\"#1f77b4\",\"#1f77b4\",\"#ff7f0e\",\"#ff7f0e\",\"#1f77b4\",\"#ff7f0e\",\"#ff7f0e\",\"#1f77b4\",\"#ff7f0e\",\"#ff7f0e\",\"#ff7f0e\",\"#1f77b4\",\"#ff7f0e\",\"#1f77b4\",\"#1f77b4\",\"#ff7f0e\",\"#ff7f0e\",\"#aec7e8\",\"#1f77b4\",\"#aec7e8\",\"#ff7f0e\",\"#ff7f0e\",\"#aec7e8\",\"#1f77b4\",\"#1f77b4\",\"#aec7e8\",\"#aec7e8\",\"#1f77b4\",\"#1f77b4\",\"#1f77b4\",\"#1f77b4\",\"#aec7e8\",\"#1f77b4\",\"#1f77b4\",\"#ff7f0e\",\"#1f77b4\",\"#aec7e8\",\"#1f77b4\",\"#1f77b4\",\"#1f77b4\",\"#aec7e8\",\"#1f77b4\",\"#1f77b4\",\"#ff7f0e\",\"#aec7e8\",\"#ff7f0e\",\"#aec7e8\",\"#aec7e8\",\"#ff7f0e\",\"#1f77b4\",\"#1f77b4\",\"#ff7f0e\",\"#1f77b4\",\"#aec7e8\",\"#aec7e8\",\"#1f77b4\",\"#1f77b4\",\"#ff7f0e\",\"#1f77b4\",\"#ff7f0e\",\"#ff7f0e\",\"#1f77b4\",\"#ff7f0e\",\"#aec7e8\",\"#ff7f0e\",\"#aec7e8\",\"#ff7f0e\",\"#1f77b4\",\"#ff7f0e\",\"#ff7f0e\",\"#aec7e8\",\"#aec7e8\",\"#aec7e8\",\"#ff7f0e\",\"#ff7f0e\",\"#aec7e8\",\"#1f77b4\",\"#aec7e8\",\"#1f77b4\",\"#aec7e8\",\"#aec7e8\",\"#1f77b4\",\"#aec7e8\",\"#aec7e8\",\"#1f77b4\",\"#ff7f0e\",\"#ff7f0e\",\"#ff7f0e\",\"#ff7f0e\",\"#ff7f0e\",\"#aec7e8\",\"#1f77b4\",\"#ff7f0e\",\"#ff7f0e\",\"#ff7f0e\",\"#ff7f0e\",\"#1f77b4\",\"#1f77b4\",\"#1f77b4\",\"#aec7e8\",\"#ff7f0e\",\"#aec7e8\",\"#1f77b4\",\"#aec7e8\",\"#ff7f0e\",\"#ff7f0e\",\"#ff7f0e\",\"#1f77b4\",\"#ff7f0e\",\"#1f77b4\",\"#ff7f0e\",\"#1f77b4\",\"#aec7e8\",\"#ff7f0e\",\"#ff7f0e\",\"#aec7e8\",\"#aec7e8\",\"#ff7f0e\",\"#1f77b4\",\"#ff7f0e\",\"#aec7e8\",\"#ff7f0e\",\"#ff7f0e\",\"#1f77b4\",\"#ff7f0e\",\"#ff7f0e\",\"#aec7e8\",\"#aec7e8\",\"#1f77b4\",\"#1f77b4\",\"#1f77b4\",\"#ff7f0e\",\"#aec7e8\",\"#ff7f0e\",\"#ff7f0e\",\"#1f77b4\",\"#ff7f0e\",\"#ff7f0e\",\"#ff7f0e\",\"#1f77b4\",\"#ff7f0e\",\"#1f77b4\",\"#aec7e8\",\"#1f77b4\",\"#1f77b4\",\"#aec7e8\",\"#1f77b4\"],\"line_color\":[\"#aec7e8\",\"#ff7f0e\",\"#ff7f0e\",\"#1f77b4\",\"#1f77b4\",\"#1f77b4\",\"#ff7f0e\",\"#aec7e8\",\"#1f77b4\",\"#1f77b4\",\"#aec7e8\",\"#1f77b4\",\"#1f77b4\",\"#ff7f0e\",\"#ff7f0e\",\"#1f77b4\",\"#ff7f0e\",\"#1f77b4\",\"#aec7e8\",\"#aec7e8\",\"#1f77b4\",\"#ff7f0e\",\"#ff7f0e\",\"#aec7e8\",\"#aec7e8\",\"#aec7e8\",\"#1f77b4\",\"#1f77b4\",\"#ff7f0e\",\"#ff7f0e\",\"#1f77b4\",\"#1f77b4\",\"#ff7f0e\",\"#aec7e8\",\"#1f77b4\",\"#ff7f0e\",\"#1f77b4\",\"#1f77b4\",\"#aec7e8\",\"#1f77b4\",\"#1f77b4\",\"#1f77b4\",\"#1f77b4\",\"#ff7f0e\",\"#1f77b4\",\"#aec7e8\",\"#aec7e8\",\"#ff7f0e\",\"#1f77b4\",\"#1f77b4\",\"#1f77b4\",\"#1f77b4\",\"#ff7f0e\",\"#aec7e8\",\"#aec7e8\",\"#1f77b4\",\"#ff7f0e\",\"#1f77b4\",\"#ff7f0e\",\"#aec7e8\",\"#ff7f0e\",\"#ff7f0e\",\"#aec7e8\",\"#1f77b4\",\"#1f77b4\",\"#ff7f0e\",\"#ff7f0e\",\"#1f77b4\",\"#1f77b4\",\"#ff7f0e\",\"#1f77b4\",\"#ff7f0e\",\"#ff7f0e\",\"#1f77b4\",\"#ff7f0e\",\"#aec7e8\",\"#ff7f0e\",\"#ff7f0e\",\"#1f77b4\",\"#aec7e8\",\"#ff7f0e\",\"#aec7e8\",\"#aec7e8\",\"#1f77b4\",\"#aec7e8\",\"#ff7f0e\",\"#1f77b4\",\"#1f77b4\",\"#ff7f0e\",\"#aec7e8\",\"#aec7e8\",\"#ff7f0e\",\"#ff7f0e\",\"#1f77b4\",\"#aec7e8\",\"#ff7f0e\",\"#aec7e8\",\"#aec7e8\",\"#aec7e8\",\"#1f77b4\",\"#1f77b4\",\"#ff7f0e\",\"#ff7f0e\",\"#ff7f0e\",\"#1f77b4\",\"#1f77b4\",\"#ff7f0e\",\"#ff7f0e\",\"#1f77b4\",\"#1f77b4\",\"#1f77b4\",\"#ff7f0e\",\"#ff7f0e\",\"#ff7f0e\",\"#ff7f0e\",\"#ff7f0e\",\"#aec7e8\",\"#ff7f0e\",\"#aec7e8\",\"#1f77b4\",\"#1f77b4\",\"#ff7f0e\",\"#1f77b4\",\"#1f77b4\",\"#1f77b4\",\"#1f77b4\",\"#1f77b4\",\"#aec7e8\",\"#ff7f0e\",\"#aec7e8\",\"#ff7f0e\",\"#1f77b4\",\"#aec7e8\",\"#ff7f0e\",\"#ff7f0e\",\"#ff7f0e\",\"#1f77b4\",\"#ff7f0e\",\"#1f77b4\",\"#aec7e8\",\"#aec7e8\",\"#1f77b4\",\"#1f77b4\",\"#ff7f0e\",\"#1f77b4\",\"#ff7f0e\",\"#1f77b4\",\"#ff7f0e\",\"#aec7e8\",\"#1f77b4\",\"#1f77b4\",\"#1f77b4\",\"#aec7e8\",\"#1f77b4\",\"#aec7e8\",\"#1f77b4\",\"#ff7f0e\",\"#ff7f0e\",\"#ff7f0e\",\"#ff7f0e\",\"#1f77b4\",\"#1f77b4\",\"#1f77b4\",\"#ff7f0e\",\"#aec7e8\",\"#ff7f0e\",\"#aec7e8\",\"#ff7f0e\",\"#1f77b4\",\"#1f77b4\",\"#aec7e8\",\"#1f77b4\",\"#1f77b4\",\"#ff7f0e\",\"#aec7e8\",\"#1f77b4\",\"#1f77b4\",\"#1f77b4\",\"#aec7e8\",\"#ff7f0e\",\"#ff7f0e\",\"#ff7f0e\",\"#ff7f0e\",\"#aec7e8\",\"#1f77b4\",\"#ff7f0e\",\"#1f77b4\",\"#1f77b4\",\"#ff7f0e\",\"#aec7e8\",\"#aec7e8\",\"#1f77b4\",\"#1f77b4\",\"#ff7f0e\",\"#aec7e8\",\"#ff7f0e\",\"#ff7f0e\",\"#1f77b4\",\"#ff7f0e\",\"#1f77b4\",\"#1f77b4\",\"#ff7f0e\",\"#ff7f0e\",\"#ff7f0e\",\"#1f77b4\",\"#ff7f0e\",\"#1f77b4\",\"#aec7e8\",\"#1f77b4\",\"#1f77b4\",\"#ff7f0e\",\"#1f77b4\",\"#aec7e8\",\"#aec7e8\",\"#1f77b4\",\"#aec7e8\",\"#1f77b4\",\"#aec7e8\",\"#1f77b4\",\"#1f77b4\",\"#1f77b4\",\"#1f77b4\",\"#ff7f0e\",\"#1f77b4\",\"#1f77b4\",\"#aec7e8\",\"#1f77b4\",\"#ff7f0e\",\"#1f77b4\",\"#aec7e8\",\"#ff7f0e\",\"#1f77b4\",\"#ff7f0e\",\"#ff7f0e\",\"#ff7f0e\",\"#1f77b4\",\"#ff7f0e\",\"#aec7e8\",\"#ff7f0e\",\"#ff7f0e\",\"#1f77b4\",\"#1f77b4\",\"#1f77b4\",\"#ff7f0e\",\"#aec7e8\",\"#aec7e8\",\"#1f77b4\",\"#aec7e8\",\"#aec7e8\",\"#1f77b4\",\"#aec7e8\",\"#ff7f0e\",\"#ff7f0e\",\"#ff7f0e\",\"#ff7f0e\",\"#ff7f0e\",\"#ff7f0e\",\"#1f77b4\",\"#aec7e8\",\"#1f77b4\",\"#ff7f0e\",\"#ff7f0e\",\"#ff7f0e\",\"#ff7f0e\",\"#1f77b4\",\"#1f77b4\",\"#1f77b4\",\"#aec7e8\",\"#1f77b4\",\"#1f77b4\",\"#ff7f0e\",\"#aec7e8\",\"#1f77b4\",\"#ff7f0e\",\"#1f77b4\",\"#ff7f0e\",\"#1f77b4\",\"#ff7f0e\",\"#1f77b4\",\"#aec7e8\",\"#1f77b4\",\"#1f77b4\",\"#1f77b4\",\"#ff7f0e\",\"#ff7f0e\",\"#aec7e8\",\"#1f77b4\",\"#ff7f0e\",\"#1f77b4\",\"#1f77b4\",\"#ff7f0e\",\"#aec7e8\",\"#1f77b4\",\"#ff7f0e\",\"#ff7f0e\",\"#1f77b4\",\"#aec7e8\",\"#aec7e8\",\"#1f77b4\",\"#ff7f0e\",\"#1f77b4\",\"#1f77b4\",\"#ff7f0e\",\"#aec7e8\",\"#ff7f0e\",\"#1f77b4\",\"#1f77b4\",\"#ff7f0e\",\"#1f77b4\",\"#aec7e8\",\"#aec7e8\",\"#aec7e8\",\"#ff7f0e\",\"#1f77b4\",\"#ff7f0e\",\"#1f77b4\",\"#ff7f0e\",\"#ff7f0e\",\"#1f77b4\",\"#1f77b4\",\"#1f77b4\",\"#ff7f0e\",\"#ff7f0e\",\"#ff7f0e\",\"#1f77b4\",\"#ff7f0e\",\"#ff7f0e\",\"#ff7f0e\",\"#aec7e8\",\"#1f77b4\",\"#1f77b4\",\"#ff7f0e\",\"#aec7e8\",\"#ff7f0e\",\"#ff7f0e\",\"#1f77b4\",\"#ff7f0e\",\"#ff7f0e\",\"#aec7e8\",\"#ff7f0e\",\"#1f77b4\",\"#ff7f0e\",\"#aec7e8\",\"#aec7e8\",\"#aec7e8\",\"#ff7f0e\",\"#1f77b4\",\"#aec7e8\",\"#ff7f0e\",\"#1f77b4\",\"#ff7f0e\",\"#aec7e8\",\"#1f77b4\",\"#1f77b4\",\"#1f77b4\",\"#ff7f0e\",\"#ff7f0e\",\"#1f77b4\",\"#ff7f0e\",\"#ff7f0e\",\"#1f77b4\",\"#ff7f0e\",\"#ff7f0e\",\"#ff7f0e\",\"#1f77b4\",\"#ff7f0e\",\"#1f77b4\",\"#1f77b4\",\"#ff7f0e\",\"#ff7f0e\",\"#aec7e8\",\"#1f77b4\",\"#aec7e8\",\"#ff7f0e\",\"#ff7f0e\",\"#aec7e8\",\"#1f77b4\",\"#1f77b4\",\"#aec7e8\",\"#aec7e8\",\"#1f77b4\",\"#1f77b4\",\"#1f77b4\",\"#1f77b4\",\"#aec7e8\",\"#1f77b4\",\"#1f77b4\",\"#ff7f0e\",\"#1f77b4\",\"#aec7e8\",\"#1f77b4\",\"#1f77b4\",\"#1f77b4\",\"#aec7e8\",\"#1f77b4\",\"#1f77b4\",\"#ff7f0e\",\"#aec7e8\",\"#ff7f0e\",\"#aec7e8\",\"#aec7e8\",\"#ff7f0e\",\"#1f77b4\",\"#1f77b4\",\"#ff7f0e\",\"#1f77b4\",\"#aec7e8\",\"#aec7e8\",\"#1f77b4\",\"#1f77b4\",\"#ff7f0e\",\"#1f77b4\",\"#ff7f0e\",\"#ff7f0e\",\"#1f77b4\",\"#ff7f0e\",\"#aec7e8\",\"#ff7f0e\",\"#aec7e8\",\"#ff7f0e\",\"#1f77b4\",\"#ff7f0e\",\"#ff7f0e\",\"#aec7e8\",\"#aec7e8\",\"#aec7e8\",\"#ff7f0e\",\"#ff7f0e\",\"#aec7e8\",\"#1f77b4\",\"#aec7e8\",\"#1f77b4\",\"#aec7e8\",\"#aec7e8\",\"#1f77b4\",\"#aec7e8\",\"#aec7e8\",\"#1f77b4\",\"#ff7f0e\",\"#ff7f0e\",\"#ff7f0e\",\"#ff7f0e\",\"#ff7f0e\",\"#aec7e8\",\"#1f77b4\",\"#ff7f0e\",\"#ff7f0e\",\"#ff7f0e\",\"#ff7f0e\",\"#1f77b4\",\"#1f77b4\",\"#1f77b4\",\"#aec7e8\",\"#ff7f0e\",\"#aec7e8\",\"#1f77b4\",\"#aec7e8\",\"#ff7f0e\",\"#ff7f0e\",\"#ff7f0e\",\"#1f77b4\",\"#ff7f0e\",\"#1f77b4\",\"#ff7f0e\",\"#1f77b4\",\"#aec7e8\",\"#ff7f0e\",\"#ff7f0e\",\"#aec7e8\",\"#aec7e8\",\"#ff7f0e\",\"#1f77b4\",\"#ff7f0e\",\"#aec7e8\",\"#ff7f0e\",\"#ff7f0e\",\"#1f77b4\",\"#ff7f0e\",\"#ff7f0e\",\"#aec7e8\",\"#aec7e8\",\"#1f77b4\",\"#1f77b4\",\"#1f77b4\",\"#ff7f0e\",\"#aec7e8\",\"#ff7f0e\",\"#ff7f0e\",\"#1f77b4\",\"#ff7f0e\",\"#ff7f0e\",\"#ff7f0e\",\"#1f77b4\",\"#ff7f0e\",\"#1f77b4\",\"#aec7e8\",\"#1f77b4\",\"#1f77b4\",\"#aec7e8\",\"#1f77b4\"],\"x\":{\"__ndarray__\":\"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\",\"dtype\":\"float32\",\"order\":\"little\",\"shape\":[500]},\"y\":{\"__ndarray__\":\"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\",\"dtype\":\"float32\",\"order\":\"little\",\"shape\":[500]}},\"selected\":{\"id\":\"1165\"},\"selection_policy\":{\"id\":\"1164\"}},\"id\":\"1138\",\"type\":\"ColumnDataSource\"},{\"attributes\":{},\"id\":\"1125\",\"type\":\"WheelZoomTool\"},{\"attributes\":{},\"id\":\"1117\",\"type\":\"BasicTicker\"},{\"attributes\":{\"axis\":{\"id\":\"1116\"},\"coordinates\":null,\"group\":null,\"ticker\":null},\"id\":\"1119\",\"type\":\"Grid\"},{\"attributes\":{\"coordinates\":null,\"formatter\":{\"id\":\"1159\"},\"group\":null,\"major_label_policy\":{\"id\":\"1160\"},\"ticker\":{\"id\":\"1121\"}},\"id\":\"1120\",\"type\":\"LinearAxis\"},{\"attributes\":{\"coordinates\":null,\"group\":null,\"text\":\"bitch rt like\",\"text_color\":\"#1f77b4\",\"x\":4.320496082305908,\"y\":-14.505887031555176},\"id\":\"1144\",\"type\":\"Label\"},{\"attributes\":{},\"id\":\"1114\",\"type\":\"LinearScale\"},{\"attributes\":{\"coordinates\":null,\"formatter\":{\"id\":\"1162\"},\"group\":null,\"major_label_policy\":{\"id\":\"1163\"},\"ticker\":{\"id\":\"1117\"}},\"id\":\"1116\",\"type\":\"LinearAxis\"},{\"attributes\":{},\"id\":\"1108\",\"type\":\"DataRange1d\"},{\"attributes\":{\"tools\":[{\"id\":\"1124\"},{\"id\":\"1125\"},{\"id\":\"1126\"},{\"id\":\"1127\"},{\"id\":\"1128\"},{\"id\":\"1129\"}]},\"id\":\"1131\",\"type\":\"Toolbar\"},{\"attributes\":{},\"id\":\"1165\",\"type\":\"Selection\"},{\"attributes\":{\"source\":{\"id\":\"1138\"}},\"id\":\"1143\",\"type\":\"CDSView\"},{\"attributes\":{\"fill_alpha\":{\"value\":0.2},\"fill_color\":{\"field\":\"fill_color\"},\"hatch_alpha\":{\"value\":0.2},\"hatch_color\":{\"field\":\"hatch_color\"},\"line_alpha\":{\"value\":0.2},\"line_color\":{\"field\":\"line_color\"},\"x\":{\"field\":\"x\"},\"y\":{\"field\":\"y\"}},\"id\":\"1141\",\"type\":\"Scatter\"},{\"attributes\":{\"bottom_units\":\"screen\",\"coordinates\":null,\"fill_alpha\":0.5,\"fill_color\":\"lightgrey\",\"group\":null,\"left_units\":\"screen\",\"level\":\"overlay\",\"line_alpha\":1.0,\"line_color\":\"black\",\"line_dash\":[4,4],\"line_width\":2,\"right_units\":\"screen\",\"syncable\":false,\"top_units\":\"screen\"},\"id\":\"1130\",\"type\":\"BoxAnnotation\"},{\"attributes\":{\"fill_alpha\":{\"value\":0.1},\"fill_color\":{\"field\":\"fill_color\"},\"hatch_alpha\":{\"value\":0.1},\"hatch_color\":{\"field\":\"hatch_color\"},\"line_alpha\":{\"value\":0.1},\"line_color\":{\"field\":\"line_color\"},\"x\":{\"field\":\"x\"},\"y\":{\"field\":\"y\"}},\"id\":\"1140\",\"type\":\"Scatter\"},{\"attributes\":{\"coordinates\":null,\"group\":null,\"text\":\"rt bitch hoe\",\"text_color\":\"#ff7f0e\",\"x\":-12.484654426574707,\"y\":3.544097900390625},\"id\":\"1146\",\"type\":\"Label\"},{\"attributes\":{\"coordinates\":null,\"group\":null,\"text\":\"bitch rt cunt\",\"text_color\":\"#aec7e8\",\"x\":16.0502872467041,\"y\":9.535099029541016},\"id\":\"1145\",\"type\":\"Label\"},{\"attributes\":{\"fill_color\":{\"field\":\"fill_color\"},\"hatch_color\":{\"field\":\"hatch_color\"},\"line_color\":{\"field\":\"line_color\"},\"x\":{\"field\":\"x\"},\"y\":{\"field\":\"y\"}},\"id\":\"1139\",\"type\":\"Scatter\"},{\"attributes\":{},\"id\":\"1129\",\"type\":\"HelpTool\"},{\"attributes\":{},\"id\":\"1159\",\"type\":\"BasicTickFormatter\"},{\"attributes\":{},\"id\":\"1163\",\"type\":\"AllLabels\"},{\"attributes\":{},\"id\":\"1121\",\"type\":\"BasicTicker\"},{\"attributes\":{\"axis\":{\"id\":\"1120\"},\"coordinates\":null,\"dimension\":1,\"group\":null,\"ticker\":null},\"id\":\"1123\",\"type\":\"Grid\"},{\"attributes\":{},\"id\":\"1160\",\"type\":\"AllLabels\"},{\"attributes\":{},\"id\":\"1162\",\"type\":\"BasicTickFormatter\"},{\"attributes\":{\"coordinates\":null,\"data_source\":{\"id\":\"1138\"},\"glyph\":{\"id\":\"1139\"},\"group\":null,\"hover_glyph\":null,\"muted_glyph\":{\"id\":\"1141\"},\"nonselection_glyph\":{\"id\":\"1140\"},\"view\":{\"id\":\"1143\"}},\"id\":\"1142\",\"type\":\"GlyphRenderer\"}],\"root_ids\":[\"1105\"]},\"title\":\"Bokeh Application\",\"version\":\"2.4.1\"}};\n",
       "  const render_items = [{\"docid\":\"66cf5735-8cc1-43e5-8a9e-93f48b89a78f\",\"root_ids\":[\"1105\"],\"roots\":{\"1105\":\"5a67b80c-fa76-46fc-b773-dc5ffc78d5e6\"}}];\n",
       "  root.Bokeh.embed.embed_items_notebook(docs_json, render_items);\n",
       "\n",
       "  }\n",
       "  if (root.Bokeh !== undefined) {\n",
       "    embed_document(root);\n",
       "  } else {\n",
       "    let attempts = 0;\n",
       "    const timer = setInterval(function(root) {\n",
       "      if (root.Bokeh !== undefined) {\n",
       "        clearInterval(timer);\n",
       "        embed_document(root);\n",
       "      } else {\n",
       "        attempts++;\n",
       "        if (attempts > 100) {\n",
       "          clearInterval(timer);\n",
       "          console.log(\"Bokeh: ERROR: Unable to run BokehJS code because BokehJS library is missing\");\n",
       "        }\n",
       "      }\n",
       "    }, 10, root)\n",
       "  }\n",
       "})(window);"
      ],
      "application/vnd.bokehjs_exec.v0+json": ""
     },
     "metadata": {
      "application/vnd.bokehjs_exec.v0+json": {
       "id": "1105"
      }
     },
     "output_type": "display_data"
    }
   ],
   "source": [
    "top_3_words_lda = get_top_n_words(3, lda_keys, small_document_term_matrix, small_count_vectorizer)\n",
    "lda_mean_topic_vectors = get_mean_topic_vectors(lda_keys, tsne_lda_vectors)\n",
    "\n",
    "plot = figure(title=\"t-SNE Clustering of {} LDA Topics\".format(n_topics), plot_width=700, plot_height=700)\n",
    "plot.scatter(x=tsne_lda_vectors[:,0], y=tsne_lda_vectors[:,1], color=colormap[lda_keys])\n",
    "\n",
    "for t in range(n_topics):\n",
    "    label = Label(x=lda_mean_topic_vectors[t][0], y=lda_mean_topic_vectors[t][1], \n",
    "                  text=top_3_words_lda[t], text_color=colormap[t])\n",
    "    plot.add_layout(label)\n",
    "\n",
    "show(plot)"
   ]
  },
  {
   "cell_type": "code",
   "execution_count": 47,
   "id": "fa678ef4",
   "metadata": {},
   "outputs": [
    {
     "data": {
      "text/plain": [
       "[' rt mayasolov woman shouldnt complain clean hous amp man alway take trash',\n",
       " ' rt  boy dat coldtyga dwn bad cuffin dat hoe  place',\n",
       " ' rt urkindofbrand dawg rt  ever fuck bitch start cri confus shit',\n",
       " ' rt cganderson vivabas look like tranni',\n",
       " ' rt shenikarobert shit hear might true might faker bitch told ya ']"
      ]
     },
     "execution_count": 47,
     "metadata": {},
     "output_type": "execute_result"
    }
   ],
   "source": [
    "# Preparing a corpus for analysis and checking the first 5 entries\n",
    "corpus=[]\n",
    "\n",
    "corpus = df['tweet'].to_list()\n",
    "\n",
    "corpus[:5]"
   ]
  },
  {
   "cell_type": "code",
   "execution_count": 48,
   "id": "b6b611e8",
   "metadata": {},
   "outputs": [
    {
     "name": "stderr",
     "output_type": "stream",
     "text": [
      "[nltk_data] Downloading package stopwords to\n",
      "[nltk_data]     C:\\Users\\nup_2\\AppData\\Roaming\\nltk_data...\n",
      "[nltk_data]   Package stopwords is already up-to-date!\n"
     ]
    },
    {
     "data": {
      "text/plain": [
       "True"
      ]
     },
     "execution_count": 48,
     "metadata": {},
     "output_type": "execute_result"
    }
   ],
   "source": [
    "nltk.download('stopwords')"
   ]
  },
  {
   "cell_type": "code",
   "execution_count": 49,
   "id": "75248da4",
   "metadata": {},
   "outputs": [],
   "source": [
    "# removing common words and tokenizing\n",
    "stoplist = stopwords.words('english') + list(punctuation) + list(\"([)]?\") + [\")?\"]\n",
    "\n",
    "texts = [[word for word in str(document).lower().split() if word not in stoplist] for document in corpus]\n",
    "\n",
    "dictionary = corpora.Dictionary(texts)"
   ]
  },
  {
   "cell_type": "code",
   "execution_count": 50,
   "id": "7061c324",
   "metadata": {},
   "outputs": [],
   "source": [
    "corpus = [dictionary.doc2bow(text) for text in texts]"
   ]
  },
  {
   "cell_type": "code",
   "execution_count": 51,
   "id": "682bf20a",
   "metadata": {},
   "outputs": [],
   "source": [
    "tfidf = models.TfidfModel(corpus) # step 1 -- initialize a model"
   ]
  },
  {
   "cell_type": "code",
   "execution_count": 52,
   "id": "da0f6638",
   "metadata": {},
   "outputs": [],
   "source": [
    "corpus_tfidf = tfidf[corpus]  # step 2 -- use the model to transform vectors"
   ]
  },
  {
   "cell_type": "code",
   "execution_count": 53,
   "id": "b4c8e8af",
   "metadata": {},
   "outputs": [],
   "source": [
    "#I will try 5 topics\n",
    "total_topics = 5\n",
    "\n",
    "lda = models.LdaModel(corpus, id2word=dictionary, num_topics=total_topics)\n",
    "corpus_lda = lda[corpus_tfidf] # create a double wrapper over the original corpus: bow->tf"
   ]
  },
  {
   "cell_type": "code",
   "execution_count": 54,
   "id": "8b3a3295",
   "metadata": {},
   "outputs": [
    {
     "data": {
      "text/plain": [
       "[(0, '0.031*\"trash\" + 0.028*\"bitch\" + 0.019*\"rt\" + 0.018*\"u\" + 0.010*\"white\"'),\n",
       " (1,\n",
       "  '0.059*\"rt\" + 0.034*\"bitch\" + 0.024*\"pussi\" + 0.023*\"hoe\" + 0.016*\"dont\"'),\n",
       " (2, '0.103*\"bitch\" + 0.029*\"rt\" + 0.020*\"like\" + 0.016*\"fuck\" + 0.014*\"im\"'),\n",
       " (3,\n",
       "  '0.075*\"rt\" + 0.029*\"hoe\" + 0.013*\"faggot\" + 0.010*\"retard\" + 0.010*\"cunt\"'),\n",
       " (4,\n",
       "  '0.053*\"bitch\" + 0.040*\"hoe\" + 0.032*\"rt\" + 0.022*\"nigga\" + 0.016*\"like\"')]"
      ]
     },
     "execution_count": 54,
     "metadata": {},
     "output_type": "execute_result"
    }
   ],
   "source": [
    "lda.show_topics(total_topics,5)"
   ]
  },
  {
   "cell_type": "code",
   "execution_count": 55,
   "id": "f2c5b996",
   "metadata": {},
   "outputs": [],
   "source": [
    "data_lda = {i: OrderedDict(lda.show_topic(i,25)) for i in range(total_topics)}"
   ]
  },
  {
   "cell_type": "code",
   "execution_count": 56,
   "id": "72f6e24f",
   "metadata": {},
   "outputs": [
    {
     "name": "stdout",
     "output_type": "stream",
     "text": [
      "(5, 76)\n"
     ]
    }
   ],
   "source": [
    "df_lda = pd.DataFrame(data_lda)\n",
    "df_lda = df_lda.fillna(0).T\n",
    "print(df_lda.shape)"
   ]
  },
  {
   "cell_type": "code",
   "execution_count": 57,
   "id": "793edbd4",
   "metadata": {},
   "outputs": [
    {
     "data": {
      "text/html": [
       "<div>\n",
       "<style scoped>\n",
       "    .dataframe tbody tr th:only-of-type {\n",
       "        vertical-align: middle;\n",
       "    }\n",
       "\n",
       "    .dataframe tbody tr th {\n",
       "        vertical-align: top;\n",
       "    }\n",
       "\n",
       "    .dataframe thead th {\n",
       "        text-align: right;\n",
       "    }\n",
       "</style>\n",
       "<table border=\"1\" class=\"dataframe\">\n",
       "  <thead>\n",
       "    <tr style=\"text-align: right;\">\n",
       "      <th></th>\n",
       "      <th>trash</th>\n",
       "      <th>bitch</th>\n",
       "      <th>rt</th>\n",
       "      <th>u</th>\n",
       "      <th>white</th>\n",
       "      <th>ur</th>\n",
       "      <th>im</th>\n",
       "      <th>talk</th>\n",
       "      <th>charli</th>\n",
       "      <th>make</th>\n",
       "      <th>...</th>\n",
       "      <th>man</th>\n",
       "      <th>nigguh</th>\n",
       "      <th>trust</th>\n",
       "      <th>nigger</th>\n",
       "      <th>sex</th>\n",
       "      <th>god</th>\n",
       "      <th>want</th>\n",
       "      <th>realli</th>\n",
       "      <th>cant</th>\n",
       "      <th>wit</th>\n",
       "    </tr>\n",
       "  </thead>\n",
       "  <tbody>\n",
       "    <tr>\n",
       "      <th>0</th>\n",
       "      <td>0.03113</td>\n",
       "      <td>0.028097</td>\n",
       "      <td>0.018691</td>\n",
       "      <td>0.017788</td>\n",
       "      <td>0.009651</td>\n",
       "      <td>0.00918</td>\n",
       "      <td>0.008929</td>\n",
       "      <td>0.007545</td>\n",
       "      <td>0.006398</td>\n",
       "      <td>0.005813</td>\n",
       "      <td>...</td>\n",
       "      <td>0.000000</td>\n",
       "      <td>0.000000</td>\n",
       "      <td>0.00000</td>\n",
       "      <td>0.000000</td>\n",
       "      <td>0.000000</td>\n",
       "      <td>0.000000</td>\n",
       "      <td>0.000000</td>\n",
       "      <td>0.000000</td>\n",
       "      <td>0.000000</td>\n",
       "      <td>0.000000</td>\n",
       "    </tr>\n",
       "    <tr>\n",
       "      <th>1</th>\n",
       "      <td>0.00000</td>\n",
       "      <td>0.033672</td>\n",
       "      <td>0.058861</td>\n",
       "      <td>0.000000</td>\n",
       "      <td>0.000000</td>\n",
       "      <td>0.00000</td>\n",
       "      <td>0.006382</td>\n",
       "      <td>0.000000</td>\n",
       "      <td>0.000000</td>\n",
       "      <td>0.003825</td>\n",
       "      <td>...</td>\n",
       "      <td>0.000000</td>\n",
       "      <td>0.000000</td>\n",
       "      <td>0.00000</td>\n",
       "      <td>0.000000</td>\n",
       "      <td>0.000000</td>\n",
       "      <td>0.000000</td>\n",
       "      <td>0.000000</td>\n",
       "      <td>0.000000</td>\n",
       "      <td>0.000000</td>\n",
       "      <td>0.000000</td>\n",
       "    </tr>\n",
       "    <tr>\n",
       "      <th>2</th>\n",
       "      <td>0.00000</td>\n",
       "      <td>0.103362</td>\n",
       "      <td>0.028550</td>\n",
       "      <td>0.004507</td>\n",
       "      <td>0.000000</td>\n",
       "      <td>0.00000</td>\n",
       "      <td>0.014398</td>\n",
       "      <td>0.000000</td>\n",
       "      <td>0.000000</td>\n",
       "      <td>0.000000</td>\n",
       "      <td>...</td>\n",
       "      <td>0.000000</td>\n",
       "      <td>0.000000</td>\n",
       "      <td>0.00000</td>\n",
       "      <td>0.000000</td>\n",
       "      <td>0.000000</td>\n",
       "      <td>0.000000</td>\n",
       "      <td>0.000000</td>\n",
       "      <td>0.000000</td>\n",
       "      <td>0.000000</td>\n",
       "      <td>0.000000</td>\n",
       "    </tr>\n",
       "    <tr>\n",
       "      <th>3</th>\n",
       "      <td>0.00000</td>\n",
       "      <td>0.005374</td>\n",
       "      <td>0.074661</td>\n",
       "      <td>0.000000</td>\n",
       "      <td>0.000000</td>\n",
       "      <td>0.00000</td>\n",
       "      <td>0.003562</td>\n",
       "      <td>0.000000</td>\n",
       "      <td>0.000000</td>\n",
       "      <td>0.000000</td>\n",
       "      <td>...</td>\n",
       "      <td>0.004451</td>\n",
       "      <td>0.004126</td>\n",
       "      <td>0.00407</td>\n",
       "      <td>0.003978</td>\n",
       "      <td>0.003587</td>\n",
       "      <td>0.003507</td>\n",
       "      <td>0.000000</td>\n",
       "      <td>0.000000</td>\n",
       "      <td>0.000000</td>\n",
       "      <td>0.000000</td>\n",
       "    </tr>\n",
       "    <tr>\n",
       "      <th>4</th>\n",
       "      <td>0.00000</td>\n",
       "      <td>0.052862</td>\n",
       "      <td>0.032356</td>\n",
       "      <td>0.007646</td>\n",
       "      <td>0.000000</td>\n",
       "      <td>0.00000</td>\n",
       "      <td>0.007064</td>\n",
       "      <td>0.004799</td>\n",
       "      <td>0.000000</td>\n",
       "      <td>0.004515</td>\n",
       "      <td>...</td>\n",
       "      <td>0.000000</td>\n",
       "      <td>0.000000</td>\n",
       "      <td>0.00000</td>\n",
       "      <td>0.000000</td>\n",
       "      <td>0.000000</td>\n",
       "      <td>0.000000</td>\n",
       "      <td>0.007036</td>\n",
       "      <td>0.005777</td>\n",
       "      <td>0.005498</td>\n",
       "      <td>0.005061</td>\n",
       "    </tr>\n",
       "  </tbody>\n",
       "</table>\n",
       "<p>5 rows × 76 columns</p>\n",
       "</div>"
      ],
      "text/plain": [
       "     trash     bitch        rt         u     white       ur        im  \\\n",
       "0  0.03113  0.028097  0.018691  0.017788  0.009651  0.00918  0.008929   \n",
       "1  0.00000  0.033672  0.058861  0.000000  0.000000  0.00000  0.006382   \n",
       "2  0.00000  0.103362  0.028550  0.004507  0.000000  0.00000  0.014398   \n",
       "3  0.00000  0.005374  0.074661  0.000000  0.000000  0.00000  0.003562   \n",
       "4  0.00000  0.052862  0.032356  0.007646  0.000000  0.00000  0.007064   \n",
       "\n",
       "       talk    charli      make  ...       man    nigguh    trust    nigger  \\\n",
       "0  0.007545  0.006398  0.005813  ...  0.000000  0.000000  0.00000  0.000000   \n",
       "1  0.000000  0.000000  0.003825  ...  0.000000  0.000000  0.00000  0.000000   \n",
       "2  0.000000  0.000000  0.000000  ...  0.000000  0.000000  0.00000  0.000000   \n",
       "3  0.000000  0.000000  0.000000  ...  0.004451  0.004126  0.00407  0.003978   \n",
       "4  0.004799  0.000000  0.004515  ...  0.000000  0.000000  0.00000  0.000000   \n",
       "\n",
       "        sex       god      want    realli      cant       wit  \n",
       "0  0.000000  0.000000  0.000000  0.000000  0.000000  0.000000  \n",
       "1  0.000000  0.000000  0.000000  0.000000  0.000000  0.000000  \n",
       "2  0.000000  0.000000  0.000000  0.000000  0.000000  0.000000  \n",
       "3  0.003587  0.003507  0.000000  0.000000  0.000000  0.000000  \n",
       "4  0.000000  0.000000  0.007036  0.005777  0.005498  0.005061  \n",
       "\n",
       "[5 rows x 76 columns]"
      ]
     },
     "execution_count": 57,
     "metadata": {},
     "output_type": "execute_result"
    }
   ],
   "source": [
    "df_lda"
   ]
  },
  {
   "cell_type": "code",
   "execution_count": 58,
   "id": "f676a800",
   "metadata": {},
   "outputs": [
    {
     "data": {
      "text/html": [
       "\n",
       "<link rel=\"stylesheet\" type=\"text/css\" href=\"https://cdn.jsdelivr.net/gh/bmabey/pyLDAvis@3.3.1/pyLDAvis/js/ldavis.v1.0.0.css\">\n",
       "\n",
       "\n",
       "<div id=\"ldavis_el336423075050694088174890676\"></div>\n",
       "<script type=\"text/javascript\">\n",
       "\n",
       "var ldavis_el336423075050694088174890676_data = {\"mdsDat\": {\"x\": [150.22215270996094, 51.16336441040039, -73.1445541381836, -66.4101333618164, 54.41732406616211], \"y\": [-72.2695541381836, -159.968017578125, 21.523815155029297, -110.60643768310547, 12.44344425201416], \"topics\": [1, 2, 3, 4, 5], \"cluster\": [1, 1, 1, 1, 1], \"Freq\": [41.65190087363707, 28.090235510511185, 10.120395983802306, 10.105735615488095, 10.031732016561344]}, \"tinfo\": {\"Term\": [\"bitch\", \"hoe\", \"rt\", \"trash\", \"nigga\", \"u\", \"shit\", \"aint\", \"pussi\", \"got\", \"faggot\", \"like\", \"ass\", \"white\", \"love\", \"cunt\", \"retard\", \"talk\", \"ur\", \"get\", \"yo\", \"bird\", \"im\", \"one\", \"want\", \"charli\", \"lol\", \"make\", \"day\", \"big\", \"parti\", \"thirsti\", \"outta\", \"wake\", \"smell\", \"gun\", \"twat\", \"citi\", \"deep\", \"hang\", \"den\", \"matter\", \"tit\", \"shout\", \"piec\", \"steal\", \"karma\", \"skin\", \"releas\", \"lmaoooo\", \"gold\", \"crow\", \"natur\", \"retweet\", \"beaner\", \"sweet\", \"selfi\", \"tbh\", \"sent\", \"million\", \"drive\", \"complain\", \"relationship\", \"feet\", \"cooki\", \"fall\", \"light\", \"mean\", \"reason\", \"big\", \"nope\", \"cat\", \"tomorrow\", \"shoe\", \"car\", \"pussi\", \"hair\", \"ghetto\", \"around\", \"rt\", \"dont\", \"right\", \"hoe\", \"get\", \"keep\", \"peopl\", \"amp\", \"like\", \"yall\", \"gotta\", \"night\", \"bitch\", \"fuck\", \"girl\", \"know\", \"go\", \"think\", \"nigga\", \"time\", \"let\", \"im\", \"ass\", \"make\", \"see\", \"die\", \"main\", \"club\", \"low\", \"mother\", \"may\", \"minut\", \"slay\", \"ignor\", \"ear\", \"vote\", \"heard\", \"scream\", \"negro\", \"sign\", \"ugh\", \"loud\", \"past\", \"understand\", \"green\", \"kinda\", \"dog\", \"short\", \"freak\", \"trip\", \"cream\", \"dawg\", \"avi\", \"sell\", \"youtub\", \"everyth\", \"mine\", \"readi\", \"step\", \"boss\", \"lil\", \"chang\", \"dyke\", \"weird\", \"punch\", \"hous\", \"lick\", \"whore\", \"drop\", \"ho\", \"yo\", \"crazi\", \"would\", \"bitch\", \"follow\", \"seen\", \"basic\", \"last\", \"bad\", \"ass\", \"stupid\", \"never\", \"im\", \"call\", \"like\", \"fuck\", \"look\", \"wanna\", \"friend\", \"back\", \"rt\", \"ill\", \"hate\", \"nigga\", \"shit\", \"got\", \"lol\", \"get\", \"dont\", \"need\", \"u\", \"ya\", \"want\", \"said\", \"aint\", \"pussi\", \"know\", \"ah\", \"point\", \"gettin\", \"ago\", \"seem\", \"attent\", \"liter\", \"free\", \"r\", \"ate\", \"ape\", \"caught\", \"lame\", \"block\", \"rape\", \"nothin\", \"count\", \"thru\", \"dey\", \"knock\", \"movi\", \"scare\", \"bomb\", \"super\", \"goin\", \"lmfaooo\", \"mental\", \"coon\", \"baddest\", \"asshol\", \"sing\", \"wonder\", \"niggah\", \"browni\", \"beat\", \"em\", \"wish\", \"cheat\", \"dis\", \"bodi\", \"left\", \"nicca\", \"fine\", \"jus\", \"aint\", \"shit\", \"wrong\", \"tho\", \"hoe\", \"nigga\", \"got\", \"today\", \"realli\", \"da\", \"bitch\", \"wit\", \"new\", \"dat\", \"want\", \"rt\", \"like\", \"bout\", \"cant\", \"get\", \"u\", \"one\", \"real\", \"girl\", \"pussi\", \"ass\", \"go\", \"yall\", \"talk\", \"im\", \"dont\", \"good\", \"fuck\", \"make\", \"day\", \"bird\", \"lol\", \"person\", \"slow\", \"nigguh\", \"sex\", \"jesus\", \"three\", \"loyal\", \"hear\", \"match\", \"doe\", \"grade\", \"push\", \"rick\", \"smile\", \"pet\", \"star\", \"lone\", \"beauti\", \"onlin\", \"fail\", \"baker\", \"tyga\", \"offici\", \"giant\", \"porn\", \"anim\", \"teen\", \"emoji\", \"notic\", \"constant\", \"faggot\", \"egg\", \"state\", \"skinni\", \"fan\", \"cunt\", \"blunt\", \"retard\", \"idea\", \"rt\", \"god\", \"love\", \"hoe\", \"bird\", \"yellow\", \"trust\", \"nigger\", \"sure\", \"lol\", \"full\", \"hard\", \"aint\", \"one\", \"man\", \"know\", \"monkey\", \"fuck\", \"shes\", \"stupid\", \"save\", \"bitch\", \"amp\", \"im\", \"trash\", \"eye\", \"kick\", \"ha\", \"paper\", \"chase\", \"rap\", \"kind\", \"outsid\", \"level\", \"dope\", \"deal\", \"bone\", \"book\", \"la\", \"bill\", \"goal\", \"shower\", \"pimp\", \"soul\", \"impress\", \"hos\", \"action\", \"strong\", \"mari\", \"bless\", \"cross\", \"daughter\", \"sheen\", \"futur\", \"air\", \"ur\", \"behind\", \"quit\", \"gay\", \"queer\", \"dream\", \"teabagg\", \"song\", \"none\", \"redneck\", \"fag\", \"happi\", \"swag\", \"trash\", \"favorit\", \"charli\", \"water\", \"white\", \"yet\", \"u\", \"talk\", \"pic\", \"wouldnt\", \"tweet\", \"bitch\", \"day\", \"year\", \"rt\", \"color\", \"im\", \"make\", \"gonna\", \"fuck\", \"say\", \"game\", \"play\", \"dont\", \"think\", \"get\", \"call\"], \"Freq\": [1283.0, 417.0, 1120.0, 124.0, 183.0, 100.0, 97.0, 82.0, 321.0, 92.0, 33.0, 354.0, 174.0, 40.0, 65.0, 31.0, 46.0, 51.0, 23.0, 218.0, 63.0, 55.0, 214.0, 65.0, 68.0, 21.0, 93.0, 77.0, 39.0, 62.0, 28.217700014364837, 18.71230622233733, 19.132907524551577, 16.053244319849778, 19.96539774811176, 13.466831656726926, 13.185996170963765, 15.300397274503066, 12.236484852703475, 12.054380470355486, 12.170001575578134, 11.761362071869154, 11.771187234073205, 11.652406839291551, 10.493898121931265, 13.364301955253167, 10.035097536013346, 10.208011858679892, 9.880783245219876, 9.601045519446123, 9.611120636853014, 9.454437179317214, 10.892628343896776, 9.459029505315595, 8.911584950466455, 14.220787878286252, 8.704470627341722, 8.743933506698225, 8.672939619698505, 10.498310792627604, 16.595651916849324, 14.095336804028733, 17.945400398538418, 12.52767785718443, 12.52629589332256, 16.82771128853468, 13.965024822100547, 46.66742469099276, 21.031411023343175, 59.83731437357334, 14.31134977271621, 18.83421586398534, 15.325261808647387, 14.665325996295811, 32.22075181521445, 251.46816245821347, 25.67247828627968, 50.70989731142917, 35.373996784460786, 607.6002592759961, 167.9654163439865, 44.48027821147228, 235.641075923505, 127.97904426977706, 30.171097521165358, 48.89583300630558, 65.77544725236902, 161.59180862669973, 55.96952198527742, 36.88296673036069, 32.48009235524084, 347.5868975255215, 106.13598784474155, 46.00238522601391, 54.386882550170434, 45.10422407973763, 40.48063926050764, 64.81583558084, 34.00119474214027, 33.52339816166016, 65.88236078355416, 59.456137496069005, 39.482327794015426, 32.66282402901135, 21.16155749627773, 12.404837996716886, 11.503214386864094, 9.515749104584247, 9.414577358621646, 7.768806203176318, 6.994406655490699, 7.073086336138005, 6.223560875196265, 6.1903548292854245, 7.209067983351733, 5.790039344022946, 6.235364083471116, 5.7228905647306645, 5.6922665719346055, 5.627900834197929, 5.400118121856396, 5.359252633388181, 8.72356289032295, 5.210633027520372, 5.148829487185574, 11.861220184458563, 7.200540562487411, 5.417513347234823, 5.025877239823177, 5.493228448379973, 4.501718026210775, 4.735091134781361, 11.734464555028474, 4.4428644775074275, 10.658169023103305, 7.52466278862052, 7.895235226390068, 6.847163982529988, 6.763661389740163, 31.31727324694038, 14.540623833515088, 16.519358275178003, 7.084787429317922, 6.11191584850475, 18.50495549957035, 7.089907771935369, 7.5538936397642535, 10.746050408416409, 17.663677858637755, 50.3365468204581, 15.54365988919711, 27.457624141064052, 719.5639297270461, 18.312385881017487, 14.352020494919453, 16.215003424287403, 17.890742928784327, 35.76290091029051, 93.33076545867449, 28.646914888158207, 41.7285133826205, 100.2340246666887, 37.00074657458893, 141.62659559571875, 113.89625931619771, 52.30841847939159, 23.071792159733633, 23.465964530554793, 32.43075893435338, 198.75461639185332, 19.438835322863635, 25.879751419377786, 58.498184931225246, 39.23675594575391, 34.83374755710564, 34.97923401252093, 52.29034572846264, 52.63235997801541, 27.247189243521152, 31.377209945043575, 24.24268760186881, 25.984010931306276, 23.482873493576385, 26.3923076027189, 34.33092634614832, 23.597714074389554, 5.389890636663608, 3.4674293008241124, 3.158000415602598, 2.5272512370976563, 2.524037934889697, 2.4596223940716766, 2.366666422756684, 3.347387863564828, 2.257652407986086, 2.0365975090819814, 1.9023884895343284, 1.8928306308814125, 1.830057071432448, 1.8332438029451847, 1.8629835645479453, 1.7781145741146192, 1.8406679763745966, 1.7387008895583824, 3.1942034258218315, 1.7566365468121046, 2.735521981778936, 1.6490061060998815, 1.6549115161095114, 1.6085929546233502, 1.5967298691706306, 1.6592518829719662, 1.6225272403679514, 1.5659264038019822, 1.519539663663794, 1.5272571366904701, 2.15234573516319, 3.3322743937251023, 8.229497331270863, 5.846811991137256, 5.927711290505765, 8.142948693318111, 4.746031885915781, 5.753672068855336, 4.351587287465892, 3.8294115173679133, 3.0836488946996488, 6.7480969807424405, 2.4534769718480587, 4.131927350060973, 32.08716397949527, 36.207969303713135, 5.236582980971338, 7.540836884549856, 101.54787599393144, 55.14034297279595, 29.98752078032754, 6.505382147468528, 14.488580813452714, 8.612604126473586, 132.58510157957812, 12.693247406884058, 9.223453898156462, 9.627838856476206, 17.64734944333147, 81.15321477176941, 39.627990352561305, 9.994290789530634, 13.790255057355253, 29.19170568353019, 19.17697122590392, 15.363335985827987, 10.713975880759094, 16.123937611813897, 26.879737518767275, 20.32027028319473, 15.12180194257034, 15.183033671732241, 12.035846361142578, 17.718290279719096, 18.217061355125264, 10.566585022517263, 15.202824459888124, 11.323566026297023, 10.12076613084738, 10.566526625384904, 10.615424880192949, 11.581026421046284, 6.915898553284158, 10.333402836357301, 8.98279872557556, 5.379198722803134, 4.278499410085045, 11.569710289827569, 8.227661265305345, 4.021507889219113, 3.7645125780381803, 3.7382768922849716, 3.6650203079976906, 4.641671066030497, 3.7832405244612364, 3.5259035018047715, 3.4947255368521293, 3.3382205148078845, 5.478709069730555, 3.0810362710022545, 2.835883070137185, 2.7918361110659298, 2.7609473763041814, 2.780025781083542, 2.6647806703335837, 2.8168084556728257, 4.52676883300684, 2.581244168636496, 2.531782598804066, 2.4461748357399333, 2.43627394983029, 31.85438106908087, 3.009824415877007, 5.326169300303401, 5.797612178958503, 8.010568349522732, 25.36969790665143, 3.852970074858154, 25.630469246262066, 4.41990323403741, 186.98892317380088, 8.78339608459363, 24.383504593257985, 71.45270923421286, 18.358959840772634, 13.344770785128048, 10.192738998518331, 9.962179385097617, 5.959224796248791, 18.204650868927793, 5.206229738642577, 8.372296187015253, 16.119865657957163, 13.921775685954714, 11.147977683981543, 15.273481320588468, 8.020739805610953, 18.5530321326115, 6.776508844411121, 8.434997910273765, 6.490156377291791, 13.460447700225501, 8.702952771500566, 8.920011282885474, 8.126096567647041, 10.686660274971628, 6.4514042795658195, 5.981025387768193, 5.423212733697691, 5.092065303876766, 4.895628476934314, 4.399257539597859, 5.654047451940169, 4.437553731230409, 3.7093342107717664, 3.598210510083449, 3.524281439585437, 3.5243066197865605, 3.482498513666308, 3.3074014730344534, 3.107092104815796, 3.1513224305130705, 3.0532918555536717, 3.447221051892563, 3.1158467108339294, 2.9071647810279746, 2.8257094352424876, 3.796931499638145, 2.7860772458124075, 2.905279160219718, 2.7065581706650224, 2.5977151594577585, 2.5586369344523905, 2.5833592611138863, 2.5719309229350973, 22.82234329806073, 3.4998239391771344, 5.308964083221693, 8.708055640801659, 5.444372206614039, 4.231623968464471, 5.700541680317747, 10.259675841965022, 4.89769441113682, 9.182266554011612, 12.097428798458425, 10.944381659461808, 4.070466050433758, 77.39362536881578, 6.378974444031241, 15.905933639502518, 5.976735491894061, 23.992983004242163, 6.868050937587113, 44.224629762123755, 18.758271571574294, 5.754701688085576, 4.973638476579895, 12.206634462447385, 69.85357332762278, 12.6070563881173, 7.745729712520103, 46.46793445905385, 8.414873586867492, 22.198096590598986, 14.452750080220117, 8.804860489878791, 12.726585355711615, 9.044564427468652, 8.054489917549219, 7.215167245761797, 8.972327929570286, 7.783364562088668, 7.822848275160401, 7.034543585124776], \"Total\": [1283.0, 417.0, 1120.0, 124.0, 183.0, 100.0, 97.0, 82.0, 321.0, 92.0, 33.0, 354.0, 174.0, 40.0, 65.0, 31.0, 46.0, 51.0, 23.0, 218.0, 63.0, 55.0, 214.0, 65.0, 68.0, 21.0, 93.0, 77.0, 39.0, 62.0, 28.302615041767286, 18.781742255549933, 19.21418879266511, 16.12214876305043, 20.060083588345, 13.535784046623359, 13.255379519779368, 15.382178107570983, 12.305585916541082, 12.123413374052689, 12.240465395430943, 11.830045164297433, 11.840801412540443, 11.723000770803539, 10.563473331063667, 13.453470572308643, 10.103544545366487, 10.280949490519479, 9.951745659655936, 9.670323113415318, 9.680682715764085, 9.523471251128282, 10.97373621871411, 9.532212098592106, 8.98074789732001, 14.333191231038434, 8.773566990655196, 8.81351530313559, 8.743224286029253, 10.58350400956953, 16.733823679988735, 14.22411770510576, 18.158478326971434, 12.630746282587387, 12.632005747087288, 17.021840929841137, 14.112175387809534, 48.22322550096705, 21.427141838471563, 62.29874995940653, 14.491009278511498, 19.211281321924393, 15.567667368504168, 14.892177187020103, 34.48239554646293, 321.2708952198476, 27.504702961990915, 59.26141143964614, 41.678124197845825, 1120.9649480724736, 252.19448266242793, 56.23926094462212, 417.2960575371059, 218.7892210555784, 36.98985042480571, 71.89083744068911, 107.14125611928054, 354.4697564928783, 88.55922938487826, 50.95520436228821, 43.9887343957194, 1283.049949859994, 266.5146891091505, 80.58436773103683, 106.0357585660587, 85.90857281095859, 73.04939105313996, 183.47747330797515, 56.53856425459983, 55.22556627902262, 214.95278360344642, 174.9308618887017, 77.1920695532637, 58.84597090800928, 21.258254940145186, 12.500341437436404, 11.598930873505795, 9.612170110757729, 9.510591771848242, 7.86530612250256, 7.089324503798573, 7.173926781845934, 6.3201065025689225, 6.287836940423715, 7.323783073256195, 5.8849372620464395, 6.337983721316898, 5.818053130598205, 5.788181227139137, 5.723855498204028, 5.495979810616128, 5.454523446594419, 8.882600053788568, 5.307129465421762, 5.244303361112747, 12.091540937121836, 7.340484348499808, 5.522892853376209, 5.125044192523341, 5.608031781098365, 4.59677224609531, 4.835973314700607, 11.9895630166265, 4.540262789539728, 10.892711268978998, 7.689790434545329, 8.074131951635326, 6.998792917239793, 6.9165821832007275, 32.57866744250543, 15.038309759054757, 17.323714814425102, 7.271988652415875, 6.248281270950303, 19.941540074650632, 7.297208909023926, 7.80860577195813, 11.436954881526168, 19.666668726257328, 63.70437766912375, 17.358167458762967, 32.73158492714434, 1283.049949859994, 21.06319588502321, 16.050803123177513, 19.01789300373635, 22.165516744455793, 53.12874581602646, 174.9308618887017, 41.95540975670804, 69.03661143850682, 214.95278360344642, 60.550363737425315, 354.4697564928783, 266.5146891091505, 98.30397514833427, 35.18984850194683, 36.25717430808414, 60.66166253287013, 1120.9649480724736, 27.55007331844955, 44.80539580008587, 183.47747330797515, 97.33470081732409, 92.2591482905488, 93.79997162295477, 218.7892210555784, 252.19448266242793, 59.72761777151115, 100.84738236367886, 52.2163119838818, 68.67917305734032, 50.19398442833703, 82.93469131917641, 321.2708952198476, 106.0357585660587, 5.539079471406312, 3.5817581793968185, 3.2718604293604523, 2.6413820898587237, 2.6382068581565474, 2.572968933888801, 2.481132775438796, 3.510681393710397, 2.372372668139152, 2.149925795421243, 2.0154332461259177, 2.007379910520483, 1.9426116614166886, 1.946312048842253, 1.9793792784882724, 1.890581919152252, 1.9595948495553546, 1.8526055500876788, 3.403973464714123, 1.874813017135218, 2.920721827952622, 1.7618691330510683, 1.7692436882379892, 1.7221563910455935, 1.7096958656563788, 1.7766739665225881, 1.739627246530863, 1.6796255054380038, 1.6330801980755705, 1.6414086936493715, 2.318891705319223, 3.6496695471335023, 9.388433932466349, 6.583077104500723, 6.733846481076705, 9.421832657134035, 5.38874581012272, 6.728333074017459, 5.052765886232349, 4.502880076543535, 3.5428432515084762, 8.811439694475418, 2.7707915086992623, 5.552224698339522, 82.93469131917641, 97.33470081732409, 7.6638756075614145, 12.594764520002824, 417.2960575371059, 183.47747330797515, 92.2591482905488, 11.147355331533142, 37.58471343719273, 17.449215521449343, 1283.049949859994, 34.59668000455695, 20.750749481878774, 23.458103228316677, 68.67917305734032, 1120.9649480724736, 354.4697564928783, 27.941340660418746, 51.32552027594745, 218.7892210555784, 100.84738236367886, 65.54710162047087, 33.616170039220165, 80.58436773103683, 321.2708952198476, 174.9308618887017, 85.90857281095859, 88.55922938487826, 51.51983760405423, 214.95278360344642, 252.19448266242793, 45.649253528777706, 266.5146891091505, 77.1920695532637, 39.99303928050341, 55.69818943944018, 93.79997162295477, 11.739575532203745, 7.018771975354657, 10.51462897552125, 9.158842931185895, 5.503076127137863, 4.3813114591326965, 11.855087579085918, 8.437165549244913, 4.125807562859606, 3.8662657047092983, 3.8398997157422294, 3.7689535835660037, 4.7733752280842, 3.891337762228142, 3.628734313287909, 3.5974026185814876, 3.4450817079117004, 5.654252036677899, 3.1871490248926433, 2.9378022646670288, 2.8944894061968602, 2.8639235775938032, 2.8841555254592888, 2.7662200183720276, 2.9254545411505313, 4.705733825425805, 2.684424063736744, 2.635171033575494, 2.5487929977554216, 2.5388845888706335, 33.932892391745774, 3.137985452532687, 5.602399333989597, 6.152965135638514, 8.641512207063702, 31.61462183988703, 4.261163775248675, 46.343852660626006, 5.318865044642391, 1120.9649480724736, 14.555208665932422, 65.54039802033958, 417.2960575371059, 55.69818943944018, 33.17228431630699, 22.987588415335704, 22.418805715424533, 9.540955259734913, 93.79997162295477, 7.490011536335854, 20.454615883043417, 82.93469131917641, 65.54710162047087, 43.52136300734045, 106.0357585660587, 21.488890946691935, 266.5146891091505, 13.862216704130544, 41.95540975670804, 13.957395935800271, 1283.049949859994, 107.14125611928054, 214.95278360344642, 124.9899694298087, 10.791116393950787, 6.5556265648678895, 6.086001282218809, 5.530017896833128, 5.1968381632287, 4.999965627226745, 4.503536419429013, 5.799373813367602, 4.556003470065581, 3.8140905902033446, 3.7022856730852953, 3.628029577598817, 3.62851240026534, 3.5863487467456006, 3.412613170561963, 3.2115804468317832, 3.2583411756953353, 3.1572266756957967, 3.5651291993716847, 3.2231530967409445, 3.012904798764258, 2.92998592593442, 3.937576796318452, 2.8903315206539824, 3.018320819403866, 2.813255801444674, 2.7018599685110947, 2.6618302804350886, 2.688566598522246, 2.6766776800172147, 23.80537566151918, 3.6441319363341655, 5.569774245345103, 9.232767499675543, 5.83925251950388, 4.4818540649201495, 6.164562210042719, 11.66776328284663, 5.2726076135348725, 10.444426110450085, 14.095304668415892, 12.884425494378151, 4.33027549508267, 124.9899694298087, 7.345642226091795, 21.64754683782357, 6.837975148741366, 40.138768388112496, 8.399177535638284, 100.84738236367886, 51.51983760405423, 8.099452580395155, 6.272616736760242, 36.864711519291305, 1283.049949859994, 39.99303928050341, 15.287582888544566, 1120.9649480724736, 19.68009396154661, 214.95278360344642, 77.1920695532637, 32.99131696019063, 266.5146891091505, 56.54455652965119, 34.02825783125241, 37.2552442162281, 252.19448266242793, 73.04939105313996, 218.7892210555784, 60.550363737425315], \"Category\": [\"Default\", \"Default\", \"Default\", \"Default\", \"Default\", \"Default\", \"Default\", \"Default\", \"Default\", \"Default\", \"Default\", \"Default\", \"Default\", \"Default\", \"Default\", \"Default\", \"Default\", \"Default\", \"Default\", \"Default\", \"Default\", \"Default\", \"Default\", \"Default\", \"Default\", \"Default\", \"Default\", \"Default\", \"Default\", \"Default\", \"Topic1\", \"Topic1\", \"Topic1\", \"Topic1\", \"Topic1\", \"Topic1\", \"Topic1\", \"Topic1\", \"Topic1\", \"Topic1\", \"Topic1\", \"Topic1\", \"Topic1\", \"Topic1\", \"Topic1\", \"Topic1\", \"Topic1\", \"Topic1\", \"Topic1\", \"Topic1\", \"Topic1\", \"Topic1\", \"Topic1\", \"Topic1\", \"Topic1\", \"Topic1\", \"Topic1\", \"Topic1\", \"Topic1\", \"Topic1\", \"Topic1\", \"Topic1\", \"Topic1\", \"Topic1\", \"Topic1\", \"Topic1\", \"Topic1\", \"Topic1\", \"Topic1\", \"Topic1\", \"Topic1\", \"Topic1\", \"Topic1\", \"Topic1\", \"Topic1\", \"Topic1\", \"Topic1\", \"Topic1\", \"Topic1\", \"Topic1\", \"Topic1\", \"Topic1\", \"Topic1\", \"Topic1\", \"Topic1\", \"Topic1\", \"Topic1\", \"Topic1\", \"Topic1\", \"Topic1\", \"Topic1\", \"Topic1\", \"Topic1\", \"Topic1\", \"Topic1\", \"Topic1\", \"Topic1\", \"Topic1\", \"Topic1\", \"Topic1\", \"Topic1\", \"Topic1\", \"Topic1\", \"Topic1\", \"Topic2\", \"Topic2\", \"Topic2\", \"Topic2\", \"Topic2\", \"Topic2\", \"Topic2\", \"Topic2\", \"Topic2\", \"Topic2\", \"Topic2\", \"Topic2\", \"Topic2\", \"Topic2\", \"Topic2\", \"Topic2\", \"Topic2\", \"Topic2\", \"Topic2\", \"Topic2\", \"Topic2\", \"Topic2\", \"Topic2\", \"Topic2\", \"Topic2\", \"Topic2\", \"Topic2\", \"Topic2\", \"Topic2\", \"Topic2\", \"Topic2\", \"Topic2\", \"Topic2\", \"Topic2\", \"Topic2\", \"Topic2\", \"Topic2\", \"Topic2\", \"Topic2\", \"Topic2\", \"Topic2\", \"Topic2\", \"Topic2\", \"Topic2\", \"Topic2\", \"Topic2\", \"Topic2\", \"Topic2\", \"Topic2\", \"Topic2\", \"Topic2\", \"Topic2\", \"Topic2\", \"Topic2\", \"Topic2\", \"Topic2\", \"Topic2\", \"Topic2\", \"Topic2\", \"Topic2\", \"Topic2\", \"Topic2\", \"Topic2\", \"Topic2\", \"Topic2\", \"Topic2\", \"Topic2\", \"Topic2\", \"Topic2\", \"Topic2\", \"Topic2\", \"Topic2\", \"Topic2\", \"Topic2\", \"Topic2\", \"Topic2\", \"Topic2\", \"Topic2\", \"Topic2\", \"Topic2\", \"Topic2\", \"Topic2\", \"Topic3\", \"Topic3\", \"Topic3\", \"Topic3\", \"Topic3\", \"Topic3\", \"Topic3\", \"Topic3\", \"Topic3\", \"Topic3\", \"Topic3\", \"Topic3\", \"Topic3\", \"Topic3\", \"Topic3\", \"Topic3\", \"Topic3\", \"Topic3\", \"Topic3\", \"Topic3\", \"Topic3\", \"Topic3\", \"Topic3\", \"Topic3\", \"Topic3\", \"Topic3\", \"Topic3\", \"Topic3\", \"Topic3\", \"Topic3\", \"Topic3\", \"Topic3\", \"Topic3\", \"Topic3\", \"Topic3\", \"Topic3\", \"Topic3\", \"Topic3\", \"Topic3\", \"Topic3\", \"Topic3\", \"Topic3\", \"Topic3\", \"Topic3\", \"Topic3\", \"Topic3\", \"Topic3\", \"Topic3\", \"Topic3\", \"Topic3\", \"Topic3\", \"Topic3\", \"Topic3\", \"Topic3\", \"Topic3\", \"Topic3\", \"Topic3\", \"Topic3\", \"Topic3\", \"Topic3\", \"Topic3\", \"Topic3\", \"Topic3\", \"Topic3\", \"Topic3\", \"Topic3\", \"Topic3\", \"Topic3\", \"Topic3\", \"Topic3\", \"Topic3\", \"Topic3\", \"Topic3\", \"Topic3\", \"Topic3\", \"Topic3\", \"Topic3\", \"Topic3\", \"Topic3\", \"Topic3\", \"Topic3\", \"Topic4\", \"Topic4\", \"Topic4\", \"Topic4\", \"Topic4\", \"Topic4\", \"Topic4\", \"Topic4\", \"Topic4\", \"Topic4\", \"Topic4\", \"Topic4\", \"Topic4\", \"Topic4\", \"Topic4\", \"Topic4\", \"Topic4\", \"Topic4\", \"Topic4\", \"Topic4\", \"Topic4\", \"Topic4\", \"Topic4\", \"Topic4\", \"Topic4\", \"Topic4\", \"Topic4\", \"Topic4\", \"Topic4\", \"Topic4\", \"Topic4\", \"Topic4\", \"Topic4\", \"Topic4\", \"Topic4\", \"Topic4\", \"Topic4\", \"Topic4\", \"Topic4\", \"Topic4\", \"Topic4\", \"Topic4\", \"Topic4\", \"Topic4\", \"Topic4\", \"Topic4\", \"Topic4\", \"Topic4\", \"Topic4\", \"Topic4\", \"Topic4\", \"Topic4\", \"Topic4\", \"Topic4\", \"Topic4\", \"Topic4\", \"Topic4\", \"Topic4\", \"Topic4\", \"Topic4\", \"Topic4\", \"Topic4\", \"Topic4\", \"Topic4\", \"Topic5\", \"Topic5\", \"Topic5\", \"Topic5\", \"Topic5\", \"Topic5\", \"Topic5\", \"Topic5\", \"Topic5\", \"Topic5\", \"Topic5\", \"Topic5\", \"Topic5\", \"Topic5\", \"Topic5\", \"Topic5\", \"Topic5\", \"Topic5\", \"Topic5\", \"Topic5\", \"Topic5\", \"Topic5\", \"Topic5\", \"Topic5\", \"Topic5\", \"Topic5\", \"Topic5\", \"Topic5\", \"Topic5\", \"Topic5\", \"Topic5\", \"Topic5\", \"Topic5\", \"Topic5\", \"Topic5\", \"Topic5\", \"Topic5\", \"Topic5\", \"Topic5\", \"Topic5\", \"Topic5\", \"Topic5\", \"Topic5\", \"Topic5\", \"Topic5\", \"Topic5\", \"Topic5\", \"Topic5\", \"Topic5\", \"Topic5\", \"Topic5\", \"Topic5\", \"Topic5\", \"Topic5\", \"Topic5\", \"Topic5\", \"Topic5\", \"Topic5\", \"Topic5\", \"Topic5\", \"Topic5\", \"Topic5\", \"Topic5\", \"Topic5\", \"Topic5\", \"Topic5\", \"Topic5\", \"Topic5\", \"Topic5\", \"Topic5\"], \"logprob\": [30.0, 29.0, 28.0, 27.0, 26.0, 25.0, 24.0, 23.0, 22.0, 21.0, 20.0, 19.0, 18.0, 17.0, 16.0, 15.0, 14.0, 13.0, 12.0, 11.0, 10.0, 9.0, 8.0, 7.0, 6.0, 5.0, 4.0, 3.0, 2.0, 1.0, -5.9021, -6.3129, -6.2907, -6.4662, -6.2481, -6.6419, -6.6629, -6.5142, -6.7377, -6.7527, -6.7431, -6.7773, -6.7764, -6.7866, -6.8913, -6.6495, -6.936, -6.9189, -6.9515, -6.9802, -6.9792, -6.9956, -6.854, -6.9951, -7.0547, -6.5874, -7.0783, -7.0737, -7.0819, -6.8909, -6.4329, -6.5962, -6.3548, -6.7141, -6.7143, -6.4191, -6.6055, -5.399, -6.1961, -5.1505, -6.581, -6.3064, -6.5126, -6.5566, -5.7695, -3.7148, -5.9967, -5.316, -5.6761, -2.8326, -4.1183, -5.447, -3.7798, -4.3902, -5.8352, -5.3524, -5.0558, -4.157, -5.2173, -5.6343, -5.7615, -3.3911, -4.5774, -5.4134, -5.246, -5.4331, -5.5413, -5.0705, -5.7157, -5.7298, -5.0542, -5.1569, -5.5662, -5.7559, -5.796, -6.3301, -6.4055, -6.5952, -6.6059, -6.798, -6.9031, -6.8919, -7.0198, -7.0252, -6.8728, -7.092, -7.0179, -7.1037, -7.1091, -7.1204, -7.1617, -7.1693, -6.6821, -7.1975, -7.2094, -6.3749, -6.874, -7.1585, -7.2336, -7.1446, -7.3437, -7.2932, -6.3856, -7.3569, -6.4818, -6.83, -6.7819, -6.9243, -6.9366, -5.404, -6.1712, -6.0436, -6.8902, -7.0379, -5.9301, -6.8895, -6.8261, -6.4736, -5.9767, -4.9294, -6.1045, -5.5355, -2.2695, -5.9406, -6.1843, -6.0622, -5.9639, -5.2713, -4.312, -5.4931, -5.117, -4.2407, -5.2372, -3.895, -4.1129, -4.891, -5.7096, -5.6926, -5.3691, -3.5561, -5.8809, -5.5947, -4.7792, -5.1786, -5.2976, -5.2934, -4.8914, -4.8848, -5.5432, -5.4021, -5.6601, -5.5907, -5.6919, -5.5751, -5.3121, -5.687, -6.1428, -6.5839, -6.6774, -6.9002, -6.9014, -6.9273, -6.9658, -6.6191, -7.013, -7.116, -7.1842, -7.1892, -7.2229, -7.2212, -7.2051, -7.2517, -7.2172, -7.2742, -6.666, -7.2639, -6.821, -7.3271, -7.3235, -7.3519, -7.3593, -7.3209, -7.3433, -7.3788, -7.4089, -7.4038, -7.0607, -6.6236, -5.7196, -6.0614, -6.0477, -5.7301, -6.27, -6.0775, -6.3568, -6.4846, -6.7012, -5.918, -6.9298, -6.4086, -4.3588, -4.238, -6.1716, -5.807, -3.2068, -3.8174, -4.4265, -5.9547, -5.1539, -5.6741, -2.9401, -5.2862, -5.6055, -5.5626, -4.9567, -3.431, -4.1478, -5.5253, -5.2033, -4.4534, -4.8736, -5.0953, -5.4557, -5.047, -4.5359, -4.8157, -5.1112, -5.1071, -5.3394, -4.9527, -4.9249, -5.4696, -5.1058, -5.4004, -5.5127, -5.4696, -5.465, -5.3765, -5.892, -5.4905, -5.6305, -6.1433, -6.3722, -5.3775, -5.7183, -6.4342, -6.5002, -6.5072, -6.527, -6.2908, -6.4953, -6.5657, -6.5746, -6.6204, -6.125, -6.7006, -6.7835, -6.7991, -6.8103, -6.8034, -6.8457, -6.7902, -6.3158, -6.8776, -6.8969, -6.9313, -6.9354, -4.3647, -6.724, -6.1532, -6.0684, -5.7451, -4.5923, -6.477, -4.5821, -6.3397, -2.5948, -5.653, -4.6319, -3.5568, -4.9157, -5.2347, -5.5042, -5.5271, -6.0409, -4.9242, -6.176, -5.7009, -5.0458, -5.1924, -5.4146, -5.0997, -5.7438, -4.9052, -5.9124, -5.6935, -5.9556, -5.2261, -5.6622, -5.6375, -5.7308, -5.4495, -5.9542, -6.0299, -6.1278, -6.1908, -6.2302, -6.3371, -6.0861, -6.3284, -6.5076, -6.5381, -6.5588, -6.5588, -6.5707, -6.6223, -6.6848, -6.6707, -6.7023, -6.5809, -6.682, -6.7513, -6.7797, -6.4843, -6.7939, -6.752, -6.8228, -6.8639, -6.879, -6.8694, -6.8738, -4.6908, -6.5658, -6.1491, -5.6542, -6.1239, -6.3759, -6.0779, -5.4903, -6.2297, -5.6012, -5.3255, -5.4257, -6.4147, -3.4696, -5.9655, -5.0518, -6.0306, -4.6407, -5.8916, -4.0292, -4.8869, -6.0685, -6.2143, -5.3165, -3.5721, -5.2842, -5.7714, -3.9797, -5.6885, -4.7185, -5.1476, -5.6432, -5.2748, -5.6163, -5.7323, -5.8423, -5.6244, -5.7665, -5.7614, -5.8677], \"loglift\": [30.0, 29.0, 28.0, 27.0, 26.0, 25.0, 24.0, 23.0, 22.0, 21.0, 20.0, 19.0, 18.0, 17.0, 16.0, 15.0, 14.0, 13.0, 12.0, 11.0, 10.0, 9.0, 8.0, 7.0, 6.0, 5.0, 4.0, 3.0, 2.0, 1.0, 0.8728, 0.8721, 0.8716, 0.8715, 0.8711, 0.8707, 0.8706, 0.8705, 0.8702, 0.8701, 0.87, 0.87, 0.8699, 0.8698, 0.8692, 0.8692, 0.869, 0.8687, 0.8687, 0.8686, 0.8686, 0.8685, 0.8684, 0.8681, 0.8681, 0.868, 0.8679, 0.8679, 0.8678, 0.8677, 0.8675, 0.8667, 0.864, 0.8676, 0.8674, 0.8644, 0.8653, 0.843, 0.8572, 0.8355, 0.8633, 0.856, 0.8601, 0.8605, 0.808, 0.6309, 0.8069, 0.72, 0.7118, 0.2634, 0.4694, 0.6413, 0.3043, 0.3396, 0.6721, 0.4904, 0.3879, 0.0903, 0.417, 0.5526, 0.5725, -0.4302, -0.0449, 0.3152, 0.2082, 0.2315, 0.2855, -0.1647, 0.3673, 0.3766, -0.3067, -0.2033, 0.2054, 0.2871, 1.2652, 1.2621, 1.2615, 1.2597, 1.2596, 1.2574, 1.2563, 1.2556, 1.2544, 1.2541, 1.254, 1.2535, 1.2534, 1.2533, 1.253, 1.2528, 1.2522, 1.2521, 1.2517, 1.2514, 1.2514, 1.2505, 1.2505, 1.2505, 1.2502, 1.2491, 1.2489, 1.2487, 1.2482, 1.2481, 1.248, 1.248, 1.2473, 1.2478, 1.2474, 1.2303, 1.2361, 1.2222, 1.2437, 1.2477, 1.195, 1.2409, 1.2366, 1.2074, 1.1623, 1.0342, 1.1593, 1.0941, 0.6914, 1.1298, 1.1579, 1.1103, 1.0555, 0.8739, 0.6415, 0.8882, 0.7663, 0.5068, 0.7772, 0.3523, 0.4196, 0.6388, 0.8476, 0.8347, 0.6435, -0.4601, 0.921, 0.7209, 0.1267, 0.3612, 0.2957, 0.2833, -0.1615, -0.2971, 0.4849, 0.1022, 0.5025, 0.2978, 0.5101, 0.1248, -0.9665, -0.2329, 2.2633, 2.2582, 2.2552, 2.2464, 2.2464, 2.2456, 2.2434, 2.243, 2.2411, 2.2365, 2.2329, 2.2319, 2.2309, 2.2308, 2.23, 2.2293, 2.228, 2.2272, 2.227, 2.2255, 2.2251, 2.2244, 2.2238, 2.2224, 2.2223, 2.2222, 2.2209, 2.2205, 2.2186, 2.2185, 2.2161, 2.1996, 2.1589, 2.172, 2.1631, 2.1447, 2.1636, 2.1341, 2.1412, 2.1286, 2.1518, 2.0238, 2.169, 1.9952, 1.341, 1.3017, 1.9098, 1.7777, 0.8774, 1.0884, 1.1668, 1.752, 1.3374, 1.5845, 0.0208, 1.2879, 1.4798, 1.4001, 0.9318, -0.335, 0.0995, 1.2625, 0.9764, 0.2764, 0.6307, 0.8398, 1.1472, 0.6816, -0.1903, 0.1378, 0.5535, 0.5271, 0.8365, -0.2052, -0.3372, 0.8273, -0.5733, 0.3712, 0.9165, 0.6284, 0.1118, 2.2785, 2.2773, 2.2747, 2.2727, 2.2693, 2.2683, 2.2677, 2.2669, 2.2665, 2.2654, 2.2652, 2.2641, 2.2641, 2.2639, 2.2633, 2.2631, 2.2606, 2.2605, 2.2582, 2.2568, 2.256, 2.2554, 2.2553, 2.2547, 2.2542, 2.2533, 2.2529, 2.252, 2.251, 2.2508, 2.2289, 2.2504, 2.2415, 2.2326, 2.2163, 2.072, 2.1914, 1.6998, 2.1069, 0.5012, 1.787, 1.3033, 0.5273, 1.1822, 1.3815, 1.4788, 1.481, 1.8214, 0.6526, 1.9284, 1.3988, 0.6541, 0.7428, 0.9301, 0.3544, 1.3066, -0.3727, 1.5764, 0.6878, 1.5263, -2.2652, -0.2184, -0.8901, -0.4411, 2.2897, 2.2834, 2.282, 2.2799, 2.2791, 2.2783, 2.276, 2.274, 2.2731, 2.2716, 2.2709, 2.2704, 2.2703, 2.27, 2.2681, 2.2663, 2.266, 2.2659, 2.2658, 2.2656, 2.2637, 2.2632, 2.263, 2.2627, 2.2612, 2.2608, 2.2601, 2.2599, 2.2595, 2.2595, 2.2572, 2.259, 2.2515, 2.2409, 2.2294, 2.242, 2.2212, 2.1708, 2.2257, 2.1706, 2.1466, 2.1362, 2.2375, 1.8201, 2.1583, 1.9912, 2.1648, 1.7848, 2.0982, 1.4751, 1.2891, 1.9576, 2.0674, 1.1941, -0.6112, 1.145, 1.6195, -0.8838, 1.4498, 0.029, 0.624, 0.9785, -0.7423, 0.4666, 0.8585, 0.6578, -1.0366, 0.0603, -1.0316, 0.1468]}, \"token.table\": {\"Topic\": [5, 3, 3, 1, 2, 3, 4, 5, 1, 2, 3, 4, 5, 4, 3, 1, 2, 5, 1, 2, 3, 5, 3, 3, 3, 2, 1, 2, 3, 5, 1, 2, 3, 5, 3, 4, 1, 2, 1, 3, 4, 5, 1, 2, 3, 5, 5, 1, 2, 3, 4, 5, 1, 2, 3, 4, 5, 5, 3, 4, 1, 3, 3, 5, 5, 2, 1, 2, 3, 4, 5, 3, 1, 2, 3, 4, 5, 1, 2, 3, 4, 5, 1, 4, 5, 1, 3, 2, 2, 4, 5, 5, 3, 5, 1, 2, 1, 2, 3, 4, 5, 1, 4, 1, 3, 3, 2, 3, 2, 5, 1, 1, 2, 4, 1, 2, 3, 5, 1, 2, 3, 5, 5, 2, 1, 2, 3, 5, 5, 1, 1, 3, 2, 3, 4, 2, 1, 2, 3, 4, 5, 5, 5, 1, 1, 2, 2, 2, 4, 1, 3, 4, 2, 5, 3, 5, 3, 4, 4, 1, 4, 1, 5, 1, 3, 2, 4, 2, 3, 1, 2, 4, 1, 2, 3, 4, 5, 2, 4, 5, 5, 1, 2, 3, 4, 5, 5, 1, 2, 3, 4, 5, 3, 1, 2, 4, 4, 1, 2, 3, 4, 5, 1, 2, 3, 4, 5, 5, 2, 4, 5, 3, 1, 1, 2, 3, 4, 5, 1, 2, 3, 4, 1, 2, 3, 4, 5, 1, 2, 3, 5, 4, 2, 1, 5, 1, 2, 3, 1, 3, 5, 1, 4, 5, 1, 2, 3, 5, 4, 2, 2, 5, 1, 2, 3, 4, 5, 5, 1, 2, 1, 4, 2, 1, 2, 3, 5, 1, 2, 3, 4, 5, 5, 4, 2, 3, 1, 1, 2, 3, 4, 5, 5, 2, 3, 1, 2, 3, 4, 5, 5, 3, 1, 2, 3, 3, 1, 2, 3, 4, 5, 5, 2, 1, 1, 2, 3, 4, 5, 1, 2, 3, 1, 3, 1, 2, 3, 4, 5, 4, 1, 2, 3, 4, 5, 2, 1, 2, 3, 4, 2, 4, 2, 1, 2, 3, 4, 5, 1, 2, 3, 4, 5, 5, 4, 1, 2, 1, 5, 3, 1, 2, 2, 1, 2, 4, 5, 2, 3, 1, 1, 2, 3, 4, 5, 2, 1, 2, 3, 4, 5, 1, 2, 3, 4, 1, 2, 3, 1, 2, 3, 4, 5, 1, 3, 1, 2, 3, 4, 5, 4, 1, 2, 3, 5, 1, 3, 4, 4, 1, 2, 3, 4, 5, 4, 5, 1, 5, 1, 2, 1, 2, 3, 4, 5, 4, 4, 3, 4, 5, 1, 5, 1, 2, 3, 4, 5, 3, 4, 2, 4, 1, 2, 3, 4, 5, 5, 5, 3, 5, 3, 2, 1, 2, 3, 4, 1, 2, 3, 5, 1, 1, 5, 1, 1, 1, 2, 4, 5, 1, 4, 1, 2, 3, 4, 5, 1, 2, 3, 4, 5, 1, 2, 3, 4, 5, 1, 4, 1, 2, 3, 4, 5, 3, 2, 1, 2, 3, 5, 3, 2, 3, 1, 2, 1, 4, 5, 2, 3, 4, 5, 1, 2, 3, 4, 5, 1, 2, 1, 5, 2, 3, 1, 4, 2, 4, 1, 4, 2, 5, 5, 4, 4, 1, 2, 5, 1, 2, 4, 5, 3, 2, 4, 5, 1, 1, 3, 5, 1, 5, 4, 1, 2, 3, 4, 5, 1, 2, 3, 4, 5, 4, 3, 1, 2, 3, 4, 5, 1, 2, 3, 1, 1, 2, 3, 4, 5, 2, 1, 2, 4, 1, 1, 2, 4, 5, 4, 1, 2, 3, 4, 5, 2, 2, 5, 2, 1, 2, 3, 4, 5, 1, 2, 3, 4, 5, 4, 5, 2, 1, 2, 5, 2, 3, 1, 2, 3, 3, 1, 2, 3, 3, 5, 2, 3, 5, 1, 2, 3, 4, 5, 1, 2, 3, 4, 5, 1, 3, 5, 1, 2, 4, 5, 2, 4, 5, 1, 2, 3, 4, 2], \"Freq\": [1.0238957031997522, 1.1357690398212918, 0.9026770649908286, 0.09646144300714622, 0.31349968977322523, 0.3858457720285849, 0.19292288601429244, 1.1207923996215734, 0.616009204955765, 0.20533640165192169, 0.08400125522124069, 0.08400125522124069, 0.009333472802360077, 1.0625335357865395, 0.9923424672310117, 0.8397690796700733, 0.11996701138143905, 0.02399340227628781, 0.33727610647421524, 0.5316386085102037, 0.11433088355058144, 0.005716544177529072, 1.2184655824829138, 0.9302646650686529, 0.777312144603778, 1.0339180294483383, 0.3626672775095651, 0.5275160400139128, 0.0659395050017391, 0.03296975250086955, 0.13175541587673667, 0.6775992816517886, 0.1505776181448419, 0.03764440453621048, 1.2246795977054952, 1.0364522300814958, 0.15774618142033953, 0.8413129675751441, 1.002143708174431, 0.8910212041306639, 0.8842902593598748, 0.8232413239729917, 0.9631011864458857, 0.01605168644076476, 0.01605168644076476, 0.01605168644076476, 0.8790917253319933, 0.37703200429581274, 0.017953904966467274, 0.19749295463114, 0.3231702893964109, 0.08976952483233637, 0.2712287234319861, 0.5611628760661782, 0.10365925349555792, 0.010132107484528217, 0.054557501839767326, 0.9939301285383293, 1.0275844519329174, 0.9387106928943528, 0.2220800871889113, 0.8883203487556453, 1.1304265281804249, 1.1025268439645326, 1.1023801378513944, 1.0120605545614538, 0.3221033703922896, 0.17894631688460533, 0.35789263376921066, 0.035789263376921066, 0.10736779013076318, 0.9114278785976722, 0.13212141936408078, 0.6110615645588736, 0.11560624194357069, 0.033030354841020196, 0.11560624194357069, 0.29225227371011014, 0.35070272845213213, 0.2727687887961028, 0.07793393965602936, 0.01948348491400734, 0.9280097711564715, 0.029000305348639736, 0.029000305348639736, 0.9890022264322749, 0.9963236104527073, 0.9974525222801924, 0.0461946107562061, 0.2309730537810305, 0.7391137720992976, 0.9621234764204378, 0.891751334839526, 0.14862522247325433, 0.9751544869069695, 1.034578111626678, 0.35568935868281226, 0.050812765526116035, 0.050812765526116035, 0.10162553105223207, 0.4065021242089283, 0.9842438237821026, 0.787747504855924, 1.0291318940380918, 1.190741622775281, 1.020619134845049, 0.9217562878115155, 0.11521953597643944, 0.8915783995469301, 1.0663800989797758, 0.9450335662990252, 0.12652373386776825, 0.06326186693388412, 0.7907733366735515, 0.28654583318394916, 0.05730916663678983, 0.5157824997311085, 0.11461833327357966, 0.29840434803570054, 0.1705167703061146, 0.42629192576528646, 0.0852583851530573, 1.1103462188875763, 1.0877197590651153, 0.17503045844811543, 0.2500435120687363, 0.2500435120687363, 0.3250565656893572, 1.0804136561041235, 0.9751668942370054, 0.9803548813167918, 0.8813229689062662, 0.987851545629106, 0.7916456234196603, 1.0345900425642778, 0.9924293406772664, 0.6661525590346657, 0.21015527160022193, 0.0713734884679999, 0.01586077521511109, 0.03568674423399995, 1.04874278819548, 0.8924877834172108, 1.0159064852780524, 0.08743586123744139, 0.9617944736118553, 0.9813137760640372, 0.9542232180715045, 0.9560273766019795, 0.10613646372108072, 0.8490917097686458, 1.1384460294136935, 1.0098495891768056, 1.0193569968503267, 0.07094561086293891, 0.8513473303552669, 0.029469931076174675, 0.9430377944375896, 1.0211715186147903, 0.9987168879129373, 0.9257638950577053, 0.13613513552946943, 0.8168108131768166, 1.0292345130803287, 0.7218154067964834, 0.8545711723071775, 0.1424285287178629, 0.9053226511434929, 0.854534964458662, 0.2482267350325009, 0.6343572117497245, 0.08274224501083363, 0.39772667072991214, 0.42774377795481117, 0.05628207604668568, 0.0712906296591352, 0.048777799240460926, 0.1335111428265175, 0.6675557141325875, 0.1335111428265175, 1.1158362235285268, 0.44081010771652324, 0.20571138360104416, 0.08816202154330464, 0.02938734051443488, 0.23509872411547905, 0.9747889785285156, 0.5850379620277752, 0.2376716720737837, 0.13254766327191783, 0.009141218156683988, 0.03656487262673595, 0.9169095273988834, 0.8605937449184813, 0.0843719357763217, 0.05062316146579302, 1.0845124321548205, 0.5708303148016539, 0.12409354669601172, 0.19854967471361876, 0.03722806400880352, 0.07445612801760704, 0.5238126828043377, 0.23280563680192787, 0.1746042276014459, 0.011640281840096392, 0.04656112736038557, 0.9341195245348729, 0.2748157097439836, 0.6183353469239632, 0.0687039274359959, 1.1697986993915839, 1.0329849963697226, 0.03031100580818468, 0.575909110355509, 0.06062201161636936, 0.06062201161636936, 0.27279905227366213, 0.284780122238027, 0.43812326498158, 0.24096779573986898, 0.043812326498158, 0.27097583777023715, 0.37936617287833196, 0.32517100532428456, 0.010839033510809485, 0.010839033510809485, 0.726127987573799, 0.1766257267071403, 0.07850032298095125, 0.019625080745237812, 1.041693871223099, 0.9421288914425693, 0.9604172137514992, 0.9858690003122289, 0.9452928844906894, 0.03635741863425728, 0.03635741863425728, 0.9898202453183007, 0.07761308414071928, 0.853743925547912, 0.5377759261232983, 0.39110976445330786, 0.04888872055666348, 0.22318740458444594, 0.5802872519195594, 0.13391244275066758, 0.06695622137533379, 0.9481857329107359, 1.0195520755498333, 0.9152541414381924, 0.0508474523021218, 0.5655457216463515, 0.0071891405294027735, 0.24443077799969432, 0.17014299252919898, 0.014378281058805547, 0.9957168249160906, 0.05014657826108346, 0.9527849869605857, 0.18801003439771127, 0.7520401375908451, 0.949351090454123, 0.07259508811037005, 0.6896533370485155, 0.10889263216555507, 0.1451901762207401, 0.30704417450931676, 0.4652184462262375, 0.08373932032072275, 0.04186966016036137, 0.10234805816977224, 0.9307655919395875, 0.9085827425397599, 0.1801079845163805, 0.720431938065522, 0.9897516614192617, 0.811033287657788, 0.027034442921926267, 0.0811033287657788, 0.054068885843852534, 0.9152443234266064, 0.8881908854435656, 0.9534154787985205, 1.0667730497498211, 0.5092621652379542, 0.2263387401057574, 0.08487702753965902, 0.14146171256609838, 0.037723123350959564, 0.8365053740861991, 1.0295418480817005, 0.045115122355544796, 0.8120722023998063, 0.1353453670666344, 0.8467775137166049, 0.6156568830497419, 0.2353982199896072, 0.1448604430705275, 0.018107555383815938, 0.018107555383815938, 0.8779624568508994, 0.9592708783962058, 0.9920511625793402, 0.4570206541816912, 0.4005983511962972, 0.11284460597078794, 0.014105575746348492, 0.01974780604488789, 0.0306949325586994, 0.9515429093196814, 0.8060834227810698, 1.034091610251092, 1.1256989395271655, 0.25586361685131587, 0.3731344412415023, 0.11727082439018643, 0.1918977126384869, 0.06396590421282897, 0.8708066322811557, 0.31534838701306867, 0.5289714878928894, 0.09155275751992316, 0.02034505722664959, 0.04069011445329918, 0.9097558892668992, 0.41195965870730467, 0.09154659082384548, 0.12206212109846064, 0.3661863632953819, 1.0403477970919617, 1.0122236482815807, 0.9599737783211292, 0.5052332477378315, 0.12954698659944397, 0.14250168525938836, 0.025909397319888793, 0.18136578123922156, 0.22977221550513868, 0.18381777240411096, 0.18381777240411096, 0.25274943705565256, 0.16084055085359708, 1.037943218126481, 0.9695071665503447, 1.0143663725152532, 1.017125064860741, 0.9746341003062411, 0.02073689575119662, 1.1496715770509849, 0.9448666520046735, 1.040340444657776, 0.9874001389341521, 0.46535672896322416, 0.09307134579264482, 0.3722853831705793, 0.04653567289632241, 0.9463133541953073, 1.0271433490477082, 1.0023933308366844, 0.3348534689012759, 0.4520521830167224, 0.16742673445063794, 0.03348534689012759, 0.016742673445063794, 1.0312728098760224, 0.3041864246003063, 0.6083728492006126, 0.04345520351432947, 0.014485067838109824, 0.04345520351432947, 0.3855282435454317, 0.09638206088635792, 0.4337192739886106, 0.09638206088635792, 0.11348883209482537, 0.11348883209482537, 0.7944218246637775, 0.3542669234979849, 0.31611510096743267, 0.2997643198829103, 0.01635078108452238, 0.01090052072301492, 0.1065140370793768, 0.8521122966350144, 0.22302704539519302, 0.0892108181580772, 0.0446054090790386, 0.44605409079038605, 0.1784216363161544, 0.9510559072774379, 0.7274589832962769, 0.22733093228008655, 0.022733093228008653, 0.948297382715322, 0.9661162815457162, 1.0578753450137786, 0.7846851438156364, 1.040165820989235, 0.1373058423255931, 0.33563650346256085, 0.22884307054265512, 0.21358686583981146, 0.07628102351421838, 0.9412801147888128, 1.0345944567618581, 0.9888525716606431, 0.9041562058711143, 0.9893078769816603, 0.9166703652400275, 0.6815889443550528, 0.20864967684338354, 0.027819956912451135, 0.027819956912451135, 0.06954989228112785, 1.0221834654142192, 1.1023127224698068, 0.12346513422654203, 0.12346513422654203, 0.7407908053592521, 0.9466583278620414, 0.9502010175873271, 0.4831534560753017, 0.08052557601255028, 0.10736743468340038, 0.13420929335425047, 0.18789301069595066, 0.8375774828286178, 1.0254816671395452, 0.9602640694002335, 1.061302536980408, 0.7812721405349812, 0.10582969234338391, 0.08404122627268722, 0.024901104080796214, 0.0031126380100995267, 0.8562739808390432, 0.8977024525147878, 0.8430378695809059, 1.0000068746019108, 1.0104177717407834, 0.9908185855669213, 0.35697106440143345, 0.2677282983010751, 0.327223475701314, 0.059495177400238915, 0.3990984266799395, 0.13303280889331315, 0.37249186490127684, 0.05321312355732526, 0.9800653842826276, 0.09574484891989023, 0.861703640279012, 0.9912724885798365, 1.0048488317521704, 0.19420051383959389, 0.1726226789685279, 0.5610237066477156, 0.06473350461319796, 0.9441669894577027, 1.0474768399899617, 0.7823715898992002, 0.03556234499541819, 0.08890586248854547, 0.07112468999083638, 0.017781172497709094, 0.5423898410431751, 0.17752562231511818, 0.07225917290213353, 0.16682055966295023, 0.041036073499977066, 0.378531415993219, 0.458222240412844, 0.07969082441962505, 0.05976811831471878, 0.019922706104906263, 0.5015262182285182, 0.4298796156244442, 0.21222201988103603, 0.3537033664683934, 0.1768516832341967, 0.12379617826393768, 0.15916651491077702, 1.1351580900543703, 0.9466733055529729, 0.5607860570707061, 0.2718962700948878, 0.08496758440465244, 0.08496758440465244, 1.1371360023285877, 0.8722304979109654, 0.12460435684442363, 1.025808546237349, 1.0008705057356158, 1.029368537918105, 0.9826568779070297, 1.1270440576360248, 0.21641560394205103, 0.21641560394205103, 0.5049697425314524, 0.07213853464735034, 0.17465508043123568, 0.40067930216577596, 0.3698578173837932, 0.030821484781982766, 0.020547656521321844, 1.0072402316750484, 0.9536155473760538, 1.0236286966632584, 0.9207138964997412, 1.0365950485219269, 0.8624809840891972, 0.9726728070419415, 0.9751396063090743, 0.9757557071413014, 0.9973254615735385, 0.9970048186449277, 1.0279241341696432, 0.0857062296995818, 0.857062296995818, 0.8414842302289403, 0.8339350131409387, 0.8924747598167704, 0.9662934132964899, 1.0001724701351333, 1.0158532028479832, 0.047669657181222735, 0.6912100291277297, 0.19067862872489094, 0.047669657181222735, 1.161334714082335, 0.41924523185649404, 0.628867847784741, 0.9237287568752331, 0.9767538696953327, 0.4076099804776453, 0.23291998884436874, 0.3687899823369172, 1.0211589462831094, 0.9733051262302731, 1.117558153544478, 0.5475747220247449, 0.21902988880989796, 0.09582557635433037, 0.027378736101237245, 0.10951494440494898, 1.0116207400506507, 0.15879614079513982, 0.6351845631805593, 0.07939807039756991, 0.15879614079513982, 0.9129686481571938, 1.0795606220144085, 0.6013594516990914, 0.176870426970321, 0.1414963415762568, 0.0176870426970321, 0.0707481707881284, 1.013444916599222, 0.4485368817351882, 0.6279516344292634, 0.9635354896101745, 0.1600128401601979, 0.1440115561441781, 0.01600128401601979, 0.06400513606407916, 0.6160494346167619, 0.9756013435541178, 0.21750867945174934, 0.30451215123244907, 0.4350173589034987, 0.9807338960458811, 0.27126212542764644, 0.379766975598705, 0.027126212542764642, 0.32551455051317574, 1.0475139851743267, 0.049579868934712154, 0.3073951873952154, 0.1884035019519062, 0.009915973786942431, 0.436302846625467, 1.048244492175356, 1.0132168447864947, 0.9661683279873189, 0.9557901879373608, 0.992423543235727, 0.6535975850742171, 0.14208643153787326, 0.08525185892272397, 0.08525185892272397, 0.30576955232799724, 0.3785718266918061, 0.26208818770971193, 0.04368136461828532, 0.014560454872761773, 0.14624212259444455, 0.8774527355666673, 0.9625977617105445, 0.22422212642342662, 0.1743949872182207, 0.597925670462471, 1.0245106788114717, 0.9278596868695377, 0.2890450759634403, 0.3179495835597843, 0.37575859875247236, 0.8219922273117134, 0.030551530035158758, 0.8248913109492865, 0.12220612014063503, 0.15942309915725733, 0.7971154957862866, 0.13048228483945765, 0.6524114241972883, 0.13048228483945765, 0.3064176574733754, 0.4596264862100631, 0.1532088287366877, 0.019151103592085963, 0.057453310776257885, 0.6323451591547177, 0.15808628978867942, 0.16937816763072797, 0.033875633526145595, 0.01129187784204853, 0.1962376931573655, 0.261650257543154, 0.523300515086308, 0.33160212589256527, 0.18087388685049016, 0.3918934215093953, 0.06029129561683005, 0.11905927642997564, 0.11905927642997564, 0.8334149350098294, 0.031395016687673576, 0.7848754171918394, 0.15697508343836789, 0.015697508343836788, 0.8810062732966835], \"Term\": [\"action\", \"ago\", \"ah\", \"aint\", \"aint\", \"aint\", \"aint\", \"air\", \"amp\", \"amp\", \"amp\", \"amp\", \"amp\", \"anim\", \"ape\", \"around\", \"around\", \"around\", \"ass\", \"ass\", \"ass\", \"ass\", \"asshol\", \"ate\", \"attent\", \"avi\", \"back\", \"back\", \"back\", \"back\", \"bad\", \"bad\", \"bad\", \"bad\", \"baddest\", \"baker\", \"basic\", \"basic\", \"beaner\", \"beat\", \"beauti\", \"behind\", \"big\", \"big\", \"big\", \"big\", \"bill\", \"bird\", \"bird\", \"bird\", \"bird\", \"bird\", \"bitch\", \"bitch\", \"bitch\", \"bitch\", \"bitch\", \"bless\", \"block\", \"blunt\", \"bodi\", \"bodi\", \"bomb\", \"bone\", \"book\", \"boss\", \"bout\", \"bout\", \"bout\", \"bout\", \"bout\", \"browni\", \"call\", \"call\", \"call\", \"call\", \"call\", \"cant\", \"cant\", \"cant\", \"cant\", \"cant\", \"car\", \"car\", \"car\", \"cat\", \"caught\", \"chang\", \"charli\", \"charli\", \"charli\", \"chase\", \"cheat\", \"cheat\", \"citi\", \"club\", \"color\", \"color\", \"color\", \"color\", \"color\", \"complain\", \"constant\", \"cooki\", \"coon\", \"count\", \"crazi\", \"crazi\", \"cream\", \"cross\", \"crow\", \"cunt\", \"cunt\", \"cunt\", \"da\", \"da\", \"da\", \"da\", \"dat\", \"dat\", \"dat\", \"dat\", \"daughter\", \"dawg\", \"day\", \"day\", \"day\", \"day\", \"deal\", \"deep\", \"den\", \"dey\", \"die\", \"dis\", \"doe\", \"dog\", \"dont\", \"dont\", \"dont\", \"dont\", \"dont\", \"dope\", \"dream\", \"drive\", \"drop\", \"drop\", \"dyke\", \"ear\", \"egg\", \"em\", \"em\", \"emoji\", \"everyth\", \"eye\", \"fag\", \"fag\", \"faggot\", \"faggot\", \"fail\", \"fall\", \"fan\", \"favorit\", \"favorit\", \"feet\", \"fine\", \"follow\", \"follow\", \"freak\", \"free\", \"friend\", \"friend\", \"friend\", \"fuck\", \"fuck\", \"fuck\", \"fuck\", \"fuck\", \"full\", \"full\", \"full\", \"futur\", \"game\", \"game\", \"game\", \"game\", \"game\", \"gay\", \"get\", \"get\", \"get\", \"get\", \"get\", \"gettin\", \"ghetto\", \"ghetto\", \"ghetto\", \"giant\", \"girl\", \"girl\", \"girl\", \"girl\", \"girl\", \"go\", \"go\", \"go\", \"go\", \"go\", \"goal\", \"god\", \"god\", \"god\", \"goin\", \"gold\", \"gonna\", \"gonna\", \"gonna\", \"gonna\", \"gonna\", \"good\", \"good\", \"good\", \"good\", \"got\", \"got\", \"got\", \"got\", \"got\", \"gotta\", \"gotta\", \"gotta\", \"gotta\", \"grade\", \"green\", \"gun\", \"ha\", \"hair\", \"hair\", \"hair\", \"hang\", \"happi\", \"happi\", \"hard\", \"hard\", \"hard\", \"hate\", \"hate\", \"hate\", \"hate\", \"hear\", \"heard\", \"ho\", \"ho\", \"hoe\", \"hoe\", \"hoe\", \"hoe\", \"hoe\", \"hos\", \"hous\", \"hous\", \"idea\", \"idea\", \"ignor\", \"ill\", \"ill\", \"ill\", \"ill\", \"im\", \"im\", \"im\", \"im\", \"im\", \"impress\", \"jesus\", \"jus\", \"jus\", \"karma\", \"keep\", \"keep\", \"keep\", \"keep\", \"kick\", \"kind\", \"kinda\", \"knock\", \"know\", \"know\", \"know\", \"know\", \"know\", \"la\", \"lame\", \"last\", \"last\", \"last\", \"left\", \"let\", \"let\", \"let\", \"let\", \"let\", \"level\", \"lick\", \"light\", \"like\", \"like\", \"like\", \"like\", \"like\", \"lil\", \"lil\", \"liter\", \"lmaoooo\", \"lmfaooo\", \"lol\", \"lol\", \"lol\", \"lol\", \"lol\", \"lone\", \"look\", \"look\", \"look\", \"look\", \"look\", \"loud\", \"love\", \"love\", \"love\", \"love\", \"low\", \"loyal\", \"main\", \"make\", \"make\", \"make\", \"make\", \"make\", \"man\", \"man\", \"man\", \"man\", \"man\", \"mari\", \"match\", \"matter\", \"may\", \"mean\", \"mean\", \"mental\", \"million\", \"mine\", \"minut\", \"monkey\", \"monkey\", \"monkey\", \"monkey\", \"mother\", \"movi\", \"natur\", \"need\", \"need\", \"need\", \"need\", \"need\", \"negro\", \"never\", \"never\", \"never\", \"never\", \"never\", \"new\", \"new\", \"new\", \"new\", \"nicca\", \"nicca\", \"nicca\", \"nigga\", \"nigga\", \"nigga\", \"nigga\", \"nigga\", \"niggah\", \"niggah\", \"nigger\", \"nigger\", \"nigger\", \"nigger\", \"nigger\", \"nigguh\", \"night\", \"night\", \"night\", \"none\", \"nope\", \"nothin\", \"notic\", \"offici\", \"one\", \"one\", \"one\", \"one\", \"one\", \"onlin\", \"outsid\", \"outta\", \"paper\", \"parti\", \"past\", \"peopl\", \"peopl\", \"peopl\", \"peopl\", \"peopl\", \"person\", \"pet\", \"pic\", \"pic\", \"pic\", \"piec\", \"pimp\", \"play\", \"play\", \"play\", \"play\", \"play\", \"point\", \"porn\", \"punch\", \"push\", \"pussi\", \"pussi\", \"pussi\", \"pussi\", \"pussi\", \"queer\", \"quit\", \"r\", \"rap\", \"rape\", \"readi\", \"real\", \"real\", \"real\", \"real\", \"realli\", \"realli\", \"realli\", \"realli\", \"reason\", \"redneck\", \"redneck\", \"relationship\", \"releas\", \"retard\", \"retard\", \"retard\", \"retard\", \"retweet\", \"rick\", \"right\", \"right\", \"right\", \"right\", \"right\", \"rt\", \"rt\", \"rt\", \"rt\", \"rt\", \"said\", \"said\", \"said\", \"said\", \"said\", \"save\", \"save\", \"say\", \"say\", \"say\", \"say\", \"say\", \"scare\", \"scream\", \"see\", \"see\", \"see\", \"see\", \"seem\", \"seen\", \"seen\", \"selfi\", \"sell\", \"sent\", \"sex\", \"sheen\", \"shes\", \"shes\", \"shes\", \"shes\", \"shit\", \"shit\", \"shit\", \"shit\", \"shit\", \"shoe\", \"short\", \"shout\", \"shower\", \"sign\", \"sing\", \"skin\", \"skinni\", \"slay\", \"slow\", \"smell\", \"smile\", \"song\", \"song\", \"soul\", \"star\", \"state\", \"steal\", \"step\", \"strong\", \"stupid\", \"stupid\", \"stupid\", \"stupid\", \"super\", \"sure\", \"sure\", \"swag\", \"sweet\", \"talk\", \"talk\", \"talk\", \"tbh\", \"teabagg\", \"teen\", \"think\", \"think\", \"think\", \"think\", \"think\", \"thirsti\", \"tho\", \"tho\", \"tho\", \"tho\", \"three\", \"thru\", \"time\", \"time\", \"time\", \"time\", \"time\", \"tit\", \"today\", \"today\", \"tomorrow\", \"trash\", \"trash\", \"trash\", \"trash\", \"trash\", \"trip\", \"trust\", \"trust\", \"trust\", \"twat\", \"tweet\", \"tweet\", \"tweet\", \"tweet\", \"tyga\", \"u\", \"u\", \"u\", \"u\", \"u\", \"ugh\", \"understand\", \"ur\", \"vote\", \"wake\", \"wanna\", \"wanna\", \"wanna\", \"wanna\", \"want\", \"want\", \"want\", \"want\", \"want\", \"water\", \"water\", \"weird\", \"white\", \"white\", \"white\", \"whore\", \"wish\", \"wit\", \"wit\", \"wit\", \"wonder\", \"would\", \"would\", \"would\", \"wouldnt\", \"wouldnt\", \"wrong\", \"wrong\", \"wrong\", \"ya\", \"ya\", \"ya\", \"ya\", \"ya\", \"yall\", \"yall\", \"yall\", \"yall\", \"yall\", \"year\", \"year\", \"year\", \"yellow\", \"yellow\", \"yellow\", \"yellow\", \"yet\", \"yet\", \"yet\", \"yo\", \"yo\", \"yo\", \"yo\", \"youtub\"]}, \"R\": 30, \"lambda.step\": 0.01, \"plot.opts\": {\"xlab\": \"PC1\", \"ylab\": \"PC2\"}, \"topic.order\": [2, 3, 5, 4, 1]};\n",
       "\n",
       "function LDAvis_load_lib(url, callback){\n",
       "  var s = document.createElement('script');\n",
       "  s.src = url;\n",
       "  s.async = true;\n",
       "  s.onreadystatechange = s.onload = callback;\n",
       "  s.onerror = function(){console.warn(\"failed to load library \" + url);};\n",
       "  document.getElementsByTagName(\"head\")[0].appendChild(s);\n",
       "}\n",
       "\n",
       "if(typeof(LDAvis) !== \"undefined\"){\n",
       "   // already loaded: just create the visualization\n",
       "   !function(LDAvis){\n",
       "       new LDAvis(\"#\" + \"ldavis_el336423075050694088174890676\", ldavis_el336423075050694088174890676_data);\n",
       "   }(LDAvis);\n",
       "}else if(typeof define === \"function\" && define.amd){\n",
       "   // require.js is available: use it to load d3/LDAvis\n",
       "   require.config({paths: {d3: \"https://d3js.org/d3.v5\"}});\n",
       "   require([\"d3\"], function(d3){\n",
       "      window.d3 = d3;\n",
       "      LDAvis_load_lib(\"https://cdn.jsdelivr.net/gh/bmabey/pyLDAvis@3.3.1/pyLDAvis/js/ldavis.v3.0.0.js\", function(){\n",
       "        new LDAvis(\"#\" + \"ldavis_el336423075050694088174890676\", ldavis_el336423075050694088174890676_data);\n",
       "      });\n",
       "    });\n",
       "}else{\n",
       "    // require.js not available: dynamically load d3 & LDAvis\n",
       "    LDAvis_load_lib(\"https://d3js.org/d3.v5.js\", function(){\n",
       "         LDAvis_load_lib(\"https://cdn.jsdelivr.net/gh/bmabey/pyLDAvis@3.3.1/pyLDAvis/js/ldavis.v3.0.0.js\", function(){\n",
       "                 new LDAvis(\"#\" + \"ldavis_el336423075050694088174890676\", ldavis_el336423075050694088174890676_data);\n",
       "            })\n",
       "         });\n",
       "}\n",
       "</script>"
      ],
      "text/plain": [
       "PreparedData(topic_coordinates=                x           y  topics  cluster       Freq\n",
       "topic                                                    \n",
       "1      150.222153  -72.269554       1        1  41.651901\n",
       "2       51.163364 -159.968018       2        1  28.090236\n",
       "4      -73.144554   21.523815       3        1  10.120396\n",
       "3      -66.410133 -110.606438       4        1  10.105736\n",
       "0       54.417324   12.443444       5        1  10.031732, topic_info=      Term         Freq        Total Category  logprob  loglift\n",
       "20   bitch  1283.000000  1283.000000  Default  30.0000  30.0000\n",
       "18     hoe   417.000000   417.000000  Default  29.0000  29.0000\n",
       "7       rt  1120.000000  1120.000000  Default  28.0000  28.0000\n",
       "10   trash   124.000000   124.000000  Default  27.0000  27.0000\n",
       "84   nigga   183.000000   183.000000  Default  26.0000  26.0000\n",
       "..     ...          ...          ...      ...      ...      ...\n",
       "551   play     7.215167    37.255244   Topic5  -5.8423   0.6578\n",
       "104   dont     8.972328   252.194483   Topic5  -5.6244  -1.0366\n",
       "248  think     7.783365    73.049391   Topic5  -5.7665   0.0603\n",
       "62     get     7.822848   218.789221   Topic5  -5.7614  -1.0316\n",
       "185   call     7.034544    60.550364   Topic5  -5.8677   0.1468\n",
       "\n",
       "[401 rows x 6 columns], token_table=      Topic      Freq    Term\n",
       "term                         \n",
       "1518      5  1.023896  action\n",
       "3904      3  1.135769     ago\n",
       "1406      3  0.902677      ah\n",
       "138       1  0.096461    aint\n",
       "138       2  0.313500    aint\n",
       "...     ...       ...     ...\n",
       "316       1  0.031395      yo\n",
       "316       2  0.784875      yo\n",
       "316       3  0.156975      yo\n",
       "316       4  0.015698      yo\n",
       "2159      2  0.881006  youtub\n",
       "\n",
       "[641 rows x 3 columns], R=30, lambda_step=0.01, plot_opts={'xlab': 'PC1', 'ylab': 'PC2'}, topic_order=[2, 3, 5, 4, 1])"
      ]
     },
     "execution_count": 58,
     "metadata": {},
     "output_type": "execute_result"
    }
   ],
   "source": [
    "pyLDAvis.enable_notebook()\n",
    "panel = pyLDAvis.gensim_models.prepare(lda, corpus_lda, dictionary, mds='tsne')\n",
    "panel"
   ]
  },
  {
   "cell_type": "markdown",
   "id": "37678c4b",
   "metadata": {},
   "source": [
    "# Text Preprocessing\n"
   ]
  },
  {
   "cell_type": "code",
   "execution_count": 59,
   "id": "d7c5ff45",
   "metadata": {},
   "outputs": [
    {
     "name": "stdout",
     "output_type": "stream",
     "text": [
      "Each of the 24783 complaints is represented by 6397 features (TF-IDF score of unigrams and bigrams)\n"
     ]
    }
   ],
   "source": [
    "tfidf = TfidfVectorizer(sublinear_tf=True, min_df=5,\n",
    "                        ngram_range=(1, 2), \n",
    "                        stop_words='english')\n",
    "\n",
    "# We transform each complaint into a vector\n",
    "features = tfidf.fit_transform(df.tweet).toarray()\n",
    "\n",
    "labels = df.speech\n",
    "\n",
    "print(\"Each of the %d complaints is represented by %d features (TF-IDF score of unigrams and bigrams)\" %(features.shape))"
   ]
  },
  {
   "cell_type": "markdown",
   "id": "276e1818",
   "metadata": {},
   "source": [
    "# Multi-Classification models\n",
    "The classification models evaluated are:\n",
    "\n",
    "* Random Forest\n",
    "* Linear Support Vector Machine\n",
    "* Multinomial Naive Bayes\n",
    "* Logistic Regression."
   ]
  },
  {
   "cell_type": "markdown",
   "id": "3d3480b4",
   "metadata": {},
   "source": [
    "## Spliting the data into train and test sets"
   ]
  },
  {
   "cell_type": "code",
   "execution_count": 60,
   "id": "106b02b8",
   "metadata": {},
   "outputs": [],
   "source": [
    "X = df['tweet'] # Collection of documents\n",
    "y = df['speech'] # Target or the labels we want to predict (i.e., the 3 different complaints of Hate Speech)\n",
    "\n",
    "X_train, X_test, y_train, y_test = train_test_split(X, y, \n",
    "                                                    test_size=0.25,\n",
    "                                                    random_state = 0)"
   ]
  },
  {
   "cell_type": "markdown",
   "id": "b04559da",
   "metadata": {},
   "source": [
    "## Models"
   ]
  },
  {
   "cell_type": "code",
   "execution_count": 61,
   "id": "85f33025",
   "metadata": {},
   "outputs": [],
   "source": [
    "models = [\n",
    "    RandomForestClassifier(n_estimators=100, max_depth=5, random_state=0),\n",
    "    LinearSVC(),\n",
    "    MultinomialNB(),\n",
    "    LogisticRegression(random_state=0),\n",
    "]\n",
    "\n",
    "# 5 Cross-validation\n",
    "CV = 5\n",
    "cv_df = pd.DataFrame(index=range(CV * len(models)))\n",
    "\n",
    "entries = []\n",
    "for model in models:\n",
    "  model_name = model.__class__.__name__\n",
    "  accuracies = cross_val_score(model, features, labels, scoring='accuracy', cv=CV)\n",
    "  for fold_idx, accuracy in enumerate(accuracies):\n",
    "    entries.append((model_name, fold_idx, accuracy))\n",
    "    \n",
    "cv_df = pd.DataFrame(entries, columns=['model_name', 'fold_idx', 'accuracy'])"
   ]
  },
  {
   "cell_type": "markdown",
   "id": "7ed18664",
   "metadata": {},
   "source": [
    "### Comparison of model performance"
   ]
  },
  {
   "cell_type": "code",
   "execution_count": 62,
   "id": "1a2a3cb2",
   "metadata": {},
   "outputs": [
    {
     "data": {
      "text/html": [
       "<div>\n",
       "<style scoped>\n",
       "    .dataframe tbody tr th:only-of-type {\n",
       "        vertical-align: middle;\n",
       "    }\n",
       "\n",
       "    .dataframe tbody tr th {\n",
       "        vertical-align: top;\n",
       "    }\n",
       "\n",
       "    .dataframe thead th {\n",
       "        text-align: right;\n",
       "    }\n",
       "</style>\n",
       "<table border=\"1\" class=\"dataframe\">\n",
       "  <thead>\n",
       "    <tr style=\"text-align: right;\">\n",
       "      <th></th>\n",
       "      <th>Mean Accuracy</th>\n",
       "      <th>Standard deviation</th>\n",
       "    </tr>\n",
       "    <tr>\n",
       "      <th>model_name</th>\n",
       "      <th></th>\n",
       "      <th></th>\n",
       "    </tr>\n",
       "  </thead>\n",
       "  <tbody>\n",
       "    <tr>\n",
       "      <th>LinearSVC</th>\n",
       "      <td>0.889360</td>\n",
       "      <td>0.009628</td>\n",
       "    </tr>\n",
       "    <tr>\n",
       "      <th>LogisticRegression</th>\n",
       "      <td>0.896744</td>\n",
       "      <td>0.008274</td>\n",
       "    </tr>\n",
       "    <tr>\n",
       "      <th>MultinomialNB</th>\n",
       "      <td>0.848364</td>\n",
       "      <td>0.006965</td>\n",
       "    </tr>\n",
       "    <tr>\n",
       "      <th>RandomForestClassifier</th>\n",
       "      <td>0.774321</td>\n",
       "      <td>0.000086</td>\n",
       "    </tr>\n",
       "  </tbody>\n",
       "</table>\n",
       "</div>"
      ],
      "text/plain": [
       "                        Mean Accuracy  Standard deviation\n",
       "model_name                                               \n",
       "LinearSVC                    0.889360            0.009628\n",
       "LogisticRegression           0.896744            0.008274\n",
       "MultinomialNB                0.848364            0.006965\n",
       "RandomForestClassifier       0.774321            0.000086"
      ]
     },
     "execution_count": 62,
     "metadata": {},
     "output_type": "execute_result"
    }
   ],
   "source": [
    "\n",
    "mean_accuracy = cv_df.groupby('model_name').accuracy.mean()\n",
    "std_accuracy = cv_df.groupby('model_name').accuracy.std()\n",
    "\n",
    "acc = pd.concat([mean_accuracy, std_accuracy], axis= 1, \n",
    "          ignore_index=True)\n",
    "acc.columns = ['Mean Accuracy', 'Standard deviation']\n",
    "acc"
   ]
  },
  {
   "cell_type": "code",
   "execution_count": 63,
   "id": "61dee4ab",
   "metadata": {},
   "outputs": [
    {
     "data": {
      "image/png": "[encoded data removed]",
      "text/plain": [
       "<Figure size 576x360 with 1 Axes>"
      ]
     },
     "metadata": {
      "needs_background": "light"
     },
     "output_type": "display_data"
    }
   ],
   "source": [
    "plt.figure(figsize=(8,5))\n",
    "sns.boxplot(x='model_name', y='accuracy', \n",
    "            data=cv_df, \n",
    "            color='lightblue', \n",
    "            showmeans=True)\n",
    "plt.title(\"MEAN ACCURACY (cv = 5)\\n\", size=14);"
   ]
  },
  {
   "cell_type": "markdown",
   "id": "843eb16d",
   "metadata": {},
   "source": [
    "## Model Evaluation\n"
   ]
  },
  {
   "cell_type": "code",
   "execution_count": 64,
   "id": "e77eabdd",
   "metadata": {},
   "outputs": [],
   "source": [
    "\n",
    "X_train, X_test, y_train, y_test,indices_train,indices_test = train_test_split(features, \n",
    "                                                               labels, \n",
    "                                                               df.index, test_size=0.25, \n",
    "                                                               random_state=1)\n",
    "model = LinearSVC()\n",
    "model.fit(X_train, y_train)\n",
    "y_pred = model.predict(X_test)"
   ]
  },
  {
   "cell_type": "code",
   "execution_count": 65,
   "id": "453e3dff",
   "metadata": {},
   "outputs": [
    {
     "data": {
      "text/html": [
       "<div>\n",
       "<style scoped>\n",
       "    .dataframe tbody tr th:only-of-type {\n",
       "        vertical-align: middle;\n",
       "    }\n",
       "\n",
       "    .dataframe tbody tr th {\n",
       "        vertical-align: top;\n",
       "    }\n",
       "\n",
       "    .dataframe thead th {\n",
       "        text-align: right;\n",
       "    }\n",
       "</style>\n",
       "<table border=\"1\" class=\"dataframe\">\n",
       "  <thead>\n",
       "    <tr style=\"text-align: right;\">\n",
       "      <th></th>\n",
       "      <th>speech</th>\n",
       "      <th>tweet</th>\n",
       "      <th>type</th>\n",
       "    </tr>\n",
       "  </thead>\n",
       "  <tbody>\n",
       "    <tr>\n",
       "      <th>0</th>\n",
       "      <td>2</td>\n",
       "      <td>rt mayasolov woman shouldnt complain clean ho...</td>\n",
       "      <td>Normal speech</td>\n",
       "    </tr>\n",
       "    <tr>\n",
       "      <th>1</th>\n",
       "      <td>1</td>\n",
       "      <td>rt  boy dat coldtyga dwn bad cuffin dat hoe  ...</td>\n",
       "      <td>Offensive speech</td>\n",
       "    </tr>\n",
       "    <tr>\n",
       "      <th>2</th>\n",
       "      <td>1</td>\n",
       "      <td>rt urkindofbrand dawg rt  ever fuck bitch sta...</td>\n",
       "      <td>Offensive speech</td>\n",
       "    </tr>\n",
       "    <tr>\n",
       "      <th>3</th>\n",
       "      <td>1</td>\n",
       "      <td>rt cganderson vivabas look like tranni</td>\n",
       "      <td>Offensive speech</td>\n",
       "    </tr>\n",
       "    <tr>\n",
       "      <th>4</th>\n",
       "      <td>1</td>\n",
       "      <td>rt shenikarobert shit hear might true might f...</td>\n",
       "      <td>Offensive speech</td>\n",
       "    </tr>\n",
       "    <tr>\n",
       "      <th>...</th>\n",
       "      <td>...</td>\n",
       "      <td>...</td>\n",
       "      <td>...</td>\n",
       "    </tr>\n",
       "    <tr>\n",
       "      <th>24778</th>\n",
       "      <td>1</td>\n",
       "      <td>yous muthafin lie   coreyemanuel right tl tras...</td>\n",
       "      <td>Offensive speech</td>\n",
       "    </tr>\n",
       "    <tr>\n",
       "      <th>24779</th>\n",
       "      <td>2</td>\n",
       "      <td>youv gone broke wrong heart babi drove redneck...</td>\n",
       "      <td>Normal speech</td>\n",
       "    </tr>\n",
       "    <tr>\n",
       "      <th>24780</th>\n",
       "      <td>1</td>\n",
       "      <td>young buck wanna eat dat nigguh like aint fuck...</td>\n",
       "      <td>Offensive speech</td>\n",
       "    </tr>\n",
       "    <tr>\n",
       "      <th>24781</th>\n",
       "      <td>1</td>\n",
       "      <td>youu got wild bitch tellin lie</td>\n",
       "      <td>Offensive speech</td>\n",
       "    </tr>\n",
       "    <tr>\n",
       "      <th>24782</th>\n",
       "      <td>2</td>\n",
       "      <td>ruffl  ntac eileen dahlia  beauti color combin...</td>\n",
       "      <td>Normal speech</td>\n",
       "    </tr>\n",
       "  </tbody>\n",
       "</table>\n",
       "<p>24783 rows × 3 columns</p>\n",
       "</div>"
      ],
      "text/plain": [
       "       speech                                              tweet  \\\n",
       "0           2   rt mayasolov woman shouldnt complain clean ho...   \n",
       "1           1   rt  boy dat coldtyga dwn bad cuffin dat hoe  ...   \n",
       "2           1   rt urkindofbrand dawg rt  ever fuck bitch sta...   \n",
       "3           1             rt cganderson vivabas look like tranni   \n",
       "4           1   rt shenikarobert shit hear might true might f...   \n",
       "...       ...                                                ...   \n",
       "24778       1  yous muthafin lie   coreyemanuel right tl tras...   \n",
       "24779       2  youv gone broke wrong heart babi drove redneck...   \n",
       "24780       1  young buck wanna eat dat nigguh like aint fuck...   \n",
       "24781       1                     youu got wild bitch tellin lie   \n",
       "24782       2  ruffl  ntac eileen dahlia  beauti color combin...   \n",
       "\n",
       "                   type  \n",
       "0         Normal speech  \n",
       "1      Offensive speech  \n",
       "2      Offensive speech  \n",
       "3      Offensive speech  \n",
       "4      Offensive speech  \n",
       "...                 ...  \n",
       "24778  Offensive speech  \n",
       "24779     Normal speech  \n",
       "24780  Offensive speech  \n",
       "24781  Offensive speech  \n",
       "24782     Normal speech  \n",
       "\n",
       "[24783 rows x 3 columns]"
      ]
     },
     "execution_count": 65,
     "metadata": {},
     "output_type": "execute_result"
    }
   ],
   "source": [
    "df2"
   ]
  },
  {
   "cell_type": "markdown",
   "id": "38bade91",
   "metadata": {},
   "source": [
    "# Precision, Recall, F1-score"
   ]
  },
  {
   "cell_type": "code",
   "execution_count": 66,
   "id": "88866acd",
   "metadata": {},
   "outputs": [
    {
     "name": "stdout",
     "output_type": "stream",
     "text": [
      "\t\t\t\tCLASSIFICATIION METRICS\n",
      "\n",
      "                  precision    recall  f1-score   support\n",
      "\n",
      "   Normal speech       0.55      0.25      0.34       370\n",
      "Offensive speech       0.92      0.95      0.94      4818\n",
      "     Hate speech       0.81      0.85      0.83      1008\n",
      "\n",
      "        accuracy                           0.89      6196\n",
      "       macro avg       0.76      0.68      0.70      6196\n",
      "    weighted avg       0.88      0.89      0.88      6196\n",
      "\n"
     ]
    }
   ],
   "source": [
    "# Classification report\n",
    "print('\\t\\t\\t\\tCLASSIFICATIION METRICS\\n')\n",
    "print(metrics.classification_report(y_test, y_pred, \n",
    "                                    target_names= df2['type'].unique()))"
   ]
  },
  {
   "cell_type": "markdown",
   "id": "65fbbda3",
   "metadata": {},
   "source": [
    "## Predictions"
   ]
  },
  {
   "cell_type": "code",
   "execution_count": 67,
   "id": "3dbbc1b0",
   "metadata": {},
   "outputs": [],
   "source": [
    "X_train, X_test, y_train, y_test = train_test_split(X, y, \n",
    "                                                    test_size=0.25,\n",
    "                                                    random_state = 0)\n",
    "\n",
    "tfidf = TfidfVectorizer(sublinear_tf=True, min_df=5,\n",
    "                        ngram_range=(1, 2), \n",
    "                        stop_words='english')\n",
    "\n",
    "fitted_vectorizer = tfidf.fit(X_train)\n",
    "tfidf_vectorizer_vectors = fitted_vectorizer.transform(X_train)\n",
    "\n",
    "model = LinearSVC().fit(tfidf_vectorizer_vectors, y_train)"
   ]
  },
  {
   "cell_type": "code",
   "execution_count": 68,
   "id": "1eebb4f5",
   "metadata": {},
   "outputs": [
    {
     "name": "stdout",
     "output_type": "stream",
     "text": [
      "Hate Speech\n"
     ]
    }
   ],
   "source": [
    "\n",
    "tweet = \"\"\"I will kill you\"\"\"\n",
    "num=model.predict(fitted_vectorizer.transform([tweet]))\n",
    "if num == 0:\n",
    "    print(\"Hate Speech\")\n",
    "elif num == 1:\n",
    "    print(\"Offensive Speech\")\n",
    "else:\n",
    "    print(\"Normal Speech\")"
   ]
  },
  {
   "cell_type": "code",
   "execution_count": 69,
   "id": "aa6bbf26",
   "metadata": {},
   "outputs": [
    {
     "name": "stdout",
     "output_type": "stream",
     "text": [
      "Offensive Speech\n"
     ]
    }
   ],
   "source": [
    "\n",
    "tweet2 = \"\"\"I hate this country\"\"\"\n",
    "num=model.predict(fitted_vectorizer.transform([tweet2]))\n",
    "if num == 0:\n",
    "    print(\"Hate Speech\")\n",
    "elif num == 1:\n",
    "    print(\"Offensive Speech\")\n",
    "else:\n",
    "    print(\"Normal Speech\")"
   ]
  },
  {
   "cell_type": "code",
   "execution_count": 70,
   "id": "9e401b3d",
   "metadata": {},
   "outputs": [
    {
     "name": "stdout",
     "output_type": "stream",
     "text": [
      "Normal Speech\n"
     ]
    }
   ],
   "source": [
    "tweet3 = \"\"\"Have a nice day\"\"\"\n",
    "num=model.predict(fitted_vectorizer.transform([tweet3]))\n",
    "if num == 0:\n",
    "    print(\"Hate Speech\")\n",
    "elif num == 1:\n",
    "    print(\"Offensive Speech\")\n",
    "else:\n",
    "    print(\"Normal Speech\")"
   ]
  },
  {
   "cell_type": "code",
   "execution_count": 71,
   "id": "f6fcbfe4",
   "metadata": {},
   "outputs": [
    {
     "name": "stdout",
     "output_type": "stream",
     "text": [
      "Offensive Speech\n"
     ]
    }
   ],
   "source": [
    "\n",
    "tweet4 = \"\"\"You pice of shit\"\"\"\n",
    "num=model.predict(fitted_vectorizer.transform([tweet4]))\n",
    "if num == 0:\n",
    "    print(\"Hate Speech\")\n",
    "elif num == 1:\n",
    "    print(\"Offensive Speech\")\n",
    "else:\n",
    "    print(\"Normal Speech\")"
   ]
  },
  {
   "cell_type": "code",
   "execution_count": 72,
   "id": "c87fc18e",
   "metadata": {},
   "outputs": [
    {
     "name": "stdout",
     "output_type": "stream",
     "text": [
      "Offensive Speech\n"
     ]
    }
   ],
   "source": [
    "tweet5 = \"\"\"She's got to get pregnant first and *then* Robyn gets to have that *sweet sweet* titty milk\"\"\"\n",
    "num=(model.predict(fitted_vectorizer.transform([tweet5])))\n",
    "if num == 0:\n",
    "    print(\"Hate Speech\")\n",
    "elif num == 1:\n",
    "    print(\"Offensive Speech\")\n",
    "else:\n",
    "    print(\"Normal Speech\")"
   ]
  },
  {
   "cell_type": "code",
   "execution_count": null,
   "id": "53ae36ba",
   "metadata": {},
   "outputs": [],
   "source": []
  }
 ],
 "metadata": {
  "kernelspec": {
   "display_name": "Python 3 (ipykernel)",
   "language": "python",
   "name": "python3"
  },
  "language_info": {
   "codemirror_mode": {
    "name": "ipython",
    "version": 3
   },
   "file_extension": ".py",
   "mimetype": "text/x-python",
   "name": "python",
   "nbconvert_exporter": "python",
   "pygments_lexer": "ipython3",
   "version": "3.9.7"
  }
 },
 "nbformat": 4,
 "nbformat_minor": 5
}
